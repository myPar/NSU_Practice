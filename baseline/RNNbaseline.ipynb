{
  "nbformat": 4,
  "nbformat_minor": 0,
  "metadata": {
    "colab": {
      "name": "Untitled10.ipynb",
      "provenance": [],
      "authorship_tag": "ABX9TyNZ6DCAcXe4N0iQqkccGCUS",
      "include_colab_link": true
    },
    "kernelspec": {
      "name": "python3",
      "display_name": "Python 3"
    },
    "language_info": {
      "name": "python"
    }
  },
  "cells": [
    {
      "cell_type": "markdown",
      "metadata": {
        "id": "view-in-github",
        "colab_type": "text"
      },
      "source": [
        "<a href=\"https://colab.research.google.com/github/myPar/NSU_Practice/blob/dev/baseline/RNNbaseline.ipynb\" target=\"_parent\"><img src=\"https://colab.research.google.com/assets/colab-badge.svg\" alt=\"Open In Colab\"/></a>"
      ]
    },
    {
      "cell_type": "markdown",
      "source": [
        "### Prepare"
      ],
      "metadata": {
        "id": "ARvrhtmL1zy-"
      }
    },
    {
      "cell_type": "code",
      "execution_count": 55,
      "metadata": {
        "colab": {
          "base_uri": "https://localhost:8080/"
        },
        "id": "EdtkuXHH8TRl",
        "outputId": "c14e6aad-89e2-44e0-b88f-3fadb78c7d90"
      },
      "outputs": [
        {
          "output_type": "stream",
          "name": "stdout",
          "text": [
            "Drive already mounted at /content/drive; to attempt to forcibly remount, call drive.mount(\"/content/drive\", force_remount=True).\n"
          ]
        }
      ],
      "source": [
        "import pandas as pd\n",
        "import numpy as np\n",
        "from google.colab import drive\n",
        "from pathlib import Path\n",
        "\n",
        "import tensorflow as tf\n",
        "from tensorflow.keras.layers import SimpleRNN, Input\n",
        "from tensorflow.keras.optimizers import Adam\n",
        "from sklearn.model_selection import train_test_split\n",
        "\n",
        "drive.mount('/content/drive')"
      ]
    },
    {
      "cell_type": "code",
      "source": [
        "file_path = Path('/content/drive/MyDrive/Colab Notebooks/data.txt')\n",
        "df = pd.read_csv(filepath_or_buffer=file_path, sep=' ', header=0)\n",
        "\n",
        "df.head"
      ],
      "metadata": {
        "colab": {
          "base_uri": "https://localhost:8080/"
        },
        "id": "eAbmzKNy9LNF",
        "outputId": "2504337b-939a-469f-d4bd-598239fb375c"
      },
      "execution_count": 56,
      "outputs": [
        {
          "output_type": "execute_result",
          "data": {
            "text/plain": [
              "<bound method NDFrame.head of              Date      Time  qo_lc[m3/d]  qw_lc[m3/d]  qg_lc[m3/d]  \\\n",
              "0     07-May-2014  10:13:26      109.280    -0.312890       3810.3   \n",
              "1     07-May-2014  10:14:26      113.460    -0.437350       3774.0   \n",
              "2     07-May-2014  10:15:26      131.630    -0.533550       3892.5   \n",
              "3     07-May-2014  10:16:26      140.670     0.160910       4043.1   \n",
              "4     07-May-2014  10:17:26      150.020    -1.145600       4134.6   \n",
              "...           ...       ...          ...          ...          ...   \n",
              "1264  08-May-2014  07:34:35       98.744     0.310070       3174.5   \n",
              "1265  08-May-2014  07:35:35       72.045     0.162760       3134.1   \n",
              "1266  08-May-2014  07:36:35       87.370    -0.125770       3340.4   \n",
              "1267  08-May-2014  07:37:35       32.121     0.021522       2834.1   \n",
              "1268  08-May-2014  07:38:35       35.914     0.228020       2612.4   \n",
              "\n",
              "      qo_sc[Sm3/d]  qw_sc[Sm3/d]  qg_sc[Sm3/d]  qo_scnp[Sm3/d]  \\\n",
              "0          108.430     -0.314870       92700.0         108.430   \n",
              "1          112.580     -0.440110       91895.0         112.580   \n",
              "2          130.550     -0.536910       95860.0         130.550   \n",
              "3          139.440      0.161910      100690.0         139.440   \n",
              "4          148.640     -1.152700      104290.0         148.640   \n",
              "...            ...           ...           ...             ...   \n",
              "1264        97.703      0.312100       87402.0          97.703   \n",
              "1265        71.288      0.163830       85594.0          71.288   \n",
              "1266        86.386     -0.126600       93660.0          86.386   \n",
              "1267        31.789      0.021666       76564.0          31.789   \n",
              "1268        35.567      0.229520       69609.0          35.567   \n",
              "\n",
              "      qw_scnp[Sm3/d]  ...  TAMB[DegC]  Dyn_DP[mbar]  OperatingPointLE[1/m]  \\\n",
              "0          -0.314870  ...     18.1050       1449.10                 1.5512   \n",
              "1          -0.440110  ...     18.1430       1462.90                 1.5186   \n",
              "2          -0.536910  ...     18.1660       1569.80                 1.6145   \n",
              "3           0.161910  ...     18.2030       1693.80                 1.7645   \n",
              "4          -1.152700  ...     18.2460       1811.00                 1.7374   \n",
              "...              ...  ...         ...           ...                    ...   \n",
              "1264        0.312100  ...      5.1613       1147.80                 1.6079   \n",
              "1265        0.163830  ...      5.1521       1084.70                 1.5256   \n",
              "1266       -0.126600  ...      5.1457       1278.80                 1.4436   \n",
              "1267        0.021666  ...      5.1328        995.28                 1.2353   \n",
              "1268        0.229520  ...         NaN           NaN                    NaN   \n",
              "\n",
              "      OperatingPointHE[1/m]  OilPointLE[1/m]  OilPointHE[1/m]  \\\n",
              "0                   1.00060           23.568           14.781   \n",
              "1                   0.98577           23.570           14.782   \n",
              "2                   1.04660           23.568           14.781   \n",
              "3                   1.11880           23.562           14.777   \n",
              "4                   1.14540           23.553           14.771   \n",
              "...                     ...              ...              ...   \n",
              "1264                1.01450           23.557           14.774   \n",
              "1265                0.96923           23.551           14.770   \n",
              "1266                0.92956           23.547           14.768   \n",
              "1267                0.79475           23.545           14.766   \n",
              "1268                    NaN              NaN              NaN   \n",
              "\n",
              "      WaterPointLE[1/m]  WaterPointHE[1/m]  GasPointLE[1/m]  GasPointHE[1/m]  \n",
              "0                171.01             25.097          0.49280          0.32761  \n",
              "1                171.01             25.097          0.49042          0.32603  \n",
              "2                171.01             25.097          0.49134          0.32665  \n",
              "3                171.00             25.096          0.49673          0.33023  \n",
              "4                170.99             25.094          0.50210          0.33380  \n",
              "...                 ...                ...              ...              ...  \n",
              "1264             171.06             25.104          0.55020          0.36578  \n",
              "1265             171.05             25.103          0.55287          0.36755  \n",
              "1266             171.05             25.103          0.55678          0.37015  \n",
              "1267             171.05             25.102          0.55991          0.37223  \n",
              "1268                NaN                NaN              NaN              NaN  \n",
              "\n",
              "[1269 rows x 60 columns]>"
            ]
          },
          "metadata": {},
          "execution_count": 56
        }
      ]
    },
    {
      "cell_type": "code",
      "source": [
        "print(df.columns)"
      ],
      "metadata": {
        "colab": {
          "base_uri": "https://localhost:8080/"
        },
        "id": "tQqscV-gB9t9",
        "outputId": "63c1f401-44d9-45c9-c7f1-2224197195f0"
      },
      "execution_count": 57,
      "outputs": [
        {
          "output_type": "stream",
          "name": "stdout",
          "text": [
            "Index(['Date', 'Time', 'qo_lc[m3/d]', 'qw_lc[m3/d]', 'qg_lc[m3/d]',\n",
            "       'qo_sc[Sm3/d]', 'qw_sc[Sm3/d]', 'qg_sc[Sm3/d]', 'qo_scnp[Sm3/d]',\n",
            "       'qw_scnp[Sm3/d]', 'qg_scnp[Sm3/d]', 'Fo_lc[%]', 'Fw_lc[%]', 'Fg_lc[%]',\n",
            "       'WLR[%]', 'GVF[%]', 'GLR[m3/m3]', 'BSW[%]', 'GOR[Sm3/Sm3]',\n",
            "       'GOR1[Sm3/Sm3]', 'mo_lc[kg/d]', 'mw_lc[kg/d]', 'mg_lc[kg/d]',\n",
            "       'm_lc[kg/d]', 'mo_sc[kg/d]', 'mw_sc[kg/d]', 'mg_sc[kg/d]',\n",
            "       'Mu_o_lc[cP]', 'Mu_l_lc[cP]', 'Do_lc[g/cm3]', 'Dw_lc[g/cm3]',\n",
            "       'Dg_lc[g/cm3]', 'Dm_lc[g/cm3]', 'Dl_lc[g/cm3]', 'bo[Sm3/m3]',\n",
            "       'bw[Sm3/m3]', 'bg[Sm3/m3]', 'Z', 'Rst[Sm3/Sm3]', 'Rwst[Sm3/Sm3]',\n",
            "       'rgmp[Sm3/Sm3]', 'N32[cps]', 'N81[cps]', 'N356[cps]', 'NTotal[cps]',\n",
            "       'DeadTime[s]', 'SampleTime[s]', 'DPV[mbar]', 'PL[bara]', 'TL[DegC]',\n",
            "       'TAMB[DegC]', 'Dyn_DP[mbar]', 'OperatingPointLE[1/m]',\n",
            "       'OperatingPointHE[1/m]', 'OilPointLE[1/m]', 'OilPointHE[1/m]',\n",
            "       'WaterPointLE[1/m]', 'WaterPointHE[1/m]', 'GasPointLE[1/m]',\n",
            "       'GasPointHE[1/m]'],\n",
            "      dtype='object')\n"
          ]
        }
      ]
    },
    {
      "cell_type": "code",
      "source": [
        "selected_rows = ['DPV[mbar]', 'PL[bara]', 'qg_sc[Sm3/d]', 'qo_sc[Sm3/d]', 'TL[DegC]']\n",
        "outputs = ['qg_sc[Sm3/d]', 'qo_sc[Sm3/d]']\n",
        "inputs = np.setdiff1d(selected_rows, outputs)\n",
        "\n",
        "df = df[selected_rows]\n",
        "\n",
        "print(df.head)\n",
        "print(\"inputs: \" + str(inputs))\n",
        "print(\"outputs: \" + str(outputs))"
      ],
      "metadata": {
        "colab": {
          "base_uri": "https://localhost:8080/"
        },
        "id": "5Kz4KyJeCwKG",
        "outputId": "bd5191df-4b9b-4c92-d9eb-f9f009098fa3"
      },
      "execution_count": 58,
      "outputs": [
        {
          "output_type": "stream",
          "name": "stdout",
          "text": [
            "<bound method NDFrame.head of       DPV[mbar]  PL[bara]  qg_sc[Sm3/d]  qo_sc[Sm3/d]  TL[DegC]\n",
            "0       1448.70    21.481       92700.0       108.430   -2.5452\n",
            "1       1462.10    21.473       91895.0       112.580   -2.5323\n",
            "2       1592.30    21.672       95860.0       130.550   -2.3931\n",
            "3       1703.30    21.926      100690.0       139.440   -2.0451\n",
            "4       1821.70    22.196      104290.0       148.640   -1.8009\n",
            "...         ...       ...           ...           ...       ...\n",
            "1264    1147.10    23.997       87402.0        97.703   -3.3542\n",
            "1265    1090.50    23.919       85594.0        71.288   -3.2890\n",
            "1266    1279.10    24.477       93660.0        86.386   -3.2191\n",
            "1267     976.62    23.808       76564.0        31.789   -3.2819\n",
            "1268        NaN       NaN       69609.0        35.567       NaN\n",
            "\n",
            "[1269 rows x 5 columns]>\n",
            "inputs: ['DPV[mbar]' 'PL[bara]' 'TL[DegC]']\n",
            "outputs: ['qg_sc[Sm3/d]', 'qo_sc[Sm3/d]']\n"
          ]
        }
      ]
    },
    {
      "cell_type": "code",
      "source": [
        "# check categorical attributes\n",
        "cardinality_hold = 0.15\n",
        "expected_col_size = 1269\n",
        "\n",
        "categorical_attributes = []\n",
        "\n",
        "def check_attributes_info():\n",
        "  for column in df.columns:\n",
        "    col_data = df[column].to_numpy()\n",
        "    size = len(col_data)\n",
        "    \n",
        "    assert size == expected_col_size\n",
        "    cleared_data = col_data[~np.isnan(col_data)]\n",
        "    \n",
        "    card = len(np.unique(cleared_data))  # cardinality without Nan items\n",
        "    skip_count = size - len(cleared_data)\n",
        "\n",
        "    print(column + \": card=\" + str(card) + \"; skip: percent=\" + str(skip_count * 100 / size) + \", count=\" + str(skip_count))\n",
        "    \n",
        "    if card / size < cardinality_hold:\n",
        "      categorical_attributes.append(card)\n",
        "\n",
        "check_attributes_info()\n",
        "\n",
        "if len(categorical_attributes) == 0:\n",
        "  print(\"no categorical attributes\")\n",
        "else:\n",
        "  print(categorical_attributes)"
      ],
      "metadata": {
        "colab": {
          "base_uri": "https://localhost:8080/"
        },
        "id": "lDU5w3CP1fux",
        "outputId": "6b61a549-2fda-4c2e-8936-3e1d6286454b"
      },
      "execution_count": 59,
      "outputs": [
        {
          "output_type": "stream",
          "name": "stdout",
          "text": [
            "DPV[mbar]: card=1163; skip: percent=0.07880220646178093, count=1\n",
            "PL[bara]: card=1042; skip: percent=0.07880220646178093, count=1\n",
            "qg_sc[Sm3/d]: card=1250; skip: percent=0.0, count=0\n",
            "qo_sc[Sm3/d]: card=1246; skip: percent=0.0, count=0\n",
            "TL[DegC]: card=1214; skip: percent=0.07880220646178093, count=1\n",
            "no categorical attributes\n"
          ]
        }
      ]
    },
    {
      "cell_type": "code",
      "source": [
        "# supplement data\n",
        "for column in df.columns:\n",
        "  data =  np.array(df[column].to_numpy(), dtype=np.float64)\n",
        "\n",
        "  for i in range(len(data)):\n",
        "    if str(data[i]) == 'nan':\n",
        "      data[i] = np.mean(data[~np.isnan(data)])\n",
        "  df.drop([column], axis=1, inplace=True)\n",
        "  df.insert(0, column, data)\n"
      ],
      "metadata": {
        "id": "iplk6j6l6WcC",
        "colab": {
          "base_uri": "https://localhost:8080/"
        },
        "outputId": "6f6794f6-21f4-427a-e4bd-24970db8054e"
      },
      "execution_count": 60,
      "outputs": [
        {
          "output_type": "stream",
          "name": "stderr",
          "text": [
            "/usr/local/lib/python3.7/dist-packages/pandas/core/frame.py:4913: SettingWithCopyWarning: \n",
            "A value is trying to be set on a copy of a slice from a DataFrame\n",
            "\n",
            "See the caveats in the documentation: https://pandas.pydata.org/pandas-docs/stable/user_guide/indexing.html#returning-a-view-versus-a-copy\n",
            "  errors=errors,\n"
          ]
        }
      ]
    },
    {
      "cell_type": "code",
      "source": [
        "check_attributes_info()"
      ],
      "metadata": {
        "colab": {
          "base_uri": "https://localhost:8080/"
        },
        "id": "criJtZiD_HY5",
        "outputId": "1282287e-b500-45c3-9c96-b4ffea789390"
      },
      "execution_count": 61,
      "outputs": [
        {
          "output_type": "stream",
          "name": "stdout",
          "text": [
            "TL[DegC]: card=1215; skip: percent=0.0, count=0\n",
            "qo_sc[Sm3/d]: card=1246; skip: percent=0.0, count=0\n",
            "qg_sc[Sm3/d]: card=1250; skip: percent=0.0, count=0\n",
            "PL[bara]: card=1043; skip: percent=0.0, count=0\n",
            "DPV[mbar]: card=1164; skip: percent=0.0, count=0\n"
          ]
        }
      ]
    },
    {
      "cell_type": "markdown",
      "source": [
        "## Create model"
      ],
      "metadata": {
        "id": "ZzSi2jOlBmeR"
      }
    },
    {
      "cell_type": "code",
      "source": [
        "# model parameters\n",
        "batch_size = 60\n",
        "timesteps = 60\n",
        "input_size = len(inputs)\n",
        "output_size = len(outputs)\n",
        "lr = 0.001\n",
        "\n",
        "mse = tf.keras.losses.MeanSquaredError()\n",
        "\n",
        "model = tf.keras.Sequential()\n",
        "model.add(Input((None, input_size)))\n",
        "model.add(SimpleRNN(units=120, activation='tanh', return_sequences=True))\n",
        "model.add(SimpleRNN(units=120, activation='tanh', return_sequences=True))\n",
        "model.add(SimpleRNN(units=2, activation='tanh', return_sequences=True))\n",
        "model.summary()"
      ],
      "metadata": {
        "id": "YV_QnOokBoaT",
        "colab": {
          "base_uri": "https://localhost:8080/"
        },
        "outputId": "2416f945-58e4-47d9-ccfd-ba0dcce712e6"
      },
      "execution_count": 75,
      "outputs": [
        {
          "output_type": "stream",
          "name": "stdout",
          "text": [
            "Model: \"sequential_4\"\n",
            "_________________________________________________________________\n",
            " Layer (type)                Output Shape              Param #   \n",
            "=================================================================\n",
            " simple_rnn_12 (SimpleRNN)   (None, None, 120)         14880     \n",
            "                                                                 \n",
            " simple_rnn_13 (SimpleRNN)   (None, None, 120)         28920     \n",
            "                                                                 \n",
            " simple_rnn_14 (SimpleRNN)   (None, None, 2)           246       \n",
            "                                                                 \n",
            "=================================================================\n",
            "Total params: 44,046\n",
            "Trainable params: 44,046\n",
            "Non-trainable params: 0\n",
            "_________________________________________________________________\n"
          ]
        }
      ]
    },
    {
      "cell_type": "code",
      "source": [
        "model.compile(loss=mse, metrics=[mse], optimizer=Adam(learning_rate=lr))"
      ],
      "metadata": {
        "id": "h2at_PF2I9SP"
      },
      "execution_count": 76,
      "outputs": []
    },
    {
      "cell_type": "markdown",
      "source": [
        "## Prepare data"
      ],
      "metadata": {
        "id": "1VpvJo7LY4CR"
      }
    },
    {
      "cell_type": "code",
      "source": [
        "# normilize data ('min/max' normalization):\n",
        "interval_th = [-1, 1]     # normalization interval for 'th' activation function\n",
        "interval_sigmoid = [0, 1] # normalization interval for 'sigmoid' activation function\n",
        "\n",
        "result_interval = interval_th\n",
        "normalized_df = df = ((df - df.min()) / (df.max() - df.min())) * (result_interval[1] - result_interval[0]) + result_interval[0]\n",
        "\n",
        "train_df, test_df = train_test_split(normalized_df, test_size=0.3)\n",
        "print(train_df.head)\n",
        "print(test_df.head)\n",
        "\n",
        "train_input_data = train_df[inputs].to_numpy()\n",
        "train_output_data = train_df[outputs].to_numpy()\n",
        "\n",
        "test_input_data = test_df[inputs].to_numpy()\n",
        "test_output_data = test_df[outputs].to_numpy()\n",
        "\n",
        "print(\"data shapes:\")\n",
        "print(train_input_data.shape)\n",
        "print(test_input_data.shape)\n",
        "\n",
        "print(train_output_data.shape)\n",
        "print(test_output_data.shape)"
      ],
      "metadata": {
        "colab": {
          "base_uri": "https://localhost:8080/"
        },
        "id": "s19mQS_oY6ZE",
        "outputId": "aea2202b-4105-4ef6-80db-8b938bca8875"
      },
      "execution_count": 77,
      "outputs": [
        {
          "output_type": "stream",
          "name": "stdout",
          "text": [
            "<bound method NDFrame.head of       TL[DegC]  qo_sc[Sm3/d]  qg_sc[Sm3/d]  PL[bara]  DPV[mbar]\n",
            "1136 -0.490687     -0.540544     -0.059912  0.452604  -0.443180\n",
            "515   0.672725     -0.869615     -0.746382 -0.698409  -0.707623\n",
            "363   0.276073     -0.201970     -0.154153 -0.525823  -0.229773\n",
            "159  -0.220345     -0.023839     -0.025122 -0.484419  -0.073577\n",
            "142  -0.150969     -0.536244     -0.464900 -0.629113  -0.560453\n",
            "...        ...           ...           ...       ...        ...\n",
            "664   0.258276     -0.853534     -0.781092 -0.392460  -0.815618\n",
            "965  -0.349974     -0.176247     -0.053986  0.301373  -0.367850\n",
            "400   0.370108     -0.353569     -0.427147 -0.765526  -0.482774\n",
            "867  -0.291984     -0.759613     -0.629321 -0.085204  -0.767903\n",
            "746   0.229470     -0.272654      0.133335  0.114840  -0.166523\n",
            "\n",
            "[888 rows x 5 columns]>\n",
            "<bound method NDFrame.head of       TL[DegC]  qo_sc[Sm3/d]  qg_sc[Sm3/d]  PL[bara]  DPV[mbar]\n",
            "716   0.225549     -0.067655      0.028244 -0.006319  -0.198064\n",
            "584   0.624764     -0.692767     -0.507496 -0.564175  -0.652929\n",
            "599   0.725435     -0.595852     -0.195989 -0.437350  -0.387144\n",
            "894  -0.013498     -0.745462     -0.225294  0.198082  -0.551728\n",
            "860  -0.161979     -0.060025      0.043337  0.198954  -0.255107\n",
            "...        ...           ...           ...       ...        ...\n",
            "286   0.470025      0.189577      0.267250 -0.558509   0.302402\n",
            "678   0.186864     -0.311556     -0.205637 -0.307910  -0.388989\n",
            "526   0.583666      0.241485      0.100066 -0.246023  -0.001099\n",
            "1212 -0.316944     -0.525319     -0.021759  0.528002  -0.336644\n",
            "629   0.822713     -0.281579      0.432112  0.037263   0.100739\n",
            "\n",
            "[381 rows x 5 columns]>\n",
            "data shapes:\n",
            "(888, 3)\n",
            "(381, 3)\n",
            "(888, 2)\n",
            "(381, 2)\n"
          ]
        }
      ]
    },
    {
      "cell_type": "code",
      "source": [
        "# formatting the data\n",
        "def get_sequence(data):\n",
        "  return np.array([data[i*timesteps : i*timesteps + timesteps] for i in range(data.shape[0] // timesteps)])\n",
        "\n",
        "input_train_sequences = get_sequence(train_input_data)\n",
        "output_train_sequences = get_sequence(train_output_data)\n",
        "\n",
        "\"\"\"\n",
        "input_train_sequences = list(input_train_sequences)\n",
        "output_train_sequences = list(output_train_sequences)\n",
        "\"\"\"\n",
        "\n",
        "input_train_remaining = []\n",
        "output_train_remaining = []\n",
        "\n",
        "sequences_count = len(input_train_sequences)\n",
        "\n",
        "assert sequences_count == len(output_train_sequences)\n",
        "\n",
        "# add the remaining data:\n",
        "if sequences_count * timesteps < train_input_data.shape[0]:\n",
        "  input_train_remaining = np.array(train_input_data[sequences_count * timesteps:])\n",
        "\n",
        "if sequences_count * timesteps < train_output_data.shape[0]:\n",
        "  output_train_remaining = np.array(train_output_data[sequences_count * timesteps:])\n",
        "\n",
        "print(input_train_sequences.shape)\n",
        "print(output_train_sequences.shape)\n",
        "\n",
        "for i in range(len(input_train_sequences)):\n",
        "  print(str(i) + \": \" + str(input_train_sequences[i].shape))\n",
        "\n",
        "print(\"-----------\")\n",
        "\n",
        "for i in range(len(output_train_sequences)):\n",
        "  print(str(i) + \": \" + str(output_train_sequences[i].shape))\n",
        "\n",
        "print(\"remaining data: \")\n",
        "print(input_train_remaining.shape)\n",
        "print(output_train_remaining.shape)"
      ],
      "metadata": {
        "colab": {
          "base_uri": "https://localhost:8080/"
        },
        "id": "HbpDORPPY9mk",
        "outputId": "7718879e-a521-4592-bd2d-9642e28a9aba"
      },
      "execution_count": 78,
      "outputs": [
        {
          "output_type": "stream",
          "name": "stdout",
          "text": [
            "(14, 60, 3)\n",
            "(14, 60, 2)\n",
            "0: (60, 3)\n",
            "1: (60, 3)\n",
            "2: (60, 3)\n",
            "3: (60, 3)\n",
            "4: (60, 3)\n",
            "5: (60, 3)\n",
            "6: (60, 3)\n",
            "7: (60, 3)\n",
            "8: (60, 3)\n",
            "9: (60, 3)\n",
            "10: (60, 3)\n",
            "11: (60, 3)\n",
            "12: (60, 3)\n",
            "13: (60, 3)\n",
            "-----------\n",
            "0: (60, 2)\n",
            "1: (60, 2)\n",
            "2: (60, 2)\n",
            "3: (60, 2)\n",
            "4: (60, 2)\n",
            "5: (60, 2)\n",
            "6: (60, 2)\n",
            "7: (60, 2)\n",
            "8: (60, 2)\n",
            "9: (60, 2)\n",
            "10: (60, 2)\n",
            "11: (60, 2)\n",
            "12: (60, 2)\n",
            "13: (60, 2)\n",
            "remaining data: \n",
            "(48, 3)\n",
            "(48, 2)\n"
          ]
        }
      ]
    },
    {
      "cell_type": "code",
      "source": [
        "input_train_tensor = list(input_train_sequences)\n",
        "input_train_tensor.append(input_train_remaining)\n",
        "\n",
        "output_train_tensor = list(output_train_sequences)\n",
        "output_train_tensor.append(output_train_remaining)\n",
        "\n",
        "print(len(input_train_tensor))\n",
        "print(len(output_train_tensor))\n",
        "\"\"\"\n",
        "batch_count = len(input_train_sequences)\n",
        "\n",
        "input_train_tensor = input_train_sequences.reshape((batch_count, timesteps, input_size))\n",
        "output_train_tensor = output_train_sequences.reshape((batch_count, timesteps, output_size))\n",
        "\n",
        "for i in range(epoch_count):\n",
        "  for batch_idx in range(len(input_train_sequences)):\n",
        "    input_train_sequence = input_train_sequences[batch_idx].reshape(1,timesteps, input_size)\n",
        "    output_train_sequnce = output_train_sequences[batch_idx].reshape(1, timesteps, output_size)\n",
        "    loss = model.train_on_batch(input_train_sequence, output_train_sequnce)\n",
        "\n",
        "    print(\"epoch: \" + str(i) + \"; batch: \" + str(batch_idx) + \"; loss - \" + str(loss))\n",
        "\n",
        "print(input_train_tensor.shape)\n",
        "print(output_train_tensor.shape)\n",
        "\"\"\"\n",
        "print(\"input batches shapes:\")\n",
        "\n",
        "for i in range(len(input_train_tensor)):\n",
        "  print(input_train_tensor[i].shape)\n",
        "\n",
        "print(\"------------\")\n",
        "print(\"output batches shapes:\")\n",
        "\n",
        "for i in range(len(output_train_tensor)):\n",
        "  print(output_train_tensor[i].shape)"
      ],
      "metadata": {
        "id": "4MIZ642XBOjo",
        "outputId": "463d80ee-0cce-4826-9660-02b06cf863ea",
        "colab": {
          "base_uri": "https://localhost:8080/"
        }
      },
      "execution_count": 79,
      "outputs": [
        {
          "output_type": "stream",
          "name": "stdout",
          "text": [
            "15\n",
            "15\n",
            "input batches shapes:\n",
            "(60, 3)\n",
            "(60, 3)\n",
            "(60, 3)\n",
            "(60, 3)\n",
            "(60, 3)\n",
            "(60, 3)\n",
            "(60, 3)\n",
            "(60, 3)\n",
            "(60, 3)\n",
            "(60, 3)\n",
            "(60, 3)\n",
            "(60, 3)\n",
            "(60, 3)\n",
            "(60, 3)\n",
            "(48, 3)\n",
            "------------\n",
            "output batches shapes:\n",
            "(60, 2)\n",
            "(60, 2)\n",
            "(60, 2)\n",
            "(60, 2)\n",
            "(60, 2)\n",
            "(60, 2)\n",
            "(60, 2)\n",
            "(60, 2)\n",
            "(60, 2)\n",
            "(60, 2)\n",
            "(60, 2)\n",
            "(60, 2)\n",
            "(60, 2)\n",
            "(60, 2)\n",
            "(48, 2)\n"
          ]
        }
      ]
    },
    {
      "cell_type": "code",
      "source": [
        "epoch_count = 30\n",
        "batch_count = len(input_train_tensor)\n",
        "\n",
        "input_shape = (1, timesteps, input_size)\n",
        "output_shape = (1, timesteps, output_size)\n",
        "\n",
        "input_shape_remaining = (1, input_train_remaining.shape[0], input_train_remaining.shape[1])\n",
        "output_shape_remaining = (1, output_train_remaining.shape[0], output_train_remaining.shape[1])\n",
        "\n",
        "#print(\"remainig shapes: \" + str(input_shape_remaining) + \", \" + str(output_shape_remaining))\n",
        "\n",
        "for epoch in range(epoch_count):\n",
        "  for batch_idx in range(batch_count):\n",
        "    in_shape = input_shape\n",
        "    out_shape = output_shape\n",
        "\n",
        "    if batch_idx == batch_count - 1:\n",
        "      in_shape = input_shape_remaining \n",
        "      out_shape = output_shape_remaining\n",
        "\n",
        "    input_batch = input_train_tensor[batch_idx].reshape(in_shape)\n",
        "    output_batch = output_train_tensor[batch_idx].reshape(out_shape)\n",
        "\n",
        "    loss = model.train_on_batch(input_batch, output_batch, reset_metrics=False, return_dict=True)\n",
        "  print(\"epoch-\" + str(epoch) + \";\" + str(loss))"
      ],
      "metadata": {
        "colab": {
          "base_uri": "https://localhost:8080/"
        },
        "id": "vn6gNqOynOz0",
        "outputId": "5a2e1565-51bb-40f9-df5d-87420650c477"
      },
      "execution_count": 81,
      "outputs": [
        {
          "output_type": "stream",
          "name": "stdout",
          "text": [
            "epoch-0;{'loss': 0.05489853769540787, 'mean_squared_error': 0.05489853769540787}\n",
            "epoch-1;{'loss': 0.05236237868666649, 'mean_squared_error': 0.05236237868666649}\n",
            "epoch-2;{'loss': 0.05011972039937973, 'mean_squared_error': 0.05011972039937973}\n",
            "epoch-3;{'loss': 0.04808004945516586, 'mean_squared_error': 0.04808004945516586}\n",
            "epoch-4;{'loss': 0.04627359285950661, 'mean_squared_error': 0.04627359285950661}\n",
            "epoch-5;{'loss': 0.04464937001466751, 'mean_squared_error': 0.04464937001466751}\n",
            "epoch-6;{'loss': 0.04316353797912598, 'mean_squared_error': 0.04316353797912598}\n",
            "epoch-7;{'loss': 0.04186752811074257, 'mean_squared_error': 0.04186752811074257}\n",
            "epoch-8;{'loss': 0.040618687868118286, 'mean_squared_error': 0.040618687868118286}\n",
            "epoch-9;{'loss': 0.03946126624941826, 'mean_squared_error': 0.03946126624941826}\n",
            "epoch-10;{'loss': 0.03838628903031349, 'mean_squared_error': 0.03838628903031349}\n",
            "epoch-11;{'loss': 0.037349242717027664, 'mean_squared_error': 0.037349242717027664}\n",
            "epoch-12;{'loss': 0.03640703856945038, 'mean_squared_error': 0.03640703856945038}\n",
            "epoch-13;{'loss': 0.03549564629793167, 'mean_squared_error': 0.03549564629793167}\n",
            "epoch-14;{'loss': 0.03461592271924019, 'mean_squared_error': 0.03461592271924019}\n",
            "epoch-15;{'loss': 0.033759839832782745, 'mean_squared_error': 0.033759839832782745}\n",
            "epoch-16;{'loss': 0.032954100519418716, 'mean_squared_error': 0.032954100519418716}\n",
            "epoch-17;{'loss': 0.03217834606766701, 'mean_squared_error': 0.03217834606766701}\n",
            "epoch-18;{'loss': 0.03143429011106491, 'mean_squared_error': 0.03143429011106491}\n",
            "epoch-19;{'loss': 0.03072401136159897, 'mean_squared_error': 0.03072401136159897}\n",
            "epoch-20;{'loss': 0.030048055574297905, 'mean_squared_error': 0.030048055574297905}\n",
            "epoch-21;{'loss': 0.029406821355223656, 'mean_squared_error': 0.029406821355223656}\n",
            "epoch-22;{'loss': 0.028805866837501526, 'mean_squared_error': 0.028805866837501526}\n",
            "epoch-23;{'loss': 0.028241517022252083, 'mean_squared_error': 0.028241517022252083}\n",
            "epoch-24;{'loss': 0.02770742028951645, 'mean_squared_error': 0.02770742028951645}\n",
            "epoch-25;{'loss': 0.02722296305000782, 'mean_squared_error': 0.02722296305000782}\n",
            "epoch-26;{'loss': 0.02679506689310074, 'mean_squared_error': 0.02679506689310074}\n",
            "epoch-27;{'loss': 0.02640543133020401, 'mean_squared_error': 0.02640543133020401}\n",
            "epoch-28;{'loss': 0.026076771318912506, 'mean_squared_error': 0.026076771318912506}\n",
            "epoch-29;{'loss': 0.025847705081105232, 'mean_squared_error': 0.025847705081105232}\n"
          ]
        }
      ]
    },
    {
      "cell_type": "code",
      "source": [
        ""
      ],
      "metadata": {
        "id": "J_gjcanOi58-"
      },
      "execution_count": null,
      "outputs": []
    }
  ]
}