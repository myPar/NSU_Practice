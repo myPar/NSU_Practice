{
  "nbformat": 4,
  "nbformat_minor": 0,
  "metadata": {
    "colab": {
      "name": "Untitled10.ipynb",
      "provenance": [],
      "authorship_tag": "ABX9TyPxYV5zDE9eiRxew585gXDc",
      "include_colab_link": true
    },
    "kernelspec": {
      "name": "python3",
      "display_name": "Python 3"
    },
    "language_info": {
      "name": "python"
    }
  },
  "cells": [
    {
      "cell_type": "markdown",
      "metadata": {
        "id": "view-in-github",
        "colab_type": "text"
      },
      "source": [
        "<a href=\"https://colab.research.google.com/github/myPar/NSU_Practice/blob/dev/baseline/RNNbaseline.ipynb\" target=\"_parent\"><img src=\"https://colab.research.google.com/assets/colab-badge.svg\" alt=\"Open In Colab\"/></a>"
      ]
    },
    {
      "cell_type": "markdown",
      "source": [
        "### Prepare"
      ],
      "metadata": {
        "id": "ARvrhtmL1zy-"
      }
    },
    {
      "cell_type": "code",
      "execution_count": 1,
      "metadata": {
        "colab": {
          "base_uri": "https://localhost:8080/"
        },
        "id": "EdtkuXHH8TRl",
        "outputId": "06f380cc-3415-4ea6-f3e4-fa4b1cca3ccb"
      },
      "outputs": [
        {
          "output_type": "stream",
          "name": "stdout",
          "text": [
            "Mounted at /content/drive\n"
          ]
        }
      ],
      "source": [
        "import pandas as pd\n",
        "import numpy as np\n",
        "from google.colab import drive\n",
        "from pathlib import Path\n",
        "\n",
        "import tensorflow as tf\n",
        "from tensorflow.keras.layers import SimpleRNN, Input\n",
        "from tensorflow.keras.optimizers import Adam\n",
        "from sklearn.model_selection import train_test_split\n",
        "\n",
        "drive.mount('/content/drive')"
      ]
    },
    {
      "cell_type": "code",
      "source": [
        "file_path = Path('/content/drive/MyDrive/Colab Notebooks/data.txt')\n",
        "df = pd.read_csv(filepath_or_buffer=file_path, sep=' ', header=0)\n",
        "\n",
        "df.head"
      ],
      "metadata": {
        "colab": {
          "base_uri": "https://localhost:8080/"
        },
        "id": "eAbmzKNy9LNF",
        "outputId": "0509feb6-0b94-4a0f-d565-3a84efdb566a"
      },
      "execution_count": 2,
      "outputs": [
        {
          "output_type": "execute_result",
          "data": {
            "text/plain": [
              "<bound method NDFrame.head of              Date      Time  qo_lc[m3/d]  qw_lc[m3/d]  qg_lc[m3/d]  \\\n",
              "0     07-May-2014  10:13:26      109.280    -0.312890       3810.3   \n",
              "1     07-May-2014  10:14:26      113.460    -0.437350       3774.0   \n",
              "2     07-May-2014  10:15:26      131.630    -0.533550       3892.5   \n",
              "3     07-May-2014  10:16:26      140.670     0.160910       4043.1   \n",
              "4     07-May-2014  10:17:26      150.020    -1.145600       4134.6   \n",
              "...           ...       ...          ...          ...          ...   \n",
              "1264  08-May-2014  07:34:35       98.744     0.310070       3174.5   \n",
              "1265  08-May-2014  07:35:35       72.045     0.162760       3134.1   \n",
              "1266  08-May-2014  07:36:35       87.370    -0.125770       3340.4   \n",
              "1267  08-May-2014  07:37:35       32.121     0.021522       2834.1   \n",
              "1268  08-May-2014  07:38:35       35.914     0.228020       2612.4   \n",
              "\n",
              "      qo_sc[Sm3/d]  qw_sc[Sm3/d]  qg_sc[Sm3/d]  qo_scnp[Sm3/d]  \\\n",
              "0          108.430     -0.314870       92700.0         108.430   \n",
              "1          112.580     -0.440110       91895.0         112.580   \n",
              "2          130.550     -0.536910       95860.0         130.550   \n",
              "3          139.440      0.161910      100690.0         139.440   \n",
              "4          148.640     -1.152700      104290.0         148.640   \n",
              "...            ...           ...           ...             ...   \n",
              "1264        97.703      0.312100       87402.0          97.703   \n",
              "1265        71.288      0.163830       85594.0          71.288   \n",
              "1266        86.386     -0.126600       93660.0          86.386   \n",
              "1267        31.789      0.021666       76564.0          31.789   \n",
              "1268        35.567      0.229520       69609.0          35.567   \n",
              "\n",
              "      qw_scnp[Sm3/d]  ...  TAMB[DegC]  Dyn_DP[mbar]  OperatingPointLE[1/m]  \\\n",
              "0          -0.314870  ...     18.1050       1449.10                 1.5512   \n",
              "1          -0.440110  ...     18.1430       1462.90                 1.5186   \n",
              "2          -0.536910  ...     18.1660       1569.80                 1.6145   \n",
              "3           0.161910  ...     18.2030       1693.80                 1.7645   \n",
              "4          -1.152700  ...     18.2460       1811.00                 1.7374   \n",
              "...              ...  ...         ...           ...                    ...   \n",
              "1264        0.312100  ...      5.1613       1147.80                 1.6079   \n",
              "1265        0.163830  ...      5.1521       1084.70                 1.5256   \n",
              "1266       -0.126600  ...      5.1457       1278.80                 1.4436   \n",
              "1267        0.021666  ...      5.1328        995.28                 1.2353   \n",
              "1268        0.229520  ...         NaN           NaN                    NaN   \n",
              "\n",
              "      OperatingPointHE[1/m]  OilPointLE[1/m]  OilPointHE[1/m]  \\\n",
              "0                   1.00060           23.568           14.781   \n",
              "1                   0.98577           23.570           14.782   \n",
              "2                   1.04660           23.568           14.781   \n",
              "3                   1.11880           23.562           14.777   \n",
              "4                   1.14540           23.553           14.771   \n",
              "...                     ...              ...              ...   \n",
              "1264                1.01450           23.557           14.774   \n",
              "1265                0.96923           23.551           14.770   \n",
              "1266                0.92956           23.547           14.768   \n",
              "1267                0.79475           23.545           14.766   \n",
              "1268                    NaN              NaN              NaN   \n",
              "\n",
              "      WaterPointLE[1/m]  WaterPointHE[1/m]  GasPointLE[1/m]  GasPointHE[1/m]  \n",
              "0                171.01             25.097          0.49280          0.32761  \n",
              "1                171.01             25.097          0.49042          0.32603  \n",
              "2                171.01             25.097          0.49134          0.32665  \n",
              "3                171.00             25.096          0.49673          0.33023  \n",
              "4                170.99             25.094          0.50210          0.33380  \n",
              "...                 ...                ...              ...              ...  \n",
              "1264             171.06             25.104          0.55020          0.36578  \n",
              "1265             171.05             25.103          0.55287          0.36755  \n",
              "1266             171.05             25.103          0.55678          0.37015  \n",
              "1267             171.05             25.102          0.55991          0.37223  \n",
              "1268                NaN                NaN              NaN              NaN  \n",
              "\n",
              "[1269 rows x 60 columns]>"
            ]
          },
          "metadata": {},
          "execution_count": 2
        }
      ]
    },
    {
      "cell_type": "code",
      "source": [
        "print(df.columns)"
      ],
      "metadata": {
        "colab": {
          "base_uri": "https://localhost:8080/"
        },
        "id": "tQqscV-gB9t9",
        "outputId": "6640ea02-5a77-450b-c0d0-73176d4f6a11"
      },
      "execution_count": 4,
      "outputs": [
        {
          "output_type": "stream",
          "name": "stdout",
          "text": [
            "Index(['Date', 'Time', 'qo_lc[m3/d]', 'qw_lc[m3/d]', 'qg_lc[m3/d]',\n",
            "       'qo_sc[Sm3/d]', 'qw_sc[Sm3/d]', 'qg_sc[Sm3/d]', 'qo_scnp[Sm3/d]',\n",
            "       'qw_scnp[Sm3/d]', 'qg_scnp[Sm3/d]', 'Fo_lc[%]', 'Fw_lc[%]', 'Fg_lc[%]',\n",
            "       'WLR[%]', 'GVF[%]', 'GLR[m3/m3]', 'BSW[%]', 'GOR[Sm3/Sm3]',\n",
            "       'GOR1[Sm3/Sm3]', 'mo_lc[kg/d]', 'mw_lc[kg/d]', 'mg_lc[kg/d]',\n",
            "       'm_lc[kg/d]', 'mo_sc[kg/d]', 'mw_sc[kg/d]', 'mg_sc[kg/d]',\n",
            "       'Mu_o_lc[cP]', 'Mu_l_lc[cP]', 'Do_lc[g/cm3]', 'Dw_lc[g/cm3]',\n",
            "       'Dg_lc[g/cm3]', 'Dm_lc[g/cm3]', 'Dl_lc[g/cm3]', 'bo[Sm3/m3]',\n",
            "       'bw[Sm3/m3]', 'bg[Sm3/m3]', 'Z', 'Rst[Sm3/Sm3]', 'Rwst[Sm3/Sm3]',\n",
            "       'rgmp[Sm3/Sm3]', 'N32[cps]', 'N81[cps]', 'N356[cps]', 'NTotal[cps]',\n",
            "       'DeadTime[s]', 'SampleTime[s]', 'DPV[mbar]', 'PL[bara]', 'TL[DegC]',\n",
            "       'TAMB[DegC]', 'Dyn_DP[mbar]', 'OperatingPointLE[1/m]',\n",
            "       'OperatingPointHE[1/m]', 'OilPointLE[1/m]', 'OilPointHE[1/m]',\n",
            "       'WaterPointLE[1/m]', 'WaterPointHE[1/m]', 'GasPointLE[1/m]',\n",
            "       'GasPointHE[1/m]'],\n",
            "      dtype='object')\n"
          ]
        }
      ]
    },
    {
      "cell_type": "code",
      "source": [
        "selected_rows = ['DPV[mbar]', 'PL[bara]', 'qg_sc[Sm3/d]', 'qo_sc[Sm3/d]', 'TL[DegC]']\n",
        "outputs = ['qg_sc[Sm3/d]', 'qo_sc[Sm3/d]']\n",
        "inputs = np.setdiff1d(selected_rows, outputs)\n",
        "\n",
        "df = df[selected_rows]\n",
        "\n",
        "print(df.head)\n",
        "print(\"inputs: \" + str(inputs))\n",
        "print(\"outputs: \" + str(outputs))"
      ],
      "metadata": {
        "colab": {
          "base_uri": "https://localhost:8080/"
        },
        "id": "5Kz4KyJeCwKG",
        "outputId": "9a4f5c25-4cfb-44f5-9ae1-2b60f6909980"
      },
      "execution_count": 5,
      "outputs": [
        {
          "output_type": "stream",
          "name": "stdout",
          "text": [
            "<bound method NDFrame.head of       DPV[mbar]  PL[bara]  qg_sc[Sm3/d]  qo_sc[Sm3/d]  TL[DegC]\n",
            "0       1448.70    21.481       92700.0       108.430   -2.5452\n",
            "1       1462.10    21.473       91895.0       112.580   -2.5323\n",
            "2       1592.30    21.672       95860.0       130.550   -2.3931\n",
            "3       1703.30    21.926      100690.0       139.440   -2.0451\n",
            "4       1821.70    22.196      104290.0       148.640   -1.8009\n",
            "...         ...       ...           ...           ...       ...\n",
            "1264    1147.10    23.997       87402.0        97.703   -3.3542\n",
            "1265    1090.50    23.919       85594.0        71.288   -3.2890\n",
            "1266    1279.10    24.477       93660.0        86.386   -3.2191\n",
            "1267     976.62    23.808       76564.0        31.789   -3.2819\n",
            "1268        NaN       NaN       69609.0        35.567       NaN\n",
            "\n",
            "[1269 rows x 5 columns]>\n",
            "inputs: ['DPV[mbar]' 'PL[bara]' 'TL[DegC]']\n",
            "outputs: ['qg_sc[Sm3/d]', 'qo_sc[Sm3/d]']\n"
          ]
        }
      ]
    },
    {
      "cell_type": "code",
      "source": [
        "# check categorical attributes\n",
        "cardinality_hold = 0.15\n",
        "expected_col_size = 1269\n",
        "\n",
        "categorical_attributes = []\n",
        "\n",
        "def check_attributes_info():\n",
        "  for column in df.columns:\n",
        "    col_data = df[column].to_numpy()\n",
        "    size = len(col_data)\n",
        "    \n",
        "    assert size == expected_col_size\n",
        "    cleared_data = col_data[~np.isnan(col_data)]\n",
        "    \n",
        "    card = len(np.unique(cleared_data))  # cardinality without Nan items\n",
        "    skip_count = size - len(cleared_data)\n",
        "\n",
        "    print(column + \": card=\" + str(card) + \"; skip: percent=\" + str(skip_count * 100 / size) + \", count=\" + str(skip_count))\n",
        "    \n",
        "    if card / size < cardinality_hold:\n",
        "      categorical_attributes.append(card)\n",
        "\n",
        "check_attributes_info()\n",
        "\n",
        "if len(categorical_attributes) == 0:\n",
        "  print(\"no categorical attributes\")\n",
        "else:\n",
        "  print(categorical_attributes)"
      ],
      "metadata": {
        "colab": {
          "base_uri": "https://localhost:8080/"
        },
        "id": "lDU5w3CP1fux",
        "outputId": "adf2bc9e-589e-465b-9240-f0ae8799b501"
      },
      "execution_count": 6,
      "outputs": [
        {
          "output_type": "stream",
          "name": "stdout",
          "text": [
            "DPV[mbar]: card=1163; skip: percent=0.07880220646178093, count=1\n",
            "PL[bara]: card=1042; skip: percent=0.07880220646178093, count=1\n",
            "qg_sc[Sm3/d]: card=1250; skip: percent=0.0, count=0\n",
            "qo_sc[Sm3/d]: card=1246; skip: percent=0.0, count=0\n",
            "TL[DegC]: card=1214; skip: percent=0.07880220646178093, count=1\n",
            "no categorical attributes\n"
          ]
        }
      ]
    },
    {
      "cell_type": "code",
      "source": [
        "# supplement data\n",
        "for column in df.columns:\n",
        "  data =  np.array(df[column].to_numpy(), dtype=np.float64)\n",
        "\n",
        "  for i in range(len(data)):\n",
        "    if str(data[i]) == 'nan':\n",
        "      data[i] = np.mean(data[~np.isnan(data)])\n",
        "  df.drop([column], axis=1, inplace=True)\n",
        "  df.insert(0, column, data)\n"
      ],
      "metadata": {
        "id": "iplk6j6l6WcC",
        "colab": {
          "base_uri": "https://localhost:8080/"
        },
        "outputId": "20be444d-ded3-4e08-ba38-bf19fe8a9f36"
      },
      "execution_count": 7,
      "outputs": [
        {
          "output_type": "stream",
          "name": "stderr",
          "text": [
            "/usr/local/lib/python3.7/dist-packages/pandas/core/frame.py:4913: SettingWithCopyWarning: \n",
            "A value is trying to be set on a copy of a slice from a DataFrame\n",
            "\n",
            "See the caveats in the documentation: https://pandas.pydata.org/pandas-docs/stable/user_guide/indexing.html#returning-a-view-versus-a-copy\n",
            "  errors=errors,\n"
          ]
        }
      ]
    },
    {
      "cell_type": "code",
      "source": [
        "check_attributes_info()"
      ],
      "metadata": {
        "colab": {
          "base_uri": "https://localhost:8080/"
        },
        "id": "criJtZiD_HY5",
        "outputId": "6565870e-acf6-4cec-85ed-b7867e471e46"
      },
      "execution_count": 8,
      "outputs": [
        {
          "output_type": "stream",
          "name": "stdout",
          "text": [
            "TL[DegC]: card=1215; skip: percent=0.0, count=0\n",
            "qo_sc[Sm3/d]: card=1246; skip: percent=0.0, count=0\n",
            "qg_sc[Sm3/d]: card=1250; skip: percent=0.0, count=0\n",
            "PL[bara]: card=1043; skip: percent=0.0, count=0\n",
            "DPV[mbar]: card=1164; skip: percent=0.0, count=0\n"
          ]
        }
      ]
    },
    {
      "cell_type": "markdown",
      "source": [
        "## Create model"
      ],
      "metadata": {
        "id": "ZzSi2jOlBmeR"
      }
    },
    {
      "cell_type": "code",
      "source": [
        "# model parameters\n",
        "batch_size = 60\n",
        "timesteps = 60\n",
        "input_size = len(inputs)\n",
        "output_size = len(outputs)\n",
        "lr = 0.001\n",
        "\n",
        "mse = tf.keras.losses.MeanSquaredError()\n",
        "\n",
        "model = tf.keras.Sequential()\n",
        "model.add(Input((None, input_size)))\n",
        "model.add(SimpleRNN(units=120, activation='tanh', return_sequences=True))\n",
        "model.add(SimpleRNN(units=120, activation='tanh', return_sequences=True))\n",
        "model.add(SimpleRNN(units=2, activation='tanh', return_sequences=True))\n",
        "model.summary()"
      ],
      "metadata": {
        "id": "YV_QnOokBoaT",
        "colab": {
          "base_uri": "https://localhost:8080/"
        },
        "outputId": "0ccd861c-6315-4282-844c-477583a4bbbc"
      },
      "execution_count": 9,
      "outputs": [
        {
          "output_type": "stream",
          "name": "stdout",
          "text": [
            "Model: \"sequential\"\n",
            "_________________________________________________________________\n",
            " Layer (type)                Output Shape              Param #   \n",
            "=================================================================\n",
            " simple_rnn (SimpleRNN)      (None, None, 120)         14880     \n",
            "                                                                 \n",
            " simple_rnn_1 (SimpleRNN)    (None, None, 120)         28920     \n",
            "                                                                 \n",
            " simple_rnn_2 (SimpleRNN)    (None, None, 2)           246       \n",
            "                                                                 \n",
            "=================================================================\n",
            "Total params: 44,046\n",
            "Trainable params: 44,046\n",
            "Non-trainable params: 0\n",
            "_________________________________________________________________\n"
          ]
        }
      ]
    },
    {
      "cell_type": "code",
      "source": [
        "model.compile(loss=mse, metrics=[mse], optimizer=Adam(learning_rate=lr))"
      ],
      "metadata": {
        "id": "h2at_PF2I9SP"
      },
      "execution_count": 10,
      "outputs": []
    },
    {
      "cell_type": "markdown",
      "source": [
        "## Prepare data"
      ],
      "metadata": {
        "id": "1VpvJo7LY4CR"
      }
    },
    {
      "cell_type": "code",
      "source": [
        "# normilize data ('min/max' normalization):\n",
        "interval_th = [-1, 1]     # normalization interval for 'th' activation function\n",
        "interval_sigmoid = [0, 1] # normalization interval for 'sigmoid' activation function\n",
        "\n",
        "result_interval = interval_th\n",
        "normalized_df = df = ((df - df.min()) / (df.max() - df.min())) * (result_interval[1] - result_interval[0]) + result_interval[0]\n",
        "\n",
        "train_df, test_df = train_test_split(normalized_df, test_size=0.3)\n",
        "print(train_df.head)\n",
        "print(test_df.head)\n",
        "\n",
        "train_input_data = train_df[inputs].to_numpy()\n",
        "train_output_data = train_df[outputs].to_numpy()\n",
        "\n",
        "test_input_data = test_df[inputs].to_numpy()\n",
        "test_output_data = test_df[outputs].to_numpy()\n",
        "\n",
        "print(\"data shapes:\")\n",
        "print(train_input_data.shape)\n",
        "print(test_input_data.shape)\n",
        "\n",
        "print(train_output_data.shape)\n",
        "print(test_output_data.shape)"
      ],
      "metadata": {
        "colab": {
          "base_uri": "https://localhost:8080/"
        },
        "id": "s19mQS_oY6ZE",
        "outputId": "d08c8667-335a-49ee-9331-b0cf547c0163"
      },
      "execution_count": 11,
      "outputs": [
        {
          "output_type": "stream",
          "name": "stdout",
          "text": [
            "<bound method NDFrame.head of       TL[DegC]  qo_sc[Sm3/d]  qg_sc[Sm3/d]  PL[bara]  DPV[mbar]\n",
            "451   0.832516     -0.695149     -0.216606 -0.619961  -0.351240\n",
            "341   0.580424      0.115008      0.253518 -0.257355   0.147548\n",
            "83   -0.043586     -0.452693     -0.200432 -0.030726  -0.503746\n",
            "267   0.334062     -0.486682     -0.543648 -0.915886  -0.588638\n",
            "116   0.041701      0.092118      0.183057 -0.178034  -0.001602\n",
            "...        ...           ...           ...       ...        ...\n",
            "318   0.693085      0.381489      0.469744 -0.098714   0.447189\n",
            "35   -0.142674     -0.916368     -0.929179 -0.925038  -0.780067\n",
            "1243 -0.526883     -0.016324      0.122686  0.568533  -0.270877\n",
            "463   0.460750      0.292700      0.056429 -0.428634   0.027087\n",
            "1000 -0.209939     -0.347557      0.124527  0.443016  -0.268361\n",
            "\n",
            "[888 rows x 5 columns]>\n",
            "<bound method NDFrame.head of       TL[DegC]  qo_sc[Sm3/d]  qg_sc[Sm3/d]  PL[bara]  DPV[mbar]\n",
            "720   0.296659     -0.831915     -0.329103 -0.137503  -0.492505\n",
            "688   0.412111     -0.756503     -0.232820 -0.249074  -0.418182\n",
            "875  -0.131212     -0.287047     -0.106992  0.174112  -0.397713\n",
            "1190 -0.903778     -0.585551     -0.694537  0.155807  -0.848015\n",
            "930  -0.097655     -0.776827     -0.217047  0.134016  -0.521362\n",
            "...        ...           ...           ...       ...        ...\n",
            "736   0.444914      0.097783      0.543848  0.362824   0.301395\n",
            "662   0.429002     -0.613610     -0.288948 -0.278710  -0.545018\n",
            "339   0.289345     -0.333245     -0.256441 -0.514055  -0.373218\n",
            "40    0.611719     -0.400102      0.292992 -0.259534  -0.005461\n",
            "792  -0.036272     -0.091239     -0.028525  0.258226  -0.297721\n",
            "\n",
            "[381 rows x 5 columns]>\n",
            "data shapes:\n",
            "(888, 3)\n",
            "(381, 3)\n",
            "(888, 2)\n",
            "(381, 2)\n"
          ]
        }
      ]
    },
    {
      "cell_type": "code",
      "source": [
        "# formatting the data\n",
        "def get_sequence(data):\n",
        "  return np.array([data[i*timesteps : i*timesteps + timesteps] for i in range(data.shape[0] // timesteps)])\n",
        "\n",
        "def get_remaining_data(data, sequences_count):\n",
        "  return np.array(data[timesteps * sequences_count:])\n",
        "\n",
        "def print_sequences_info(in_seq, out_seq, in_rem, out_rem):\n",
        "  print(in_seq.shape)\n",
        "  print(out_seq.shape)\n",
        "\n",
        "  for i in range(len(in_seq)):\n",
        "    print(str(i) + \": \" + str(in_seq[i].shape))\n",
        "\n",
        "  print(\"-----------\")\n",
        "\n",
        "  for i in range(len(out_seq)):\n",
        "    print(str(i) + \": \" + str(out_seq[i].shape))\n",
        "\n",
        "  print(\"remaining data: \")\n",
        "  print(in_rem.shape)\n",
        "  print(out_rem.shape)\n",
        "\n",
        "input_train_sequences = get_sequence(train_input_data)\n",
        "output_train_sequences = get_sequence(train_output_data)\n",
        "\n",
        "input_test_sequences = get_sequence(test_input_data)\n",
        "output_test_sequences = get_sequence(test_output_data)\n",
        "\n",
        "input_train_remaining = []\n",
        "output_train_remaining = []\n",
        "\n",
        "input_test_remaining = []\n",
        "output_test_remaining = []\n",
        "\n",
        "train_sequences_count = len(input_train_sequences)\n",
        "assert train_sequences_count == len(output_train_sequences)\n",
        "\n",
        "test_sequences_count = len(input_test_sequences)\n",
        "assert test_sequences_count == len(output_test_sequences)\n",
        "\n",
        "# get the remaining data from train samples:\n",
        "if train_sequences_count * timesteps < train_input_data.shape[0]:\n",
        "  input_train_remaining = get_remaining_data(train_input_data, train_sequences_count)\n",
        "\n",
        "if train_sequences_count * timesteps < train_output_data.shape[0]:\n",
        "  output_train_remaining = get_remaining_data(train_output_data, train_sequences_count)\n",
        "\n",
        "# get the remaining data from test samples:\n",
        "if test_sequences_count * timesteps < test_input_data.shape[0]:\n",
        "  input_test_remaining = get_remaining_data(test_input_data, test_sequences_count)\n",
        "\n",
        "if test_sequences_count * timesteps < test_output_data.shape[0]:\n",
        "  output_test_remaining = get_remaining_data(test_output_data, test_sequences_count)\n",
        "\n",
        "print(\"train smaples:\")\n",
        "print_sequences_info(input_train_sequences, output_train_sequences, input_train_remaining, output_train_remaining)\n",
        "print(\"\\n************************\\n\")\n",
        "print(\"test samples:\")\n",
        "print_sequences_info(input_test_sequences, output_test_sequences, input_test_remaining, output_test_remaining)"
      ],
      "metadata": {
        "colab": {
          "base_uri": "https://localhost:8080/"
        },
        "id": "HbpDORPPY9mk",
        "outputId": "5f454293-f8e8-4dc1-c83a-8c3d813552f4"
      },
      "execution_count": 13,
      "outputs": [
        {
          "output_type": "stream",
          "name": "stdout",
          "text": [
            "train smaples:\n",
            "(14, 60, 3)\n",
            "(14, 60, 2)\n",
            "0: (60, 3)\n",
            "1: (60, 3)\n",
            "2: (60, 3)\n",
            "3: (60, 3)\n",
            "4: (60, 3)\n",
            "5: (60, 3)\n",
            "6: (60, 3)\n",
            "7: (60, 3)\n",
            "8: (60, 3)\n",
            "9: (60, 3)\n",
            "10: (60, 3)\n",
            "11: (60, 3)\n",
            "12: (60, 3)\n",
            "13: (60, 3)\n",
            "-----------\n",
            "0: (60, 2)\n",
            "1: (60, 2)\n",
            "2: (60, 2)\n",
            "3: (60, 2)\n",
            "4: (60, 2)\n",
            "5: (60, 2)\n",
            "6: (60, 2)\n",
            "7: (60, 2)\n",
            "8: (60, 2)\n",
            "9: (60, 2)\n",
            "10: (60, 2)\n",
            "11: (60, 2)\n",
            "12: (60, 2)\n",
            "13: (60, 2)\n",
            "remaining data: \n",
            "(48, 3)\n",
            "(48, 2)\n",
            "\n",
            "************************\n",
            "\n",
            "test samples:\n",
            "(6, 60, 3)\n",
            "(6, 60, 2)\n",
            "0: (60, 3)\n",
            "1: (60, 3)\n",
            "2: (60, 3)\n",
            "3: (60, 3)\n",
            "4: (60, 3)\n",
            "5: (60, 3)\n",
            "-----------\n",
            "0: (60, 2)\n",
            "1: (60, 2)\n",
            "2: (60, 2)\n",
            "3: (60, 2)\n",
            "4: (60, 2)\n",
            "5: (60, 2)\n",
            "remaining data: \n",
            "(21, 3)\n",
            "(21, 2)\n"
          ]
        }
      ]
    },
    {
      "cell_type": "code",
      "source": [
        "def add_remaining(data, remaining):\n",
        "  data = list(data)\n",
        "  data.append(remaining)\n",
        "  return data\n",
        "\n",
        "input_train_tensor = add_remaining(input_train_sequences, input_train_remaining)\n",
        "output_train_tensor = add_remaining(output_train_sequences, output_train_remaining)\n",
        "\n",
        "input_test_tensor = add_remaining(input_test_sequences, input_test_remaining)\n",
        "output_test_tensor = add_remaining(output_test_sequences, output_test_remaining)\n",
        "\n",
        "print(len(input_train_tensor))\n",
        "print(len(output_train_tensor))\n",
        "\n",
        "def print_batches_shapes(in_tensor, out_tensor):\n",
        "  print(\" input batches shapes:\")\n",
        "\n",
        "  for i in range(len(in_tensor)):\n",
        "    print(\" \" + str(in_tensor[i].shape))\n",
        "\n",
        "  print(\" ------------\")\n",
        "  print(\" output batches shapes:\")\n",
        "\n",
        "  for i in range(len(out_tensor)):\n",
        "    print(\" \" + str(out_tensor[i].shape))\n",
        "\n",
        "print(\"train tensors:\")\n",
        "print_batches_shapes(input_train_tensor, output_train_tensor)\n",
        "print()\n",
        "print(\"test tensors:\")\n",
        "print_batches_shapes(input_test_tensor, output_test_tensor)"
      ],
      "metadata": {
        "id": "4MIZ642XBOjo",
        "outputId": "0631dbff-0696-4286-df83-e1a5dbe795f9",
        "colab": {
          "base_uri": "https://localhost:8080/"
        }
      },
      "execution_count": 16,
      "outputs": [
        {
          "output_type": "stream",
          "name": "stdout",
          "text": [
            "15\n",
            "15\n",
            "train tensors:\n",
            " input batches shapes:\n",
            " (60, 3)\n",
            " (60, 3)\n",
            " (60, 3)\n",
            " (60, 3)\n",
            " (60, 3)\n",
            " (60, 3)\n",
            " (60, 3)\n",
            " (60, 3)\n",
            " (60, 3)\n",
            " (60, 3)\n",
            " (60, 3)\n",
            " (60, 3)\n",
            " (60, 3)\n",
            " (60, 3)\n",
            " (48, 3)\n",
            " ------------\n",
            " output batches shapes:\n",
            " (60, 2)\n",
            " (60, 2)\n",
            " (60, 2)\n",
            " (60, 2)\n",
            " (60, 2)\n",
            " (60, 2)\n",
            " (60, 2)\n",
            " (60, 2)\n",
            " (60, 2)\n",
            " (60, 2)\n",
            " (60, 2)\n",
            " (60, 2)\n",
            " (60, 2)\n",
            " (60, 2)\n",
            " (48, 2)\n",
            "\n",
            "test tensors:\n",
            " input batches shapes:\n",
            " (60, 3)\n",
            " (60, 3)\n",
            " (60, 3)\n",
            " (60, 3)\n",
            " (60, 3)\n",
            " (60, 3)\n",
            " (21, 3)\n",
            " ------------\n",
            " output batches shapes:\n",
            " (60, 2)\n",
            " (60, 2)\n",
            " (60, 2)\n",
            " (60, 2)\n",
            " (60, 2)\n",
            " (60, 2)\n",
            " (21, 2)\n"
          ]
        }
      ]
    },
    {
      "cell_type": "markdown",
      "source": [
        "## Train model"
      ],
      "metadata": {
        "id": "bKe2ipqYMND5"
      }
    },
    {
      "cell_type": "code",
      "source": [
        "epoch_count = 70\n",
        "batch_count = len(input_train_tensor)\n",
        "\n",
        "input_shape = (1, timesteps, input_size)\n",
        "output_shape = (1, timesteps, output_size)\n",
        "\n",
        "input_shape_remaining = (1, input_train_remaining.shape[0], input_train_remaining.shape[1])\n",
        "output_shape_remaining = (1, output_train_remaining.shape[0], output_train_remaining.shape[1])\n",
        "\n",
        "#print(\"remainig shapes: \" + str(input_shape_remaining) + \", \" + str(output_shape_remaining))\n",
        "\n",
        "for epoch in range(epoch_count):\n",
        "  for batch_idx in range(batch_count):\n",
        "    in_shape = input_shape\n",
        "    out_shape = output_shape\n",
        "\n",
        "    if batch_idx == batch_count - 1:\n",
        "      in_shape = input_shape_remaining \n",
        "      out_shape = output_shape_remaining\n",
        "\n",
        "    input_batch = input_train_tensor[batch_idx].reshape(in_shape)\n",
        "    output_batch = output_train_tensor[batch_idx].reshape(out_shape)\n",
        "\n",
        "    loss = model.train_on_batch(input_batch, output_batch, reset_metrics=False, return_dict=True)\n",
        "  print(\"epoch-\" + str(epoch) + \";\" + str(loss))"
      ],
      "metadata": {
        "colab": {
          "base_uri": "https://localhost:8080/"
        },
        "id": "vn6gNqOynOz0",
        "outputId": "8fa365de-d279-41c6-cddf-dd1fd779b75f"
      },
      "execution_count": 17,
      "outputs": [
        {
          "output_type": "stream",
          "name": "stdout",
          "text": [
            "epoch-0;{'loss': 0.17980502545833588, 'mean_squared_error': 0.17980502545833588}\n",
            "epoch-1;{'loss': 0.1177729070186615, 'mean_squared_error': 0.1177729070186615}\n",
            "epoch-2;{'loss': 0.09080991894006729, 'mean_squared_error': 0.09080991894006729}\n",
            "epoch-3;{'loss': 0.07562922686338425, 'mean_squared_error': 0.07562922686338425}\n",
            "epoch-4;{'loss': 0.06518927216529846, 'mean_squared_error': 0.06518927216529846}\n",
            "epoch-5;{'loss': 0.05787305906414986, 'mean_squared_error': 0.05787305906414986}\n",
            "epoch-6;{'loss': 0.05247960612177849, 'mean_squared_error': 0.05247960612177849}\n",
            "epoch-7;{'loss': 0.04831886291503906, 'mean_squared_error': 0.04831886291503906}\n",
            "epoch-8;{'loss': 0.044980209320783615, 'mean_squared_error': 0.044980209320783615}\n",
            "epoch-9;{'loss': 0.042215943336486816, 'mean_squared_error': 0.042215943336486816}\n",
            "epoch-10;{'loss': 0.039886005222797394, 'mean_squared_error': 0.039886005222797394}\n",
            "epoch-11;{'loss': 0.037899646908044815, 'mean_squared_error': 0.037899646908044815}\n",
            "epoch-12;{'loss': 0.03619380295276642, 'mean_squared_error': 0.03619380295276642}\n",
            "epoch-13;{'loss': 0.03471119701862335, 'mean_squared_error': 0.03471119701862335}\n",
            "epoch-14;{'loss': 0.03340473026037216, 'mean_squared_error': 0.03340473026037216}\n",
            "epoch-15;{'loss': 0.032239947468042374, 'mean_squared_error': 0.032239947468042374}\n",
            "epoch-16;{'loss': 0.03119324892759323, 'mean_squared_error': 0.03119324892759323}\n",
            "epoch-17;{'loss': 0.030248621478676796, 'mean_squared_error': 0.030248621478676796}\n",
            "epoch-18;{'loss': 0.02939538098871708, 'mean_squared_error': 0.02939538098871708}\n",
            "epoch-19;{'loss': 0.02863174118101597, 'mean_squared_error': 0.02863174118101597}\n",
            "epoch-20;{'loss': 0.027984753251075745, 'mean_squared_error': 0.027984753251075745}\n",
            "epoch-21;{'loss': 0.027493109926581383, 'mean_squared_error': 0.027493109926581383}\n",
            "epoch-22;{'loss': 0.026937130838632584, 'mean_squared_error': 0.026937130838632584}\n",
            "epoch-23;{'loss': 0.02635825425386429, 'mean_squared_error': 0.02635825425386429}\n",
            "epoch-24;{'loss': 0.025793874636292458, 'mean_squared_error': 0.025793874636292458}\n",
            "epoch-25;{'loss': 0.02524581365287304, 'mean_squared_error': 0.02524581365287304}\n",
            "epoch-26;{'loss': 0.02475021593272686, 'mean_squared_error': 0.02475021593272686}\n",
            "epoch-27;{'loss': 0.024301571771502495, 'mean_squared_error': 0.024301571771502495}\n",
            "epoch-28;{'loss': 0.023901458829641342, 'mean_squared_error': 0.023901458829641342}\n",
            "epoch-29;{'loss': 0.023521266877651215, 'mean_squared_error': 0.023521266877651215}\n",
            "epoch-30;{'loss': 0.023148220032453537, 'mean_squared_error': 0.023148220032453537}\n",
            "epoch-31;{'loss': 0.02277284674346447, 'mean_squared_error': 0.02277284674346447}\n",
            "epoch-32;{'loss': 0.022383689880371094, 'mean_squared_error': 0.022383689880371094}\n",
            "epoch-33;{'loss': 0.022006209939718246, 'mean_squared_error': 0.022006209939718246}\n",
            "epoch-34;{'loss': 0.021635759621858597, 'mean_squared_error': 0.021635759621858597}\n",
            "epoch-35;{'loss': 0.021274486556649208, 'mean_squared_error': 0.021274486556649208}\n",
            "epoch-36;{'loss': 0.02091817930340767, 'mean_squared_error': 0.02091817930340767}\n",
            "epoch-37;{'loss': 0.020574478432536125, 'mean_squared_error': 0.020574478432536125}\n",
            "epoch-38;{'loss': 0.020250093191862106, 'mean_squared_error': 0.020250093191862106}\n",
            "epoch-39;{'loss': 0.019949331879615784, 'mean_squared_error': 0.019949331879615784}\n",
            "epoch-40;{'loss': 0.0196760892868042, 'mean_squared_error': 0.0196760892868042}\n",
            "epoch-41;{'loss': 0.019431570544838905, 'mean_squared_error': 0.019431570544838905}\n",
            "epoch-42;{'loss': 0.019197629764676094, 'mean_squared_error': 0.019197629764676094}\n",
            "epoch-43;{'loss': 0.018965965136885643, 'mean_squared_error': 0.018965965136885643}\n",
            "epoch-44;{'loss': 0.018744967877864838, 'mean_squared_error': 0.018744967877864838}\n",
            "epoch-45;{'loss': 0.018543021753430367, 'mean_squared_error': 0.018543021753430367}\n",
            "epoch-46;{'loss': 0.01831054501235485, 'mean_squared_error': 0.01831054501235485}\n",
            "epoch-47;{'loss': 0.01806744746863842, 'mean_squared_error': 0.01806744746863842}\n",
            "epoch-48;{'loss': 0.01782923936843872, 'mean_squared_error': 0.01782923936843872}\n",
            "epoch-49;{'loss': 0.017599336802959442, 'mean_squared_error': 0.017599336802959442}\n",
            "epoch-50;{'loss': 0.017381900921463966, 'mean_squared_error': 0.017381900921463966}\n",
            "epoch-51;{'loss': 0.017170071601867676, 'mean_squared_error': 0.017170071601867676}\n",
            "epoch-52;{'loss': 0.016969967633485794, 'mean_squared_error': 0.016969967633485794}\n",
            "epoch-53;{'loss': 0.016766544431447983, 'mean_squared_error': 0.016766544431447983}\n",
            "epoch-54;{'loss': 0.016572000458836555, 'mean_squared_error': 0.016572000458836555}\n",
            "epoch-55;{'loss': 0.016387345269322395, 'mean_squared_error': 0.016387345269322395}\n",
            "epoch-56;{'loss': 0.01620444655418396, 'mean_squared_error': 0.01620444655418396}\n",
            "epoch-57;{'loss': 0.01603914424777031, 'mean_squared_error': 0.01603914424777031}\n",
            "epoch-58;{'loss': 0.01587258093059063, 'mean_squared_error': 0.01587258093059063}\n",
            "epoch-59;{'loss': 0.015725648030638695, 'mean_squared_error': 0.015725648030638695}\n",
            "epoch-60;{'loss': 0.015571210533380508, 'mean_squared_error': 0.015571210533380508}\n",
            "epoch-61;{'loss': 0.015416053123772144, 'mean_squared_error': 0.015416053123772144}\n",
            "epoch-62;{'loss': 0.015267403796315193, 'mean_squared_error': 0.015267403796315193}\n",
            "epoch-63;{'loss': 0.015126470476388931, 'mean_squared_error': 0.015126470476388931}\n",
            "epoch-64;{'loss': 0.014984806068241596, 'mean_squared_error': 0.014984806068241596}\n",
            "epoch-65;{'loss': 0.014852100051939487, 'mean_squared_error': 0.014852100051939487}\n",
            "epoch-66;{'loss': 0.014736035838723183, 'mean_squared_error': 0.014736035838723183}\n",
            "epoch-67;{'loss': 0.01463349536061287, 'mean_squared_error': 0.01463349536061287}\n",
            "epoch-68;{'loss': 0.014547855593264103, 'mean_squared_error': 0.014547855593264103}\n",
            "epoch-69;{'loss': 0.014472361654043198, 'mean_squared_error': 0.014472361654043198}\n"
          ]
        }
      ]
    },
    {
      "cell_type": "markdown",
      "source": [
        "## Test model"
      ],
      "metadata": {
        "id": "4RqeQQ6bMQtX"
      }
    },
    {
      "cell_type": "code",
      "source": [
        "# test on batches\n",
        "batch_count = len(input_test_tensor)\n",
        "\n",
        "input_shape = (1, timesteps, input_size)\n",
        "output_shape = (1, timesteps, output_size)\n",
        "\n",
        "input_shape_remaining = (1, input_test_remaining.shape[0], input_test_remaining.shape[1])\n",
        "output_shape_remaining = (1, output_test_remaining.shape[0], output_test_remaining.shape[1])\n",
        "\n",
        "loss = 0\n",
        "\n",
        "for batch_idx in range(batch_count):\n",
        "  in_shape = input_shape\n",
        "  out_shape = output_shape\n",
        "\n",
        "  if batch_idx == batch_count - 1:\n",
        "    in_shape = input_shape_remaining \n",
        "    out_shape = output_shape_remaining\n",
        "\n",
        "  input_batch = input_test_tensor[batch_idx].reshape(in_shape)\n",
        "  output_batch = output_test_tensor[batch_idx].reshape(out_shape)\n",
        "\n",
        "  loss = model.test_on_batch(input_batch, output_batch, return_dict=True, reset_metrics=False)\n",
        "\n",
        "print(\"test loss=\" + str(loss))"
      ],
      "metadata": {
        "id": "J_gjcanOi58-",
        "outputId": "496d49ad-e5a1-43ce-8159-2ba0ea753b8f",
        "colab": {
          "base_uri": "https://localhost:8080/"
        }
      },
      "execution_count": 19,
      "outputs": [
        {
          "output_type": "stream",
          "name": "stdout",
          "text": [
            "test loss={'loss': 0.014609351754188538, 'mean_squared_error': 0.014609351754188538}\n"
          ]
        }
      ]
    }
  ]
}