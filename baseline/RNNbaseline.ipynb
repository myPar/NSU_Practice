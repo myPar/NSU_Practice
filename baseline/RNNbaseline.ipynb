{
  "nbformat": 4,
  "nbformat_minor": 0,
  "metadata": {
    "colab": {
      "name": "Untitled10.ipynb",
      "provenance": [],
      "authorship_tag": "ABX9TyN8g7+uICGmUP0xtB+g5LLs",
      "include_colab_link": true
    },
    "kernelspec": {
      "name": "python3",
      "display_name": "Python 3"
    },
    "language_info": {
      "name": "python"
    }
  },
  "cells": [
    {
      "cell_type": "markdown",
      "metadata": {
        "id": "view-in-github",
        "colab_type": "text"
      },
      "source": [
        "<a href=\"https://colab.research.google.com/github/myPar/NSU_Practice/blob/dev/baseline/RNNbaseline.ipynb\" target=\"_parent\"><img src=\"https://colab.research.google.com/assets/colab-badge.svg\" alt=\"Open In Colab\"/></a>"
      ]
    },
    {
      "cell_type": "markdown",
      "source": [
        "### Prepare"
      ],
      "metadata": {
        "id": "ARvrhtmL1zy-"
      }
    },
    {
      "cell_type": "code",
      "execution_count": 47,
      "metadata": {
        "colab": {
          "base_uri": "https://localhost:8080/"
        },
        "id": "EdtkuXHH8TRl",
        "outputId": "8449183d-3c2e-45bf-e036-eb9c4eae6fbf"
      },
      "outputs": [
        {
          "output_type": "stream",
          "name": "stdout",
          "text": [
            "Drive already mounted at /content/drive; to attempt to forcibly remount, call drive.mount(\"/content/drive\", force_remount=True).\n"
          ]
        }
      ],
      "source": [
        "import pandas as pd\n",
        "import numpy as np\n",
        "from google.colab import drive\n",
        "from pathlib import Path\n",
        "\n",
        "import tensorflow as tf\n",
        "from tensorflow.keras.layers import SimpleRNN, Input\n",
        "from tensorflow.keras.optimizers import Adam\n",
        "from sklearn.model_selection import train_test_split\n",
        "\n",
        "drive.mount('/content/drive')"
      ]
    },
    {
      "cell_type": "code",
      "source": [
        "file_path = Path('/content/drive/MyDrive/Colab Notebooks/data.txt')\n",
        "df = pd.read_csv(filepath_or_buffer=file_path, sep=' ', header=0)\n",
        "\n",
        "df.head"
      ],
      "metadata": {
        "colab": {
          "base_uri": "https://localhost:8080/"
        },
        "id": "eAbmzKNy9LNF",
        "outputId": "7a3c2055-b3a9-45d8-d564-6949be28b329"
      },
      "execution_count": 48,
      "outputs": [
        {
          "output_type": "execute_result",
          "data": {
            "text/plain": [
              "<bound method NDFrame.head of              Date      Time  qo_lc[m3/d]  qw_lc[m3/d]  qg_lc[m3/d]  \\\n",
              "0     07-May-2014  10:13:26      109.280    -0.312890       3810.3   \n",
              "1     07-May-2014  10:14:26      113.460    -0.437350       3774.0   \n",
              "2     07-May-2014  10:15:26      131.630    -0.533550       3892.5   \n",
              "3     07-May-2014  10:16:26      140.670     0.160910       4043.1   \n",
              "4     07-May-2014  10:17:26      150.020    -1.145600       4134.6   \n",
              "...           ...       ...          ...          ...          ...   \n",
              "1264  08-May-2014  07:34:35       98.744     0.310070       3174.5   \n",
              "1265  08-May-2014  07:35:35       72.045     0.162760       3134.1   \n",
              "1266  08-May-2014  07:36:35       87.370    -0.125770       3340.4   \n",
              "1267  08-May-2014  07:37:35       32.121     0.021522       2834.1   \n",
              "1268  08-May-2014  07:38:35       35.914     0.228020       2612.4   \n",
              "\n",
              "      qo_sc[Sm3/d]  qw_sc[Sm3/d]  qg_sc[Sm3/d]  qo_scnp[Sm3/d]  \\\n",
              "0          108.430     -0.314870       92700.0         108.430   \n",
              "1          112.580     -0.440110       91895.0         112.580   \n",
              "2          130.550     -0.536910       95860.0         130.550   \n",
              "3          139.440      0.161910      100690.0         139.440   \n",
              "4          148.640     -1.152700      104290.0         148.640   \n",
              "...            ...           ...           ...             ...   \n",
              "1264        97.703      0.312100       87402.0          97.703   \n",
              "1265        71.288      0.163830       85594.0          71.288   \n",
              "1266        86.386     -0.126600       93660.0          86.386   \n",
              "1267        31.789      0.021666       76564.0          31.789   \n",
              "1268        35.567      0.229520       69609.0          35.567   \n",
              "\n",
              "      qw_scnp[Sm3/d]  ...  TAMB[DegC]  Dyn_DP[mbar]  OperatingPointLE[1/m]  \\\n",
              "0          -0.314870  ...     18.1050       1449.10                 1.5512   \n",
              "1          -0.440110  ...     18.1430       1462.90                 1.5186   \n",
              "2          -0.536910  ...     18.1660       1569.80                 1.6145   \n",
              "3           0.161910  ...     18.2030       1693.80                 1.7645   \n",
              "4          -1.152700  ...     18.2460       1811.00                 1.7374   \n",
              "...              ...  ...         ...           ...                    ...   \n",
              "1264        0.312100  ...      5.1613       1147.80                 1.6079   \n",
              "1265        0.163830  ...      5.1521       1084.70                 1.5256   \n",
              "1266       -0.126600  ...      5.1457       1278.80                 1.4436   \n",
              "1267        0.021666  ...      5.1328        995.28                 1.2353   \n",
              "1268        0.229520  ...         NaN           NaN                    NaN   \n",
              "\n",
              "      OperatingPointHE[1/m]  OilPointLE[1/m]  OilPointHE[1/m]  \\\n",
              "0                   1.00060           23.568           14.781   \n",
              "1                   0.98577           23.570           14.782   \n",
              "2                   1.04660           23.568           14.781   \n",
              "3                   1.11880           23.562           14.777   \n",
              "4                   1.14540           23.553           14.771   \n",
              "...                     ...              ...              ...   \n",
              "1264                1.01450           23.557           14.774   \n",
              "1265                0.96923           23.551           14.770   \n",
              "1266                0.92956           23.547           14.768   \n",
              "1267                0.79475           23.545           14.766   \n",
              "1268                    NaN              NaN              NaN   \n",
              "\n",
              "      WaterPointLE[1/m]  WaterPointHE[1/m]  GasPointLE[1/m]  GasPointHE[1/m]  \n",
              "0                171.01             25.097          0.49280          0.32761  \n",
              "1                171.01             25.097          0.49042          0.32603  \n",
              "2                171.01             25.097          0.49134          0.32665  \n",
              "3                171.00             25.096          0.49673          0.33023  \n",
              "4                170.99             25.094          0.50210          0.33380  \n",
              "...                 ...                ...              ...              ...  \n",
              "1264             171.06             25.104          0.55020          0.36578  \n",
              "1265             171.05             25.103          0.55287          0.36755  \n",
              "1266             171.05             25.103          0.55678          0.37015  \n",
              "1267             171.05             25.102          0.55991          0.37223  \n",
              "1268                NaN                NaN              NaN              NaN  \n",
              "\n",
              "[1269 rows x 60 columns]>"
            ]
          },
          "metadata": {},
          "execution_count": 48
        }
      ]
    },
    {
      "cell_type": "code",
      "source": [
        "print(df.columns)"
      ],
      "metadata": {
        "colab": {
          "base_uri": "https://localhost:8080/"
        },
        "id": "tQqscV-gB9t9",
        "outputId": "3a1fbabf-3f3d-435a-f257-21c80694a582"
      },
      "execution_count": 49,
      "outputs": [
        {
          "output_type": "stream",
          "name": "stdout",
          "text": [
            "Index(['Date', 'Time', 'qo_lc[m3/d]', 'qw_lc[m3/d]', 'qg_lc[m3/d]',\n",
            "       'qo_sc[Sm3/d]', 'qw_sc[Sm3/d]', 'qg_sc[Sm3/d]', 'qo_scnp[Sm3/d]',\n",
            "       'qw_scnp[Sm3/d]', 'qg_scnp[Sm3/d]', 'Fo_lc[%]', 'Fw_lc[%]', 'Fg_lc[%]',\n",
            "       'WLR[%]', 'GVF[%]', 'GLR[m3/m3]', 'BSW[%]', 'GOR[Sm3/Sm3]',\n",
            "       'GOR1[Sm3/Sm3]', 'mo_lc[kg/d]', 'mw_lc[kg/d]', 'mg_lc[kg/d]',\n",
            "       'm_lc[kg/d]', 'mo_sc[kg/d]', 'mw_sc[kg/d]', 'mg_sc[kg/d]',\n",
            "       'Mu_o_lc[cP]', 'Mu_l_lc[cP]', 'Do_lc[g/cm3]', 'Dw_lc[g/cm3]',\n",
            "       'Dg_lc[g/cm3]', 'Dm_lc[g/cm3]', 'Dl_lc[g/cm3]', 'bo[Sm3/m3]',\n",
            "       'bw[Sm3/m3]', 'bg[Sm3/m3]', 'Z', 'Rst[Sm3/Sm3]', 'Rwst[Sm3/Sm3]',\n",
            "       'rgmp[Sm3/Sm3]', 'N32[cps]', 'N81[cps]', 'N356[cps]', 'NTotal[cps]',\n",
            "       'DeadTime[s]', 'SampleTime[s]', 'DPV[mbar]', 'PL[bara]', 'TL[DegC]',\n",
            "       'TAMB[DegC]', 'Dyn_DP[mbar]', 'OperatingPointLE[1/m]',\n",
            "       'OperatingPointHE[1/m]', 'OilPointLE[1/m]', 'OilPointHE[1/m]',\n",
            "       'WaterPointLE[1/m]', 'WaterPointHE[1/m]', 'GasPointLE[1/m]',\n",
            "       'GasPointHE[1/m]'],\n",
            "      dtype='object')\n"
          ]
        }
      ]
    },
    {
      "cell_type": "code",
      "source": [
        "selected_rows = ['DPV[mbar]', 'PL[bara]', 'qg_sc[Sm3/d]', 'qo_sc[Sm3/d]', 'TL[DegC]']\n",
        "outputs = ['qg_sc[Sm3/d]', 'qo_sc[Sm3/d]']\n",
        "inputs = np.setdiff1d(selected_rows, outputs)\n",
        "\n",
        "df = df[selected_rows]\n",
        "\n",
        "print(df.head)\n",
        "print(\"inputs: \" + str(inputs))\n",
        "print(\"outputs: \" + str(outputs))"
      ],
      "metadata": {
        "colab": {
          "base_uri": "https://localhost:8080/"
        },
        "id": "5Kz4KyJeCwKG",
        "outputId": "894756f2-af5e-42bc-9665-7f70653f559f"
      },
      "execution_count": 50,
      "outputs": [
        {
          "output_type": "stream",
          "name": "stdout",
          "text": [
            "<bound method NDFrame.head of       DPV[mbar]  PL[bara]  qg_sc[Sm3/d]  qo_sc[Sm3/d]  TL[DegC]\n",
            "0       1448.70    21.481       92700.0       108.430   -2.5452\n",
            "1       1462.10    21.473       91895.0       112.580   -2.5323\n",
            "2       1592.30    21.672       95860.0       130.550   -2.3931\n",
            "3       1703.30    21.926      100690.0       139.440   -2.0451\n",
            "4       1821.70    22.196      104290.0       148.640   -1.8009\n",
            "...         ...       ...           ...           ...       ...\n",
            "1264    1147.10    23.997       87402.0        97.703   -3.3542\n",
            "1265    1090.50    23.919       85594.0        71.288   -3.2890\n",
            "1266    1279.10    24.477       93660.0        86.386   -3.2191\n",
            "1267     976.62    23.808       76564.0        31.789   -3.2819\n",
            "1268        NaN       NaN       69609.0        35.567       NaN\n",
            "\n",
            "[1269 rows x 5 columns]>\n",
            "inputs: ['DPV[mbar]' 'PL[bara]' 'TL[DegC]']\n",
            "outputs: ['qg_sc[Sm3/d]', 'qo_sc[Sm3/d]']\n"
          ]
        }
      ]
    },
    {
      "cell_type": "code",
      "source": [
        "# check categorical attributes\n",
        "cardinality_hold = 0.15\n",
        "expected_col_size = 1269\n",
        "\n",
        "categorical_attributes = []\n",
        "\n",
        "def check_attributes_info():\n",
        "  for column in df.columns:\n",
        "    col_data = df[column].to_numpy()\n",
        "    size = len(col_data)\n",
        "    \n",
        "    assert size == expected_col_size\n",
        "    cleared_data = col_data[~np.isnan(col_data)]\n",
        "    \n",
        "    card = len(np.unique(cleared_data))  # cardinality without Nan items\n",
        "    skip_count = size - len(cleared_data)\n",
        "\n",
        "    print(column + \": card=\" + str(card) + \"; skip: percent=\" + str(skip_count * 100 / size) + \", count=\" + str(skip_count))\n",
        "    \n",
        "    if card / size < cardinality_hold:\n",
        "      categorical_attributes.append(card)\n",
        "\n",
        "check_attributes_info()\n",
        "\n",
        "if len(categorical_attributes) == 0:\n",
        "  print(\"no categorical attributes\")\n",
        "else:\n",
        "  print(categorical_attributes)"
      ],
      "metadata": {
        "colab": {
          "base_uri": "https://localhost:8080/"
        },
        "id": "lDU5w3CP1fux",
        "outputId": "54a73053-6e01-4850-85ce-a1a6c45a409a"
      },
      "execution_count": 51,
      "outputs": [
        {
          "output_type": "stream",
          "name": "stdout",
          "text": [
            "DPV[mbar]: card=1163; skip: percent=0.07880220646178093, count=1\n",
            "PL[bara]: card=1042; skip: percent=0.07880220646178093, count=1\n",
            "qg_sc[Sm3/d]: card=1250; skip: percent=0.0, count=0\n",
            "qo_sc[Sm3/d]: card=1246; skip: percent=0.0, count=0\n",
            "TL[DegC]: card=1214; skip: percent=0.07880220646178093, count=1\n",
            "no categorical attributes\n"
          ]
        }
      ]
    },
    {
      "cell_type": "code",
      "source": [
        "# supplement data\n",
        "for column in df.columns:\n",
        "  data =  np.array(df[column].to_numpy(), dtype=np.float64)\n",
        "\n",
        "  for i in range(len(data)):\n",
        "    if str(data[i]) == 'nan':\n",
        "      data[i] = np.mean(data[~np.isnan(data)])\n",
        "  df.drop([column], axis=1, inplace=True)\n",
        "  df.insert(0, column, data)\n"
      ],
      "metadata": {
        "id": "iplk6j6l6WcC",
        "colab": {
          "base_uri": "https://localhost:8080/"
        },
        "outputId": "dcd2dd7c-434f-48f1-cbc7-87681bc9796c"
      },
      "execution_count": 52,
      "outputs": [
        {
          "output_type": "stream",
          "name": "stderr",
          "text": [
            "/usr/local/lib/python3.7/dist-packages/pandas/core/frame.py:4913: SettingWithCopyWarning: \n",
            "A value is trying to be set on a copy of a slice from a DataFrame\n",
            "\n",
            "See the caveats in the documentation: https://pandas.pydata.org/pandas-docs/stable/user_guide/indexing.html#returning-a-view-versus-a-copy\n",
            "  errors=errors,\n"
          ]
        }
      ]
    },
    {
      "cell_type": "code",
      "source": [
        "check_attributes_info()"
      ],
      "metadata": {
        "colab": {
          "base_uri": "https://localhost:8080/"
        },
        "id": "criJtZiD_HY5",
        "outputId": "760e931d-73f3-4b8e-a7a6-f9dd58041d7c"
      },
      "execution_count": 53,
      "outputs": [
        {
          "output_type": "stream",
          "name": "stdout",
          "text": [
            "TL[DegC]: card=1215; skip: percent=0.0, count=0\n",
            "qo_sc[Sm3/d]: card=1246; skip: percent=0.0, count=0\n",
            "qg_sc[Sm3/d]: card=1250; skip: percent=0.0, count=0\n",
            "PL[bara]: card=1043; skip: percent=0.0, count=0\n",
            "DPV[mbar]: card=1164; skip: percent=0.0, count=0\n"
          ]
        }
      ]
    },
    {
      "cell_type": "markdown",
      "source": [
        "## Create model"
      ],
      "metadata": {
        "id": "ZzSi2jOlBmeR"
      }
    },
    {
      "cell_type": "code",
      "source": [
        "# model parameters\n",
        "batch_size = 60\n",
        "timesteps = 60\n",
        "epoch_count = 10\n",
        "input_size = len(inputs)\n",
        "output_size = len(outputs)\n",
        "lr = 0.001\n",
        "\n",
        "mse = tf.keras.losses.MeanSquaredError()\n",
        "\n",
        "model = tf.keras.Sequential()\n",
        "model.add(Input((timesteps, input_size)))\n",
        "model.add(SimpleRNN(units=120, activation='tanh', return_sequences=True))\n",
        "model.add(SimpleRNN(units=120, activation='tanh', return_sequences=True))\n",
        "model.add(SimpleRNN(units=2, activation='tanh', return_sequences=True))\n",
        "model.summary()"
      ],
      "metadata": {
        "id": "YV_QnOokBoaT",
        "colab": {
          "base_uri": "https://localhost:8080/"
        },
        "outputId": "0eaa08ef-d41e-405f-a87a-2f268d586c3e"
      },
      "execution_count": 54,
      "outputs": [
        {
          "output_type": "stream",
          "name": "stdout",
          "text": [
            "Model: \"sequential_3\"\n",
            "_________________________________________________________________\n",
            " Layer (type)                Output Shape              Param #   \n",
            "=================================================================\n",
            " simple_rnn_9 (SimpleRNN)    (None, 60, 120)           14880     \n",
            "                                                                 \n",
            " simple_rnn_10 (SimpleRNN)   (None, 60, 120)           28920     \n",
            "                                                                 \n",
            " simple_rnn_11 (SimpleRNN)   (None, 60, 2)             246       \n",
            "                                                                 \n",
            "=================================================================\n",
            "Total params: 44,046\n",
            "Trainable params: 44,046\n",
            "Non-trainable params: 0\n",
            "_________________________________________________________________\n"
          ]
        }
      ]
    },
    {
      "cell_type": "code",
      "source": [
        "model.compile(loss=mse, metrics=[mse], optimizer=Adam(learning_rate=lr))"
      ],
      "metadata": {
        "id": "h2at_PF2I9SP"
      },
      "execution_count": 55,
      "outputs": []
    },
    {
      "cell_type": "markdown",
      "source": [
        "## Prepare data"
      ],
      "metadata": {
        "id": "1VpvJo7LY4CR"
      }
    },
    {
      "cell_type": "code",
      "source": [
        "train_df, test_df = train_test_split(df, test_size=0.3)\n",
        "print(train_df.head)\n",
        "print(test_df.head)\n",
        "\n",
        "train_input_data = train_df[inputs].to_numpy()\n",
        "train_output_data = train_df[outputs].to_numpy()\n",
        "\n",
        "test_input_data = test_df[inputs].to_numpy()\n",
        "test_output_data = test_df[outputs].to_numpy()\n",
        "\n",
        "print(\"data shapes:\")\n",
        "print(train_input_data.shape)\n",
        "print(test_input_data.shape)\n",
        "\n",
        "print(train_output_data.shape)\n",
        "print(test_output_data.shape)"
      ],
      "metadata": {
        "colab": {
          "base_uri": "https://localhost:8080/"
        },
        "id": "s19mQS_oY6ZE",
        "outputId": "3f228daa-d8ce-4c23-dad6-7ad6311d3e1c"
      },
      "execution_count": 56,
      "outputs": [
        {
          "output_type": "stream",
          "name": "stdout",
          "text": [
            "<bound method NDFrame.head of       TL[DegC]  qo_sc[Sm3/d]  qg_sc[Sm3/d]  PL[bara]  DPV[mbar]\n",
            "872    -2.5145        46.941       84270.0    23.322    1107.80\n",
            "43     -2.8033        44.396       66384.0    21.526     862.08\n",
            "223    -2.1090       116.000      100630.0    22.648    1627.40\n",
            "567    -1.7101        69.954       88421.0    22.229    1265.00\n",
            "458    -1.5807        58.399       89170.0    21.893    1322.70\n",
            "...        ...           ...           ...       ...        ...\n",
            "576    -1.8591        37.708       72185.0    21.704    1007.30\n",
            "966    -2.9720        92.169       87495.0    23.748    1159.30\n",
            "932    -3.2142        62.301       79318.0    23.044    1030.30\n",
            "1142   -3.1323       106.980       91132.0    24.133    1246.90\n",
            "75     -3.3147       102.980       81192.0    22.302    1120.90\n",
            "\n",
            "[888 rows x 5 columns]>\n",
            "<bound method NDFrame.head of       TL[DegC]  qo_sc[Sm3/d]  qg_sc[Sm3/d]  PL[bara]  DPV[mbar]\n",
            "933    -3.1297        97.164       86102.0    23.337    1196.40\n",
            "880    -2.8438        45.951       75169.0    22.956     969.23\n",
            "580    -2.0937       109.860       90284.0    22.280    1366.90\n",
            "521    -1.5900        70.981       89193.0    22.216    1280.70\n",
            "312    -1.7611        72.541       86841.0    21.939    1242.80\n",
            "...        ...           ...           ...       ...        ...\n",
            "1005   -3.1073        98.914       88658.0    23.847    1189.70\n",
            "622    -1.8207        67.786       87996.0    22.409    1243.40\n",
            "935    -2.9413        85.318       89866.0    23.473    1242.60\n",
            "588    -1.9632       112.740       90565.0    22.353    1386.10\n",
            "322    -2.2769        63.833       73420.0    21.321     997.08\n",
            "\n",
            "[381 rows x 5 columns]>\n",
            "data shapes:\n",
            "(888, 3)\n",
            "(381, 3)\n",
            "(888, 2)\n",
            "(381, 2)\n"
          ]
        }
      ]
    },
    {
      "cell_type": "code",
      "source": [
        "# formatting the data\n",
        "def get_sequence(data):\n",
        "  return np.array([data[i*timesteps : i*timesteps + timesteps] for i in range(data.shape[0] // timesteps)])\n",
        "\n",
        "input_train_sequences = get_sequence(train_input_data)\n",
        "output_train_sequences = get_sequence(train_output_data)\n",
        "\n",
        "\"\"\"\n",
        "input_train_sequences = list(input_train_sequences)\n",
        "output_train_sequences = list(output_train_sequences)\n",
        "\"\"\"\n",
        "\n",
        "input_train_remaining = []\n",
        "output_train_remaining = []\n",
        "\n",
        "sequences_count = len(input_train_sequences)\n",
        "\n",
        "assert sequences_count == len(output_train_sequences)\n",
        "\n",
        "# add the remaining data:\n",
        "if sequences_count * timesteps < train_input_data.shape[0]:\n",
        "  input_train_remaining = np.array(train_input_data[sequences_count * timesteps:])\n",
        "\n",
        "if sequences_count * timesteps < train_output_data.shape[0]:\n",
        "  output_train_remaining = np.array(train_output_data[sequences_count * timesteps:])\n",
        "\n",
        "print(len(input_train_sequences))\n",
        "print(len(output_train_sequences))\n",
        "\n",
        "for i in range(len(input_train_sequences)):\n",
        "  print(str(i) + \": \" + str(input_train_sequences[i].shape))\n",
        "\n",
        "print(\"-----------\")\n",
        "\n",
        "for i in range(len(output_train_sequences)):\n",
        "  print(str(i) + \": \" + str(output_train_sequences[i].shape))\n",
        "\n",
        "print(\"remaining data: \")\n",
        "print(input_train_remaining.shape)\n",
        "print(output_train_remaining.shape)"
      ],
      "metadata": {
        "colab": {
          "base_uri": "https://localhost:8080/"
        },
        "id": "HbpDORPPY9mk",
        "outputId": "1c42b53b-42fe-4776-e696-aac85400e786"
      },
      "execution_count": 57,
      "outputs": [
        {
          "output_type": "stream",
          "name": "stdout",
          "text": [
            "14\n",
            "14\n",
            "0: (60, 3)\n",
            "1: (60, 3)\n",
            "2: (60, 3)\n",
            "3: (60, 3)\n",
            "4: (60, 3)\n",
            "5: (60, 3)\n",
            "6: (60, 3)\n",
            "7: (60, 3)\n",
            "8: (60, 3)\n",
            "9: (60, 3)\n",
            "10: (60, 3)\n",
            "11: (60, 3)\n",
            "12: (60, 3)\n",
            "13: (60, 3)\n",
            "-----------\n",
            "0: (60, 2)\n",
            "1: (60, 2)\n",
            "2: (60, 2)\n",
            "3: (60, 2)\n",
            "4: (60, 2)\n",
            "5: (60, 2)\n",
            "6: (60, 2)\n",
            "7: (60, 2)\n",
            "8: (60, 2)\n",
            "9: (60, 2)\n",
            "10: (60, 2)\n",
            "11: (60, 2)\n",
            "12: (60, 2)\n",
            "13: (60, 2)\n",
            "remaining data: \n",
            "(48, 3)\n",
            "(48, 2)\n"
          ]
        }
      ]
    },
    {
      "cell_type": "code",
      "source": [
        "batch_count = len(input_train_sequences)\n",
        "\n",
        "input_train_tensor = input_train_sequences.reshape((batch_count, timesteps, input_size))\n",
        "output_train_tensor = output_train_sequences.reshape((batch_count, timesteps, output_size))\n",
        "\"\"\"\n",
        "for i in range(epoch_count):\n",
        "  for batch_idx in range(len(input_train_sequences)):\n",
        "    input_train_sequence = input_train_sequences[batch_idx].reshape(1,timesteps, input_size)\n",
        "    output_train_sequnce = output_train_sequences[batch_idx].reshape(1, timesteps, output_size)\n",
        "    loss = model.train_on_batch(input_train_sequence, output_train_sequnce)\n",
        "\n",
        "    print(\"epoch: \" + str(i) + \"; batch: \" + str(batch_idx) + \"; loss - \" + str(loss))\n",
        "\"\"\"\n",
        "print(input_train_tensor.shape)\n",
        "print(output_train_tensor.shape)"
      ],
      "metadata": {
        "id": "4MIZ642XBOjo",
        "outputId": "bf288df8-01c2-4a77-cae4-09151c213f7c",
        "colab": {
          "base_uri": "https://localhost:8080/"
        }
      },
      "execution_count": 58,
      "outputs": [
        {
          "output_type": "stream",
          "name": "stdout",
          "text": [
            "(14, 60, 3)\n",
            "(14, 60, 2)\n"
          ]
        }
      ]
    },
    {
      "cell_type": "code",
      "source": [
        "model.fit(input_train_tensor, output_train_tensor, batch_size=1, epochs=epoch_count)"
      ],
      "metadata": {
        "id": "vn6gNqOynOz0",
        "outputId": "5467fb80-c431-4ba3-f882-4e2b4e6c4ffc",
        "colab": {
          "base_uri": "https://localhost:8080/"
        }
      },
      "execution_count": 61,
      "outputs": [
        {
          "output_type": "stream",
          "name": "stdout",
          "text": [
            "Epoch 1/10\n",
            "14/14 [==============================] - 0s 18ms/step - loss: 3554058496.0000 - mean_squared_error: 3554058496.0000\n",
            "Epoch 2/10\n",
            "14/14 [==============================] - 0s 18ms/step - loss: 3554058240.0000 - mean_squared_error: 3554058240.0000\n",
            "Epoch 3/10\n",
            "14/14 [==============================] - 0s 17ms/step - loss: 3554058496.0000 - mean_squared_error: 3554058496.0000\n",
            "Epoch 4/10\n",
            "14/14 [==============================] - 0s 18ms/step - loss: 3554058496.0000 - mean_squared_error: 3554058496.0000\n",
            "Epoch 5/10\n",
            "14/14 [==============================] - 0s 18ms/step - loss: 3554058752.0000 - mean_squared_error: 3554058752.0000\n",
            "Epoch 6/10\n",
            "14/14 [==============================] - 0s 18ms/step - loss: 3554058752.0000 - mean_squared_error: 3554058752.0000\n",
            "Epoch 7/10\n",
            "14/14 [==============================] - 0s 18ms/step - loss: 3554058240.0000 - mean_squared_error: 3554058240.0000\n",
            "Epoch 8/10\n",
            "14/14 [==============================] - 0s 18ms/step - loss: 3554058752.0000 - mean_squared_error: 3554058752.0000\n",
            "Epoch 9/10\n",
            "14/14 [==============================] - 0s 18ms/step - loss: 3554058752.0000 - mean_squared_error: 3554058752.0000\n",
            "Epoch 10/10\n",
            "14/14 [==============================] - 0s 18ms/step - loss: 3554058496.0000 - mean_squared_error: 3554058496.0000\n"
          ]
        },
        {
          "output_type": "execute_result",
          "data": {
            "text/plain": [
              "<keras.callbacks.History at 0x7f4768fdc650>"
            ]
          },
          "metadata": {},
          "execution_count": 61
        }
      ]
    },
    {
      "cell_type": "code",
      "source": [
        ""
      ],
      "metadata": {
        "id": "J_gjcanOi58-"
      },
      "execution_count": null,
      "outputs": []
    }
  ]
}