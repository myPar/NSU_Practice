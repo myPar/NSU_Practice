{
  "nbformat": 4,
  "nbformat_minor": 0,
  "metadata": {
    "colab": {
      "name": "Untitled10.ipynb",
      "provenance": [],
      "authorship_tag": "ABX9TyMXgYevwT9H2vosquRy5p5A",
      "include_colab_link": true
    },
    "kernelspec": {
      "name": "python3",
      "display_name": "Python 3"
    },
    "language_info": {
      "name": "python"
    }
  },
  "cells": [
    {
      "cell_type": "markdown",
      "metadata": {
        "id": "view-in-github",
        "colab_type": "text"
      },
      "source": [
        "<a href=\"https://colab.research.google.com/github/myPar/NSU_Practice/blob/dev/baseline/RNNbaseline.ipynb\" target=\"_parent\"><img src=\"https://colab.research.google.com/assets/colab-badge.svg\" alt=\"Open In Colab\"/></a>"
      ]
    },
    {
      "cell_type": "markdown",
      "source": [
        "### Prepare"
      ],
      "metadata": {
        "id": "ARvrhtmL1zy-"
      }
    },
    {
      "cell_type": "code",
      "execution_count": 68,
      "metadata": {
        "colab": {
          "base_uri": "https://localhost:8080/"
        },
        "id": "EdtkuXHH8TRl",
        "outputId": "8da7d692-00fd-4922-ec40-69e2056bc3e0"
      },
      "outputs": [
        {
          "output_type": "stream",
          "name": "stdout",
          "text": [
            "Drive already mounted at /content/drive; to attempt to forcibly remount, call drive.mount(\"/content/drive\", force_remount=True).\n"
          ]
        }
      ],
      "source": [
        "import pandas as pd\n",
        "import numpy as np\n",
        "from google.colab import drive\n",
        "from pathlib import Path\n",
        "\n",
        "import tensorflow as tf\n",
        "from tensorflow.keras.layers import SimpleRNN, Input\n",
        "from tensorflow.keras.optimizers import Adam\n",
        "from sklearn.model_selection import train_test_split\n",
        "\n",
        "import plotly.express as px\n",
        "import plotly.graph_objects as go\n",
        "\n",
        "drive.mount('/content/drive')"
      ]
    },
    {
      "cell_type": "code",
      "source": [
        "file_path = Path('/content/drive/MyDrive/Colab Notebooks/data.txt')\n",
        "df = pd.read_csv(filepath_or_buffer=file_path, sep=' ', header=0)\n",
        "\n",
        "df.head"
      ],
      "metadata": {
        "colab": {
          "base_uri": "https://localhost:8080/"
        },
        "id": "eAbmzKNy9LNF",
        "outputId": "ea6a4366-9707-440f-cb66-344783ef79dc"
      },
      "execution_count": 69,
      "outputs": [
        {
          "output_type": "execute_result",
          "data": {
            "text/plain": [
              "<bound method NDFrame.head of              Date      Time  qo_lc[m3/d]  qw_lc[m3/d]  qg_lc[m3/d]  \\\n",
              "0     07-May-2014  10:13:26      109.280    -0.312890       3810.3   \n",
              "1     07-May-2014  10:14:26      113.460    -0.437350       3774.0   \n",
              "2     07-May-2014  10:15:26      131.630    -0.533550       3892.5   \n",
              "3     07-May-2014  10:16:26      140.670     0.160910       4043.1   \n",
              "4     07-May-2014  10:17:26      150.020    -1.145600       4134.6   \n",
              "...           ...       ...          ...          ...          ...   \n",
              "1264  08-May-2014  07:34:35       98.744     0.310070       3174.5   \n",
              "1265  08-May-2014  07:35:35       72.045     0.162760       3134.1   \n",
              "1266  08-May-2014  07:36:35       87.370    -0.125770       3340.4   \n",
              "1267  08-May-2014  07:37:35       32.121     0.021522       2834.1   \n",
              "1268  08-May-2014  07:38:35       35.914     0.228020       2612.4   \n",
              "\n",
              "      qo_sc[Sm3/d]  qw_sc[Sm3/d]  qg_sc[Sm3/d]  qo_scnp[Sm3/d]  \\\n",
              "0          108.430     -0.314870       92700.0         108.430   \n",
              "1          112.580     -0.440110       91895.0         112.580   \n",
              "2          130.550     -0.536910       95860.0         130.550   \n",
              "3          139.440      0.161910      100690.0         139.440   \n",
              "4          148.640     -1.152700      104290.0         148.640   \n",
              "...            ...           ...           ...             ...   \n",
              "1264        97.703      0.312100       87402.0          97.703   \n",
              "1265        71.288      0.163830       85594.0          71.288   \n",
              "1266        86.386     -0.126600       93660.0          86.386   \n",
              "1267        31.789      0.021666       76564.0          31.789   \n",
              "1268        35.567      0.229520       69609.0          35.567   \n",
              "\n",
              "      qw_scnp[Sm3/d]  ...  TAMB[DegC]  Dyn_DP[mbar]  OperatingPointLE[1/m]  \\\n",
              "0          -0.314870  ...     18.1050       1449.10                 1.5512   \n",
              "1          -0.440110  ...     18.1430       1462.90                 1.5186   \n",
              "2          -0.536910  ...     18.1660       1569.80                 1.6145   \n",
              "3           0.161910  ...     18.2030       1693.80                 1.7645   \n",
              "4          -1.152700  ...     18.2460       1811.00                 1.7374   \n",
              "...              ...  ...         ...           ...                    ...   \n",
              "1264        0.312100  ...      5.1613       1147.80                 1.6079   \n",
              "1265        0.163830  ...      5.1521       1084.70                 1.5256   \n",
              "1266       -0.126600  ...      5.1457       1278.80                 1.4436   \n",
              "1267        0.021666  ...      5.1328        995.28                 1.2353   \n",
              "1268        0.229520  ...         NaN           NaN                    NaN   \n",
              "\n",
              "      OperatingPointHE[1/m]  OilPointLE[1/m]  OilPointHE[1/m]  \\\n",
              "0                   1.00060           23.568           14.781   \n",
              "1                   0.98577           23.570           14.782   \n",
              "2                   1.04660           23.568           14.781   \n",
              "3                   1.11880           23.562           14.777   \n",
              "4                   1.14540           23.553           14.771   \n",
              "...                     ...              ...              ...   \n",
              "1264                1.01450           23.557           14.774   \n",
              "1265                0.96923           23.551           14.770   \n",
              "1266                0.92956           23.547           14.768   \n",
              "1267                0.79475           23.545           14.766   \n",
              "1268                    NaN              NaN              NaN   \n",
              "\n",
              "      WaterPointLE[1/m]  WaterPointHE[1/m]  GasPointLE[1/m]  GasPointHE[1/m]  \n",
              "0                171.01             25.097          0.49280          0.32761  \n",
              "1                171.01             25.097          0.49042          0.32603  \n",
              "2                171.01             25.097          0.49134          0.32665  \n",
              "3                171.00             25.096          0.49673          0.33023  \n",
              "4                170.99             25.094          0.50210          0.33380  \n",
              "...                 ...                ...              ...              ...  \n",
              "1264             171.06             25.104          0.55020          0.36578  \n",
              "1265             171.05             25.103          0.55287          0.36755  \n",
              "1266             171.05             25.103          0.55678          0.37015  \n",
              "1267             171.05             25.102          0.55991          0.37223  \n",
              "1268                NaN                NaN              NaN              NaN  \n",
              "\n",
              "[1269 rows x 60 columns]>"
            ]
          },
          "metadata": {},
          "execution_count": 69
        }
      ]
    },
    {
      "cell_type": "code",
      "source": [
        "print(df.columns)"
      ],
      "metadata": {
        "colab": {
          "base_uri": "https://localhost:8080/"
        },
        "id": "tQqscV-gB9t9",
        "outputId": "cfec504c-ed55-42b7-d6dd-60db16943f23"
      },
      "execution_count": 70,
      "outputs": [
        {
          "output_type": "stream",
          "name": "stdout",
          "text": [
            "Index(['Date', 'Time', 'qo_lc[m3/d]', 'qw_lc[m3/d]', 'qg_lc[m3/d]',\n",
            "       'qo_sc[Sm3/d]', 'qw_sc[Sm3/d]', 'qg_sc[Sm3/d]', 'qo_scnp[Sm3/d]',\n",
            "       'qw_scnp[Sm3/d]', 'qg_scnp[Sm3/d]', 'Fo_lc[%]', 'Fw_lc[%]', 'Fg_lc[%]',\n",
            "       'WLR[%]', 'GVF[%]', 'GLR[m3/m3]', 'BSW[%]', 'GOR[Sm3/Sm3]',\n",
            "       'GOR1[Sm3/Sm3]', 'mo_lc[kg/d]', 'mw_lc[kg/d]', 'mg_lc[kg/d]',\n",
            "       'm_lc[kg/d]', 'mo_sc[kg/d]', 'mw_sc[kg/d]', 'mg_sc[kg/d]',\n",
            "       'Mu_o_lc[cP]', 'Mu_l_lc[cP]', 'Do_lc[g/cm3]', 'Dw_lc[g/cm3]',\n",
            "       'Dg_lc[g/cm3]', 'Dm_lc[g/cm3]', 'Dl_lc[g/cm3]', 'bo[Sm3/m3]',\n",
            "       'bw[Sm3/m3]', 'bg[Sm3/m3]', 'Z', 'Rst[Sm3/Sm3]', 'Rwst[Sm3/Sm3]',\n",
            "       'rgmp[Sm3/Sm3]', 'N32[cps]', 'N81[cps]', 'N356[cps]', 'NTotal[cps]',\n",
            "       'DeadTime[s]', 'SampleTime[s]', 'DPV[mbar]', 'PL[bara]', 'TL[DegC]',\n",
            "       'TAMB[DegC]', 'Dyn_DP[mbar]', 'OperatingPointLE[1/m]',\n",
            "       'OperatingPointHE[1/m]', 'OilPointLE[1/m]', 'OilPointHE[1/m]',\n",
            "       'WaterPointLE[1/m]', 'WaterPointHE[1/m]', 'GasPointLE[1/m]',\n",
            "       'GasPointHE[1/m]'],\n",
            "      dtype='object')\n"
          ]
        }
      ]
    },
    {
      "cell_type": "code",
      "source": [
        "selected_rows = ['DPV[mbar]', 'PL[bara]', 'qg_sc[Sm3/d]', 'qo_sc[Sm3/d]', 'TL[DegC]']\n",
        "outputs = ['qg_sc[Sm3/d]', 'qo_sc[Sm3/d]']\n",
        "inputs = np.setdiff1d(selected_rows, outputs)\n",
        "\n",
        "df = df[selected_rows]\n",
        "\n",
        "print(df.head)\n",
        "print(\"inputs: \" + str(inputs))\n",
        "print(\"outputs: \" + str(outputs))"
      ],
      "metadata": {
        "colab": {
          "base_uri": "https://localhost:8080/"
        },
        "id": "5Kz4KyJeCwKG",
        "outputId": "2d6c4878-4593-439a-b7b3-c7ad74e4636f"
      },
      "execution_count": 71,
      "outputs": [
        {
          "output_type": "stream",
          "name": "stdout",
          "text": [
            "<bound method NDFrame.head of       DPV[mbar]  PL[bara]  qg_sc[Sm3/d]  qo_sc[Sm3/d]  TL[DegC]\n",
            "0       1448.70    21.481       92700.0       108.430   -2.5452\n",
            "1       1462.10    21.473       91895.0       112.580   -2.5323\n",
            "2       1592.30    21.672       95860.0       130.550   -2.3931\n",
            "3       1703.30    21.926      100690.0       139.440   -2.0451\n",
            "4       1821.70    22.196      104290.0       148.640   -1.8009\n",
            "...         ...       ...           ...           ...       ...\n",
            "1264    1147.10    23.997       87402.0        97.703   -3.3542\n",
            "1265    1090.50    23.919       85594.0        71.288   -3.2890\n",
            "1266    1279.10    24.477       93660.0        86.386   -3.2191\n",
            "1267     976.62    23.808       76564.0        31.789   -3.2819\n",
            "1268        NaN       NaN       69609.0        35.567       NaN\n",
            "\n",
            "[1269 rows x 5 columns]>\n",
            "inputs: ['DPV[mbar]' 'PL[bara]' 'TL[DegC]']\n",
            "outputs: ['qg_sc[Sm3/d]', 'qo_sc[Sm3/d]']\n"
          ]
        }
      ]
    },
    {
      "cell_type": "code",
      "source": [
        "# check categorical attributes\n",
        "cardinality_hold = 0.15\n",
        "expected_col_size = 1269\n",
        "\n",
        "categorical_attributes = []\n",
        "\n",
        "def check_attributes_info():\n",
        "  for column in df.columns:\n",
        "    col_data = df[column].to_numpy()\n",
        "    size = len(col_data)\n",
        "    \n",
        "    assert size == expected_col_size\n",
        "    cleared_data = col_data[~np.isnan(col_data)]\n",
        "    \n",
        "    card = len(np.unique(cleared_data))  # cardinality without Nan items\n",
        "    skip_count = size - len(cleared_data)\n",
        "\n",
        "    print(column + \": card=\" + str(card) + \"; skip: percent=\" + str(skip_count * 100 / size) + \", count=\" + str(skip_count))\n",
        "    \n",
        "    if card / size < cardinality_hold:\n",
        "      categorical_attributes.append(card)\n",
        "\n",
        "check_attributes_info()\n",
        "\n",
        "if len(categorical_attributes) == 0:\n",
        "  print(\"no categorical attributes\")\n",
        "else:\n",
        "  print(categorical_attributes)"
      ],
      "metadata": {
        "colab": {
          "base_uri": "https://localhost:8080/"
        },
        "id": "lDU5w3CP1fux",
        "outputId": "58053eac-c9e0-4ca6-c65e-0cefd96493e2"
      },
      "execution_count": 72,
      "outputs": [
        {
          "output_type": "stream",
          "name": "stdout",
          "text": [
            "DPV[mbar]: card=1163; skip: percent=0.07880220646178093, count=1\n",
            "PL[bara]: card=1042; skip: percent=0.07880220646178093, count=1\n",
            "qg_sc[Sm3/d]: card=1250; skip: percent=0.0, count=0\n",
            "qo_sc[Sm3/d]: card=1246; skip: percent=0.0, count=0\n",
            "TL[DegC]: card=1214; skip: percent=0.07880220646178093, count=1\n",
            "no categorical attributes\n"
          ]
        }
      ]
    },
    {
      "cell_type": "code",
      "source": [
        "# supplement data\n",
        "for column in df.columns:\n",
        "  data =  np.array(df[column].to_numpy(), dtype=np.float64)\n",
        "\n",
        "  for i in range(len(data)):\n",
        "    if str(data[i]) == 'nan':\n",
        "      data[i] = np.mean(data[~np.isnan(data)])\n",
        "  df.drop([column], axis=1, inplace=True)\n",
        "  df.insert(0, column, data)\n"
      ],
      "metadata": {
        "id": "iplk6j6l6WcC",
        "colab": {
          "base_uri": "https://localhost:8080/"
        },
        "outputId": "ece69781-b8a5-41b6-e056-e8466620e8a6"
      },
      "execution_count": 73,
      "outputs": [
        {
          "output_type": "stream",
          "name": "stderr",
          "text": [
            "/usr/local/lib/python3.7/dist-packages/pandas/core/frame.py:4913: SettingWithCopyWarning:\n",
            "\n",
            "\n",
            "A value is trying to be set on a copy of a slice from a DataFrame\n",
            "\n",
            "See the caveats in the documentation: https://pandas.pydata.org/pandas-docs/stable/user_guide/indexing.html#returning-a-view-versus-a-copy\n",
            "\n"
          ]
        }
      ]
    },
    {
      "cell_type": "code",
      "source": [
        "check_attributes_info()"
      ],
      "metadata": {
        "colab": {
          "base_uri": "https://localhost:8080/"
        },
        "id": "criJtZiD_HY5",
        "outputId": "88539f6a-78a3-4777-f5a7-c8fc9139efba"
      },
      "execution_count": 74,
      "outputs": [
        {
          "output_type": "stream",
          "name": "stdout",
          "text": [
            "TL[DegC]: card=1215; skip: percent=0.0, count=0\n",
            "qo_sc[Sm3/d]: card=1246; skip: percent=0.0, count=0\n",
            "qg_sc[Sm3/d]: card=1250; skip: percent=0.0, count=0\n",
            "PL[bara]: card=1043; skip: percent=0.0, count=0\n",
            "DPV[mbar]: card=1164; skip: percent=0.0, count=0\n"
          ]
        }
      ]
    },
    {
      "cell_type": "markdown",
      "source": [
        "## Create model"
      ],
      "metadata": {
        "id": "ZzSi2jOlBmeR"
      }
    },
    {
      "cell_type": "code",
      "source": [
        "# model parameters\n",
        "batch_size = 60\n",
        "timesteps = 60\n",
        "input_size = len(inputs)\n",
        "output_size = len(outputs)\n",
        "lr = 0.001\n",
        "\n",
        "mse = tf.keras.losses.MeanSquaredError()\n",
        "\n",
        "model = tf.keras.Sequential()\n",
        "model.add(Input((None, input_size)))\n",
        "model.add(SimpleRNN(units=120, activation='tanh', return_sequences=True))\n",
        "model.add(SimpleRNN(units=120, activation='tanh', return_sequences=True))\n",
        "model.add(SimpleRNN(units=2, activation='tanh', return_sequences=True))\n",
        "model.summary()"
      ],
      "metadata": {
        "id": "YV_QnOokBoaT",
        "colab": {
          "base_uri": "https://localhost:8080/"
        },
        "outputId": "da33f3c5-2355-4956-a7d4-a934ad8f2d36"
      },
      "execution_count": 75,
      "outputs": [
        {
          "output_type": "stream",
          "name": "stdout",
          "text": [
            "Model: \"sequential_4\"\n",
            "_________________________________________________________________\n",
            " Layer (type)                Output Shape              Param #   \n",
            "=================================================================\n",
            " simple_rnn_12 (SimpleRNN)   (None, None, 120)         14880     \n",
            "                                                                 \n",
            " simple_rnn_13 (SimpleRNN)   (None, None, 120)         28920     \n",
            "                                                                 \n",
            " simple_rnn_14 (SimpleRNN)   (None, None, 2)           246       \n",
            "                                                                 \n",
            "=================================================================\n",
            "Total params: 44,046\n",
            "Trainable params: 44,046\n",
            "Non-trainable params: 0\n",
            "_________________________________________________________________\n"
          ]
        }
      ]
    },
    {
      "cell_type": "code",
      "source": [
        "model.compile(loss=mse, metrics=[mse], optimizer=Adam(learning_rate=lr))"
      ],
      "metadata": {
        "id": "h2at_PF2I9SP"
      },
      "execution_count": 76,
      "outputs": []
    },
    {
      "cell_type": "markdown",
      "source": [
        "## Prepare data"
      ],
      "metadata": {
        "id": "1VpvJo7LY4CR"
      }
    },
    {
      "cell_type": "code",
      "source": [
        "# normilize data ('min/max' normalization):\n",
        "interval_th = [-1, 1]     # normalization interval for 'th' activation function\n",
        "interval_sigmoid = [0, 1] # normalization interval for 'sigmoid' activation function\n",
        "\n",
        "result_interval = interval_th\n",
        "normalized_df = df = ((df - df.min()) / (df.max() - df.min())) * (result_interval[1] - result_interval[0]) + result_interval[0]\n",
        "\n",
        "train_df, test_df = train_test_split(normalized_df, test_size=0.3)\n",
        "print(train_df.head)\n",
        "print(test_df.head)\n",
        "\n",
        "train_input_data = train_df[inputs].to_numpy()\n",
        "train_output_data = train_df[outputs].to_numpy()\n",
        "\n",
        "test_input_data = test_df[inputs].to_numpy()\n",
        "test_output_data = test_df[outputs].to_numpy()\n",
        "\n",
        "print(\"data shapes:\")\n",
        "print(train_input_data.shape)\n",
        "print(test_input_data.shape)\n",
        "\n",
        "print(train_output_data.shape)\n",
        "print(test_output_data.shape)"
      ],
      "metadata": {
        "colab": {
          "base_uri": "https://localhost:8080/"
        },
        "id": "s19mQS_oY6ZE",
        "outputId": "304050e4-a91e-4348-8fb8-075bf04873b2"
      },
      "execution_count": 77,
      "outputs": [
        {
          "output_type": "stream",
          "name": "stdout",
          "text": [
            "<bound method NDFrame.head of       TL[DegC]  qo_sc[Sm3/d]  qg_sc[Sm3/d]  PL[bara]  DPV[mbar]\n",
            "134  -0.196290     -0.505688     -0.434073 -0.657006  -0.547366\n",
            "673   0.424553     -0.139379      0.151470 -0.136195  -0.095555\n",
            "973  -0.146897     -0.330667     -0.010829  0.373720  -0.392512\n",
            "174   0.174949      0.128882      0.136417 -0.357158   0.047220\n",
            "130   0.211296     -0.593921      0.151670 -0.286991  -0.016366\n",
            "...        ...           ...           ...       ...        ...\n",
            "296   0.632682     -0.551677     -0.119723 -0.684463  -0.283460\n",
            "557   0.761481      0.105644      0.327822 -0.171933   0.180431\n",
            "1225 -0.871503     -0.137217     -0.151871  0.384615  -0.465158\n",
            "369   0.494382     -0.603158     -0.492403 -0.681848  -0.559110\n",
            "708   0.130533     -0.690467     -0.617191 -0.323600  -0.748006\n",
            "\n",
            "[888 rows x 5 columns]>\n",
            "<bound method NDFrame.head of       TL[DegC]  qo_sc[Sm3/d]  qg_sc[Sm3/d]  PL[bara]  DPV[mbar]\n",
            "1010 -0.450041     -0.593031     -0.354885  0.315319  -0.673783\n",
            "1008 -0.217631     -0.858633     -0.348400  0.323600  -0.588471\n",
            "371   0.330518      0.109922      0.039734 -0.426019  -0.025761\n",
            "240   0.679210     -0.427790      0.233261 -0.352364   0.059803\n",
            "325   0.506146      0.027376      0.258442 -0.297886   0.146038\n",
            "...        ...           ...           ...       ...        ...\n",
            "1117 -0.670764     -0.435686     -0.257401  0.314012  -0.587800\n",
            "1208 -0.900083     -0.191912     -0.153552  0.297886  -0.469688\n",
            "1204 -0.388357     -0.726202     -0.161759  0.373284  -0.510121\n",
            "989  -0.247870     -0.920784     -0.541165  0.303552  -0.699972\n",
            "224   0.562175     -0.432218      0.277419 -0.258662   0.078929\n",
            "\n",
            "[381 rows x 5 columns]>\n",
            "data shapes:\n",
            "(888, 3)\n",
            "(381, 3)\n",
            "(888, 2)\n",
            "(381, 2)\n"
          ]
        }
      ]
    },
    {
      "cell_type": "code",
      "source": [
        "# formatting the data\n",
        "def get_sequence(data):\n",
        "  return np.array([data[i*timesteps : i*timesteps + timesteps] for i in range(data.shape[0] // timesteps)])\n",
        "\n",
        "def get_remaining_data(data, sequences_count):\n",
        "  return np.array(data[timesteps * sequences_count:])\n",
        "\n",
        "def print_sequences_info(in_seq, out_seq, in_rem, out_rem):\n",
        "  print(in_seq.shape)\n",
        "  print(out_seq.shape)\n",
        "\n",
        "  for i in range(len(in_seq)):\n",
        "    print(str(i) + \": \" + str(in_seq[i].shape))\n",
        "\n",
        "  print(\"-----------\")\n",
        "\n",
        "  for i in range(len(out_seq)):\n",
        "    print(str(i) + \": \" + str(out_seq[i].shape))\n",
        "\n",
        "  print(\"remaining data: \")\n",
        "  print(in_rem.shape)\n",
        "  print(out_rem.shape)\n",
        "\n",
        "input_train_sequences = get_sequence(train_input_data)\n",
        "output_train_sequences = get_sequence(train_output_data)\n",
        "\n",
        "input_test_sequences = get_sequence(test_input_data)\n",
        "output_test_sequences = get_sequence(test_output_data)\n",
        "\n",
        "input_train_remaining = []\n",
        "output_train_remaining = []\n",
        "\n",
        "input_test_remaining = []\n",
        "output_test_remaining = []\n",
        "\n",
        "train_sequences_count = len(input_train_sequences)\n",
        "assert train_sequences_count == len(output_train_sequences)\n",
        "\n",
        "test_sequences_count = len(input_test_sequences)\n",
        "assert test_sequences_count == len(output_test_sequences)\n",
        "\n",
        "# get the remaining data from train samples:\n",
        "if train_sequences_count * timesteps < train_input_data.shape[0]:\n",
        "  input_train_remaining = get_remaining_data(train_input_data, train_sequences_count)\n",
        "\n",
        "if train_sequences_count * timesteps < train_output_data.shape[0]:\n",
        "  output_train_remaining = get_remaining_data(train_output_data, train_sequences_count)\n",
        "\n",
        "# get the remaining data from test samples:\n",
        "if test_sequences_count * timesteps < test_input_data.shape[0]:\n",
        "  input_test_remaining = get_remaining_data(test_input_data, test_sequences_count)\n",
        "\n",
        "if test_sequences_count * timesteps < test_output_data.shape[0]:\n",
        "  output_test_remaining = get_remaining_data(test_output_data, test_sequences_count)\n",
        "\n",
        "print(\"train samples:\")\n",
        "print_sequences_info(input_train_sequences, output_train_sequences, input_train_remaining, output_train_remaining)\n",
        "print(\"\\n************************\\n\")\n",
        "print(\"test samples:\")\n",
        "print_sequences_info(input_test_sequences, output_test_sequences, input_test_remaining, output_test_remaining)"
      ],
      "metadata": {
        "colab": {
          "base_uri": "https://localhost:8080/"
        },
        "id": "HbpDORPPY9mk",
        "outputId": "db69f167-5c0a-4206-c7b9-d3342b0b5bbd"
      },
      "execution_count": 78,
      "outputs": [
        {
          "output_type": "stream",
          "name": "stdout",
          "text": [
            "train samples:\n",
            "(14, 60, 3)\n",
            "(14, 60, 2)\n",
            "0: (60, 3)\n",
            "1: (60, 3)\n",
            "2: (60, 3)\n",
            "3: (60, 3)\n",
            "4: (60, 3)\n",
            "5: (60, 3)\n",
            "6: (60, 3)\n",
            "7: (60, 3)\n",
            "8: (60, 3)\n",
            "9: (60, 3)\n",
            "10: (60, 3)\n",
            "11: (60, 3)\n",
            "12: (60, 3)\n",
            "13: (60, 3)\n",
            "-----------\n",
            "0: (60, 2)\n",
            "1: (60, 2)\n",
            "2: (60, 2)\n",
            "3: (60, 2)\n",
            "4: (60, 2)\n",
            "5: (60, 2)\n",
            "6: (60, 2)\n",
            "7: (60, 2)\n",
            "8: (60, 2)\n",
            "9: (60, 2)\n",
            "10: (60, 2)\n",
            "11: (60, 2)\n",
            "12: (60, 2)\n",
            "13: (60, 2)\n",
            "remaining data: \n",
            "(48, 3)\n",
            "(48, 2)\n",
            "\n",
            "************************\n",
            "\n",
            "test samples:\n",
            "(6, 60, 3)\n",
            "(6, 60, 2)\n",
            "0: (60, 3)\n",
            "1: (60, 3)\n",
            "2: (60, 3)\n",
            "3: (60, 3)\n",
            "4: (60, 3)\n",
            "5: (60, 3)\n",
            "-----------\n",
            "0: (60, 2)\n",
            "1: (60, 2)\n",
            "2: (60, 2)\n",
            "3: (60, 2)\n",
            "4: (60, 2)\n",
            "5: (60, 2)\n",
            "remaining data: \n",
            "(21, 3)\n",
            "(21, 2)\n"
          ]
        }
      ]
    },
    {
      "cell_type": "code",
      "source": [
        "def add_remaining(data, remaining):\n",
        "  data = list(data)\n",
        "  data.append(remaining)\n",
        "  return data\n",
        "\n",
        "input_train_tensor = add_remaining(input_train_sequences, input_train_remaining)\n",
        "output_train_tensor = add_remaining(output_train_sequences, output_train_remaining)\n",
        "\n",
        "input_test_tensor = add_remaining(input_test_sequences, input_test_remaining)\n",
        "output_test_tensor = add_remaining(output_test_sequences, output_test_remaining)\n",
        "\n",
        "print(len(input_train_tensor))\n",
        "print(len(output_train_tensor))\n",
        "\n",
        "def print_batches_shapes(in_tensor, out_tensor):\n",
        "  print(\" input batches shapes:\")\n",
        "\n",
        "  for i in range(len(in_tensor)):\n",
        "    print(\" \" + str(in_tensor[i].shape))\n",
        "\n",
        "  print(\" ------------\")\n",
        "  print(\" output batches shapes:\")\n",
        "\n",
        "  for i in range(len(out_tensor)):\n",
        "    print(\" \" + str(out_tensor[i].shape))\n",
        "\n",
        "print(\"train tensors:\")\n",
        "print_batches_shapes(input_train_tensor, output_train_tensor)\n",
        "print()\n",
        "print(\"test tensors:\")\n",
        "print_batches_shapes(input_test_tensor, output_test_tensor)"
      ],
      "metadata": {
        "id": "4MIZ642XBOjo",
        "outputId": "327530cc-5584-4dc5-e72f-5a12c56d533d",
        "colab": {
          "base_uri": "https://localhost:8080/"
        }
      },
      "execution_count": 79,
      "outputs": [
        {
          "output_type": "stream",
          "name": "stdout",
          "text": [
            "15\n",
            "15\n",
            "train tensors:\n",
            " input batches shapes:\n",
            " (60, 3)\n",
            " (60, 3)\n",
            " (60, 3)\n",
            " (60, 3)\n",
            " (60, 3)\n",
            " (60, 3)\n",
            " (60, 3)\n",
            " (60, 3)\n",
            " (60, 3)\n",
            " (60, 3)\n",
            " (60, 3)\n",
            " (60, 3)\n",
            " (60, 3)\n",
            " (60, 3)\n",
            " (48, 3)\n",
            " ------------\n",
            " output batches shapes:\n",
            " (60, 2)\n",
            " (60, 2)\n",
            " (60, 2)\n",
            " (60, 2)\n",
            " (60, 2)\n",
            " (60, 2)\n",
            " (60, 2)\n",
            " (60, 2)\n",
            " (60, 2)\n",
            " (60, 2)\n",
            " (60, 2)\n",
            " (60, 2)\n",
            " (60, 2)\n",
            " (60, 2)\n",
            " (48, 2)\n",
            "\n",
            "test tensors:\n",
            " input batches shapes:\n",
            " (60, 3)\n",
            " (60, 3)\n",
            " (60, 3)\n",
            " (60, 3)\n",
            " (60, 3)\n",
            " (60, 3)\n",
            " (21, 3)\n",
            " ------------\n",
            " output batches shapes:\n",
            " (60, 2)\n",
            " (60, 2)\n",
            " (60, 2)\n",
            " (60, 2)\n",
            " (60, 2)\n",
            " (60, 2)\n",
            " (21, 2)\n"
          ]
        }
      ]
    },
    {
      "cell_type": "markdown",
      "source": [
        "## Train model"
      ],
      "metadata": {
        "id": "bKe2ipqYMND5"
      }
    },
    {
      "cell_type": "code",
      "source": [
        "epoch_count = 100\n",
        "batch_count = len(input_train_tensor)\n",
        "\n",
        "input_shape = (1, timesteps, input_size)\n",
        "output_shape = (1, timesteps, output_size)\n",
        "\n",
        "input_shape_remaining = (1, input_train_remaining.shape[0], input_train_remaining.shape[1])\n",
        "output_shape_remaining = (1, output_train_remaining.shape[0], output_train_remaining.shape[1])\n",
        "\n",
        "#print(\"remainig shapes: \" + str(input_shape_remaining) + \", \" + str(output_shape_remaining))\n",
        "\n",
        "loss_list = []\n",
        "\n",
        "for epoch in range(epoch_count):\n",
        "  for batch_idx in range(batch_count):\n",
        "    in_shape = input_shape\n",
        "    out_shape = output_shape\n",
        "\n",
        "    if batch_idx == batch_count - 1:\n",
        "      in_shape = input_shape_remaining \n",
        "      out_shape = output_shape_remaining\n",
        "\n",
        "    input_batch = input_train_tensor[batch_idx].reshape(in_shape)\n",
        "    output_batch = output_train_tensor[batch_idx].reshape(out_shape)\n",
        "\n",
        "    loss = model.train_on_batch(input_batch, output_batch, reset_metrics=False, return_dict=True)\n",
        "  loss_list.append(loss['loss'])\n",
        "\n",
        "  print(\"epoch-\" + str(epoch) + \";\" + str(loss))"
      ],
      "metadata": {
        "colab": {
          "base_uri": "https://localhost:8080/"
        },
        "id": "vn6gNqOynOz0",
        "outputId": "bc62e052-62b6-4295-962f-b7e3c8e22cc9"
      },
      "execution_count": 80,
      "outputs": [
        {
          "output_type": "stream",
          "name": "stdout",
          "text": [
            "epoch-0;{'loss': 0.3526381254196167, 'mean_squared_error': 0.3526381254196167}\n",
            "epoch-1;{'loss': 0.26868632435798645, 'mean_squared_error': 0.26868632435798645}\n",
            "epoch-2;{'loss': 0.2109111100435257, 'mean_squared_error': 0.2109111100435257}\n",
            "epoch-3;{'loss': 0.1766941100358963, 'mean_squared_error': 0.1766941100358963}\n",
            "epoch-4;{'loss': 0.15042275190353394, 'mean_squared_error': 0.15042275190353394}\n",
            "epoch-5;{'loss': 0.1316181719303131, 'mean_squared_error': 0.1316181719303131}\n",
            "epoch-6;{'loss': 0.11694750189781189, 'mean_squared_error': 0.11694750189781189}\n",
            "epoch-7;{'loss': 0.10533848404884338, 'mean_squared_error': 0.10533848404884338}\n",
            "epoch-8;{'loss': 0.09605399519205093, 'mean_squared_error': 0.09605399519205093}\n",
            "epoch-9;{'loss': 0.0886121541261673, 'mean_squared_error': 0.0886121541261673}\n",
            "epoch-10;{'loss': 0.08249468356370926, 'mean_squared_error': 0.08249468356370926}\n",
            "epoch-11;{'loss': 0.077641561627388, 'mean_squared_error': 0.077641561627388}\n",
            "epoch-12;{'loss': 0.07349493354558945, 'mean_squared_error': 0.07349493354558945}\n",
            "epoch-13;{'loss': 0.07019321620464325, 'mean_squared_error': 0.07019321620464325}\n",
            "epoch-14;{'loss': 0.06741245090961456, 'mean_squared_error': 0.06741245090961456}\n",
            "epoch-15;{'loss': 0.06572800129652023, 'mean_squared_error': 0.06572800129652023}\n",
            "epoch-16;{'loss': 0.06372898817062378, 'mean_squared_error': 0.06372898817062378}\n",
            "epoch-17;{'loss': 0.06144997477531433, 'mean_squared_error': 0.06144997477531433}\n",
            "epoch-18;{'loss': 0.05898704379796982, 'mean_squared_error': 0.05898704379796982}\n",
            "epoch-19;{'loss': 0.05666192248463631, 'mean_squared_error': 0.05666192248463631}\n",
            "epoch-20;{'loss': 0.05453788489103317, 'mean_squared_error': 0.05453788489103317}\n",
            "epoch-21;{'loss': 0.05258907377719879, 'mean_squared_error': 0.05258907377719879}\n",
            "epoch-22;{'loss': 0.05076272785663605, 'mean_squared_error': 0.05076272785663605}\n",
            "epoch-23;{'loss': 0.049056075513362885, 'mean_squared_error': 0.049056075513362885}\n",
            "epoch-24;{'loss': 0.04746029153466225, 'mean_squared_error': 0.04746029153466225}\n",
            "epoch-25;{'loss': 0.04598574340343475, 'mean_squared_error': 0.04598574340343475}\n",
            "epoch-26;{'loss': 0.044631462544202805, 'mean_squared_error': 0.044631462544202805}\n",
            "epoch-27;{'loss': 0.043379396200180054, 'mean_squared_error': 0.043379396200180054}\n",
            "epoch-28;{'loss': 0.04220742732286453, 'mean_squared_error': 0.04220742732286453}\n",
            "epoch-29;{'loss': 0.04110689461231232, 'mean_squared_error': 0.04110689461231232}\n",
            "epoch-30;{'loss': 0.04007212817668915, 'mean_squared_error': 0.04007212817668915}\n",
            "epoch-31;{'loss': 0.03911559283733368, 'mean_squared_error': 0.03911559283733368}\n",
            "epoch-32;{'loss': 0.038261935114860535, 'mean_squared_error': 0.038261935114860535}\n",
            "epoch-33;{'loss': 0.03746084123849869, 'mean_squared_error': 0.03746084123849869}\n",
            "epoch-34;{'loss': 0.03668813407421112, 'mean_squared_error': 0.03668813407421112}\n",
            "epoch-35;{'loss': 0.03596470504999161, 'mean_squared_error': 0.03596470504999161}\n",
            "epoch-36;{'loss': 0.03525479510426521, 'mean_squared_error': 0.03525479510426521}\n",
            "epoch-37;{'loss': 0.03456525132060051, 'mean_squared_error': 0.03456525132060051}\n",
            "epoch-38;{'loss': 0.03389781713485718, 'mean_squared_error': 0.03389781713485718}\n",
            "epoch-39;{'loss': 0.033239010721445084, 'mean_squared_error': 0.033239010721445084}\n",
            "epoch-40;{'loss': 0.03260951116681099, 'mean_squared_error': 0.03260951116681099}\n",
            "epoch-41;{'loss': 0.032001517713069916, 'mean_squared_error': 0.032001517713069916}\n",
            "epoch-42;{'loss': 0.03140093758702278, 'mean_squared_error': 0.03140093758702278}\n",
            "epoch-43;{'loss': 0.03082849644124508, 'mean_squared_error': 0.03082849644124508}\n",
            "epoch-44;{'loss': 0.03028576634824276, 'mean_squared_error': 0.03028576634824276}\n",
            "epoch-45;{'loss': 0.029765253886580467, 'mean_squared_error': 0.029765253886580467}\n",
            "epoch-46;{'loss': 0.0292818620800972, 'mean_squared_error': 0.0292818620800972}\n",
            "epoch-47;{'loss': 0.028815321624279022, 'mean_squared_error': 0.028815321624279022}\n",
            "epoch-48;{'loss': 0.0283721461892128, 'mean_squared_error': 0.0283721461892128}\n",
            "epoch-49;{'loss': 0.02794540859758854, 'mean_squared_error': 0.02794540859758854}\n",
            "epoch-50;{'loss': 0.027523379772901535, 'mean_squared_error': 0.027523379772901535}\n",
            "epoch-51;{'loss': 0.027102909982204437, 'mean_squared_error': 0.027102909982204437}\n",
            "epoch-52;{'loss': 0.026705224066972733, 'mean_squared_error': 0.026705224066972733}\n",
            "epoch-53;{'loss': 0.026330994442105293, 'mean_squared_error': 0.026330994442105293}\n",
            "epoch-54;{'loss': 0.025960970669984818, 'mean_squared_error': 0.025960970669984818}\n",
            "epoch-55;{'loss': 0.025626642629504204, 'mean_squared_error': 0.025626642629504204}\n",
            "epoch-56;{'loss': 0.02530249021947384, 'mean_squared_error': 0.02530249021947384}\n",
            "epoch-57;{'loss': 0.02499299682676792, 'mean_squared_error': 0.02499299682676792}\n",
            "epoch-58;{'loss': 0.024715466424822807, 'mean_squared_error': 0.024715466424822807}\n",
            "epoch-59;{'loss': 0.024422265589237213, 'mean_squared_error': 0.024422265589237213}\n",
            "epoch-60;{'loss': 0.024143638089299202, 'mean_squared_error': 0.024143638089299202}\n",
            "epoch-61;{'loss': 0.023864280432462692, 'mean_squared_error': 0.023864280432462692}\n",
            "epoch-62;{'loss': 0.023579712957143784, 'mean_squared_error': 0.023579712957143784}\n",
            "epoch-63;{'loss': 0.023309797048568726, 'mean_squared_error': 0.023309797048568726}\n",
            "epoch-64;{'loss': 0.023040983825922012, 'mean_squared_error': 0.023040983825922012}\n",
            "epoch-65;{'loss': 0.02277710661292076, 'mean_squared_error': 0.02277710661292076}\n",
            "epoch-66;{'loss': 0.022523188963532448, 'mean_squared_error': 0.022523188963532448}\n",
            "epoch-67;{'loss': 0.02227465808391571, 'mean_squared_error': 0.02227465808391571}\n",
            "epoch-68;{'loss': 0.022034041583538055, 'mean_squared_error': 0.022034041583538055}\n",
            "epoch-69;{'loss': 0.021801156923174858, 'mean_squared_error': 0.021801156923174858}\n",
            "epoch-70;{'loss': 0.02157684974372387, 'mean_squared_error': 0.02157684974372387}\n",
            "epoch-71;{'loss': 0.021366845816373825, 'mean_squared_error': 0.021366845816373825}\n",
            "epoch-72;{'loss': 0.021159421652555466, 'mean_squared_error': 0.021159421652555466}\n",
            "epoch-73;{'loss': 0.020950360223650932, 'mean_squared_error': 0.020950360223650932}\n",
            "epoch-74;{'loss': 0.02074599638581276, 'mean_squared_error': 0.02074599638581276}\n",
            "epoch-75;{'loss': 0.020545441657304764, 'mean_squared_error': 0.020545441657304764}\n",
            "epoch-76;{'loss': 0.02033841982483864, 'mean_squared_error': 0.02033841982483864}\n",
            "epoch-77;{'loss': 0.020135561004281044, 'mean_squared_error': 0.020135561004281044}\n",
            "epoch-78;{'loss': 0.01993435248732567, 'mean_squared_error': 0.01993435248732567}\n",
            "epoch-79;{'loss': 0.019736269488930702, 'mean_squared_error': 0.019736269488930702}\n",
            "epoch-80;{'loss': 0.01954128034412861, 'mean_squared_error': 0.01954128034412861}\n",
            "epoch-81;{'loss': 0.019353389739990234, 'mean_squared_error': 0.019353389739990234}\n",
            "epoch-82;{'loss': 0.019169380888342857, 'mean_squared_error': 0.019169380888342857}\n",
            "epoch-83;{'loss': 0.018995480611920357, 'mean_squared_error': 0.018995480611920357}\n",
            "epoch-84;{'loss': 0.018824908882379532, 'mean_squared_error': 0.018824908882379532}\n",
            "epoch-85;{'loss': 0.018663901835680008, 'mean_squared_error': 0.018663901835680008}\n",
            "epoch-86;{'loss': 0.01851089671254158, 'mean_squared_error': 0.01851089671254158}\n",
            "epoch-87;{'loss': 0.018368639051914215, 'mean_squared_error': 0.018368639051914215}\n",
            "epoch-88;{'loss': 0.01823868416249752, 'mean_squared_error': 0.01823868416249752}\n",
            "epoch-89;{'loss': 0.018108103424310684, 'mean_squared_error': 0.018108103424310684}\n",
            "epoch-90;{'loss': 0.017977965995669365, 'mean_squared_error': 0.017977965995669365}\n",
            "epoch-91;{'loss': 0.017845062538981438, 'mean_squared_error': 0.017845062538981438}\n",
            "epoch-92;{'loss': 0.017718784511089325, 'mean_squared_error': 0.017718784511089325}\n",
            "epoch-93;{'loss': 0.01758459024131298, 'mean_squared_error': 0.01758459024131298}\n",
            "epoch-94;{'loss': 0.017453234642744064, 'mean_squared_error': 0.017453234642744064}\n",
            "epoch-95;{'loss': 0.01732274331152439, 'mean_squared_error': 0.01732274331152439}\n",
            "epoch-96;{'loss': 0.017191363498568535, 'mean_squared_error': 0.017191363498568535}\n",
            "epoch-97;{'loss': 0.01706540212035179, 'mean_squared_error': 0.01706540212035179}\n",
            "epoch-98;{'loss': 0.01694108545780182, 'mean_squared_error': 0.01694108545780182}\n",
            "epoch-99;{'loss': 0.01682056114077568, 'mean_squared_error': 0.01682056114077568}\n"
          ]
        }
      ]
    },
    {
      "cell_type": "code",
      "source": [
        "# plot loss graphic\n",
        "x = np.arange(1, epoch_count + 1)  \n",
        "y = np.array(loss_list)\n",
        "\n",
        "assert len(x) == len(y)\n",
        "\n",
        "fig = px.line(x=x, y=y, labels={'x':'epoch', 'y':'loss'})\n",
        "fig.show()"
      ],
      "metadata": {
        "id": "1txz6K6LV8Bc",
        "outputId": "bcbef632-e4da-44da-e672-3c2518fd50de",
        "colab": {
          "base_uri": "https://localhost:8080/",
          "height": 542
        }
      },
      "execution_count": 81,
      "outputs": [
        {
          "output_type": "display_data",
          "data": {
            "text/html": [
              "<html>\n",
              "<head><meta charset=\"utf-8\" /></head>\n",
              "<body>\n",
              "    <div>            <script src=\"https://cdnjs.cloudflare.com/ajax/libs/mathjax/2.7.5/MathJax.js?config=TeX-AMS-MML_SVG\"></script><script type=\"text/javascript\">if (window.MathJax) {MathJax.Hub.Config({SVG: {font: \"STIX-Web\"}});}</script>                <script type=\"text/javascript\">window.PlotlyConfig = {MathJaxConfig: 'local'};</script>\n",
              "        <script src=\"https://cdn.plot.ly/plotly-2.8.3.min.js\"></script>                <div id=\"5e5491e0-8d75-4314-8f5a-a67c42d4e485\" class=\"plotly-graph-div\" style=\"height:525px; width:100%;\"></div>            <script type=\"text/javascript\">                                    window.PLOTLYENV=window.PLOTLYENV || {};                                    if (document.getElementById(\"5e5491e0-8d75-4314-8f5a-a67c42d4e485\")) {                    Plotly.newPlot(                        \"5e5491e0-8d75-4314-8f5a-a67c42d4e485\",                        [{\"hovertemplate\":\"epoch=%{x}<br>loss=%{y}<extra></extra>\",\"legendgroup\":\"\",\"line\":{\"color\":\"#636efa\",\"dash\":\"solid\"},\"marker\":{\"symbol\":\"circle\"},\"mode\":\"lines\",\"name\":\"\",\"orientation\":\"v\",\"showlegend\":false,\"x\":[1,2,3,4,5,6,7,8,9,10,11,12,13,14,15,16,17,18,19,20,21,22,23,24,25,26,27,28,29,30,31,32,33,34,35,36,37,38,39,40,41,42,43,44,45,46,47,48,49,50,51,52,53,54,55,56,57,58,59,60,61,62,63,64,65,66,67,68,69,70,71,72,73,74,75,76,77,78,79,80,81,82,83,84,85,86,87,88,89,90,91,92,93,94,95,96,97,98,99,100],\"xaxis\":\"x\",\"y\":[0.3526381254196167,0.26868632435798645,0.2109111100435257,0.1766941100358963,0.15042275190353394,0.1316181719303131,0.11694750189781189,0.10533848404884338,0.09605399519205093,0.0886121541261673,0.08249468356370926,0.077641561627388,0.07349493354558945,0.07019321620464325,0.06741245090961456,0.06572800129652023,0.06372898817062378,0.06144997477531433,0.05898704379796982,0.05666192248463631,0.05453788489103317,0.05258907377719879,0.05076272785663605,0.049056075513362885,0.04746029153466225,0.04598574340343475,0.044631462544202805,0.043379396200180054,0.04220742732286453,0.04110689461231232,0.04007212817668915,0.03911559283733368,0.038261935114860535,0.03746084123849869,0.03668813407421112,0.03596470504999161,0.03525479510426521,0.03456525132060051,0.03389781713485718,0.033239010721445084,0.03260951116681099,0.032001517713069916,0.03140093758702278,0.03082849644124508,0.03028576634824276,0.029765253886580467,0.0292818620800972,0.028815321624279022,0.0283721461892128,0.02794540859758854,0.027523379772901535,0.027102909982204437,0.026705224066972733,0.026330994442105293,0.025960970669984818,0.025626642629504204,0.02530249021947384,0.02499299682676792,0.024715466424822807,0.024422265589237213,0.024143638089299202,0.023864280432462692,0.023579712957143784,0.023309797048568726,0.023040983825922012,0.02277710661292076,0.022523188963532448,0.02227465808391571,0.022034041583538055,0.021801156923174858,0.02157684974372387,0.021366845816373825,0.021159421652555466,0.020950360223650932,0.02074599638581276,0.020545441657304764,0.02033841982483864,0.020135561004281044,0.01993435248732567,0.019736269488930702,0.01954128034412861,0.019353389739990234,0.019169380888342857,0.018995480611920357,0.018824908882379532,0.018663901835680008,0.01851089671254158,0.018368639051914215,0.01823868416249752,0.018108103424310684,0.017977965995669365,0.017845062538981438,0.017718784511089325,0.01758459024131298,0.017453234642744064,0.01732274331152439,0.017191363498568535,0.01706540212035179,0.01694108545780182,0.01682056114077568],\"yaxis\":\"y\",\"type\":\"scatter\"}],                        {\"template\":{\"data\":{\"bar\":[{\"error_x\":{\"color\":\"#2a3f5f\"},\"error_y\":{\"color\":\"#2a3f5f\"},\"marker\":{\"line\":{\"color\":\"#E5ECF6\",\"width\":0.5},\"pattern\":{\"fillmode\":\"overlay\",\"size\":10,\"solidity\":0.2}},\"type\":\"bar\"}],\"barpolar\":[{\"marker\":{\"line\":{\"color\":\"#E5ECF6\",\"width\":0.5},\"pattern\":{\"fillmode\":\"overlay\",\"size\":10,\"solidity\":0.2}},\"type\":\"barpolar\"}],\"carpet\":[{\"aaxis\":{\"endlinecolor\":\"#2a3f5f\",\"gridcolor\":\"white\",\"linecolor\":\"white\",\"minorgridcolor\":\"white\",\"startlinecolor\":\"#2a3f5f\"},\"baxis\":{\"endlinecolor\":\"#2a3f5f\",\"gridcolor\":\"white\",\"linecolor\":\"white\",\"minorgridcolor\":\"white\",\"startlinecolor\":\"#2a3f5f\"},\"type\":\"carpet\"}],\"choropleth\":[{\"colorbar\":{\"outlinewidth\":0,\"ticks\":\"\"},\"type\":\"choropleth\"}],\"contour\":[{\"colorbar\":{\"outlinewidth\":0,\"ticks\":\"\"},\"colorscale\":[[0.0,\"#0d0887\"],[0.1111111111111111,\"#46039f\"],[0.2222222222222222,\"#7201a8\"],[0.3333333333333333,\"#9c179e\"],[0.4444444444444444,\"#bd3786\"],[0.5555555555555556,\"#d8576b\"],[0.6666666666666666,\"#ed7953\"],[0.7777777777777778,\"#fb9f3a\"],[0.8888888888888888,\"#fdca26\"],[1.0,\"#f0f921\"]],\"type\":\"contour\"}],\"contourcarpet\":[{\"colorbar\":{\"outlinewidth\":0,\"ticks\":\"\"},\"type\":\"contourcarpet\"}],\"heatmap\":[{\"colorbar\":{\"outlinewidth\":0,\"ticks\":\"\"},\"colorscale\":[[0.0,\"#0d0887\"],[0.1111111111111111,\"#46039f\"],[0.2222222222222222,\"#7201a8\"],[0.3333333333333333,\"#9c179e\"],[0.4444444444444444,\"#bd3786\"],[0.5555555555555556,\"#d8576b\"],[0.6666666666666666,\"#ed7953\"],[0.7777777777777778,\"#fb9f3a\"],[0.8888888888888888,\"#fdca26\"],[1.0,\"#f0f921\"]],\"type\":\"heatmap\"}],\"heatmapgl\":[{\"colorbar\":{\"outlinewidth\":0,\"ticks\":\"\"},\"colorscale\":[[0.0,\"#0d0887\"],[0.1111111111111111,\"#46039f\"],[0.2222222222222222,\"#7201a8\"],[0.3333333333333333,\"#9c179e\"],[0.4444444444444444,\"#bd3786\"],[0.5555555555555556,\"#d8576b\"],[0.6666666666666666,\"#ed7953\"],[0.7777777777777778,\"#fb9f3a\"],[0.8888888888888888,\"#fdca26\"],[1.0,\"#f0f921\"]],\"type\":\"heatmapgl\"}],\"histogram\":[{\"marker\":{\"pattern\":{\"fillmode\":\"overlay\",\"size\":10,\"solidity\":0.2}},\"type\":\"histogram\"}],\"histogram2d\":[{\"colorbar\":{\"outlinewidth\":0,\"ticks\":\"\"},\"colorscale\":[[0.0,\"#0d0887\"],[0.1111111111111111,\"#46039f\"],[0.2222222222222222,\"#7201a8\"],[0.3333333333333333,\"#9c179e\"],[0.4444444444444444,\"#bd3786\"],[0.5555555555555556,\"#d8576b\"],[0.6666666666666666,\"#ed7953\"],[0.7777777777777778,\"#fb9f3a\"],[0.8888888888888888,\"#fdca26\"],[1.0,\"#f0f921\"]],\"type\":\"histogram2d\"}],\"histogram2dcontour\":[{\"colorbar\":{\"outlinewidth\":0,\"ticks\":\"\"},\"colorscale\":[[0.0,\"#0d0887\"],[0.1111111111111111,\"#46039f\"],[0.2222222222222222,\"#7201a8\"],[0.3333333333333333,\"#9c179e\"],[0.4444444444444444,\"#bd3786\"],[0.5555555555555556,\"#d8576b\"],[0.6666666666666666,\"#ed7953\"],[0.7777777777777778,\"#fb9f3a\"],[0.8888888888888888,\"#fdca26\"],[1.0,\"#f0f921\"]],\"type\":\"histogram2dcontour\"}],\"mesh3d\":[{\"colorbar\":{\"outlinewidth\":0,\"ticks\":\"\"},\"type\":\"mesh3d\"}],\"parcoords\":[{\"line\":{\"colorbar\":{\"outlinewidth\":0,\"ticks\":\"\"}},\"type\":\"parcoords\"}],\"pie\":[{\"automargin\":true,\"type\":\"pie\"}],\"scatter\":[{\"marker\":{\"colorbar\":{\"outlinewidth\":0,\"ticks\":\"\"}},\"type\":\"scatter\"}],\"scatter3d\":[{\"line\":{\"colorbar\":{\"outlinewidth\":0,\"ticks\":\"\"}},\"marker\":{\"colorbar\":{\"outlinewidth\":0,\"ticks\":\"\"}},\"type\":\"scatter3d\"}],\"scattercarpet\":[{\"marker\":{\"colorbar\":{\"outlinewidth\":0,\"ticks\":\"\"}},\"type\":\"scattercarpet\"}],\"scattergeo\":[{\"marker\":{\"colorbar\":{\"outlinewidth\":0,\"ticks\":\"\"}},\"type\":\"scattergeo\"}],\"scattergl\":[{\"marker\":{\"colorbar\":{\"outlinewidth\":0,\"ticks\":\"\"}},\"type\":\"scattergl\"}],\"scattermapbox\":[{\"marker\":{\"colorbar\":{\"outlinewidth\":0,\"ticks\":\"\"}},\"type\":\"scattermapbox\"}],\"scatterpolar\":[{\"marker\":{\"colorbar\":{\"outlinewidth\":0,\"ticks\":\"\"}},\"type\":\"scatterpolar\"}],\"scatterpolargl\":[{\"marker\":{\"colorbar\":{\"outlinewidth\":0,\"ticks\":\"\"}},\"type\":\"scatterpolargl\"}],\"scatterternary\":[{\"marker\":{\"colorbar\":{\"outlinewidth\":0,\"ticks\":\"\"}},\"type\":\"scatterternary\"}],\"surface\":[{\"colorbar\":{\"outlinewidth\":0,\"ticks\":\"\"},\"colorscale\":[[0.0,\"#0d0887\"],[0.1111111111111111,\"#46039f\"],[0.2222222222222222,\"#7201a8\"],[0.3333333333333333,\"#9c179e\"],[0.4444444444444444,\"#bd3786\"],[0.5555555555555556,\"#d8576b\"],[0.6666666666666666,\"#ed7953\"],[0.7777777777777778,\"#fb9f3a\"],[0.8888888888888888,\"#fdca26\"],[1.0,\"#f0f921\"]],\"type\":\"surface\"}],\"table\":[{\"cells\":{\"fill\":{\"color\":\"#EBF0F8\"},\"line\":{\"color\":\"white\"}},\"header\":{\"fill\":{\"color\":\"#C8D4E3\"},\"line\":{\"color\":\"white\"}},\"type\":\"table\"}]},\"layout\":{\"annotationdefaults\":{\"arrowcolor\":\"#2a3f5f\",\"arrowhead\":0,\"arrowwidth\":1},\"autotypenumbers\":\"strict\",\"coloraxis\":{\"colorbar\":{\"outlinewidth\":0,\"ticks\":\"\"}},\"colorscale\":{\"diverging\":[[0,\"#8e0152\"],[0.1,\"#c51b7d\"],[0.2,\"#de77ae\"],[0.3,\"#f1b6da\"],[0.4,\"#fde0ef\"],[0.5,\"#f7f7f7\"],[0.6,\"#e6f5d0\"],[0.7,\"#b8e186\"],[0.8,\"#7fbc41\"],[0.9,\"#4d9221\"],[1,\"#276419\"]],\"sequential\":[[0.0,\"#0d0887\"],[0.1111111111111111,\"#46039f\"],[0.2222222222222222,\"#7201a8\"],[0.3333333333333333,\"#9c179e\"],[0.4444444444444444,\"#bd3786\"],[0.5555555555555556,\"#d8576b\"],[0.6666666666666666,\"#ed7953\"],[0.7777777777777778,\"#fb9f3a\"],[0.8888888888888888,\"#fdca26\"],[1.0,\"#f0f921\"]],\"sequentialminus\":[[0.0,\"#0d0887\"],[0.1111111111111111,\"#46039f\"],[0.2222222222222222,\"#7201a8\"],[0.3333333333333333,\"#9c179e\"],[0.4444444444444444,\"#bd3786\"],[0.5555555555555556,\"#d8576b\"],[0.6666666666666666,\"#ed7953\"],[0.7777777777777778,\"#fb9f3a\"],[0.8888888888888888,\"#fdca26\"],[1.0,\"#f0f921\"]]},\"colorway\":[\"#636efa\",\"#EF553B\",\"#00cc96\",\"#ab63fa\",\"#FFA15A\",\"#19d3f3\",\"#FF6692\",\"#B6E880\",\"#FF97FF\",\"#FECB52\"],\"font\":{\"color\":\"#2a3f5f\"},\"geo\":{\"bgcolor\":\"white\",\"lakecolor\":\"white\",\"landcolor\":\"#E5ECF6\",\"showlakes\":true,\"showland\":true,\"subunitcolor\":\"white\"},\"hoverlabel\":{\"align\":\"left\"},\"hovermode\":\"closest\",\"mapbox\":{\"style\":\"light\"},\"paper_bgcolor\":\"white\",\"plot_bgcolor\":\"#E5ECF6\",\"polar\":{\"angularaxis\":{\"gridcolor\":\"white\",\"linecolor\":\"white\",\"ticks\":\"\"},\"bgcolor\":\"#E5ECF6\",\"radialaxis\":{\"gridcolor\":\"white\",\"linecolor\":\"white\",\"ticks\":\"\"}},\"scene\":{\"xaxis\":{\"backgroundcolor\":\"#E5ECF6\",\"gridcolor\":\"white\",\"gridwidth\":2,\"linecolor\":\"white\",\"showbackground\":true,\"ticks\":\"\",\"zerolinecolor\":\"white\"},\"yaxis\":{\"backgroundcolor\":\"#E5ECF6\",\"gridcolor\":\"white\",\"gridwidth\":2,\"linecolor\":\"white\",\"showbackground\":true,\"ticks\":\"\",\"zerolinecolor\":\"white\"},\"zaxis\":{\"backgroundcolor\":\"#E5ECF6\",\"gridcolor\":\"white\",\"gridwidth\":2,\"linecolor\":\"white\",\"showbackground\":true,\"ticks\":\"\",\"zerolinecolor\":\"white\"}},\"shapedefaults\":{\"line\":{\"color\":\"#2a3f5f\"}},\"ternary\":{\"aaxis\":{\"gridcolor\":\"white\",\"linecolor\":\"white\",\"ticks\":\"\"},\"baxis\":{\"gridcolor\":\"white\",\"linecolor\":\"white\",\"ticks\":\"\"},\"bgcolor\":\"#E5ECF6\",\"caxis\":{\"gridcolor\":\"white\",\"linecolor\":\"white\",\"ticks\":\"\"}},\"title\":{\"x\":0.05},\"xaxis\":{\"automargin\":true,\"gridcolor\":\"white\",\"linecolor\":\"white\",\"ticks\":\"\",\"title\":{\"standoff\":15},\"zerolinecolor\":\"white\",\"zerolinewidth\":2},\"yaxis\":{\"automargin\":true,\"gridcolor\":\"white\",\"linecolor\":\"white\",\"ticks\":\"\",\"title\":{\"standoff\":15},\"zerolinecolor\":\"white\",\"zerolinewidth\":2}}},\"xaxis\":{\"anchor\":\"y\",\"domain\":[0.0,1.0],\"title\":{\"text\":\"epoch\"}},\"yaxis\":{\"anchor\":\"x\",\"domain\":[0.0,1.0],\"title\":{\"text\":\"loss\"}},\"legend\":{\"tracegroupgap\":0},\"margin\":{\"t\":60}},                        {\"responsive\": true}                    ).then(function(){\n",
              "                            \n",
              "var gd = document.getElementById('5e5491e0-8d75-4314-8f5a-a67c42d4e485');\n",
              "var x = new MutationObserver(function (mutations, observer) {{\n",
              "        var display = window.getComputedStyle(gd).display;\n",
              "        if (!display || display === 'none') {{\n",
              "            console.log([gd, 'removed!']);\n",
              "            Plotly.purge(gd);\n",
              "            observer.disconnect();\n",
              "        }}\n",
              "}});\n",
              "\n",
              "// Listen for the removal of the full notebook cells\n",
              "var notebookContainer = gd.closest('#notebook-container');\n",
              "if (notebookContainer) {{\n",
              "    x.observe(notebookContainer, {childList: true});\n",
              "}}\n",
              "\n",
              "// Listen for the clearing of the current output cell\n",
              "var outputEl = gd.closest('.output');\n",
              "if (outputEl) {{\n",
              "    x.observe(outputEl, {childList: true});\n",
              "}}\n",
              "\n",
              "                        })                };                            </script>        </div>\n",
              "</body>\n",
              "</html>"
            ]
          },
          "metadata": {}
        }
      ]
    },
    {
      "cell_type": "markdown",
      "source": [
        "## Test model"
      ],
      "metadata": {
        "id": "4RqeQQ6bMQtX"
      }
    },
    {
      "cell_type": "code",
      "source": [
        "# test on batches\n",
        "batch_count = len(input_test_tensor)\n",
        "\n",
        "input_shape = (1, timesteps, input_size)\n",
        "output_shape = (1, timesteps, output_size)\n",
        "\n",
        "input_shape_remaining = (1, input_test_remaining.shape[0], input_test_remaining.shape[1])\n",
        "output_shape_remaining = (1, output_test_remaining.shape[0], output_test_remaining.shape[1])\n",
        "\n",
        "loss = 0\n",
        "\n",
        "for batch_idx in range(batch_count):\n",
        "  in_shape = input_shape\n",
        "  out_shape = output_shape\n",
        "\n",
        "  if batch_idx == batch_count - 1:\n",
        "    in_shape = input_shape_remaining \n",
        "    out_shape = output_shape_remaining\n",
        "\n",
        "  input_batch = input_test_tensor[batch_idx].reshape(in_shape)\n",
        "  output_batch = output_test_tensor[batch_idx].reshape(out_shape)\n",
        "\n",
        "  loss = model.test_on_batch(input_batch, output_batch, return_dict=True, reset_metrics=False)\n",
        "\n",
        "print(\"test loss=\" + str(loss))"
      ],
      "metadata": {
        "id": "J_gjcanOi58-",
        "colab": {
          "base_uri": "https://localhost:8080/"
        },
        "outputId": "76a360ba-2d87-4e48-81ad-b787f21f53f8"
      },
      "execution_count": 82,
      "outputs": [
        {
          "output_type": "stream",
          "name": "stdout",
          "text": [
            "WARNING:tensorflow:5 out of the last 15 calls to <function Model.make_test_function.<locals>.test_function at 0x7fdf0cea0050> triggered tf.function retracing. Tracing is expensive and the excessive number of tracings could be due to (1) creating @tf.function repeatedly in a loop, (2) passing tensors with different shapes, (3) passing Python objects instead of tensors. For (1), please define your @tf.function outside of the loop. For (2), @tf.function has experimental_relax_shapes=True option that relaxes argument shapes that can avoid unnecessary retracing. For (3), please refer to https://www.tensorflow.org/guide/function#controlling_retracing and https://www.tensorflow.org/api_docs/python/tf/function for  more details.\n",
            "test loss={'loss': 0.0169001966714859, 'mean_squared_error': 0.0169001966714859}\n"
          ]
        }
      ]
    },
    {
      "cell_type": "markdown",
      "source": [
        "## Making predictions"
      ],
      "metadata": {
        "id": "DQQfW28RXCRV"
      }
    },
    {
      "cell_type": "code",
      "source": [
        "# get sequences and remainig data:\n",
        "input_data = df[inputs].to_numpy()\n",
        "output_data = df[outputs].to_numpy()\n",
        "\n",
        "print(\"data shapes:\")\n",
        "print(input_data.shape)\n",
        "print(output_data.shape)\n",
        "\n",
        "input_sequences = get_sequence(input_data)\n",
        "output_sequences = get_sequence(output_data)\n",
        "\n",
        "seq_count = len(input_sequences)\n",
        "assert seq_count == len(output_sequences)\n",
        "\n",
        "print(\"sequence count=\" + str(seq_count))\n",
        "\n",
        "input_remaining = get_remaining_data(input_data, seq_count)\n",
        "output_remaining = get_remaining_data(output_data, seq_count)\n",
        "\n",
        "# create tensors:\n",
        "if len(input_remaining) > 0:\n",
        "  has_remaining = True\n",
        "  input_tensor = add_remaining(input_sequences, input_remaining)\n",
        "  output_tensor = add_remaining(output_sequences, output_remaining)\n",
        "else:\n",
        "  has_remaining = False\n",
        "  input_tensor = input_sequences\n",
        "  output_tensor = output_sequences\n",
        "\n",
        "batch_count = len(input_tensor)\n",
        "\n",
        "input_shape = (1, timesteps, input_size)\n",
        "input_shape_remaining = (1, input_remaining.shape[0], input_remaining.shape[1])\n",
        "\n",
        "predictions = []\n",
        "\n",
        "# make predictions:\n",
        "for i in range(batch_count):\n",
        "  in_shape = input_shape\n",
        "\n",
        "  if i == batch_count - 1 and has_remaining:\n",
        "    in_shape = input_shape_remaining \n",
        "  \n",
        "  input_batch = input_tensor[i].reshape(in_shape)\n",
        "\n",
        "  prediction = model.predict_on_batch(input_batch)\n",
        "  predictions.append(prediction)\n",
        "  print(prediction.shape)"
      ],
      "metadata": {
        "id": "5B7CccAfV-fR",
        "outputId": "b20276fb-ecc2-4153-f013-49b2219a10ab",
        "colab": {
          "base_uri": "https://localhost:8080/"
        }
      },
      "execution_count": 83,
      "outputs": [
        {
          "output_type": "stream",
          "name": "stdout",
          "text": [
            "data shapes:\n",
            "(1269, 3)\n",
            "(1269, 2)\n",
            "sequence count=21\n",
            "(1, 60, 2)\n",
            "(1, 60, 2)\n",
            "(1, 60, 2)\n",
            "(1, 60, 2)\n",
            "(1, 60, 2)\n",
            "(1, 60, 2)\n",
            "(1, 60, 2)\n",
            "(1, 60, 2)\n",
            "(1, 60, 2)\n",
            "(1, 60, 2)\n",
            "(1, 60, 2)\n",
            "(1, 60, 2)\n",
            "(1, 60, 2)\n",
            "(1, 60, 2)\n",
            "(1, 60, 2)\n",
            "(1, 60, 2)\n",
            "(1, 60, 2)\n",
            "(1, 60, 2)\n",
            "(1, 60, 2)\n",
            "(1, 60, 2)\n",
            "(1, 60, 2)\n",
            "(1, 9, 2)\n"
          ]
        }
      ]
    },
    {
      "cell_type": "code",
      "source": [
        "# plot approximation graphic\n",
        "def get_1d_data(tensor):\n",
        "  size = len(tensor)\n",
        "  result = tensor[0][0]\n",
        "\n",
        "  for i in range(size - 1):\n",
        "    item = tensor[i + 1][0]\n",
        "    result = np.concatenate((result, item), axis=0)\n",
        "\n",
        "  return result\n",
        "\n",
        "def get_attribute_data(attribute_idx, one_dim_data):\n",
        "  result = []\n",
        "  \n",
        "  for item in one_dim_data:\n",
        "    result.append(item[attribute_idx])\n",
        "  \n",
        "  return np.array(result)\n",
        "\n",
        "\n",
        "def plot_approximation(attribute_name, predicted_data):\n",
        "  comparison_graphic = go.Figure()\n",
        "\n",
        "  x = np.arange(1, input_data.shape[0])\n",
        "  y_actual = df[attribute_name].to_numpy()\n",
        "  y_predicted = predicted_data\n",
        "\n",
        "  comparison_graphic.add_trace(go.Scatter(x=x, y=y_actual,\n",
        "                    mode='markers',\n",
        "                    name=attribute_name + ' actual graphic',))\n",
        "\n",
        "  comparison_graphic.add_trace(go.Scatter(x=x, y=y_predicted,\n",
        "                    mode='markers',\n",
        "                    name=attribute_name + ' predicted',))\n",
        "\n",
        "  comparison_graphic.update_layout(\n",
        "    height=900,\n",
        "    width = 1600,\n",
        "    title_text=attribute_name\n",
        "  )\n",
        "  return comparison_graphic\n",
        "\n",
        "one_dim_predicted_data = get_1d_data(predictions)\n",
        "\n",
        "print(one_dim_predicted_data.shape)\n",
        "\n",
        "predicted_data1 = get_attribute_data(0, one_dim_predicted_data)\n",
        "predicted_data2 = get_attribute_data(1, one_dim_predicted_data)\n",
        "\n",
        "print(\"predicted data shapes: \" + str(predicted_data1.shape) + \" \" + str(predicted_data2.shape))"
      ],
      "metadata": {
        "id": "v7LPl-zlrlUA",
        "outputId": "6d8d6bf9-7cd3-4f4c-8f03-a1417814ecbe",
        "colab": {
          "base_uri": "https://localhost:8080/"
        }
      },
      "execution_count": 92,
      "outputs": [
        {
          "output_type": "stream",
          "name": "stdout",
          "text": [
            "(1269, 2)\n",
            "predicted data shapes: (1269,) (1269,)\n"
          ]
        }
      ]
    },
    {
      "cell_type": "code",
      "source": [
        "plot_approximation(outputs[0], predicted_data1).show()"
      ],
      "metadata": {
        "id": "Yh0v-9BpyAex",
        "outputId": "cfb32710-2401-41bf-b847-65cc922d96a2",
        "colab": {
          "base_uri": "https://localhost:8080/",
          "height": 937
        }
      },
      "execution_count": 93,
      "outputs": [
        {
          "output_type": "display_data",
          "data": {
            "text/html": [
              "<html>\n",
              "<head><meta charset=\"utf-8\" /></head>\n",
              "<body>\n",
              "    <div>            <script src=\"https://cdnjs.cloudflare.com/ajax/libs/mathjax/2.7.5/MathJax.js?config=TeX-AMS-MML_SVG\"></script><script type=\"text/javascript\">if (window.MathJax) {MathJax.Hub.Config({SVG: {font: \"STIX-Web\"}});}</script>                <script type=\"text/javascript\">window.PlotlyConfig = {MathJaxConfig: 'local'};</script>\n",
              "        <script src=\"https://cdn.plot.ly/plotly-2.8.3.min.js\"></script>                <div id=\"822741aa-3eaf-48dd-ae76-b68517ad5105\" class=\"plotly-graph-div\" style=\"height:900px; width:1600px;\"></div>            <script type=\"text/javascript\">                                    window.PLOTLYENV=window.PLOTLYENV || {};                                    if (document.getElementById(\"822741aa-3eaf-48dd-ae76-b68517ad5105\")) {                    Plotly.newPlot(                        \"822741aa-3eaf-48dd-ae76-b68517ad5105\",                        [{\"mode\":\"markers\",\"name\":\"qg_sc[Sm3/d] actual graphic\",\"x\":[1,2,3,4,5,6,7,8,9,10,11,12,13,14,15,16,17,18,19,20,21,22,23,24,25,26,27,28,29,30,31,32,33,34,35,36,37,38,39,40,41,42,43,44,45,46,47,48,49,50,51,52,53,54,55,56,57,58,59,60,61,62,63,64,65,66,67,68,69,70,71,72,73,74,75,76,77,78,79,80,81,82,83,84,85,86,87,88,89,90,91,92,93,94,95,96,97,98,99,100,101,102,103,104,105,106,107,108,109,110,111,112,113,114,115,116,117,118,119,120,121,122,123,124,125,126,127,128,129,130,131,132,133,134,135,136,137,138,139,140,141,142,143,144,145,146,147,148,149,150,151,152,153,154,155,156,157,158,159,160,161,162,163,164,165,166,167,168,169,170,171,172,173,174,175,176,177,178,179,180,181,182,183,184,185,186,187,188,189,190,191,192,193,194,195,196,197,198,199,200,201,202,203,204,205,206,207,208,209,210,211,212,213,214,215,216,217,218,219,220,221,222,223,224,225,226,227,228,229,230,231,232,233,234,235,236,237,238,239,240,241,242,243,244,245,246,247,248,249,250,251,252,253,254,255,256,257,258,259,260,261,262,263,264,265,266,267,268,269,270,271,272,273,274,275,276,277,278,279,280,281,282,283,284,285,286,287,288,289,290,291,292,293,294,295,296,297,298,299,300,301,302,303,304,305,306,307,308,309,310,311,312,313,314,315,316,317,318,319,320,321,322,323,324,325,326,327,328,329,330,331,332,333,334,335,336,337,338,339,340,341,342,343,344,345,346,347,348,349,350,351,352,353,354,355,356,357,358,359,360,361,362,363,364,365,366,367,368,369,370,371,372,373,374,375,376,377,378,379,380,381,382,383,384,385,386,387,388,389,390,391,392,393,394,395,396,397,398,399,400,401,402,403,404,405,406,407,408,409,410,411,412,413,414,415,416,417,418,419,420,421,422,423,424,425,426,427,428,429,430,431,432,433,434,435,436,437,438,439,440,441,442,443,444,445,446,447,448,449,450,451,452,453,454,455,456,457,458,459,460,461,462,463,464,465,466,467,468,469,470,471,472,473,474,475,476,477,478,479,480,481,482,483,484,485,486,487,488,489,490,491,492,493,494,495,496,497,498,499,500,501,502,503,504,505,506,507,508,509,510,511,512,513,514,515,516,517,518,519,520,521,522,523,524,525,526,527,528,529,530,531,532,533,534,535,536,537,538,539,540,541,542,543,544,545,546,547,548,549,550,551,552,553,554,555,556,557,558,559,560,561,562,563,564,565,566,567,568,569,570,571,572,573,574,575,576,577,578,579,580,581,582,583,584,585,586,587,588,589,590,591,592,593,594,595,596,597,598,599,600,601,602,603,604,605,606,607,608,609,610,611,612,613,614,615,616,617,618,619,620,621,622,623,624,625,626,627,628,629,630,631,632,633,634,635,636,637,638,639,640,641,642,643,644,645,646,647,648,649,650,651,652,653,654,655,656,657,658,659,660,661,662,663,664,665,666,667,668,669,670,671,672,673,674,675,676,677,678,679,680,681,682,683,684,685,686,687,688,689,690,691,692,693,694,695,696,697,698,699,700,701,702,703,704,705,706,707,708,709,710,711,712,713,714,715,716,717,718,719,720,721,722,723,724,725,726,727,728,729,730,731,732,733,734,735,736,737,738,739,740,741,742,743,744,745,746,747,748,749,750,751,752,753,754,755,756,757,758,759,760,761,762,763,764,765,766,767,768,769,770,771,772,773,774,775,776,777,778,779,780,781,782,783,784,785,786,787,788,789,790,791,792,793,794,795,796,797,798,799,800,801,802,803,804,805,806,807,808,809,810,811,812,813,814,815,816,817,818,819,820,821,822,823,824,825,826,827,828,829,830,831,832,833,834,835,836,837,838,839,840,841,842,843,844,845,846,847,848,849,850,851,852,853,854,855,856,857,858,859,860,861,862,863,864,865,866,867,868,869,870,871,872,873,874,875,876,877,878,879,880,881,882,883,884,885,886,887,888,889,890,891,892,893,894,895,896,897,898,899,900,901,902,903,904,905,906,907,908,909,910,911,912,913,914,915,916,917,918,919,920,921,922,923,924,925,926,927,928,929,930,931,932,933,934,935,936,937,938,939,940,941,942,943,944,945,946,947,948,949,950,951,952,953,954,955,956,957,958,959,960,961,962,963,964,965,966,967,968,969,970,971,972,973,974,975,976,977,978,979,980,981,982,983,984,985,986,987,988,989,990,991,992,993,994,995,996,997,998,999,1000,1001,1002,1003,1004,1005,1006,1007,1008,1009,1010,1011,1012,1013,1014,1015,1016,1017,1018,1019,1020,1021,1022,1023,1024,1025,1026,1027,1028,1029,1030,1031,1032,1033,1034,1035,1036,1037,1038,1039,1040,1041,1042,1043,1044,1045,1046,1047,1048,1049,1050,1051,1052,1053,1054,1055,1056,1057,1058,1059,1060,1061,1062,1063,1064,1065,1066,1067,1068,1069,1070,1071,1072,1073,1074,1075,1076,1077,1078,1079,1080,1081,1082,1083,1084,1085,1086,1087,1088,1089,1090,1091,1092,1093,1094,1095,1096,1097,1098,1099,1100,1101,1102,1103,1104,1105,1106,1107,1108,1109,1110,1111,1112,1113,1114,1115,1116,1117,1118,1119,1120,1121,1122,1123,1124,1125,1126,1127,1128,1129,1130,1131,1132,1133,1134,1135,1136,1137,1138,1139,1140,1141,1142,1143,1144,1145,1146,1147,1148,1149,1150,1151,1152,1153,1154,1155,1156,1157,1158,1159,1160,1161,1162,1163,1164,1165,1166,1167,1168,1169,1170,1171,1172,1173,1174,1175,1176,1177,1178,1179,1180,1181,1182,1183,1184,1185,1186,1187,1188,1189,1190,1191,1192,1193,1194,1195,1196,1197,1198,1199,1200,1201,1202,1203,1204,1205,1206,1207,1208,1209,1210,1211,1212,1213,1214,1215,1216,1217,1218,1219,1220,1221,1222,1223,1224,1225,1226,1227,1228,1229,1230,1231,1232,1233,1234,1235,1236,1237,1238,1239,1240,1241,1242,1243,1244,1245,1246,1247,1248,1249,1250,1251,1252,1253,1254,1255,1256,1257,1258,1259,1260,1261,1262,1263,1264,1265,1266,1267,1268],\"y\":[0.2613647737053866,0.229137057869768,0.3878735712712933,0.5812398662850051,0.725363812879076,1.0,0.43455371619592853,0.10591108353183731,-0.14138158816582258,-0.06623696378885846,0.15599415497327707,0.3250195167844345,0.640490822107012,0.2807414376363673,0.042056168304742014,-0.22781592169265563,-0.36193126088436056,-0.15963728806773825,0.14622575414856787,0.3610505034329523,0.619272574413996,0.1433032407870769,-0.10258822587425187,-0.5309566226955181,-0.657225213683768,-0.3403927377544689,-0.00778669655904074,0.23097864163180337,0.4407590527853955,-0.283223572272154,-0.5703905358608403,-0.38050723622315186,-0.0003002582220710259,-0.11628000080068857,-0.5436875713113277,-0.929179094020858,-0.7035050143123086,-0.37830534259463133,0.11952278959905516,0.5668274716255981,0.2929919730968633,-0.45721320335488524,-0.8093160117701224,-0.7921812758972717,-0.6572652481133775,-0.5563384510679183,-0.3892347418780151,0.11872210100686598,0.3417939427908001,0.05026322637468228,-0.06283403727205394,-0.1433032407870769,-0.19286586464359345,-0.28014092119222533,-0.2738955501731489,0.019436715575394947,0.44272073983625915,0.7702023740416759,0.5082971355365615,0.11960285845827401,-0.33751025882258745,-0.41345557179174086,-0.5340392737754469,-0.6916548231479072,-0.8310547070480614,-0.5972936725584002,-0.11900234201413218,0.5223091858998739,0.6865304161578958,0.054266669335628626,-0.4480453189743179,-0.6091038292931921,-0.5515743539443922,-0.5312368637027844,-0.4701843585483516,-0.19935144224032664,0.07204195608223074,0.5616229957763677,0.8766939568028504,0.6168705086374282,0.00970834918029495,-0.2544788518125588,-0.2515163040214584,-0.20043237183978224,-0.16328042116219954,-0.023720399543607495,0.04810136717577107,0.3401525311768121,0.8610805292551595,0.9499569629881699,0.5379626478771744,0.05666873511219639,-0.1626799047180575,-0.22969753988430053,-0.15223091858998739,-0.0738835398442661,-0.10651159997597937,0.2613647737053866,0.6392897892187281,0.6973397121524512,0.33586884720859933,-0.0805292551594371,-0.1005865043937787,-0.03436955781972495,0.20791881017675196,0.3220169345637247,0.3449166283003382,-0.25455892067177777,-0.12036351262085399,-0.08221070120303464,0.17220809896511002,0.16380086874712263,0.2945933502812419,-0.18353784254458838,-0.20503633124487064,-0.14002041755910077,0.18305742938927483,0.17208799567628152,0.19911123566266986,-0.19526793042016133,-0.19330624336929758,-0.10647156554636983,0.18161618992333417,0.22072982765178062,0.17432992373441158,-0.2607242228316352,-0.2030746441940069,-0.06063214364353342,0.2053966411113557,0.20855936105050343,0.15167043657545487,0.06135276337650386,-0.26893128090157536,-0.4137358127990072,-0.434073303040615,-0.154953259803431,0.18622014932842235,0.39323818483896145,0.4142162259543207,0.05118401825569996,-0.21364373361090538,-0.46005564785715714,-0.4648998138399023,-0.11119562824028661,0.2009127849950958,0.36785635646656134,0.49572632463918964,0.0643953800268231,-0.29955761955281546,-0.4857577516664331,-0.42102207898792965,-0.10166743399323419,0.22389254759092814,0.40124507076085436,0.4883199551614388,0.15066957583521834,-0.152110815301159,-0.4255860039634085,-0.39471945873451164,-0.025121604579938728,0.28382408871629594,0.5164641591768921,0.4109334027263447,0.21536521408411224,-0.12328602598234484,-0.39419901114958866,-0.3402726344656405,-0.09914526492783793,0.22088996537021832,0.3708189042576615,0.38090758051924656,-0.14066096843285225,-0.15247112516764416,-0.11880216986608483,0.13641731889424902,0.13241387593330267,0.2808215064955861,-0.16692355425666072,-0.1947074484056288,-0.21180214984887002,0.10394939648097368,0.14114138158816592,0.2411874211822167,-0.12957143143103067,-0.003863322457313245,-0.24238845407050058,-0.31388994535300363,-0.28750725624036677,0.01591368576976193,0.2413075244710452,0.44175991352563204,0.18365794583341666,-0.09269972176071417,-0.37522269151470267,-0.49276377684808936,-0.35256320435574595,-0.002141841984106385,0.25940308665452294,0.4655803991432632,0.31000660568088567,0.2037952639269771,-0.2578817783293632,-0.4754288688271914,-0.40745040735032123,-0.04069499769802032,0.23502211902235914,0.40668975318774137,0.46225754148567777,0.1927857957843746,-0.1267690213583682,-0.3968012490742038,-0.39892307384350545,-0.1613187341113358,0.2241327541685849,0.3250595512140442,0.5290750045038732,0.25820205376623906,0.0337690413755829,-0.375943311247673,-0.4147366735392437,-0.2334607762675901,0.15879656504593953,0.3192945933502813,0.5788378005084374,0.27741857997878183,0.03192745761354776,-0.4333126488780351,-0.5524951458254099,-0.341273495205877,-0.01867606141281497,0.2568809175891267,0.5277939027563705,0.23029805632844247,-0.11708068939287786,-0.4487259042776788,-0.565105991152391,-0.2733350681586164,0.10883359689332828,0.19779009948555748,0.4559721360369917,0.23326060411954286,0.12496747202594238,-0.38090758051924656,-0.5285945913485597,-0.49548611806153287,-0.1298917068679064,0.18485897872170076,0.33710991452649286,0.382589026562844,-0.08361190623936587,-0.4223031807354325,-0.5482114618571972,-0.3946393898752928,-0.07360329883699979,0.16003763236383284,0.4468843205156434,0.18209660307864772,-0.13277418579978784,-0.49872890685989957,-0.4996096643113077,-0.33614908821586564,0.007306283403727187,0.2089196709169887,0.5377224412995176,0.12072382248733904,-0.24843365294152975,-0.4438417038653242,-0.5436475368817183,-0.3452769381668235,0.01827571711672027,0.18606001160998464,0.4334727865964729,0.10563084252457111,-0.04373761434833956,-0.45941509698340577,-0.6392097203595092,-0.377584722861661,-0.0005404647997278023,0.21992913905959122,0.5001301118962307,0.0681986508397221,-0.2833436755609825,-0.5431270892967952,-0.45801389194707454,-0.2035150229197109,0.1264887803511019,0.26724983485797793,0.4415597413775847,-0.06479572432291769,-0.456332445903477,-0.6325640050443382,-0.4087315090978241,-0.10767259843465382,0.19342634665812608,0.47498849010148736,0.1999519586844687,-0.11972296174710251,-0.4570130312068379,-0.5410452989571031,-0.3700182156654723,-0.06355465700502427,0.18173629321216245,0.4185399443521429,0.2417479031967491,0.03937386152090805,-0.4812738955501732,-0.6474167784294493,-0.4375162639870288,-0.10082671097143547,0.17144744480253027,0.35312368637027847,0.26797045459094826,0.026803050623536162,-0.43987829533398726,-0.6223552254939249,-0.4586144083912165,-0.11315731529115036,0.21912845046740204,0.4697439798226475,0.34347538883439754,-0.17276858097964254,-0.4492863862922113,-0.5104990291650819,-0.24847368737113917,0.02235922893688569,0.25844226034389584,0.5361610985447485,0.09418099565626448,-0.2820225393838701,-0.5486118061532919,-0.473667353924375,-0.17917408971715676,0.16223952599235347,0.2776187521268292,0.5008907660588107,0.20956022179073996,-0.17681205837019842,-0.5042536581460055,-0.5735532557999881,-0.25644053886342255,0.0943811678043116,0.2535180255019316,0.6020577696819265,-0.03721200232199695,-0.3963208359188902,-0.6057009027763878,-0.4052084792921913,-0.11611986308225075,0.17621154192605637,0.37762475729127054,0.4228636627499649,0.1597173569269572,-0.3833897151550333,-0.5783974217827331,-0.47134535700702607,-0.12656884921032086,0.1636407310286847,0.35864843765638454,0.4108132994375162,0.1495486118061533,-0.3383910162739956,-0.5168645034729868,-0.4896811257681606,-0.1541525712112417,0.1413815881658227,0.3983625918289728,0.3127689813239385,-0.2878275316772424,-0.5216686350261225,-0.4924034669816042,-0.27485637648377603,0.0397341713873931,0.2812218507916808,0.5816402105810998,0.021398402626258584,-0.34619773004784116,-0.5500930800488419,-0.5009708349180295,-0.15283143503412933,0.2098404627980064,0.43323258001881615,0.4154172588426046,-0.11511900234201411,-0.5196268791160398,-0.49668715094981686,-0.28926877114318317,0.00606521608583388,0.2390255619833057,0.46890325680084866,0.2548791961086534,-0.269932141641812,-0.6134275476910143,-0.5909682326801049,-0.2861060512040354,0.039814240246612176,0.24819344636387286,0.6561042496547032,0.10062653882338801,-0.4068498909061793,-0.5708709490161539,-0.42714734671817767,-0.14698640831114762,0.20479612466721386,0.3500810697199592,0.4767099705746942,0.062113417539083615,-0.40012410673178933,-0.573032808215065,-0.4211021478471485,-0.12740957223211957,0.19378665652461113,0.43022999779810633,0.373100866745401,-0.06723782452909499,-0.5386432331805353,-0.5872049962968153,-0.3472386252176872,-0.016073823488199857,0.2093200152130832,0.5180655363612707,0.09506175310767251,-0.23994635386432328,-0.5357207198190443,-0.48259503172728546,-0.2300578497507857,0.1275697099505575,0.2909502171867806,0.4829153071641612,0.24887403166723376,-0.2660087675400845,-0.5553776247572912,-0.5460496026582862,-0.2612847048461677,0.09057789699141261,0.3104469844065896,0.4381968492903898,-0.16356066216946574,-0.4342734751886622,-0.577516664331325,-0.3717396961386793,-0.07056068218668055,0.20683788057729657,0.5564185199271374,0.13629721560542074,-0.4359148868026502,-0.5769161478871829,-0.42886882719138464,-0.1643213163320456,0.12640871149188304,0.39976379686530406,0.3762235522549393,-0.21660628140200577,-0.5563784854975279,-0.5620633745020718,-0.29803631122765584,0.051624396981404086,0.25563985027123337,0.5455691895029726,0.12004323718397814,-0.42214304301699457,-0.6347658986728586,-0.5157835738735312,-0.2444302099805833,0.05642852853453961,0.2969153471985908,0.41613787857557494,0.18281722281161805,-0.3286226154492864,-0.5645054747082491,-0.5535760754248653,-0.3203354885201273,0.06259383069439717,0.22729547410773265,0.49844866585263325,-0.11387793502412069,-0.47418780150929796,-0.6294413195347999,-0.3915167043657546,-0.09914526492783793,0.17577116320035224,0.3713393518425847,0.3587685409452128,-0.029925736133074476,-0.49016153892347414,-0.5406049202313989,-0.4168584983085454,-0.10655163440558879,0.16680345096783245,0.5576195528154213,0.10286846688151807,-0.26997217607142143,-0.5692695718317753,-0.4789518986328243,-0.22593430350101085,0.14650599515583407,0.23854514882799216,0.38358988730308075,0.10186760614128154,0.11499889905318583,-0.40464799727765877,-0.6297215605420662,-0.46714174189803226,-0.14626578857817718,0.14286286206137278,0.4450827711832175,0.21660628140200577,-0.23326060411954286,-0.5707508457273255,-0.6021378385411453,-0.32193686570450586,-0.015112997177572751,0.2350621534519688,0.5361610985447485,-0.13349480553275817,-0.4024060692195288,-0.7463818884240447,-0.4666613287427187,-0.15555377624757294,0.1304521888824388,0.3281021678643634,0.42442500550473405,0.12096402906499581,-0.4092919911123566,-0.6338451067918409,-0.5223091858998739,-0.17737254038473083,0.10006605680885561,0.2958344175991352,0.2285765758552356,-0.20275436875713115,-0.23882538983525836,-0.17100706607682603,0.0996657125127609,0.08072942730748434,0.2471525511940269,0.021998919070400635,0.05442680705406655,-0.4257061072522369,-0.6231959485157235,-0.508177032247733,-0.17457013031206836,0.1545529155073364,0.39632083591889034,0.34171387393158126,-0.3216966591268491,-0.5654262665892668,-0.6129871689653101,-0.32966351061913246,0.0246812258542346,0.24014652601237074,0.5752347018435855,0.13157315291150384,-0.35772764577536686,-0.6498989130652362,-0.5269932141641812,-0.19322617451007862,0.11271693656544635,0.3278219268570972,0.4441619793021998,0.12877074283884138,-0.442360429969774,-0.6240366715375223,-0.5277138338971515,-0.1948275516944572,0.1305722921712673,0.3276617891386593,0.47174570130312077,0.09005744940648963,-0.5111395800388334,-0.7159156874912425,-0.44492263346477967,-0.14014052084792927,0.15090978241287512,0.3092459515183057,0.285545569189503,0.10959425105590803,-0.5599415497327702,-0.620994054887203,-0.541205436675541,-0.17825329783613908,0.16464159176892124,0.43499409492163266,0.32814220229397284,-0.14814740676982208,-0.5074964469443721,-0.6400904778109173,-0.3293432351822567,-0.02215905678883845,0.17589126648918074,0.44107932822227114,0.17533078447464812,-0.1693256200332286,-0.6096242768781152,-0.5958524330924595,-0.37806513601697456,0.019116440138519097,0.20863942990972228,0.49196308825590007,0.1328542546590068,-0.19598855015313166,-0.6402906499589647,-0.5925696098644835,-0.292711732089597,0.07364333326660932,0.2566006765818605,0.5059751386192126,0.25275737133935183,-0.3059631282903297,-0.6177913005184459,-0.6175110595111797,-0.27813919971175216,0.05806994014852784,0.293392317392958,0.5101787537282063,0.056508597393758686,-0.2838641231459055,-0.651620393538443,-0.5642252337009828,-0.2238525131613187,0.09838461076525817,0.30852533178533537,0.4298696879316213,0.07304281682246727,-0.3868326761014472,-0.8131192825830214,-0.5086174109734372,-0.17521068118581984,0.13605700902776396,0.31733290629941746,0.4321116159897511,0.0489420901975699,-0.46522008927677805,-0.6758412234521689,-0.5201072922713534,-0.15335188261905242,0.11351762515763553,0.37410172748563775,0.3626518806173309,0.11764117140741037,-0.3665752547190584,-0.629961767119723,-0.5249514582540985,-0.15887663390515838,0.15139019556818867,0.43135096182717136,0.40476810056648715,-0.24382969353644135,-0.6033789058590387,-0.5943711591969094,-0.33751025882258745,0.020277438597193553,0.26712973156914943,0.5568188642232319,0.23998638829393282,-0.2596032588025702,-0.5513341473667355,-0.6582661088536141,-0.3221370378525532,0.021878815781572136,0.2788998538743319,0.5196268791160399,0.17144744480253027,-0.28894849570630743,-0.8339371859799427,-0.7810917388954501,-0.33698981123766436,0.01175010509037766,0.23514222231118764,0.4146966391096343,0.04121544528294341,-0.18986328242288364,-0.2330604319714955,0.015112997177572751,0.15147026442740752,0.14622575414856787,0.24398983125487916,-0.4121344356146286,-0.22745561182617047,-0.20563684768901258,0.09994595352002733,0.09277979061993324,0.1359769401685449,-0.3623716396100647,-0.28138198851011875,-0.18509918529935743,0.10306863902956542,0.061192625658065936,0.27661789138659243,-0.23282022539383873,-0.08569369657905801,0.02784394579338234,-0.26048401625397843,-0.4337129931741297,-0.07472426286606482,0.12364633584883,0.18838200852733356,0.14810737234021265,0.0007806713773845786,-0.5141421622595432,-0.7388554156574654,-0.5826010368917269,-0.14918830193966814,0.18638028704686027,0.34291490681986514,0.43583481794343126,0.12164461436835672,-0.44556318433853115,-0.6952979562423685,-0.6171907840743038,-0.2813419540805092,0.08441259483155505,0.24643193146105657,0.40777068278719697,-0.15703505014312313,-0.24114738675260727,-0.21632604039473946,0.028244290089477042,0.09514182196689158,0.03597093500410353,0.25860239806233354,-0.32910302860459995,-0.07860760253818289,0.02756370478611614,-0.2094401185019117,-0.3942390455791981,-0.01887623356086232,0.14650599515583407,0.277098304541906,0.035530556278399406,0.08873631322937725,-0.011229657505454682,-0.5129411293712594,-0.7179574434013252,-0.43051023880537265,-0.010709209920531704,0.17885381428028113,0.5438477090297655,0.16628300338290924,-0.40272634465640456,-0.7830133915167043,-0.662389655103389,-0.30252016734391574,0.09826450747642967,0.2829433312648879,0.43471385391436645,-0.07968853213763838,0.13333466781432035,-0.24967472025942306,-0.5222691514702644,-0.5330384130352103,-0.10999459535200273,0.1595972536381287,0.2240927197389755,0.2997577917008627,-0.26889124647196594,-0.22549392477530672,-0.1899433512821026,0.07596533018395824,0.12112416678343374,0.20115299157275257,0.17268851212042358,-0.42022139039574036,-0.24358948695878457,-0.06259383069439717,0.12060371919851076,0.05066357067077676,0.2289769201513301,-0.17609143863722798,-0.3662149448525732,-0.2346618091558741,0.028924875392837945,0.07364333326660932,0.13005184458634433,0.06723782452909499,-0.12044358148007284,-0.13717797305682888,-0.5378425445883459,-0.5196669135456493,-0.3933182536981804,0.01675440879156076,0.17853353884340528,0.3885541565746542,-0.12917108713493608,-0.283223572272154,-0.31541125367816325,-0.10254819144464244,0.12780991652821427,0.029605460696198627,0.15703505014312302,-0.06375482915307162,-0.33642932922313185,-0.2367035650659567,-0.028524531096743244,0.11628000080068857,0.08513321456452538,0.29563424545108785,-0.30063854915227095,-0.29303200752647274,-0.12768981323938589,0.13954000440378733,0.08625417859359041,0.2762976159497168,-0.17328902856456552,-0.28858818583982226,-0.21820765858638425,0.04762095402045752,0.09722361230658372,0.13025201673439168,0.09582240727025249,-0.4332726144484257,-0.3123686370278439,-0.11003462978161216,0.09398082350821713,0.11756110254819152,0.049262365634445526,-0.07124126749004145,-0.20679784614768704,-0.661268691074324,-0.8244490261624997,-0.4845166843485398,-0.001140981243869743,0.18770142322397265,0.40180555277538677,0.0055447685009106795,-0.297195588205857,-0.28278319354645,-0.04309706347458819,0.14842764777708828,0.0016614288287928325,0.26184518686070013,-0.1942670696799247,-0.4850771663630722,-0.196188722301179,0.03873331064715657,-0.05750945813399522,-0.07044057889785216,0.10022619452729353,-0.01603378905859043,-0.287787497247633,-0.3739415897671998,-0.0658766539223733,0.08577376543827686,0.06023179934743883,0.1501090938206857,0.20439578037111916,-0.07716636307224212,-0.26132473927577715,0.012190483816081787,0.18129591448645832,0.09021758712492733,0.31116760413956013,-0.2661689052585223,-0.33522829633484796,-0.11503893348279526,0.1831775326781031,0.1356966991612787,0.2631663230378125,-0.07560502031747307,-0.3226574854374762,-0.23978621614588547,0.04333727005224497,0.09750385331384992,0.19478751726484766,0.07004023460175746,-0.040334687831535154,-0.18650039033568866,-0.603058630422163,-0.6293212162459716,-0.2853453970414557,0.08973717396961378,0.2193686570450588,0.34879996797245627,-0.07612546790239605,-0.30796484977080285,-0.2903897351722481,-0.10699201313129292,0.12436695558180033,-0.02235922893688569,0.17168765138018705,0.04305702904497877,-0.4404788117781292,-0.27393558460275835,-0.061312728946894324,0.1077927017234821,0.03649138258902651,0.21836779630482206,-0.08213063234381568,-0.31973497207598534,-0.24779310206777827,0.019236543427347597,0.12849050183157518,0.1187621354364754,0.24138759333026405,-0.00534459635286344,-0.22529375262725948,-0.6185919891106351,-0.75046540024421,-0.29563424545108796,0.05574794323117871,0.2018736113057229,0.42646676141481676,0.11571951878615616,0.12412674900414356,-0.4166182917308886,-0.6666333046419921,-0.6863702784394579,-0.19066397101507293,0.13757831735292347,0.3011189623075845,0.4825149628680665,-0.2569209520187361,-0.23974618171627604,-0.2878275316772424,-0.021678643633524786,0.049902916508197004,0.042256340452789365,0.26040394739475947,-0.23762435694697437,-0.3621314330324079,-0.2652080789478952,0.07544488259903526,0.10947414776707975,0.11207638569169487,0.20923994635386434,-0.42782793202153857,-0.23598294533298636,-0.14318313749824851,0.11632003523029799,0.045298957103108606,0.23678363392517565,-0.2170466601277098,-0.484716856496587,-0.2743759633284625,-0.0027823928578577517,0.08397221610585093,0.1479072001921653,-0.08653441960085673,-0.38875432872270155,-0.29591448645835416,-0.10350901775526955,0.07476429729567435,0.06367476029385277,0.17100706607682614,-0.3885941910042636,-0.3571271293312248,-0.1716476169505775,0.11419821046099643,0.07468422843645528,0.2676501791540724,-0.27473627319494764,-0.3452769381668235,-0.30460195768360787,-0.0019817042656684603,0.04942250335288345,0.08513321456452538,0.057829733570870845,-0.5310366915547371,-0.3153712192485537,-0.19030366114858777,0.10731228856816855,-0.0007406369477750419,0.18309746381888425,-0.27853954400784675,-0.4235442480533259,-0.34631783333666954,-0.053986428328362424,0.05298556758812589,0.05094381167804318,0.23486198130392144,-0.48151410212782997,-0.3828292331405009,-0.26500790679984787,0.047540885161238666,-0.010829313209360092,0.10046640110495031,-0.04009448125387838,-0.4426807054066497,-0.32582020537662393,-0.13537642372440295,0.07860760253818277,-0.0011810156734791688,0.20655763957003015,-0.2395460095682287,-0.43199151270092284,-0.3575274736273195,-0.026202534179394332,0.09261965290149532,0.055307564505474804,0.17901395199871883,-0.5411654022459316,-0.31933462777989075,-0.20099285385431476,0.10651159997597937,0.015393238184838953,0.22213103268811185,-0.19678923874532095,-0.4240646956382489,-0.2940729026963188,-0.009027763876934158,0.06123266008767536,0.12452709330023826,0.12845046740196575,-0.4541705867045659,-0.27337510258822584,-0.13509618271713675,0.09954560922393263,0.021158196048601807,0.1702864463438558,-0.3483996236763617,-0.363612706927958,-0.35488520127309486,-0.06031186820665768,-0.21956882919310605,-0.2758972716536221,-0.0007406369477750419,0.021478471485477435,0.03621114158176031,0.140460796284805,-0.5524551113958004,-0.382068578977921,-0.2198891046299818,0.025842224312909057,-0.02644274075705111,0.06167303881337949,0.037171967892387414,-0.40152531176812056,-0.3723001781532118,-0.18553956402506155,0.0780871549532598,-0.0074263866925555755,0.12360630141922058,-0.02348019296595072,-0.43567468022499345,-0.3624116740396741,-0.10975438877434596,0.09297996276798037,0.02804411794142969,0.24707248233480783,-0.17661188622215107,-0.05726925155633844,-0.39215725523950595,-0.6605480713413536,-0.16584262465720523,0.12793001981704255,0.10547070480613319,0.32842244330123904,-0.3542446503993434,-0.4460435974938447,-0.31473066837480235,-0.012750965830614303,0.009668314750685525,0.15247112516764427,0.17356926957183183,-0.10278839802229922,-0.14894809536201137,-0.5627839942350421,-0.5199871889825249,-0.5349600656564646,-0.049782813219368616,0.1305322577416579,0.27081289909322015,0.15291150389334818,-0.38887443201152994,-0.35404447825129615,-0.22493344276077432,0.01287106911944269,-0.0005004303701182655,0.1423424144764498,-0.024200812698921048,-0.5904077506655724,-0.3494004844165983,-0.20531657225213684,0.054066497187581275,0.025281742298376653,0.1832976359669316,-0.42846848289528994,-0.342474528094161,-0.2872670496627099,-0.017995476109454178,-0.0012210501030887055,0.13809876493784645,-0.09125848229477351,-0.5150629541405609,-0.36705566787437194,-0.21504493864723662,0.03509017755269528,-0.038573172928718646,0.1263286426326642,-0.15339191704866184,-0.40640951218047516,-0.34511680044838566,-0.13925976339652102,0.103028604599956,0.020237404167584128,0.24459034769902122,-0.32357827731849387,-0.5572992773785456,-0.3434353544047881,-0.015793582480933654,0.03885341393598485,0.1176812058370198,0.11952278959905516,-0.402686310226795,-0.36721580559280986,-0.1814160177752867,0.046740196569049486,-0.013111275697099467,0.15082971355365604,-0.15439277778889848,-0.3929179094020858,-0.37522269151470267,-0.09121844786516409,0.07356326440739025,0.023640330684388644,0.2429489360850332,-0.40624937446203735,-0.43975819204515887,-0.25740136517404966,0.011630001801549383,0.0394539303801269,0.0938206857897792,0.08157015032928316,-0.4380367115719519,-0.30456192325399845,-0.25523950597513867,-0.004623976619893111,-0.02315991752907498,0.058029905718918195,0.04565926696959388,-0.5424865384230438,-0.31204836159096827,-0.2600036030986649,0.05786976800048049,0.01971695658266115,0.1979502372039954,-0.1323338070740837,-0.05991152391056309,-0.5737534279480353,-0.6191124366955582,-0.6790439778209261,-0.21600576495786372,0.09806433532838232,0.19859078807774688,0.3870728826791041,0.041735892867866387,-0.5451688452068779,-0.950837720439578,-0.9391877014232239,-0.35516544228036107,0.013671757711632093,0.1552335008106971,0.30648357587525266,0.2156854895209881,-0.12596833276617891,-0.6916147887182977,-1.0,-0.6391296515002902,-0.18277718838200852,0.12428688672258148,0.23117881377985072,0.34839962367636157,0.09013751826570848,-0.2567608143002983,-0.784014252256941,-0.7669595852433092,-0.42522569409692335,0.012270552675300861,0.1401805552775386,0.2932722141041295,0.2077186380287046,-0.016394098925075595,-0.6129471345357007,-0.9507976860099686,-0.716396100646556,-0.2653281822367236,0.0692795804391777,0.21020077266449144,0.3286226154492864,0.05218487899593649,-0.2967552094801529,-0.9206117260844326,-0.8720099285385432,-0.5563784854975279,-0.1022279160077667,0.1318934283483797,0.25808195047741056,0.04517885381428033,-0.07140140520847926,-0.7115519346638108,-0.7731248874031668,-0.6945373020797887,-0.17577116320035235,0.14662609844466234,0.1987509257961848,0.3146505995155835,0.05955121404407793,-0.2736953780251016,-0.7337710430970634,-0.7124727265448285,-0.5833616910543067,-0.14742678703685175,0.12712933122485337,0.3309045779370259,0.282262745961527,-0.1617591128370398,-0.6692355425666072,-0.9165682486938768,-0.6541825970334487,-0.15355205476709965,0.09366054807134128,0.19979182096603076,0.3181736293212163,-0.021758712492743748,-0.39023560261825174,-0.9143663550653562,-0.9009948555757952,-0.4251456252377044,-0.010869347638969518,0.13501611385791779,0.24314910823308056,0.20707808715495335,-0.18618011489881303,-0.6500190163540644,-0.9295794383169526,-0.665672478331365,-0.15187060872350222,0.11351762515763553,0.2509958564365353,0.43159116840482814,0.02864463438557152,-0.5306363472586424,-0.9773805472706527,-0.8777748864023059,-0.41305522749564627,0.034729867686210225,0.18365794583341666,0.3403927377544689,0.2508357187180976,-0.2805412654883199,-0.7139940348699882,-0.9150869747983266,-0.6078227275456893,-0.14978881838381009,0.1226855095382029,0.1694857577516664,0.40709009748383607,-0.1629601457253238,-0.6018175631042697,-0.7361731088736313,-0.28126188522129036,0.011229657505454682,0.09914526492783793,0.23302039754188608,-0.01747502852453109,-0.37518265708509313,-0.3358288127789899,-0.2364233240586905,0.06375482915307162,-0.019716956582661038,0.14706647717036647,-0.24927437596332847,-0.47102508157015033,-0.36357267249834857,-0.20031226855095385,0.049262365634445526,-0.023119883099465555,0.2997978261304721,-0.3846307824729267,-0.6630702404067498],\"type\":\"scatter\"},{\"mode\":\"markers\",\"name\":\"qg_sc[Sm3/d] predicted\",\"x\":[1,2,3,4,5,6,7,8,9,10,11,12,13,14,15,16,17,18,19,20,21,22,23,24,25,26,27,28,29,30,31,32,33,34,35,36,37,38,39,40,41,42,43,44,45,46,47,48,49,50,51,52,53,54,55,56,57,58,59,60,61,62,63,64,65,66,67,68,69,70,71,72,73,74,75,76,77,78,79,80,81,82,83,84,85,86,87,88,89,90,91,92,93,94,95,96,97,98,99,100,101,102,103,104,105,106,107,108,109,110,111,112,113,114,115,116,117,118,119,120,121,122,123,124,125,126,127,128,129,130,131,132,133,134,135,136,137,138,139,140,141,142,143,144,145,146,147,148,149,150,151,152,153,154,155,156,157,158,159,160,161,162,163,164,165,166,167,168,169,170,171,172,173,174,175,176,177,178,179,180,181,182,183,184,185,186,187,188,189,190,191,192,193,194,195,196,197,198,199,200,201,202,203,204,205,206,207,208,209,210,211,212,213,214,215,216,217,218,219,220,221,222,223,224,225,226,227,228,229,230,231,232,233,234,235,236,237,238,239,240,241,242,243,244,245,246,247,248,249,250,251,252,253,254,255,256,257,258,259,260,261,262,263,264,265,266,267,268,269,270,271,272,273,274,275,276,277,278,279,280,281,282,283,284,285,286,287,288,289,290,291,292,293,294,295,296,297,298,299,300,301,302,303,304,305,306,307,308,309,310,311,312,313,314,315,316,317,318,319,320,321,322,323,324,325,326,327,328,329,330,331,332,333,334,335,336,337,338,339,340,341,342,343,344,345,346,347,348,349,350,351,352,353,354,355,356,357,358,359,360,361,362,363,364,365,366,367,368,369,370,371,372,373,374,375,376,377,378,379,380,381,382,383,384,385,386,387,388,389,390,391,392,393,394,395,396,397,398,399,400,401,402,403,404,405,406,407,408,409,410,411,412,413,414,415,416,417,418,419,420,421,422,423,424,425,426,427,428,429,430,431,432,433,434,435,436,437,438,439,440,441,442,443,444,445,446,447,448,449,450,451,452,453,454,455,456,457,458,459,460,461,462,463,464,465,466,467,468,469,470,471,472,473,474,475,476,477,478,479,480,481,482,483,484,485,486,487,488,489,490,491,492,493,494,495,496,497,498,499,500,501,502,503,504,505,506,507,508,509,510,511,512,513,514,515,516,517,518,519,520,521,522,523,524,525,526,527,528,529,530,531,532,533,534,535,536,537,538,539,540,541,542,543,544,545,546,547,548,549,550,551,552,553,554,555,556,557,558,559,560,561,562,563,564,565,566,567,568,569,570,571,572,573,574,575,576,577,578,579,580,581,582,583,584,585,586,587,588,589,590,591,592,593,594,595,596,597,598,599,600,601,602,603,604,605,606,607,608,609,610,611,612,613,614,615,616,617,618,619,620,621,622,623,624,625,626,627,628,629,630,631,632,633,634,635,636,637,638,639,640,641,642,643,644,645,646,647,648,649,650,651,652,653,654,655,656,657,658,659,660,661,662,663,664,665,666,667,668,669,670,671,672,673,674,675,676,677,678,679,680,681,682,683,684,685,686,687,688,689,690,691,692,693,694,695,696,697,698,699,700,701,702,703,704,705,706,707,708,709,710,711,712,713,714,715,716,717,718,719,720,721,722,723,724,725,726,727,728,729,730,731,732,733,734,735,736,737,738,739,740,741,742,743,744,745,746,747,748,749,750,751,752,753,754,755,756,757,758,759,760,761,762,763,764,765,766,767,768,769,770,771,772,773,774,775,776,777,778,779,780,781,782,783,784,785,786,787,788,789,790,791,792,793,794,795,796,797,798,799,800,801,802,803,804,805,806,807,808,809,810,811,812,813,814,815,816,817,818,819,820,821,822,823,824,825,826,827,828,829,830,831,832,833,834,835,836,837,838,839,840,841,842,843,844,845,846,847,848,849,850,851,852,853,854,855,856,857,858,859,860,861,862,863,864,865,866,867,868,869,870,871,872,873,874,875,876,877,878,879,880,881,882,883,884,885,886,887,888,889,890,891,892,893,894,895,896,897,898,899,900,901,902,903,904,905,906,907,908,909,910,911,912,913,914,915,916,917,918,919,920,921,922,923,924,925,926,927,928,929,930,931,932,933,934,935,936,937,938,939,940,941,942,943,944,945,946,947,948,949,950,951,952,953,954,955,956,957,958,959,960,961,962,963,964,965,966,967,968,969,970,971,972,973,974,975,976,977,978,979,980,981,982,983,984,985,986,987,988,989,990,991,992,993,994,995,996,997,998,999,1000,1001,1002,1003,1004,1005,1006,1007,1008,1009,1010,1011,1012,1013,1014,1015,1016,1017,1018,1019,1020,1021,1022,1023,1024,1025,1026,1027,1028,1029,1030,1031,1032,1033,1034,1035,1036,1037,1038,1039,1040,1041,1042,1043,1044,1045,1046,1047,1048,1049,1050,1051,1052,1053,1054,1055,1056,1057,1058,1059,1060,1061,1062,1063,1064,1065,1066,1067,1068,1069,1070,1071,1072,1073,1074,1075,1076,1077,1078,1079,1080,1081,1082,1083,1084,1085,1086,1087,1088,1089,1090,1091,1092,1093,1094,1095,1096,1097,1098,1099,1100,1101,1102,1103,1104,1105,1106,1107,1108,1109,1110,1111,1112,1113,1114,1115,1116,1117,1118,1119,1120,1121,1122,1123,1124,1125,1126,1127,1128,1129,1130,1131,1132,1133,1134,1135,1136,1137,1138,1139,1140,1141,1142,1143,1144,1145,1146,1147,1148,1149,1150,1151,1152,1153,1154,1155,1156,1157,1158,1159,1160,1161,1162,1163,1164,1165,1166,1167,1168,1169,1170,1171,1172,1173,1174,1175,1176,1177,1178,1179,1180,1181,1182,1183,1184,1185,1186,1187,1188,1189,1190,1191,1192,1193,1194,1195,1196,1197,1198,1199,1200,1201,1202,1203,1204,1205,1206,1207,1208,1209,1210,1211,1212,1213,1214,1215,1216,1217,1218,1219,1220,1221,1222,1223,1224,1225,1226,1227,1228,1229,1230,1231,1232,1233,1234,1235,1236,1237,1238,1239,1240,1241,1242,1243,1244,1245,1246,1247,1248,1249,1250,1251,1252,1253,1254,1255,1256,1257,1258,1259,1260,1261,1262,1263,1264,1265,1266,1267,1268],\"y\":[0.21537885069847107,0.20231562852859497,0.4684169888496399,0.6273718476295471,0.7283297181129456,0.7897650599479675,0.1543632596731186,-0.22403214871883392,-0.44428500533103943,-0.30622562766075134,0.008671915158629417,0.2282262146472931,0.44812309741973877,0.290890097618103,0.01183727104216814,-0.18399333953857422,-0.2919447422027588,-0.2860245704650879,-0.10510365664958954,0.07108175754547119,0.3427743911743164,0.05016965791583061,-0.06074611842632294,-0.2731356918811798,-0.3890934884548187,-0.3573516309261322,-0.24596716463565826,-0.1325070858001709,-0.013972586020827293,-0.3351551592350006,-0.5154200792312622,-0.17058055102825165,0.06213206425309181,-0.19026987254619598,-0.5402489900588989,-0.776790976524353,-0.6742848753929138,-0.3785307705402374,0.23232899606227875,0.7530763745307922,0.2413487434387207,-0.5972731709480286,-0.6021385192871094,-0.5685662627220154,-0.6780331134796143,-0.5739477872848511,-0.541819155216217,0.06453573703765869,0.188580721616745,-0.08316531032323837,-0.021521752700209618,-0.13083060085773468,-0.31410905718803406,-0.35792335867881775,-0.3265022039413452,-0.16324958205223083,0.5811095833778381,0.7049617171287537,0.3651134967803955,0.09719797223806381,-0.3683760166168213,-0.4973890781402588,-0.6195510029792786,-0.7054342031478882,-0.7365227937698364,-0.5981552600860596,-0.2801055610179901,0.679677426815033,0.6056864857673645,0.20982931554317474,-0.2739998698234558,-0.5196172595024109,-0.6044975519180298,-0.6097333431243896,-0.38974711298942566,-0.32218149304389954,-0.12552595138549805,0.7016296982765198,0.8439473509788513,0.5766066908836365,-0.14720915257930756,-0.3550443947315216,-0.3174150586128235,-0.31719449162483215,-0.192122220993042,-0.1836935579776764,-0.12819936871528625,0.37242841720581055,0.8995038866996765,0.6600502729415894,0.16962122917175293,-0.07246030867099762,-0.15175309777259827,-0.34390389919281006,-0.34246566891670227,-0.3138737082481384,-0.25201934576034546,0.2449234575033188,0.6989096403121948,0.6869609951972961,0.2522384226322174,-0.3065364956855774,-0.21554681658744812,-0.18735477328300476,0.1832723468542099,0.4152757227420807,0.42741063237190247,-0.24986936151981354,-0.28606978058815,-0.1560024917125702,0.02549700252711773,0.04697669297456741,0.12646913528442383,-0.4094383418560028,-0.35463234782218933,-0.1913968324661255,0.24872136116027832,0.21161669492721558,0.21220886707305908,-0.271186888217926,-0.35542619228363037,-0.20345529913902283,0.15639208257198334,0.16844961047172546,0.009696871973574162,-0.36817464232444763,-0.42171356081962585,-0.11763904988765717,0.10319288074970245,0.198161780834198,0.07596691697835922,-0.1576204150915146,-0.5300410985946655,-0.4356510043144226,-0.37380093336105347,-0.23951423168182373,-0.05820793658494949,0.2264505922794342,0.19817708432674408,0.2176939845085144,-0.0839538499712944,-0.4304432272911072,-0.35476505756378174,-0.20707742869853973,0.17541766166687012,0.15686583518981934,0.45768311619758606,0.12960262596607208,-0.11369797587394714,-0.33694300055503845,-0.4218745231628418,-0.15390729904174805,0.12507107853889465,0.25212395191192627,0.4400956630706787,0.010525462217628956,-0.2638578712940216,-0.3230731189250946,-0.47237345576286316,0.04859118536114693,0.16399364173412323,0.3384389877319336,0.2690731883049011,0.13041135668754578,-0.10263371467590332,-0.21612490713596344,-0.3230755031108856,-0.09549641609191895,0.043819885700941086,0.2233482152223587,0.4045911431312561,-0.14801408350467682,-0.047928616404533386,0.07252249121665955,0.2608819007873535,0.2785804271697998,0.18953841924667358,-0.34419572353363037,-0.24400915205478668,-0.3063541650772095,0.13275855779647827,0.1220061257481575,0.2504289448261261,-0.18621593713760376,-0.0644146129488945,-0.3988446295261383,-0.45453712344169617,-0.43415015935897827,-0.013628114014863968,0.11503644287586212,0.5096280574798584,0.13443204760551453,0.028125297278165817,-0.3896724581718445,-0.5768393874168396,-0.4915201663970947,-0.043516285717487335,0.21261513233184814,0.41806867718696594,0.2587555944919586,0.37316733598709106,-0.09281530976295471,-0.27847176790237427,-0.24812248349189758,-0.05879068374633789,0.144890695810318,0.3681997060775757,0.45793616771698,0.25800761580467224,-0.038174185901880264,-0.3041921555995941,-0.4207797944545746,-0.17259585857391357,0.004187678452581167,0.27491962909698486,0.46580880880355835,0.13089977204799652,0.08029914647340775,-0.3160417675971985,-0.4068496823310852,-0.15801873803138733,-0.15652787685394287,0.20855572819709778,0.554222583770752,0.2019180804491043,0.1450074166059494,-0.3129225969314575,-0.5102957487106323,-0.2817930281162262,-0.20687109231948853,0.04190388321876526,0.5555844902992249,0.06140328571200371,-0.12186209112405777,-0.3686258792877197,-0.4944639801979065,-0.18606680631637573,0.027013400569558144,0.032402172684669495,0.48088276386260986,0.2834972143173218,0.030624505132436752,-0.43916383385658264,-0.6113529801368713,-0.5078524351119995,-0.07434562593698502,0.23823031783103943,0.4967211186885834,0.40184885263442993,-0.21475273370742798,-0.5379843711853027,-0.5311834216117859,-0.4342031180858612,-0.24403749406337738,0.06702439486980438,0.3900921046733856,0.06440179795026779,-0.061559081077575684,-0.33923983573913574,-0.279287725687027,-0.21416424214839935,0.06060122326016426,0.1534200757741928,0.5677149891853333,0.2534942030906677,-0.055098507553339005,-0.22135795652866364,-0.2767139673233032,-0.2521373927593231,0.04480370134115219,0.10170262306928635,0.35218337178230286,0.15972651541233063,-0.11842519044876099,-0.3650013208389282,-0.47562333941459656,-0.3408920466899872,0.019323861226439476,0.12681563198566437,0.4954405128955841,0.0973711907863617,-0.2331053912639618,-0.3770407736301422,-0.37092894315719604,-0.18721039593219757,0.14030618965625763,0.17080727219581604,0.4349176585674286,0.008232883177697659,-0.2734346091747284,-0.36989423632621765,-0.28220903873443604,0.0051590632647275925,0.15488092601299286,0.4929499626159668,0.2314310371875763,-0.0018533742986619473,-0.29736649990081787,-0.2950515151023865,-0.2560109496116638,-0.06946388632059097,0.22726012766361237,0.5550493001937866,0.17773619294166565,-0.049079082906246185,-0.5179331302642822,-0.6213204860687256,-0.4881914258003235,-0.03968924283981323,0.13136400282382965,0.4383533000946045,0.11879155784845352,0.03224656358361244,-0.3918316662311554,-0.5148910284042358,-0.47874215245246887,-0.1301712691783905,0.29009708762168884,0.5179594159126282,0.23961696028709412,-0.03227002173662186,-0.4119388461112976,-0.30662649869918823,-0.1960776299238205,0.1953379213809967,0.25784924626350403,0.5758867263793945,0.07828112691640854,-0.24811787903308868,-0.41402244567871094,-0.40579351782798767,-0.13233108818531036,0.2448083907365799,0.2311062216758728,0.49396681785583496,0.15444427728652954,-0.2934851050376892,-0.38108474016189575,-0.45387664437294006,-0.15220080316066742,0.19429628551006317,0.18248100578784943,0.5599110126495361,-0.0073731387965381145,-0.2617240846157074,-0.46666213870048523,-0.39703369140625,-0.005331286694854498,0.2989481985569,0.29033154249191284,0.4313265085220337,0.12377265840768814,-0.298484206199646,-0.3656349778175354,-0.36660799384117126,0.03192375227808952,0.18946516513824463,0.28410178422927856,0.485584557056427,0.130950927734375,-0.45559096336364746,-0.5639067888259888,-0.5029489994049072,-0.18468844890594482,0.23499809205532074,0.6332539319992065,0.3761569857597351,-0.13616710901260376,-0.5343085527420044,-0.48847776651382446,-0.23511594533920288,0.06530588865280151,0.2558481991291046,0.5744625926017761,0.01515307929366827,-0.2816525101661682,-0.5019496083259583,-0.3086788058280945,-0.07168328762054443,0.24605059623718262,0.5034382343292236,0.44149065017700195,-0.017463425174355507,-0.4593854248523712,-0.31491619348526,-0.07229579240083694,0.11720254272222519,0.2472863644361496,0.4512585699558258,0.19465212523937225,-0.22139514982700348,-0.4827115535736084,-0.39777278900146484,-0.34169039130210876,0.09438573569059372,0.23508727550506592,0.5991095900535583,0.07114656269550323,-0.3766142427921295,-0.47574761509895325,-0.2635488510131836,-0.03838351368904114,0.34975728392601013,0.24840691685676575,0.3992193937301636,0.14482417702674866,-0.3341325521469116,-0.4112406075000763,-0.25761330127716064,-0.05752212554216385,0.24545949697494507,0.37680843472480774,0.4119213819503784,0.023273764178156853,-0.3217732906341553,-0.3274229168891907,-0.23273292183876038,0.1737249791622162,0.2976304292678833,0.5671828389167786,0.13409192860126495,-0.3373786509037018,-0.5448375344276428,-0.5269991755485535,-0.22908802330493927,0.2958410978317261,0.4497517943382263,0.5800831913948059,0.20902886986732483,-0.40219536423683167,-0.5968425273895264,-0.41243821382522583,-0.2991683781147003,0.02460303343832493,0.287676066160202,0.41780218482017517,-0.07791971415281296,-0.33125144243240356,-0.4211655259132385,-0.11560976505279541,0.19101403653621674,0.4603782296180725,0.6531924605369568,0.17124824225902557,-0.3683997094631195,-0.48617225885391235,-0.2678678631782532,-0.04950758442282677,0.35841241478919983,0.5272810459136963,0.31290194392204285,-0.1588287204504013,-0.512956440448761,-0.42067378759384155,-0.13714776933193207,0.21052603423595428,0.3387657701969147,0.5839011073112488,0.11159583926200867,-0.34323379397392273,-0.4634879231452942,-0.24730779230594635,-0.14095468819141388,0.23954758048057556,0.28556376695632935,0.35218268632888794,0.21546868979930878,-0.28691551089286804,-0.4227028489112854,-0.3759496510028839,-0.21161454916000366,0.19744600355625153,0.24035939574241638,0.5046915411949158,-0.06761924177408218,-0.3499006927013397,-0.43994033336639404,-0.2917299270629883,0.03529985249042511,0.3242296278476715,0.5816943645477295,0.32757753133773804,0.007925045676529408,-0.4701641798019409,-0.5660048127174377,-0.4132224917411804,0.044386569410562515,0.29574939608573914,0.6657838225364685,-0.057779666036367416,-0.37651526927948,-0.6107990741729736,-0.3387088477611542,-0.20034870505332947,0.2115596979856491,0.3931509554386139,0.3388833999633789,0.18285128474235535,0.06879255175590515,-0.2847682237625122,-0.364665687084198,-0.439506471157074,-0.11316593736410141,0.20189808309078217,0.5696878433227539,0.3001803457736969,-0.21197350323200226,-0.40909916162490845,-0.5277599096298218,-0.322543203830719,0.222859725356102,0.2177453637123108,0.5204063057899475,-0.17799067497253418,-0.4609367847442627,-0.5772603750228882,-0.40516334772109985,-0.0029742924962192774,0.23089206218719482,0.3230135440826416,0.3276062607765198,0.13390927016735077,-0.29944127798080444,-0.4237793982028961,-0.306885302066803,-0.02542208321392536,0.1767219752073288,0.22134463489055634,0.3182622492313385,-0.1367749720811844,-0.1338060051202774,0.004006471950560808,0.2584872841835022,0.22452737390995026,0.3138422966003418,-0.060393087565898895,-0.018325848504900932,-0.38786470890045166,-0.48004060983657837,-0.38036367297172546,-0.15032224357128143,0.26915138959884644,0.6666966080665588,0.25150012969970703,-0.24341066181659698,-0.5187696814537048,-0.5097931623458862,-0.2222127467393875,0.24792082607746124,0.32197806239128113,0.599740207195282,-0.14608104526996613,-0.43874409794807434,-0.6290208697319031,-0.3008662164211273,-0.13866588473320007,0.20900340378284454,0.3110339641571045,0.21880589425563812,0.0264736358076334,-0.3676984906196594,-0.5083774924278259,-0.31778669357299805,-0.11262547969818115,0.23881492018699646,0.35426339507102966,0.44485828280448914,0.039332613348960876,-0.2961583733558655,-0.5154013633728027,-0.3911769986152649,-0.05793912336230278,0.2080104798078537,0.30342069268226624,0.3129439651966095,0.007768981158733368,-0.3995925784111023,-0.4443313479423523,-0.4284435510635376,0.0253863874822855,0.09538523107767105,0.40595608949661255,0.18786820769309998,-0.163504496216774,-0.4209862947463989,-0.449943482875824,-0.24715013802051544,0.23986299335956573,0.14003261923789978,0.43167978525161743,0.14896772801876068,-0.22486267983913422,-0.42800286412239075,-0.4348382353782654,-0.2824825644493103,0.21982744336128235,0.1601189523935318,0.5431830883026123,0.14404775202274323,-0.16502085328102112,-0.6006117463111877,-0.5431422591209412,-0.30029287934303284,0.15155193209648132,0.3887008726596832,0.5854555368423462,0.27406826615333557,-0.1589878499507904,-0.5139102339744568,-0.4713803827762604,-0.2065497487783432,0.09674353897571564,0.17703095078468323,0.5272892117500305,0.09678902477025986,-0.209169402718544,-0.6348853707313538,-0.362504780292511,-0.23917655646800995,0.20661553740501404,0.3962078392505646,0.44329434633255005,0.12449998408555984,-0.31619253754615784,-0.4491935968399048,-0.3581124246120453,-0.05154847726225853,0.19196106493473053,0.294390469789505,0.33514490723609924,-0.018562449142336845,-0.3933507800102234,-0.5450800657272339,-0.5200831294059753,-0.052363377064466476,0.14114071428775787,0.3477184772491455,0.35062873363494873,0.01874033734202385,-0.3016914129257202,-0.4326609671115875,-0.38943225145339966,0.008085640147328377,0.09716923534870148,0.40445956587791443,0.3136884272098541,-0.22517655789852142,-0.491434246301651,-0.455115407705307,-0.41814038157463074,0.16370749473571777,0.19769713282585144,0.38401421904563904,0.29976969957351685,-0.1948854774236679,-0.4157743752002716,-0.4630054533481598,-0.3618698716163635,0.11894932389259338,0.08746238797903061,0.6228594183921814,0.09246911853551865,-0.37609732151031494,-0.643795371055603,-0.6400308609008789,-0.3578714430332184,0.1945594698190689,0.2629954218864441,0.5323812365531921,-0.08472760021686554,-0.2141403704881668,-0.27010661363601685,0.15857817232608795,0.12300822883844376,0.014300934970378876,0.21926090121269226,-0.40586382150650024,-0.315385103225708,-0.2902372479438782,0.04452664405107498,0.20685939490795135,0.15105195343494415,-0.44556087255477905,-0.3729521632194519,-0.1860026717185974,0.2645665109157562,0.24272698163986206,0.38286978006362915,-0.14801035821437836,-0.10592654347419739,0.08175870776176453,-0.1675201654434204,-0.409756600856781,-0.14561179280281067,0.11651622503995895,0.21088938415050507,0.2803753912448883,0.03496728464961052,-0.4223286211490631,-0.4916970431804657,-0.48531562089920044,-0.21373197436332703,0.2610076069831848,0.2544168531894684,0.5180910229682922,0.005516442935913801,-0.29192113876342773,-0.4428181052207947,-0.5426142811775208,-0.2879844307899475,-0.029550345614552498,0.20207318663597107,0.25229933857917786,-0.19476701319217682,-0.03734146058559418,-0.09982293099164963,0.12315555661916733,0.17370006442070007,-0.09208881109952927,0.113028384745121,-0.336275577545166,-0.1033492386341095,-0.020086102187633514,-0.35882848501205444,-0.42908668518066406,0.04609685763716698,0.09828927367925644,0.4027698040008545,0.07852595299482346,0.28646257519721985,-0.002239968627691269,-0.4930780529975891,-0.6789277195930481,-0.4189221262931824,-0.08443896472454071,0.15255074203014374,0.544730007648468,0.2780918776988983,-0.13116803765296936,-0.47981444001197815,-0.5253516435623169,-0.3033624291419983,0.08845411986112595,0.25400710105895996,0.2811427116394043,-0.1270313411951065,0.11419588327407837,-0.05122780054807663,-0.5164697170257568,-0.36113864183425903,-0.19767345488071442,0.0887535884976387,0.03807538375258446,0.23151393234729767,-0.293153315782547,-0.24110499024391174,-0.29333019256591797,0.11773204803466797,0.20945832133293152,0.11415626108646393,0.15529859066009521,-0.40491151809692383,-0.40704360604286194,-0.04192954674363136,0.09038206189870834,0.10934236645698547,0.08656544983386993,-0.1534801721572876,-0.3190622925758362,-0.3143469989299774,0.09893730282783508,0.03583793342113495,0.18223395943641663,0.10146860033273697,-0.09518367797136307,-0.30978602170944214,-0.46875685453414917,-0.4492570161819458,-0.371916264295578,-0.07125935703516006,0.24365049600601196,0.5041698217391968,-0.08281119912862778,-0.20055295526981354,-0.301453560590744,-0.06226250156760216,0.15693239867687225,0.10172808170318604,0.1468120962381363,-0.12623906135559082,-0.3528099060058594,-0.3007908761501312,0.13338230550289154,0.02958768792450428,-0.1307886391878128,0.05324869602918625,-0.24425746500492096,-0.2676877975463867,-0.16615350544452667,0.14071936905384064,-0.028755152598023415,0.20601944625377655,-0.3663080036640167,-0.45482733845710754,-0.37923064827919006,0.07478674501180649,0.018915163353085518,0.06209355592727661,-0.036793678998947144,-0.42022010684013367,-0.351839154958725,-0.05323014035820961,0.13613587617874146,0.1977946162223816,-0.015254249796271324,0.045376554131507874,-0.2883395850658417,-0.529849112033844,-0.6055881381034851,-0.40462490916252136,-0.089628204703331,0.10883595794439316,0.3795442283153534,0.08750107139348984,-0.11506722867488861,-0.03430113568902016,0.1658787578344345,0.07803434133529663,0.09336206316947937,0.002235803520306945,-0.3848781883716583,-0.37366536259651184,-0.17166927456855774,0.15333785116672516,-0.0034095062874257565,0.018418962135910988,0.03899731487035751,-0.04642084240913391,-0.27409905195236206,-0.14789068698883057,0.05726546421647072,0.17874908447265625,0.20861634612083435,0.3965959846973419,0.344806969165802,0.0457209050655365,-0.23993976414203644,-0.03644860163331032,-0.04304640367627144,-0.011255292221903801,0.320826917886734,-0.25501513481140137,-0.3432229459285736,-0.2703813314437866,0.15072646737098694,0.14919008314609528,0.22179020941257477,-0.21284709870815277,-0.3762112557888031,-0.35766875743865967,0.0023928682785481215,-0.10994220525026321,0.08191722631454468,-0.11303436011075974,-0.21987004578113556,-0.3427988588809967,-0.599687933921814,-0.550710916519165,-0.3097229599952698,0.02615695260465145,0.2090349644422531,0.3646389842033386,0.15821625292301178,-0.24360209703445435,-0.32463139295578003,-0.1821642816066742,-0.031063778325915337,-0.0672648698091507,-0.07518074661493301,-0.058142393827438354,-0.4045538902282715,-0.29849377274513245,0.02462329901754856,-0.07486673444509506,-0.10957356542348862,0.05990614369511604,-0.096488356590271,-0.36821627616882324,-0.22469952702522278,0.03497840464115143,0.041017986834049225,0.22767820954322815,0.026592401787638664,-0.03487946838140488,-0.22092244029045105,-0.44368645548820496,-0.5119115710258484,-0.3030053377151489,-0.09017686545848846,0.10501385480165482,0.4996218979358673,0.12270732969045639,0.106562539935112,-0.390875905752182,-0.571148157119751,-0.5615826845169067,-0.18860314786434174,0.16685102880001068,0.4215784966945648,0.4437900185585022,-0.03597402200102806,-0.17029091715812683,-0.20605531334877014,-0.04926702752709389,-0.056506361812353134,-0.10224293917417526,0.019391797482967377,-0.3737546503543854,-0.41016340255737305,-0.33775845170021057,-0.06040297448635101,-0.20646783709526062,-0.15956850349903107,-0.11468509584665298,-0.4021189510822296,-0.4185555875301361,-0.1648949682712555,0.12273441255092621,-0.02867061458528042,0.1783626675605774,-0.46014755964279175,-0.38679933547973633,-0.332576721906662,0.08376482874155045,0.03686131536960602,-0.04191678389906883,-0.08171174675226212,-0.5709189176559448,-0.4245811402797699,-0.20886965095996857,-0.0026522811967879534,-0.08866555243730545,-0.07137546688318253,-0.434418261051178,-0.4928939938545227,-0.2794550955295563,0.04615386575460434,-0.03844065219163895,0.12242509424686432,-0.4371993839740753,-0.43072187900543213,-0.4052105247974396,-0.08465853333473206,-0.038977522403001785,-0.07440443336963654,-0.1496967226266861,-0.47248348593711853,-0.45991694927215576,-0.30115118622779846,0.04123810678720474,-0.10575015097856522,0.20789124071598053,-0.2983502745628357,-0.4229357838630676,-0.4324483573436737,-0.0936296209692955,0.00024589523673057556,0.11416932195425034,0.20321744680404663,-0.3479573726654053,-0.37574857473373413,-0.32003360986709595,0.09779640287160873,-0.06967373192310333,-0.024684419855475426,-0.23053210973739624,-0.42095229029655457,-0.3739294409751892,-0.14989541471004486,0.01594112440943718,-0.22262875735759735,-0.007241710554808378,-0.36019402742385864,-0.4840134084224701,-0.49693965911865234,-0.04743161052465439,-0.09621194005012512,-0.04290132224559784,-0.08942127227783203,-0.5465213656425476,-0.4401150643825531,-0.20906884968280792,0.20162750780582428,-0.02891775406897068,0.061355140060186386,-0.32975685596466064,-0.5343337059020996,-0.4643333852291107,0.0333247110247612,-0.018579751253128052,-0.039399467408657074,-0.12336475402116776,-0.5595576167106628,-0.48856380581855774,-0.2408720999956131,0.12042460590600967,-0.08733490854501724,-0.05586830526590347,-0.33637306094169617,-0.5155397653579712,-0.5215092301368713,-0.0725197046995163,-0.29850447177886963,-0.3955182135105133,-0.24353007972240448,-0.14250651001930237,-0.08793579787015915,0.022501301020383835,-0.39840105175971985,-0.42924508452415466,-0.2671886682510376,0.05014872923493385,-0.052048902958631516,0.12998858094215393,0.04497164115309715,-0.3211086690425873,-0.37692394852638245,-0.16028445959091187,0.026740392670035362,0.04425150156021118,0.1539715677499771,-0.18013036251068115,-0.4183301031589508,-0.3962828814983368,-0.12819364666938782,-0.024341436102986336,-0.17113378643989563,-0.055081918835639954,-0.3884071707725525,-0.26594823598861694,-0.5358452200889587,-0.6430421471595764,-0.4156978130340576,-0.2231835126876831,-0.2610754668712616,-0.057402532547712326,-0.45807573199272156,-0.4583427906036377,-0.2779009938240051,-0.05543966963887215,-0.22383210062980652,0.0005708037060685456,-0.17564457654953003,-0.20111776888370514,-0.374068021774292,-0.49455466866493225,-0.610622763633728,-0.6354172825813293,-0.2796659767627716,-0.15247753262519836,0.17140300571918488,0.1172742173075676,-0.32048702239990234,-0.3195202648639679,-0.3639591932296753,0.068691186606884,-0.2132694274187088,-0.16251008212566376,-0.19348448514938354,-0.5046164393424988,-0.4748387336730957,-0.06250167638063431,-0.08943086862564087,-0.20966120064258575,-0.01217910647392273,-0.49712005257606506,-0.4548504650592804,-0.4247269928455353,-0.05037717521190643,-0.07924842089414597,0.07239913195371628,-0.13458381593227386,-0.4669193625450134,-0.44145965576171875,-0.32129529118537903,-0.018054787069559097,-0.08482189476490021,0.16595032811164856,-0.1727887988090515,-0.41852307319641113,-0.3675142824649811,-0.03252819925546646,0.07081286609172821,-0.010938124731183052,0.04088609293103218,-0.4256788194179535,-0.42026662826538086,-0.32466569542884827,0.06885480135679245,-0.093448206782341,-0.0805814191699028,-0.2006993442773819,-0.4827263057231903,-0.4730544984340668,-0.35325539112091064,-0.007381587754935026,-0.11519251763820648,-0.06291613727807999,-0.49358415603637695,-0.49177610874176025,-0.5015848875045776,-0.08597803860902786,0.01573624648153782,-0.1559852659702301,0.03139803931117058,-0.6182085871696472,-0.5496799349784851,-0.3584812879562378,0.009032763540744781,-0.10658640414476395,-0.02565164491534233,-0.2089720070362091,-0.6167628765106201,-0.490151047706604,-0.3291761875152588,-0.05127009004354477,-0.16107521951198578,-0.06939809024333954,-0.22316664457321167,-0.5976161360740662,-0.5112922191619873,-0.27083998918533325,-0.023468995466828346,-0.19570375978946686,0.08801041543483734,-0.3368527293205261,-0.2952433228492737,-0.6049233675003052,-0.564659595489502,-0.6589450836181641,-0.33860450983047485,0.046477701514959335,0.21014028787612915,0.40370336174964905,0.014436552301049232,-0.4917222857475281,-0.6211304664611816,-0.653489887714386,-0.2600327432155609,0.17880523204803467,0.22945474088191986,0.25650715827941895,0.21959784626960754,-0.005589441396296024,-0.4261195659637451,-0.5589420199394226,-0.6063364744186401,-0.43156278133392334,-0.174809530377388,-0.052455756813287735,0.2341005951166153,-0.012095947749912739,-0.25527817010879517,-0.5479909181594849,-0.693013608455658,-0.49513089656829834,-0.243210569024086,0.019494133070111275,0.23902930319309235,0.09108515083789825,0.04051235690712929,-0.45414990186691284,-0.6340895295143127,-0.4691404402256012,-0.3704769015312195,-0.027507513761520386,0.1319393366575241,0.27016711235046387,0.17639318108558655,-0.07764886319637299,-0.5087090134620667,-0.5480228066444397,-0.5350574851036072,-0.2449469417333603,0.043640755116939545,0.297558456659317,0.3083939552307129,0.08552595227956772,-0.4853105843067169,-0.5505373477935791,-0.41639572381973267,-0.23340079188346863,0.019745731726288795,0.2083754688501358,0.27821049094200134,0.13360409438610077,-0.14695410430431366,-0.5007986426353455,-0.5216845870018005,-0.5574119091033936,-0.2576426565647125,0.08450381457805634,0.31659793853759766,0.3888588845729828,-0.2125522792339325,-0.6113950610160828,-0.6576517224311829,-0.5704936385154724,-0.043251391500234604,0.21809525787830353,0.20193283259868622,0.24488459527492523,0.07914379239082336,-0.26318830251693726,-0.5482760667800903,-0.5951439738273621,-0.5194200277328491,-0.2827657163143158,-0.17747175693511963,0.03918134421110153,0.13224975764751434,-0.26740866899490356,-0.4908721148967743,-0.6211280822753906,-0.6073700189590454,-0.29606133699417114,-0.07689962536096573,0.19838765263557434,0.2976614236831665,0.016711240634322166,-0.2741730213165283,-0.5622075796127319,-0.5875574350357056,-0.3699250817298889,-0.1642780601978302,0.14343515038490295,0.31661665439605713,0.20364944636821747,-0.019887132570147514,-0.40225455164909363,-0.585203230381012,-0.5041930675506592,-0.3002963066101074,0.050470832735300064,0.15733352303504944,0.3559993803501129,0.00029408931732177734,-0.39185118675231934,-0.5754019021987915,-0.20810836553573608,-0.02857821434736252,-0.07269755005836487,0.19703592360019684,-0.13897736370563507,-0.38160163164138794,-0.3189318776130676,-0.3521631360054016,-0.04368859902024269,-0.1602811962366104,-0.10842031985521317,-0.2609095275402069,-0.48504194617271423,-0.45005691051483154,-0.27866190671920776,-0.037339240312576294,-0.07581733167171478,0.2921770215034485,-0.23384249210357666,-0.05953385308384895],\"type\":\"scatter\"}],                        {\"template\":{\"data\":{\"bar\":[{\"error_x\":{\"color\":\"#2a3f5f\"},\"error_y\":{\"color\":\"#2a3f5f\"},\"marker\":{\"line\":{\"color\":\"#E5ECF6\",\"width\":0.5},\"pattern\":{\"fillmode\":\"overlay\",\"size\":10,\"solidity\":0.2}},\"type\":\"bar\"}],\"barpolar\":[{\"marker\":{\"line\":{\"color\":\"#E5ECF6\",\"width\":0.5},\"pattern\":{\"fillmode\":\"overlay\",\"size\":10,\"solidity\":0.2}},\"type\":\"barpolar\"}],\"carpet\":[{\"aaxis\":{\"endlinecolor\":\"#2a3f5f\",\"gridcolor\":\"white\",\"linecolor\":\"white\",\"minorgridcolor\":\"white\",\"startlinecolor\":\"#2a3f5f\"},\"baxis\":{\"endlinecolor\":\"#2a3f5f\",\"gridcolor\":\"white\",\"linecolor\":\"white\",\"minorgridcolor\":\"white\",\"startlinecolor\":\"#2a3f5f\"},\"type\":\"carpet\"}],\"choropleth\":[{\"colorbar\":{\"outlinewidth\":0,\"ticks\":\"\"},\"type\":\"choropleth\"}],\"contour\":[{\"colorbar\":{\"outlinewidth\":0,\"ticks\":\"\"},\"colorscale\":[[0.0,\"#0d0887\"],[0.1111111111111111,\"#46039f\"],[0.2222222222222222,\"#7201a8\"],[0.3333333333333333,\"#9c179e\"],[0.4444444444444444,\"#bd3786\"],[0.5555555555555556,\"#d8576b\"],[0.6666666666666666,\"#ed7953\"],[0.7777777777777778,\"#fb9f3a\"],[0.8888888888888888,\"#fdca26\"],[1.0,\"#f0f921\"]],\"type\":\"contour\"}],\"contourcarpet\":[{\"colorbar\":{\"outlinewidth\":0,\"ticks\":\"\"},\"type\":\"contourcarpet\"}],\"heatmap\":[{\"colorbar\":{\"outlinewidth\":0,\"ticks\":\"\"},\"colorscale\":[[0.0,\"#0d0887\"],[0.1111111111111111,\"#46039f\"],[0.2222222222222222,\"#7201a8\"],[0.3333333333333333,\"#9c179e\"],[0.4444444444444444,\"#bd3786\"],[0.5555555555555556,\"#d8576b\"],[0.6666666666666666,\"#ed7953\"],[0.7777777777777778,\"#fb9f3a\"],[0.8888888888888888,\"#fdca26\"],[1.0,\"#f0f921\"]],\"type\":\"heatmap\"}],\"heatmapgl\":[{\"colorbar\":{\"outlinewidth\":0,\"ticks\":\"\"},\"colorscale\":[[0.0,\"#0d0887\"],[0.1111111111111111,\"#46039f\"],[0.2222222222222222,\"#7201a8\"],[0.3333333333333333,\"#9c179e\"],[0.4444444444444444,\"#bd3786\"],[0.5555555555555556,\"#d8576b\"],[0.6666666666666666,\"#ed7953\"],[0.7777777777777778,\"#fb9f3a\"],[0.8888888888888888,\"#fdca26\"],[1.0,\"#f0f921\"]],\"type\":\"heatmapgl\"}],\"histogram\":[{\"marker\":{\"pattern\":{\"fillmode\":\"overlay\",\"size\":10,\"solidity\":0.2}},\"type\":\"histogram\"}],\"histogram2d\":[{\"colorbar\":{\"outlinewidth\":0,\"ticks\":\"\"},\"colorscale\":[[0.0,\"#0d0887\"],[0.1111111111111111,\"#46039f\"],[0.2222222222222222,\"#7201a8\"],[0.3333333333333333,\"#9c179e\"],[0.4444444444444444,\"#bd3786\"],[0.5555555555555556,\"#d8576b\"],[0.6666666666666666,\"#ed7953\"],[0.7777777777777778,\"#fb9f3a\"],[0.8888888888888888,\"#fdca26\"],[1.0,\"#f0f921\"]],\"type\":\"histogram2d\"}],\"histogram2dcontour\":[{\"colorbar\":{\"outlinewidth\":0,\"ticks\":\"\"},\"colorscale\":[[0.0,\"#0d0887\"],[0.1111111111111111,\"#46039f\"],[0.2222222222222222,\"#7201a8\"],[0.3333333333333333,\"#9c179e\"],[0.4444444444444444,\"#bd3786\"],[0.5555555555555556,\"#d8576b\"],[0.6666666666666666,\"#ed7953\"],[0.7777777777777778,\"#fb9f3a\"],[0.8888888888888888,\"#fdca26\"],[1.0,\"#f0f921\"]],\"type\":\"histogram2dcontour\"}],\"mesh3d\":[{\"colorbar\":{\"outlinewidth\":0,\"ticks\":\"\"},\"type\":\"mesh3d\"}],\"parcoords\":[{\"line\":{\"colorbar\":{\"outlinewidth\":0,\"ticks\":\"\"}},\"type\":\"parcoords\"}],\"pie\":[{\"automargin\":true,\"type\":\"pie\"}],\"scatter\":[{\"marker\":{\"colorbar\":{\"outlinewidth\":0,\"ticks\":\"\"}},\"type\":\"scatter\"}],\"scatter3d\":[{\"line\":{\"colorbar\":{\"outlinewidth\":0,\"ticks\":\"\"}},\"marker\":{\"colorbar\":{\"outlinewidth\":0,\"ticks\":\"\"}},\"type\":\"scatter3d\"}],\"scattercarpet\":[{\"marker\":{\"colorbar\":{\"outlinewidth\":0,\"ticks\":\"\"}},\"type\":\"scattercarpet\"}],\"scattergeo\":[{\"marker\":{\"colorbar\":{\"outlinewidth\":0,\"ticks\":\"\"}},\"type\":\"scattergeo\"}],\"scattergl\":[{\"marker\":{\"colorbar\":{\"outlinewidth\":0,\"ticks\":\"\"}},\"type\":\"scattergl\"}],\"scattermapbox\":[{\"marker\":{\"colorbar\":{\"outlinewidth\":0,\"ticks\":\"\"}},\"type\":\"scattermapbox\"}],\"scatterpolar\":[{\"marker\":{\"colorbar\":{\"outlinewidth\":0,\"ticks\":\"\"}},\"type\":\"scatterpolar\"}],\"scatterpolargl\":[{\"marker\":{\"colorbar\":{\"outlinewidth\":0,\"ticks\":\"\"}},\"type\":\"scatterpolargl\"}],\"scatterternary\":[{\"marker\":{\"colorbar\":{\"outlinewidth\":0,\"ticks\":\"\"}},\"type\":\"scatterternary\"}],\"surface\":[{\"colorbar\":{\"outlinewidth\":0,\"ticks\":\"\"},\"colorscale\":[[0.0,\"#0d0887\"],[0.1111111111111111,\"#46039f\"],[0.2222222222222222,\"#7201a8\"],[0.3333333333333333,\"#9c179e\"],[0.4444444444444444,\"#bd3786\"],[0.5555555555555556,\"#d8576b\"],[0.6666666666666666,\"#ed7953\"],[0.7777777777777778,\"#fb9f3a\"],[0.8888888888888888,\"#fdca26\"],[1.0,\"#f0f921\"]],\"type\":\"surface\"}],\"table\":[{\"cells\":{\"fill\":{\"color\":\"#EBF0F8\"},\"line\":{\"color\":\"white\"}},\"header\":{\"fill\":{\"color\":\"#C8D4E3\"},\"line\":{\"color\":\"white\"}},\"type\":\"table\"}]},\"layout\":{\"annotationdefaults\":{\"arrowcolor\":\"#2a3f5f\",\"arrowhead\":0,\"arrowwidth\":1},\"autotypenumbers\":\"strict\",\"coloraxis\":{\"colorbar\":{\"outlinewidth\":0,\"ticks\":\"\"}},\"colorscale\":{\"diverging\":[[0,\"#8e0152\"],[0.1,\"#c51b7d\"],[0.2,\"#de77ae\"],[0.3,\"#f1b6da\"],[0.4,\"#fde0ef\"],[0.5,\"#f7f7f7\"],[0.6,\"#e6f5d0\"],[0.7,\"#b8e186\"],[0.8,\"#7fbc41\"],[0.9,\"#4d9221\"],[1,\"#276419\"]],\"sequential\":[[0.0,\"#0d0887\"],[0.1111111111111111,\"#46039f\"],[0.2222222222222222,\"#7201a8\"],[0.3333333333333333,\"#9c179e\"],[0.4444444444444444,\"#bd3786\"],[0.5555555555555556,\"#d8576b\"],[0.6666666666666666,\"#ed7953\"],[0.7777777777777778,\"#fb9f3a\"],[0.8888888888888888,\"#fdca26\"],[1.0,\"#f0f921\"]],\"sequentialminus\":[[0.0,\"#0d0887\"],[0.1111111111111111,\"#46039f\"],[0.2222222222222222,\"#7201a8\"],[0.3333333333333333,\"#9c179e\"],[0.4444444444444444,\"#bd3786\"],[0.5555555555555556,\"#d8576b\"],[0.6666666666666666,\"#ed7953\"],[0.7777777777777778,\"#fb9f3a\"],[0.8888888888888888,\"#fdca26\"],[1.0,\"#f0f921\"]]},\"colorway\":[\"#636efa\",\"#EF553B\",\"#00cc96\",\"#ab63fa\",\"#FFA15A\",\"#19d3f3\",\"#FF6692\",\"#B6E880\",\"#FF97FF\",\"#FECB52\"],\"font\":{\"color\":\"#2a3f5f\"},\"geo\":{\"bgcolor\":\"white\",\"lakecolor\":\"white\",\"landcolor\":\"#E5ECF6\",\"showlakes\":true,\"showland\":true,\"subunitcolor\":\"white\"},\"hoverlabel\":{\"align\":\"left\"},\"hovermode\":\"closest\",\"mapbox\":{\"style\":\"light\"},\"paper_bgcolor\":\"white\",\"plot_bgcolor\":\"#E5ECF6\",\"polar\":{\"angularaxis\":{\"gridcolor\":\"white\",\"linecolor\":\"white\",\"ticks\":\"\"},\"bgcolor\":\"#E5ECF6\",\"radialaxis\":{\"gridcolor\":\"white\",\"linecolor\":\"white\",\"ticks\":\"\"}},\"scene\":{\"xaxis\":{\"backgroundcolor\":\"#E5ECF6\",\"gridcolor\":\"white\",\"gridwidth\":2,\"linecolor\":\"white\",\"showbackground\":true,\"ticks\":\"\",\"zerolinecolor\":\"white\"},\"yaxis\":{\"backgroundcolor\":\"#E5ECF6\",\"gridcolor\":\"white\",\"gridwidth\":2,\"linecolor\":\"white\",\"showbackground\":true,\"ticks\":\"\",\"zerolinecolor\":\"white\"},\"zaxis\":{\"backgroundcolor\":\"#E5ECF6\",\"gridcolor\":\"white\",\"gridwidth\":2,\"linecolor\":\"white\",\"showbackground\":true,\"ticks\":\"\",\"zerolinecolor\":\"white\"}},\"shapedefaults\":{\"line\":{\"color\":\"#2a3f5f\"}},\"ternary\":{\"aaxis\":{\"gridcolor\":\"white\",\"linecolor\":\"white\",\"ticks\":\"\"},\"baxis\":{\"gridcolor\":\"white\",\"linecolor\":\"white\",\"ticks\":\"\"},\"bgcolor\":\"#E5ECF6\",\"caxis\":{\"gridcolor\":\"white\",\"linecolor\":\"white\",\"ticks\":\"\"}},\"title\":{\"x\":0.05},\"xaxis\":{\"automargin\":true,\"gridcolor\":\"white\",\"linecolor\":\"white\",\"ticks\":\"\",\"title\":{\"standoff\":15},\"zerolinecolor\":\"white\",\"zerolinewidth\":2},\"yaxis\":{\"automargin\":true,\"gridcolor\":\"white\",\"linecolor\":\"white\",\"ticks\":\"\",\"title\":{\"standoff\":15},\"zerolinecolor\":\"white\",\"zerolinewidth\":2}}},\"title\":{\"text\":\"qg_sc[Sm3/d]\"},\"height\":900,\"width\":1600},                        {\"responsive\": true}                    ).then(function(){\n",
              "                            \n",
              "var gd = document.getElementById('822741aa-3eaf-48dd-ae76-b68517ad5105');\n",
              "var x = new MutationObserver(function (mutations, observer) {{\n",
              "        var display = window.getComputedStyle(gd).display;\n",
              "        if (!display || display === 'none') {{\n",
              "            console.log([gd, 'removed!']);\n",
              "            Plotly.purge(gd);\n",
              "            observer.disconnect();\n",
              "        }}\n",
              "}});\n",
              "\n",
              "// Listen for the removal of the full notebook cells\n",
              "var notebookContainer = gd.closest('#notebook-container');\n",
              "if (notebookContainer) {{\n",
              "    x.observe(notebookContainer, {childList: true});\n",
              "}}\n",
              "\n",
              "// Listen for the clearing of the current output cell\n",
              "var outputEl = gd.closest('.output');\n",
              "if (outputEl) {{\n",
              "    x.observe(outputEl, {childList: true});\n",
              "}}\n",
              "\n",
              "                        })                };                            </script>        </div>\n",
              "</body>\n",
              "</html>"
            ]
          },
          "metadata": {}
        }
      ]
    },
    {
      "cell_type": "code",
      "source": [
        "plot_approximation(outputs[1], predicted_data2).show()"
      ],
      "metadata": {
        "id": "ZSXpSNxQyBNk",
        "outputId": "269c022e-c835-4564-a9ae-8605197bf2a9",
        "colab": {
          "base_uri": "https://localhost:8080/",
          "height": 937
        }
      },
      "execution_count": 94,
      "outputs": [
        {
          "output_type": "display_data",
          "data": {
            "text/html": [
              "<html>\n",
              "<head><meta charset=\"utf-8\" /></head>\n",
              "<body>\n",
              "    <div>            <script src=\"https://cdnjs.cloudflare.com/ajax/libs/mathjax/2.7.5/MathJax.js?config=TeX-AMS-MML_SVG\"></script><script type=\"text/javascript\">if (window.MathJax) {MathJax.Hub.Config({SVG: {font: \"STIX-Web\"}});}</script>                <script type=\"text/javascript\">window.PlotlyConfig = {MathJaxConfig: 'local'};</script>\n",
              "        <script src=\"https://cdn.plot.ly/plotly-2.8.3.min.js\"></script>                <div id=\"95d34f41-73f1-46eb-ba9d-05a66a6c711a\" class=\"plotly-graph-div\" style=\"height:900px; width:1600px;\"></div>            <script type=\"text/javascript\">                                    window.PLOTLYENV=window.PLOTLYENV || {};                                    if (document.getElementById(\"95d34f41-73f1-46eb-ba9d-05a66a6c711a\")) {                    Plotly.newPlot(                        \"95d34f41-73f1-46eb-ba9d-05a66a6c711a\",                        [{\"mode\":\"markers\",\"name\":\"qo_sc[Sm3/d] actual graphic\",\"x\":[1,2,3,4,5,6,7,8,9,10,11,12,13,14,15,16,17,18,19,20,21,22,23,24,25,26,27,28,29,30,31,32,33,34,35,36,37,38,39,40,41,42,43,44,45,46,47,48,49,50,51,52,53,54,55,56,57,58,59,60,61,62,63,64,65,66,67,68,69,70,71,72,73,74,75,76,77,78,79,80,81,82,83,84,85,86,87,88,89,90,91,92,93,94,95,96,97,98,99,100,101,102,103,104,105,106,107,108,109,110,111,112,113,114,115,116,117,118,119,120,121,122,123,124,125,126,127,128,129,130,131,132,133,134,135,136,137,138,139,140,141,142,143,144,145,146,147,148,149,150,151,152,153,154,155,156,157,158,159,160,161,162,163,164,165,166,167,168,169,170,171,172,173,174,175,176,177,178,179,180,181,182,183,184,185,186,187,188,189,190,191,192,193,194,195,196,197,198,199,200,201,202,203,204,205,206,207,208,209,210,211,212,213,214,215,216,217,218,219,220,221,222,223,224,225,226,227,228,229,230,231,232,233,234,235,236,237,238,239,240,241,242,243,244,245,246,247,248,249,250,251,252,253,254,255,256,257,258,259,260,261,262,263,264,265,266,267,268,269,270,271,272,273,274,275,276,277,278,279,280,281,282,283,284,285,286,287,288,289,290,291,292,293,294,295,296,297,298,299,300,301,302,303,304,305,306,307,308,309,310,311,312,313,314,315,316,317,318,319,320,321,322,323,324,325,326,327,328,329,330,331,332,333,334,335,336,337,338,339,340,341,342,343,344,345,346,347,348,349,350,351,352,353,354,355,356,357,358,359,360,361,362,363,364,365,366,367,368,369,370,371,372,373,374,375,376,377,378,379,380,381,382,383,384,385,386,387,388,389,390,391,392,393,394,395,396,397,398,399,400,401,402,403,404,405,406,407,408,409,410,411,412,413,414,415,416,417,418,419,420,421,422,423,424,425,426,427,428,429,430,431,432,433,434,435,436,437,438,439,440,441,442,443,444,445,446,447,448,449,450,451,452,453,454,455,456,457,458,459,460,461,462,463,464,465,466,467,468,469,470,471,472,473,474,475,476,477,478,479,480,481,482,483,484,485,486,487,488,489,490,491,492,493,494,495,496,497,498,499,500,501,502,503,504,505,506,507,508,509,510,511,512,513,514,515,516,517,518,519,520,521,522,523,524,525,526,527,528,529,530,531,532,533,534,535,536,537,538,539,540,541,542,543,544,545,546,547,548,549,550,551,552,553,554,555,556,557,558,559,560,561,562,563,564,565,566,567,568,569,570,571,572,573,574,575,576,577,578,579,580,581,582,583,584,585,586,587,588,589,590,591,592,593,594,595,596,597,598,599,600,601,602,603,604,605,606,607,608,609,610,611,612,613,614,615,616,617,618,619,620,621,622,623,624,625,626,627,628,629,630,631,632,633,634,635,636,637,638,639,640,641,642,643,644,645,646,647,648,649,650,651,652,653,654,655,656,657,658,659,660,661,662,663,664,665,666,667,668,669,670,671,672,673,674,675,676,677,678,679,680,681,682,683,684,685,686,687,688,689,690,691,692,693,694,695,696,697,698,699,700,701,702,703,704,705,706,707,708,709,710,711,712,713,714,715,716,717,718,719,720,721,722,723,724,725,726,727,728,729,730,731,732,733,734,735,736,737,738,739,740,741,742,743,744,745,746,747,748,749,750,751,752,753,754,755,756,757,758,759,760,761,762,763,764,765,766,767,768,769,770,771,772,773,774,775,776,777,778,779,780,781,782,783,784,785,786,787,788,789,790,791,792,793,794,795,796,797,798,799,800,801,802,803,804,805,806,807,808,809,810,811,812,813,814,815,816,817,818,819,820,821,822,823,824,825,826,827,828,829,830,831,832,833,834,835,836,837,838,839,840,841,842,843,844,845,846,847,848,849,850,851,852,853,854,855,856,857,858,859,860,861,862,863,864,865,866,867,868,869,870,871,872,873,874,875,876,877,878,879,880,881,882,883,884,885,886,887,888,889,890,891,892,893,894,895,896,897,898,899,900,901,902,903,904,905,906,907,908,909,910,911,912,913,914,915,916,917,918,919,920,921,922,923,924,925,926,927,928,929,930,931,932,933,934,935,936,937,938,939,940,941,942,943,944,945,946,947,948,949,950,951,952,953,954,955,956,957,958,959,960,961,962,963,964,965,966,967,968,969,970,971,972,973,974,975,976,977,978,979,980,981,982,983,984,985,986,987,988,989,990,991,992,993,994,995,996,997,998,999,1000,1001,1002,1003,1004,1005,1006,1007,1008,1009,1010,1011,1012,1013,1014,1015,1016,1017,1018,1019,1020,1021,1022,1023,1024,1025,1026,1027,1028,1029,1030,1031,1032,1033,1034,1035,1036,1037,1038,1039,1040,1041,1042,1043,1044,1045,1046,1047,1048,1049,1050,1051,1052,1053,1054,1055,1056,1057,1058,1059,1060,1061,1062,1063,1064,1065,1066,1067,1068,1069,1070,1071,1072,1073,1074,1075,1076,1077,1078,1079,1080,1081,1082,1083,1084,1085,1086,1087,1088,1089,1090,1091,1092,1093,1094,1095,1096,1097,1098,1099,1100,1101,1102,1103,1104,1105,1106,1107,1108,1109,1110,1111,1112,1113,1114,1115,1116,1117,1118,1119,1120,1121,1122,1123,1124,1125,1126,1127,1128,1129,1130,1131,1132,1133,1134,1135,1136,1137,1138,1139,1140,1141,1142,1143,1144,1145,1146,1147,1148,1149,1150,1151,1152,1153,1154,1155,1156,1157,1158,1159,1160,1161,1162,1163,1164,1165,1166,1167,1168,1169,1170,1171,1172,1173,1174,1175,1176,1177,1178,1179,1180,1181,1182,1183,1184,1185,1186,1187,1188,1189,1190,1191,1192,1193,1194,1195,1196,1197,1198,1199,1200,1201,1202,1203,1204,1205,1206,1207,1208,1209,1210,1211,1212,1213,1214,1215,1216,1217,1218,1219,1220,1221,1222,1223,1224,1225,1226,1227,1228,1229,1230,1231,1232,1233,1234,1235,1236,1237,1238,1239,1240,1241,1242,1243,1244,1245,1246,1247,1248,1249,1250,1251,1252,1253,1254,1255,1256,1257,1258,1259,1260,1261,1262,1263,1264,1265,1266,1267,1268],\"y\":[-0.024994797567573723,0.022983190362782846,0.23073365858170147,0.3335106014011884,0.43987144211426843,0.31674720802793144,-0.4316515988808991,-0.4380216883627368,-0.44140904992022945,-0.21692987121089502,0.03026659575943924,0.15339082984577668,0.04957340054105286,-0.3359499641610211,-0.36292168605054453,-0.575689611320493,-0.6073782052764226,-0.32088603204698385,0.11882355661402588,0.1599805775856089,-0.01932992670350775,-0.4772595898171056,-0.5206247543295799,-0.6892413697426532,-0.6906980508219844,-0.26926634141829875,0.002867118314874295,0.1100372262942495,-0.15083585747647354,-0.7338551180374113,-0.8170015491687669,-0.25402899489005526,0.03870609725080354,-0.3709218710259198,-0.7148373372794747,-0.9163680085088672,-0.564741381303614,-0.1988600892506186,0.36588129205299547,0.6512058082267795,-0.4001017364563344,-0.7624453744595251,-0.9163795694698144,-0.7652893708525053,-0.7112418784249348,-0.600406945825337,-0.3146199912136697,0.40391685356886864,0.07315776087308357,-0.38672570464056966,-0.4067492890009017,-0.470114915951814,-0.4978843441466856,-0.4327152072880298,-0.20142662258086907,-0.10777127794862329,0.5112025711577146,0.34657448727138185,-0.29471201646280853,-0.5867418899858956,-0.726941663391061,-0.6058521584314089,-0.6388008971305694,-0.7221323036370784,-0.7579712825730074,-0.4903465976091933,-0.08094984855141152,0.7462369072117272,0.029688547712085844,-0.6866748364124027,-0.7801567666304423,-0.7944461143610257,-0.6376910448796504,-0.5679784503687947,-0.41022913824597096,-0.08800203472912682,0.11281185692154727,0.9121366968022382,0.587273694189461,-0.2069758838354645,-0.5346713218802748,-0.49611551712178314,-0.45909732016925253,-0.4526925478045736,-0.3903905292607922,-0.188420541515411,-0.12484681726745117,0.22645610303128394,1.0,0.07870702212767933,-0.34145298157182824,-0.4885893315452381,-0.5745681981086268,-0.5531341765127518,-0.43128164813059255,-0.45547873939281835,-0.3963559851094822,0.09928553261347095,0.5321279104719185,0.09188651760734334,-0.2285948808064927,-0.41372054845198736,-0.3645055377002937,-0.23197068140303834,0.13177183287474836,0.08610603713380649,-0.1986519919535713,-0.7266757612892785,-0.5015144858840667,-0.25610996786052864,0.07836019329926702,-0.23340424056047548,-0.4445998751416218,-0.6305001271705705,-0.3883558001341072,-0.2283867835094454,0.0921177368262851,-0.11204883349904038,-0.2650812735554581,-0.5381164882425027,-0.4222872205137692,-0.27066521769289464,-0.053319151887905036,-0.13000300584984648,-0.31983398460080004,-0.6343499271659461,-0.4356285694466925,-0.20267520636315284,0.05928460773659516,-0.24535827417974976,-0.5939212467340286,-0.32201900621979707,-0.5610881176443387,-0.5293648408055678,-0.5056879927859604,-0.1874609817568038,0.08217531041180126,0.20136881777613347,-0.2313001456681082,-0.34608892691160487,-0.5565215380702444,-0.5901523734652825,-0.5362436125690768,-0.09401373442160532,0.1773220190062199,0.2842609077666536,-0.05516890563943677,-0.4339059862655784,-0.758214062752896,-0.7146523619043215,-0.554267150685565,-0.07852204675252628,0.11130893199842773,0.24830631922125357,-0.27724340447177975,-0.3677079238826332,-0.6420379661957503,-0.7004555018613148,-0.49100557238317655,-0.023838701472866375,0.17813128627251507,0.11015283590372027,-0.409119285995052,-0.3757196698189553,-0.594291197484335,-0.6975421397026521,-0.596788365048903,-0.07933131401882132,0.19928784480566009,0.1476103493722396,-0.2117274387847119,-0.6476565932160282,-0.3975930079308193,-0.15984184605424412,0.12888159263797982,-0.2020740363939051,-0.1327660755161968,-0.6523734652824343,-0.3754653286781199,-0.2520867534509468,0.09454553862517034,-0.1282688617077853,-0.39516520613193373,-0.4999421951952647,-0.36398529445767536,-0.5333880552151495,-0.4620106823279151,-0.3060301972299939,0.10471918425859572,0.0434460912391037,0.1390552382714052,-0.4045295844990636,-0.6895188328053827,-0.6713103193137414,-0.5857592083053944,-0.3628060764410739,0.0501514485884067,0.08945871580845788,0.18113713611875415,-0.49234664385303717,-0.2593701588476036,-0.5220120696432289,-0.64903234756873,-0.506890332724456,-0.07690351221993574,0.16842007907697276,0.13177183287474836,-0.18461698536382354,-0.350932969548429,-0.6616222340400935,-0.5618742629887397,-0.5524058359730861,-0.14874332354505304,0.15107863765636198,0.05847534047030001,0.1010196767555318,-0.4233161460380588,-0.5705796665818863,-0.7100510994473861,-0.5195727068833962,-0.3186200837013573,0.0007861453444009125,0.08148165275497687,0.06252167680177578,-0.4322180859673056,-0.5382667807348147,-0.7569886008925062,-0.7398090129251543,-0.454796642696941,0.001132974172813217,0.05558510023353147,0.19339175472265246,-0.5391685356886865,-0.6090198617309072,-0.6536682929085066,-0.6639344262295083,-0.23821360031445815,0.011422229415708918,0.21709172466415416,0.04413974889592831,-0.4277902379245764,-0.4017896367546071,-0.6752179241138524,-0.6209276515063933,-0.43324701149159517,-0.0010636084071308227,0.09084603112210665,0.2196351360725104,-0.32369534555712276,-0.52015075493075,-0.5623713843094638,-0.5659552822030568,-0.3754190848343315,-0.015283590372031863,0.2288839048301694,0.3331637725727763,-0.504208189784735,-0.5056070660593308,-0.6510901986173091,-0.47801105227866536,-0.36636685241277256,0.05662558671876794,0.16587666766861653,0.21813221114939085,-0.6367777289648315,-0.6446969872135773,-0.6012740178963676,-0.48668177298897086,-0.21010890425212136,0.05986265578394856,0.10194455363129773,0.1220606256792065,-0.41582464334435487,-0.4340447177969433,-0.7070914934449352,-0.7143170940368564,-0.3344817221207428,0.000323706906518062,0.14541376679229567,0.24414437328030725,-0.5553538810145899,-0.4380216883627368,-0.5968346088926912,-0.5151795417235081,-0.2633355684524499,0.13639621725357798,0.189576637610118,-0.2916021179680456,-0.5557238317648963,-0.674836412402599,-0.7025017919489469,-0.38140766260491576,-0.12060394459987511,0.0983606557377048,0.3717773821360031,-0.575539318828181,-0.5516774954334205,-0.7013225739323452,-0.5768110245323592,-0.22569307960877716,-0.004647506300723747,0.16159911211819922,0.20032833129089678,-0.277289648315568,-0.45715507873014405,-0.7419246687784689,-0.720513769104488,-0.4177900067053575,0.001248583782283763,0.08945871580845788,0.2699253161922819,-0.29501260144743235,-0.4399061249971098,-0.7346181414599182,-0.7669194663460427,-0.5602326065342551,0.02437050567643162,0.09581724432934857,0.38148858933154517,-0.48493606788596266,-0.6284653980438855,-0.5851002335314112,-0.5405789729242295,-0.29850401165344864,0.12448842747809175,0.027376355522670925,0.11859233739508412,-0.6288122268722977,-0.5643251867095194,-0.7089296862355199,-0.5063469675599437,-0.22057157390922322,0.16078984485190406,0.11061527434160334,-0.06568938010127401,-0.3966912529769475,-0.5977826076903513,-0.6236791602117968,-0.6544428772919606,-0.3332446992994058,0.03142269185414692,0.1150084395014912,0.09928553261347095,-0.7248144465767995,-0.7159356285694467,-0.780422668732225,-0.34951097135193887,0.021017827001780454,0.059631436565007245,0.09512358667252419,-0.24071076787902623,-0.3396032278202965,-0.73599389581262,-0.7046636916460496,-0.5193646095863488,-0.12588730375268786,0.14148304007029044,0.2022936946518996,-0.24093042613702065,-0.4750052024324263,-0.642165136766168,-0.6037480635390414,-0.5578163656963167,-0.20196998774538155,0.18518347245022992,0.3484242410229137,-0.495317810816435,-0.6566278989109575,-0.7320516081296677,-0.6031584545307407,-0.21147309764387634,0.10992161668477873,0.05650997710929717,0.0841406737728041,-0.7241901546856575,-0.7958218687137275,-0.6943628754422069,-0.5471109158593263,-0.11285810076533576,0.10240699206918058,0.21015514809590985,-0.3523549677449189,-0.6051816226964786,-0.7101320261740156,-0.5230063122846772,-0.3325394806816343,0.1296908599042752,0.19269809706582808,0.16171472172766976,-0.4606118060533192,-0.7436241300376887,-0.8337765035029712,-0.6918657078776389,-0.3286896806862587,0.1732756826747437,0.12760988693380182,0.22113806099562994,-0.4997687807810586,-0.717692894633402,-0.6384656292631044,-0.35356886864436177,-0.0773659506578186,0.09338944253046311,0.08703091400957264,-0.1074244491202111,-0.5312608384008879,-0.6142338551180374,-0.6225808689218248,-0.3854193160535504,-0.12510115840828706,0.08934310619898711,0.1536220490647182,-0.41510786376563613,-0.6121066383037759,-0.8182038891072626,-0.7354042868043191,-0.42203287937293343,-0.052741103840551196,0.09662651159564373,0.2019468658234873,-0.7036925709264954,-0.671264075469953,-0.6868251289047146,-0.522358898471641,-0.21686050544521251,0.039284145298156936,0.10437235543018342,-0.009271890679553363,-0.3356031353326089,-0.6042683067816598,-0.697507456819811,-0.5815394575597124,-0.2004092580175263,0.13119378482739474,0.1969756526162454,-0.15465097458900778,-0.6299220791232167,-0.6377141668015447,-0.6017827001780388,-0.4192582487456358,0.02668269786584676,0.20899905200120217,0.3762861569053617,-0.5695738629794909,-0.7957178200652038,-0.732074730051562,-0.5582672431732526,-0.23371638650604631,0.1229855025549722,0.21917269763462754,-0.373476843395223,-0.6951490207866078,-0.7750121390089945,-0.5533191518879049,-0.3603782746421883,-0.08037180050405801,0.021133436611251,0.15154107609424483,-0.6034012347106292,-0.8325626026035284,-0.7966426969409698,-0.5213646558301925,-0.22380864297440395,0.29270040925801744,0.06437143055330763,-0.040139656408240576,-0.4345071562348264,-0.7069296399916761,-0.6480496658882287,-0.574903465976092,-0.3438807833707139,0.05500705218617763,0.1566278989109573,-0.06765474346227685,-0.6644084256283382,-0.6593909685773083,-0.6418876737034382,-0.4087724571666398,-0.04071770445559442,0.17142592892321207,0.22310342435663233,-0.26822585493306206,-0.5996786052856714,-0.7711045342088835,-0.6285116418876737,-0.3881361418761127,-0.008115794584846014,0.15443131633101337,0.33397303983907123,-0.6900043931651598,-0.6109389812481214,-0.7637402020855973,-0.5426715068556498,-0.24450276306966656,0.10945917824689588,0.10911234941848358,-0.04487965039654118,-0.4329348655460241,-0.41259913524012115,-0.6785590418275567,-0.7417859372471041,-0.35300238155795505,-0.06383962634974227,0.17847811510092715,0.4197553700663599,-0.47310920483710617,-0.5361511248815003,-0.7479479294318945,-0.6335290989387039,-0.2876829522069875,0.185645910888113,0.22345025318504463,0.05176998312099701,-0.8251057827926658,-0.6412980646951374,-0.8696154824389004,-0.4201253208166664,-0.1608129667737983,0.059515826955536255,0.15385326828365975,-0.3179842308492682,-0.4579412240745452,-0.7267798099378021,-0.7287104904159634,-0.5550070521861777,-0.19358829105875297,0.24148535226248002,0.06992069180790295,-0.2592198663552916,-0.49275127748618475,-0.5552382714051193,-0.2832088603204699,0.02541099216166831,-0.24814446576799476,-0.19650165321741542,-0.6520844412587574,-0.47758329672362376,-0.7584684038937317,-0.7365603828990266,-0.4902887928044579,-0.07389766237369666,0.1809059168998124,0.39085296769867517,-0.5112025711577147,-0.7742375546255404,-0.7375546255404749,-0.6432287451732988,-0.1879465421165809,0.1003260190987072,0.03697195310874224,0.13651182686304897,-0.5317810816435062,-0.7334736063261578,-0.7389650627760179,-0.5268561122800528,-0.11274249115586477,0.15177229531318637,0.10564406113436142,-0.18810839556983971,-0.3867603875234109,-0.7389997456588592,-0.6843164003791995,-0.3956507664917108,-0.06337718791185942,0.16807325024856068,0.10911234941848358,-0.23179726698883207,-0.46981433096719016,-0.8600314458137761,-0.813880089713057,-0.48017295197576815,-0.1400957247566419,0.04044024139286462,0.10286943050706343,-0.2651853222039817,-0.37888737311845366,-0.8426090776665357,-0.6931605355037112,-0.5204282179934797,-0.14336747670466365,-0.008462623413258319,0.25038729219172695,-0.4160443016023492,-0.5444518948414994,-0.6927674628315106,-0.7014728664246572,-0.3682166061643044,0.10980600707530819,0.02483294411431447,0.06818654766584187,-0.4122985502554972,-0.5951351476334714,-0.7990358158570141,-0.6532174154315706,-0.34564961039561615,0.04032463178339363,0.17003861360956307,0.2542024093042614,-0.5445212606071818,-0.5958519272121899,-0.7805498393026429,-0.5137806654489122,-0.1280029596060026,0.11373673379731342,0.04911096210317001,-0.1228930148673959,-0.3188281809984047,-0.7053689102638212,-0.7402714513630373,-0.6772757751624315,-0.24889592822955453,0.12945964068533367,0.08113482392656457,-0.1448704016277832,-0.6209507734282874,-0.6920969270965803,-0.7962265023468751,-0.5350181507086871,-0.30396078522046766,0.11084649356054488,0.14229230733658582,-0.13964484727970583,-0.4948784943004463,-0.7134037781220375,-0.9111077712779486,-0.4999190732733706,-0.07447571042105017,0.09246456565469718,0.07304215126361302,-0.28157876482693245,-0.4810978288515343,-0.7857060278850378,-0.7536243612569077,-0.520948461236098,-0.21296446160604876,0.1073782052764225,0.14090499202293705,-0.2769196975652617,-0.47499364147147916,-0.6871372748502855,-0.790885338389327,-0.6302342250687878,-0.0913547134037781,0.189692247219589,0.3211403731878195,-0.467606187426299,-0.7562140165090523,-0.8338921131124419,-0.6469629355592037,-0.15981872413234988,0.18437420518393477,0.05176998312099701,-0.022335776549746833,-0.4296977964808435,-0.7740872621332285,-0.7129991444888899,-0.6253323776272284,-0.2948969918379616,0.06113436148812679,-0.12543642627575213,0.055238271405119166,-0.4810400240467988,-0.6136095632268954,-0.9391777844574442,-0.8535341857615205,-0.3408518116025805,0.06830215727531264,-0.010659205993202248,0.11466161067307912,-0.5753427824920807,-0.5908344701611599,-0.40873777428379854,-0.04395477352077515,-0.13937894517792315,-0.26254942310804874,-0.34689819417790013,-0.8142731623852575,-0.38998589562764463,-0.3115563365626951,-0.06938888760433759,-0.20821290665680137,-0.3148974542763995,-0.7261902009295014,-0.47766422345025317,-0.17740294573284943,0.1396332863187586,-0.2404217438553493,-0.2986889870286019,-0.7565030405327291,-0.42043746676223737,-0.28184466692871524,-0.6648939859881153,-0.5021734606580499,-0.059446461189854194,-0.054937686420495235,-0.10326250317926433,-0.5462554047492428,-0.4783925639899188,-0.8147587227450346,-0.8554533052787348,-0.5422437513006082,-0.12308955120349607,-0.01863626904668325,0.042752433582279314,-0.16947212652315669,-0.5369950750306366,-0.7225022543873847,-0.7991398645055376,-0.6904668316030429,-0.1591366274364725,0.07905385095609163,-0.009618719507965556,-0.15690536197368743,-0.648257763185276,-0.5926379800689034,-0.35943027584452825,-0.06765474346227685,-0.27268838585863264,-0.2223519618950729,-0.3562510115840829,-0.8319151887904923,-0.46917847811510094,-0.3907257971282573,-0.6285347638095679,-0.49772249069342644,0.01720270988924577,-0.07251034706004766,-0.14874332354505304,-0.6102915674350853,-0.2295891234479409,-0.5188906101875188,-0.7474970519549585,-0.824666466276677,-0.36992762838447146,-0.0023353141113090503,0.05604753867141432,0.09778260769035096,-0.6694490046012624,-0.8223542740872621,-0.94322412078892,-0.6826631829637679,-0.29746352516821206,0.024486115285902388,0.015237346528243378,-0.02025480357927345,-0.6223612106638304,-0.2726537029757915,-0.6272399361834955,-0.6706629055007052,-0.5909038359268424,-0.034243566325232955,0.04529584499063555,-0.05609378251520292,-0.19083678235334944,-0.724906934264376,-0.5468912576013318,-0.26239913061573683,-0.038636731485121034,-0.3031630789151195,-0.22624800573423676,-0.4306689172003977,-0.7811278873499965,-0.5746260029133623,-0.2912784110615274,-0.07424449120210885,-0.40225207519249007,-0.1980970658281117,-0.7626419107956254,-0.5563250017341442,-0.4501953802400056,-0.03170015491687672,-0.2859603690258735,-0.3186200837013573,-0.5463825753196605,-0.6119216629286226,-0.5885685218155333,-0.7515087054035932,-0.6771023607482254,-0.44183680547527115,0.03350366482462008,-0.008462623413258319,-0.05852158431408816,-0.8269439755832505,-0.6245809151656686,-0.681888598580314,-0.15321741543157064,-0.11274249115586477,-0.30710536659807164,-0.2677749774561261,-0.7000508682281672,-0.6874841036786978,-0.6006497260052256,-0.09123910379430744,-0.197680871234017,-0.36005456773567035,-0.3111979467733358,-0.7743531642350112,-0.5392032185715276,-0.18028162500867084,-0.06418645517815447,-0.3276260722791279,-0.10592152419709111,-0.7748618465166826,-0.5922911512404911,-0.35909500797706306,-0.03990843718929926,-0.20327637633240092,-0.3217762260399085,-0.5114915951813914,-0.7284792711970219,-0.5275960137806655,-0.19477907003630135,-0.09401373442160532,-0.3253254410506602,-0.6120025896552521,-0.5349372239820575,-0.563631529052695,-0.8615228097759485,-0.8889685310643021,-0.32179934796180254,0.02333001919119493,-0.04106453328400661,-0.06557377049180335,-0.7473005156188584,-0.7318435108326204,-0.44617216583042396,-0.1415061619921847,-0.31745242664570295,-0.43295798746791847,-0.25765913662743634,-0.7458669564614211,-0.6002797752549193,-0.25955513422275667,-0.14882425027168267,-0.3122499942195196,-0.3494531665472035,-0.2899951443964023,-0.4786584660917017,-0.7281902471733451,-0.5492843765173762,-0.21213207241785936,-0.2560752849776876,-0.4481606511133206,-0.2523873384355708,-0.3674535827417975,-0.6968022382020393,-0.519052463640778,-0.16364540220583157,-0.0730883951074015,-0.32880529029572947,-0.2174154315706721,-0.8732340632153345,-0.662651159564383,-0.43508520428218,-0.05355037110684657,-0.24029457328493153,-0.25542787116465127,-0.7311036093320077,-0.5938171980855049,-0.49254318018913734,-0.0600245092372077,-0.23623667599250864,-0.36613563319383113,-0.6203033596152513,-0.3736849406922703,-0.6117944923582048,-0.7945964068533378,-0.7596129390274919,-0.3660431455062545,-0.016208467247797675,-0.14445420703368883,-0.08962056926171702,-0.7358667252422022,-0.5948230016879004,-0.5851349164142524,-0.28704709935489836,-0.09459178246895883,-0.4068995814932137,-0.30242317741450664,-0.5119887165021157,-0.7473120765798054,-0.5107170107979375,-0.060371338065619895,-0.1838770838632109,-0.2514046567550694,-0.2637864459293856,-0.7330574117320632,-0.6294018358805984,-0.4905662558671876,-0.08453374644500444,-0.16902124904622096,-0.2986889870286019,-0.39851788480658523,-0.5088556960854587,-0.7454623228282735,-0.8045272723068742,-0.7937871395870425,-0.1971143841476103,0.11292746653101782,0.034428541700386006,-0.13623436380031917,-0.5379893176720849,-0.44450738745404517,-0.8108626789058706,-0.7703415107863766,-0.698305163125159,-0.230814585308331,0.04830169483687463,-0.07967814284723362,-0.11077712779486237,-0.750248560660362,-0.5444634558024464,-0.472161206039446,-0.07482253924946236,-0.2765613077759024,-0.3947027676940509,-0.21993572105713444,-0.7769775023699971,-0.6438414761034937,-0.44498138685287525,-0.11886980045781403,-0.3326666512520522,-0.277139355823256,-0.47298203426668817,-0.7828157876482693,-0.4860806030197231,-0.32942958218687146,-0.067076695414923,-0.3842979028416843,-0.26584429697796497,-0.776827209877685,-0.7769428194871558,-0.5582903650951467,-0.15524058359730875,-0.37812434969594666,-0.2921917269763463,-0.5874008647598788,-0.6853684478253833,-0.49032347568729906,-0.02904113389904983,-0.1611597956022106,-0.3418460542440288,-0.3233600776896576,-0.8106545816088233,-0.6250549145644986,-0.32670119540336195,-0.12477745150176878,-0.36159217554163114,-0.36636685241277256,-0.7938449443917779,-0.5271798191865708,-0.42400980369488317,-0.14162177160165568,-0.2967467455894933,-0.297914402645148,-0.44287729196050774,-0.8335106014011885,-0.5670304515711346,-0.3358805983953387,-0.20272145020694132,-0.3955467178431872,-0.13741358181692076,-0.7947813822284908,-0.6584892136234364,-0.5990427524335823,-0.17624684963814208,-0.212987583527943,-0.433674767046637,-0.42274965895165206,-0.8919743809105413,-0.6027306989756989,-0.29901269393512,0.010497352539943217,-0.33066660500820844,-0.32256237138430943,-0.5490300353765405,-0.7293000994242642,-0.5334227380979908,-0.2085019306804783,-0.13422275659552818,-0.38811301995421865,-0.10025665333302514,-0.7693241462230341,-0.7316585354574672,-0.5974010959790979,-0.09910055723831779,-0.34271312631505946,-0.26382112881222686,-0.3610950542209068,-0.9207842955906494,-0.5085435501398876,-0.3296029966010776,-0.17069758838354643,-0.2996716687091031,-0.1894263451178062,-0.7663067354158478,-0.7703068279035353,-0.514370274457213,-0.11748248514416504,-0.3487132650465907,-0.3475571689518834,-0.44485421628245747,-0.809984045873893,-0.524543920090638,-0.236005456773567,-0.13500890193992943,-0.3797428842285371,-0.30194917801567667,-0.8586325695391801,-0.6624199403454416,-0.5930310527411039,-0.12002589655252172,-0.4858725057226757,-0.4816643159379408,-0.06372401674027162,-0.370020116072048,-0.4748664709010614,-0.3615574926587899,-0.8631644662304331,-0.5554116858193254,-0.28508173599389575,-0.0750537584684039,-0.40834470161159797,-0.3293833383430831,-0.49966473213253493,-0.7222479132465491,-0.5724294203334181,-0.2912668501005805,-0.14709010612962148,-0.32703646327082714,-0.2218085967305602,-0.5683484011191011,-0.7881107077620293,-0.5743601008115795,-0.22261786399685557,-0.2987583527942843,-0.395974473398229,-0.2173345048440425,-0.68518347245023,-0.3988993965178387,-0.6582464334435478,-0.7383985756896113,-0.2457975906957387,-0.07019815487063308,-0.28354412818793495,-0.18667483641240268,-0.8489560452264793,-0.6778885060926264,-0.4102406992069181,-0.03112210686952288,-0.20798168743785972,-0.18231635413535563,-0.35272491849522547,-0.5859210617586534,-0.6495757127332424,-0.7536359222178548,-0.6560382899026568,-0.5863025734699068,-0.04765428102383873,-0.02349187264445418,-0.06488011283497896,-0.4157899604615136,-0.7978565978404125,-0.6508589793983677,-0.29011075400587294,-0.08430252722606324,-0.39096857730814594,-0.2721218987722259,-0.6519803926102338,-0.8183888644824158,-0.5444287729196051,-0.2846886633216954,-0.15305556197831183,-0.34040093412564465,-0.2786654026682699,-0.9073273370482555,-0.5627875789035586,-0.35704871788943104,-0.08962056926171702,-0.36432056232514054,-0.3676501190778978,-0.6605239427501215,-0.7736479456172397,-0.6439686466739116,-0.38250595389488784,-0.128060764410738,-0.3927836481768364,-0.1918772688385858,-0.6164651205808227,-0.7463871997040394,-0.5596314365650072,-0.20821290665680137,-0.20269832828504708,-0.4221369280214572,-0.24606349279752138,-0.8167240861060372,-0.8302157275312724,-0.5144512011838425,-0.0823371638650604,-0.31333672454854444,-0.35746491248352574,-0.49862424564729824,-0.6603505283359153,-0.6252398899396518,-0.27850354921501086,-0.06592059932021566,-0.40747762954056743,-0.2240398621933456,-0.7062012994520105,-0.6732641217137969,-0.6585701403500659,-0.242733936044764,-0.2976369395824182,-0.43259959767855904,-0.3769451316793453,-0.8087470230525562,-0.6644084256283382,-0.43568637425142775,-0.13124002867118334,-0.3123309209461492,-0.26654951559573636,-0.3999514439640224,-0.6899350273994775,-0.5835395038035562,-0.33160304284492126,-0.10337811278873488,-0.3623205160812968,-0.3350482092071493,-0.5761173668755347,-0.8561585238965063,-0.596626511595644,-0.45470415500936445,-0.27953247473930043,-0.43658812920529955,-0.34549931790330424,-0.7260283474762422,-0.5405442900413884,-0.8023769335707184,-0.718802746884321,-0.7502716825822563,-0.2363522856019793,-0.08453374644500444,-0.04175819094083111,-0.19479063099724847,-0.4982427339360448,-0.8720317232768389,-0.9927743994080788,-0.8925293070360009,-0.39622881453906456,0.05072949663576032,-0.011237254040555755,-0.045110869615482496,-0.3439501491363963,-0.7216351823163543,-0.9013618811995654,-0.9557215195727069,-0.6632523295336308,-0.21150778052671737,-0.018289440218271058,-0.013780665448911988,-0.1330550995398737,-0.5201623158916969,-0.7262017618904484,-0.9126800619667507,-0.7682720987768503,-0.4113043076140489,-0.07204790862216481,-0.03354990866840857,-0.04499526000601184,-0.48528289671437497,-0.5937015884760342,-0.8017988855233648,-0.9004254433628524,-0.6591481883974196,-0.17298665865106722,0.021133436611251,-0.003028971768133548,-0.09227959027954413,-0.6454253277532429,-0.8136604314550625,-0.9323105736548822,-0.8874193622973942,-0.42265717126407554,-0.09308885754583929,-0.0360933200767648,-0.033781127887350104,-0.466820042081898,-0.6389743115447757,-0.9423917316007306,-0.7978219149575713,-0.5855511110083471,-0.06245231103609328,-0.004647506300723747,-0.12286989294550166,-0.07713473143887728,-0.43324701149159517,-0.7637055192027562,-0.8919050151448589,-0.7466646627667692,-0.555839441374367,-0.15090522324215605,0.0006705357349303664,-0.09898494762884691,-0.4199056625586719,-0.7262017618904484,-0.8795925917362252,-0.9128303544590627,-0.5524983236606626,-0.19191195172142717,-0.09551665934472486,-0.16462808388633254,-0.23444472704571218,-0.5253185044740918,-0.7537052879835372,-0.9541607898448519,-0.791209045295845,-0.2762260399084373,0.035815857014035,-0.028231866632754454,-0.03493722398205745,-0.5598048509792134,-0.7329418021225924,-0.8056371245577933,-0.8885638974311545,-0.6346389511896229,-0.13721704548082048,-0.019907974750861257,-0.06083377650350319,-0.25357811741311953,-0.6221299914448889,-0.8718467479016856,-1.0,-0.825152026636454,-0.4732710582903651,-0.09262641910795644,-0.11147078545168687,-0.1069620106823278,-0.41412518208513494,-0.827961340146593,-0.9335360355152721,-0.9107840643714306,-0.4659876528937086,-0.05620939212467346,-0.016324076857268333,-0.1329048070475617,-0.15144858840666842,-0.7465606141182455,-0.856424425998289,-0.808874193622974,-0.3802168836273673,-0.046382575319660724,-0.21698767601563063,-0.1515063932114038,-0.5375500011560961,-0.6477143980207635,-0.5648107470692965,-0.37860991005572386,-0.2295891234479409,-0.31381072394737464,-0.22090684177668862,-0.7811625702328377,-0.6553561932067793,-0.6204883349904045,-0.3093713149436983,-0.14900922564683572,-0.4543920090637935,-0.2798446206848715,-0.9110384055122662,-0.867361095054221],\"type\":\"scatter\"},{\"mode\":\"markers\",\"name\":\"qo_sc[Sm3/d] predicted\",\"x\":[1,2,3,4,5,6,7,8,9,10,11,12,13,14,15,16,17,18,19,20,21,22,23,24,25,26,27,28,29,30,31,32,33,34,35,36,37,38,39,40,41,42,43,44,45,46,47,48,49,50,51,52,53,54,55,56,57,58,59,60,61,62,63,64,65,66,67,68,69,70,71,72,73,74,75,76,77,78,79,80,81,82,83,84,85,86,87,88,89,90,91,92,93,94,95,96,97,98,99,100,101,102,103,104,105,106,107,108,109,110,111,112,113,114,115,116,117,118,119,120,121,122,123,124,125,126,127,128,129,130,131,132,133,134,135,136,137,138,139,140,141,142,143,144,145,146,147,148,149,150,151,152,153,154,155,156,157,158,159,160,161,162,163,164,165,166,167,168,169,170,171,172,173,174,175,176,177,178,179,180,181,182,183,184,185,186,187,188,189,190,191,192,193,194,195,196,197,198,199,200,201,202,203,204,205,206,207,208,209,210,211,212,213,214,215,216,217,218,219,220,221,222,223,224,225,226,227,228,229,230,231,232,233,234,235,236,237,238,239,240,241,242,243,244,245,246,247,248,249,250,251,252,253,254,255,256,257,258,259,260,261,262,263,264,265,266,267,268,269,270,271,272,273,274,275,276,277,278,279,280,281,282,283,284,285,286,287,288,289,290,291,292,293,294,295,296,297,298,299,300,301,302,303,304,305,306,307,308,309,310,311,312,313,314,315,316,317,318,319,320,321,322,323,324,325,326,327,328,329,330,331,332,333,334,335,336,337,338,339,340,341,342,343,344,345,346,347,348,349,350,351,352,353,354,355,356,357,358,359,360,361,362,363,364,365,366,367,368,369,370,371,372,373,374,375,376,377,378,379,380,381,382,383,384,385,386,387,388,389,390,391,392,393,394,395,396,397,398,399,400,401,402,403,404,405,406,407,408,409,410,411,412,413,414,415,416,417,418,419,420,421,422,423,424,425,426,427,428,429,430,431,432,433,434,435,436,437,438,439,440,441,442,443,444,445,446,447,448,449,450,451,452,453,454,455,456,457,458,459,460,461,462,463,464,465,466,467,468,469,470,471,472,473,474,475,476,477,478,479,480,481,482,483,484,485,486,487,488,489,490,491,492,493,494,495,496,497,498,499,500,501,502,503,504,505,506,507,508,509,510,511,512,513,514,515,516,517,518,519,520,521,522,523,524,525,526,527,528,529,530,531,532,533,534,535,536,537,538,539,540,541,542,543,544,545,546,547,548,549,550,551,552,553,554,555,556,557,558,559,560,561,562,563,564,565,566,567,568,569,570,571,572,573,574,575,576,577,578,579,580,581,582,583,584,585,586,587,588,589,590,591,592,593,594,595,596,597,598,599,600,601,602,603,604,605,606,607,608,609,610,611,612,613,614,615,616,617,618,619,620,621,622,623,624,625,626,627,628,629,630,631,632,633,634,635,636,637,638,639,640,641,642,643,644,645,646,647,648,649,650,651,652,653,654,655,656,657,658,659,660,661,662,663,664,665,666,667,668,669,670,671,672,673,674,675,676,677,678,679,680,681,682,683,684,685,686,687,688,689,690,691,692,693,694,695,696,697,698,699,700,701,702,703,704,705,706,707,708,709,710,711,712,713,714,715,716,717,718,719,720,721,722,723,724,725,726,727,728,729,730,731,732,733,734,735,736,737,738,739,740,741,742,743,744,745,746,747,748,749,750,751,752,753,754,755,756,757,758,759,760,761,762,763,764,765,766,767,768,769,770,771,772,773,774,775,776,777,778,779,780,781,782,783,784,785,786,787,788,789,790,791,792,793,794,795,796,797,798,799,800,801,802,803,804,805,806,807,808,809,810,811,812,813,814,815,816,817,818,819,820,821,822,823,824,825,826,827,828,829,830,831,832,833,834,835,836,837,838,839,840,841,842,843,844,845,846,847,848,849,850,851,852,853,854,855,856,857,858,859,860,861,862,863,864,865,866,867,868,869,870,871,872,873,874,875,876,877,878,879,880,881,882,883,884,885,886,887,888,889,890,891,892,893,894,895,896,897,898,899,900,901,902,903,904,905,906,907,908,909,910,911,912,913,914,915,916,917,918,919,920,921,922,923,924,925,926,927,928,929,930,931,932,933,934,935,936,937,938,939,940,941,942,943,944,945,946,947,948,949,950,951,952,953,954,955,956,957,958,959,960,961,962,963,964,965,966,967,968,969,970,971,972,973,974,975,976,977,978,979,980,981,982,983,984,985,986,987,988,989,990,991,992,993,994,995,996,997,998,999,1000,1001,1002,1003,1004,1005,1006,1007,1008,1009,1010,1011,1012,1013,1014,1015,1016,1017,1018,1019,1020,1021,1022,1023,1024,1025,1026,1027,1028,1029,1030,1031,1032,1033,1034,1035,1036,1037,1038,1039,1040,1041,1042,1043,1044,1045,1046,1047,1048,1049,1050,1051,1052,1053,1054,1055,1056,1057,1058,1059,1060,1061,1062,1063,1064,1065,1066,1067,1068,1069,1070,1071,1072,1073,1074,1075,1076,1077,1078,1079,1080,1081,1082,1083,1084,1085,1086,1087,1088,1089,1090,1091,1092,1093,1094,1095,1096,1097,1098,1099,1100,1101,1102,1103,1104,1105,1106,1107,1108,1109,1110,1111,1112,1113,1114,1115,1116,1117,1118,1119,1120,1121,1122,1123,1124,1125,1126,1127,1128,1129,1130,1131,1132,1133,1134,1135,1136,1137,1138,1139,1140,1141,1142,1143,1144,1145,1146,1147,1148,1149,1150,1151,1152,1153,1154,1155,1156,1157,1158,1159,1160,1161,1162,1163,1164,1165,1166,1167,1168,1169,1170,1171,1172,1173,1174,1175,1176,1177,1178,1179,1180,1181,1182,1183,1184,1185,1186,1187,1188,1189,1190,1191,1192,1193,1194,1195,1196,1197,1198,1199,1200,1201,1202,1203,1204,1205,1206,1207,1208,1209,1210,1211,1212,1213,1214,1215,1216,1217,1218,1219,1220,1221,1222,1223,1224,1225,1226,1227,1228,1229,1230,1231,1232,1233,1234,1235,1236,1237,1238,1239,1240,1241,1242,1243,1244,1245,1246,1247,1248,1249,1250,1251,1252,1253,1254,1255,1256,1257,1258,1259,1260,1261,1262,1263,1264,1265,1266,1267,1268],\"y\":[0.17893576622009277,0.24918246269226074,0.33926236629486084,0.32216501235961914,0.39573243260383606,0.5334075093269348,-0.17329418659210205,-0.38380590081214905,-0.34859609603881836,-0.19069333374500275,0.06120263412594795,0.2821323871612549,0.4034854769706726,0.13831664621829987,-0.15501555800437927,-0.1180938109755516,-0.12907980382442474,0.3250300884246826,0.2230326533317566,0.2311365008354187,0.31029531359672546,0.13168035447597504,-0.05639847368001938,-0.4314241111278534,-0.43105560541152954,-0.11081665754318237,0.22951030731201172,0.39654219150543213,0.20785295963287354,-0.31620147824287415,-0.520080029964447,-0.3869091272354126,0.04688723012804985,-0.19698072969913483,-0.35896924138069153,-0.6261870861053467,-0.5022391080856323,-0.2400452196598053,0.12818485498428345,0.44135287404060364,0.02188321016728878,-0.3876771926879883,-0.579940140247345,-0.667714536190033,-0.5579710602760315,-0.5076295137405396,-0.5402855277061462,0.09189792722463608,0.17623881995677948,-0.40725022554397583,-0.3536049723625183,-0.242137148976326,-0.3554612398147583,-0.3379903733730316,-0.22694145143032074,-0.39389118552207947,0.2997601628303528,0.16518224775791168,-0.13616959750652313,-0.2753515839576721,-0.6475809216499329,-0.6003212332725525,-0.6771644949913025,-0.702792227268219,-0.7412965893745422,-0.6121888756752014,-0.25323599576950073,0.4748535752296448,0.21598844230175018,-0.40645989775657654,-0.5168871879577637,-0.46877992153167725,-0.479351282119751,-0.40739497542381287,-0.41723760962486267,-0.6597444415092468,0.041813354939222336,0.4307136833667755,0.30773791670799255,-0.1319778710603714,-0.2421972155570984,-0.6003190875053406,-0.5581041574478149,-0.49465423822402954,-0.5171030759811401,-0.19308426976203918,-0.07878678292036057,0.31819412112236023,0.6699155569076538,0.335392564535141,0.0534244030714035,-0.33998480439186096,-0.2959645986557007,-0.4612743556499481,-0.1725156158208847,-0.16540096700191498,-0.2677496671676636,0.22873704135417938,0.31311866641044617,0.1397785246372223,-0.1654806286096573,-0.5237544178962708,-0.5404089689254761,-0.17861613631248474,-0.013350319117307663,-0.1393015831708908,-0.1892973631620407,-0.5798370838165283,-0.5703576803207397,-0.4975292980670929,-0.33669406175613403,-0.3704446852207184,0.04203246533870697,-0.26760631799697876,-0.37374600768089294,-0.16746926307678223,-0.1620587259531021,-0.31418856978416443,-0.30180612206459045,-0.590626060962677,-0.4751410484313965,-0.18745291233062744,-0.025259707123041153,-0.03404175490140915,-0.38241907954216003,-0.5306304097175598,-0.5606238842010498,-0.32387277483940125,-0.05007440596818924,-0.060786303132772446,-0.23683233559131622,-0.18161727488040924,-0.42986971139907837,-0.545091986656189,-0.3209514617919922,-0.005175335798412561,0.1100364401936531,0.2618817985057831,-0.015100328251719475,-0.19080506265163422,-0.44865113496780396,-0.4979691803455353,-0.4605099856853485,-0.040915876626968384,0.05270940810441971,0.11674308031797409,0.04606528952717781,-0.2651878297328949,-0.3162514567375183,-0.40260928869247437,-0.2538616359233856,0.09295091032981873,0.20900988578796387,0.2309679538011551,0.01911475695669651,-0.12250179052352905,-0.4993279278278351,-0.40120238065719604,-0.09962575882673264,0.13202956318855286,0.2384825497865677,0.06798258423805237,-0.03996631130576134,0.05028068274259567,-0.4466826319694519,-0.2775052785873413,-0.4277355372905731,0.019968803972005844,0.1380036473274231,0.04950999468564987,0.014048242010176182,-0.2842252254486084,-0.43953660130500793,-0.0930371955037117,0.006307740695774555,-0.04466571286320686,0.06753486394882202,-0.4859321415424347,-0.35572972893714905,-0.2776992619037628,-0.03880378231406212,-0.0262456052005291,-0.1074477955698967,-0.49544623494148254,-0.4795650243759155,-0.6453603506088257,-0.7055103778839111,-0.6582121849060059,-0.29636073112487793,-0.12862378358840942,0.22468802332878113,-0.3155491054058075,-0.35387536883354187,-0.6294751763343811,-0.5167884230613708,-0.3275392949581146,0.08106371760368347,-0.18696236610412598,0.16046610474586487,-0.2216661125421524,-0.2238357812166214,-0.6220405101776123,-0.5808676481246948,-0.30528950691223145,-0.1493186205625534,-0.10512983798980713,0.015704501420259476,-0.011276263743638992,-0.1830553263425827,-0.4549567699432373,-0.5090839266777039,-0.501516580581665,-0.1854984015226364,0.055090468376874924,-0.16070613265037537,0.1816401481628418,-0.26244112849235535,-0.3651418089866638,-0.43114393949508667,-0.5235203504562378,-0.27129966020584106,0.042583923786878586,-0.09736195206642151,0.18459667265415192,-0.1685120314359665,-0.3702635169029236,-0.5772285461425781,-0.6319859027862549,-0.3725663423538208,-0.11684595793485641,-0.05541661009192467,0.13978242874145508,-0.1925511658191681,-0.4369257986545563,-0.6185503005981445,-0.6105952858924866,-0.30284398794174194,-0.033695392310619354,-0.12183509021997452,-0.04632984846830368,-0.15929464995861053,-0.23071588575839996,-0.6376659274101257,-0.744218111038208,-0.7388504147529602,-0.31037062406539917,-0.15248018503189087,0.02802691049873829,-0.18295027315616608,-0.46085676550865173,-0.7055221199989319,-0.6540800333023071,-0.40054747462272644,-0.1644268035888672,-0.15354007482528687,0.053920865058898926,-0.3914364278316498,-0.26288747787475586,-0.7398965954780579,-0.5966225862503052,-0.26381587982177734,-0.08888862282037735,-0.10695616900920868,0.12520088255405426,-0.42716366052627563,-0.44251537322998047,-0.6443498730659485,-0.5133692622184753,-0.12852688133716583,0.1839713603258133,-0.11189109832048416,0.013324260711669922,-0.20079085230827332,-0.35124170780181885,-0.6432005167007446,-0.544338583946228,-0.22338330745697021,0.02337886020541191,-0.03423365205526352,0.03031354956328869,-0.2555101811885834,-0.5307729244232178,-0.5734694004058838,-0.325450599193573,-0.006340358406305313,0.10197865217924118,0.07444329559803009,-0.005936842877417803,-0.11207091808319092,-0.6059155464172363,-0.6043487191200256,-0.3139532506465912,-0.03735947981476784,0.06123042851686478,0.264984130859375,-0.43886712193489075,-0.1980949342250824,-0.7164268493652344,-0.4801037311553955,-0.24526825547218323,-0.1706814169883728,0.09711702913045883,0.15159949660301208,-0.30564436316490173,-0.5535223484039307,-0.7360484004020691,-0.8286736011505127,-0.7431885004043579,-0.3473784029483795,-0.28732454776763916,0.06579270213842392,-0.3447759747505188,-0.42335379123687744,-0.7731345891952515,-0.6410619616508484,-0.5136286020278931,-0.0353986993432045,-0.18003228306770325,0.07897541671991348,-0.32130372524261475,-0.49954360723495483,-0.7053977251052856,-0.6466010808944702,-0.21610639989376068,-0.18936537206172943,-0.1515943855047226,0.054663095623254776,-0.4292178153991699,-0.6142776012420654,-0.7310429811477661,-0.5106911659240723,-0.1510348618030548,0.08770954608917236,-0.1420479118824005,-0.12536242604255676,-0.3105757236480713,-0.6052138805389404,-0.6401849985122681,-0.46473243832588196,-0.2764529287815094,-0.0005392431048676372,-0.11144310981035233,-0.12514172494411469,-0.38558831810951233,-0.6705096364021301,-0.6784218549728394,-0.4123047888278961,-0.15432196855545044,-0.0042601716704666615,-0.1165476068854332,-0.2750752866268158,-0.2315874844789505,-0.7015261650085449,-0.595231831073761,-0.42229849100112915,-0.22704605758190155,-0.0037509023677557707,-0.06258352845907211,-0.3141009509563446,-0.3378816545009613,-0.7079726457595825,-0.7149107456207275,-0.6600834727287292,-0.43789786100387573,-0.099006786942482,0.25738340616226196,-0.29957476258277893,-0.5406124591827393,-0.6689474582672119,-0.7535929679870605,-0.6513024568557739,-0.0097572673112154,-0.24472998082637787,0.27856871485710144,-0.4814417064189911,-0.563096284866333,-0.6737350225448608,-0.59157794713974,-0.22055195271968842,-0.2312299907207489,-0.048196759074926376,-0.2451111078262329,-0.5111253261566162,-0.7650676369667053,-0.6984565258026123,-0.3308674693107605,0.007922333665192127,-0.0448714978992939,0.05759815499186516,-0.4281560480594635,-0.4545068144798279,-0.7425128817558289,-0.5803579092025757,-0.09794100373983383,0.04300647974014282,-0.05747812241315842,0.04638156294822693,-0.4723808467388153,-0.6050818562507629,-0.7069912552833557,-0.3941330313682556,0.14979232847690582,0.10461273044347763,-0.02285277657210827,-0.17401708662509918,-0.2271091789007187,-0.6652634143829346,-0.6435546875,-0.2953406572341919,-0.05846013128757477,-0.03717423602938652,0.07012489438056946,-0.33087158203125,-0.36429303884506226,-0.746924877166748,-0.6137694716453552,-0.26942145824432373,-0.08988916128873825,-0.022882115095853806,0.05532650277018547,-0.362576425075531,-0.5439688563346863,-0.7162160873413086,-0.7206295132637024,-0.5704342722892761,0.003863165620714426,-0.13894960284233093,-0.051292967051267624,-0.3525633215904236,-0.6214897036552429,-0.8037325739860535,-0.7221409678459167,-0.4915221035480499,-0.19004781544208527,-0.2117474377155304,-0.19829031825065613,-0.6163671612739563,-0.6564774513244629,-0.7875658869743347,-0.5747503042221069,-0.16124755144119263,-0.19509011507034302,0.0528055801987648,-0.6052861213684082,-0.6940287947654724,-0.8266463279724121,-0.6197683215141296,-0.16469219326972961,0.11299432069063187,0.043137870728969574,-0.3379250466823578,-0.5267990231513977,-0.7473016381263733,-0.6677799224853516,-0.3986313045024872,0.06579119712114334,-0.14537200331687927,0.20816421508789062,-0.5281512141227722,-0.5774034261703491,-0.8080713748931885,-0.5857447385787964,-0.06640537828207016,0.036987144500017166,-0.04984668269753456,-0.15135963261127472,-0.36532726883888245,-0.6768742799758911,-0.7285820841789246,-0.5922638773918152,-0.1985166370868683,-0.11812473088502884,-0.12670788168907166,-0.23210971057415009,-0.5519545078277588,-0.7516356110572815,-0.7467066049575806,-0.3549492359161377,-0.031868837773799896,-0.13774195313453674,0.14513486623764038,-0.07204336673021317,-0.4481549561023712,-0.7161581516265869,-0.7792695164680481,-0.6773630976676941,-0.4187609553337097,-0.1497272551059723,0.08407850563526154,-0.4986709654331207,-0.6650655269622803,-0.7310094237327576,-0.5835872888565063,-0.3676745593547821,-0.06826572120189667,-0.2324206680059433,-0.21071897447109222,-0.1832716464996338,-0.4971344470977783,-0.6598212718963623,-0.6478240489959717,-0.4566611051559448,-0.24881651997566223,-0.24490690231323242,-0.09177304804325104,-0.5526569485664368,-0.6782146096229553,-0.781404435634613,-0.682574987411499,-0.38293325901031494,-0.25378039479255676,-0.1572316288948059,-0.12832720577716827,-0.371530681848526,-0.7193730473518372,-0.7426537275314331,-0.4922645688056946,-0.20010848343372345,-0.18779447674751282,-0.15532591938972473,-0.3554491698741913,-0.3965931534767151,-0.7256743907928467,-0.6985877156257629,-0.4901403784751892,-0.29252809286117554,-0.09458675235509872,-0.14392375946044922,-0.3896249532699585,-0.6153673529624939,-0.7123002409934998,-0.5545549392700195,-0.1474175602197647,-0.4089871346950531,-0.05253515765070915,-0.5015471577644348,-0.5747416615486145,-0.7492021322250366,-0.7757776975631714,-0.655795156955719,-0.4673161804676056,-0.0769028291106224,0.11458899080753326,-0.3585682213306427,-0.7080260515213013,-0.7938395142555237,-0.8094850182533264,-0.6814250349998474,-0.28125545382499695,-0.38186782598495483,-0.04368392750620842,-0.5725411176681519,-0.6846409440040588,-0.8295769691467285,-0.6598933339118958,-0.45189857482910156,-0.10349831730127335,-0.2696440815925598,-0.18372182548046112,-0.4952942132949829,-0.7570988535881042,-0.7804100513458252,-0.6348405480384827,-0.31622880697250366,-0.22301135957241058,-0.17177879810333252,-0.38182878494262695,-0.5946094393730164,-0.7939720153808594,-0.819362998008728,-0.5946296453475952,-0.24904197454452515,-0.2307894080877304,-0.1664578914642334,-0.40120434761047363,-0.49573594331741333,-0.7663336992263794,-0.6868228912353516,-0.4675617516040802,-0.2859213352203369,-0.12159661948680878,-0.10981406271457672,-0.46870124340057373,-0.5917952060699463,-0.7603825926780701,-0.6372691988945007,-0.375549852848053,-0.18293356895446777,-0.19697611033916473,-0.16184791922569275,-0.4083191752433777,-0.6324262619018555,-0.7434797883033752,-0.6483514308929443,-0.3939746618270874,-0.0604405403137207,-0.09685799479484558,-0.06828819215297699,-0.49696046113967896,-0.6716335415840149,-0.7991689443588257,-0.7598612308502197,-0.5589650273323059,-0.23348607122898102,-0.11597234755754471,0.05340643599629402,-0.3805311322212219,-0.5743665099143982,-0.6949015855789185,-0.79051673412323,-0.6877919435501099,-0.15271922945976257,-0.2923682928085327,0.1312931478023529,-0.5283907651901245,-0.5772714614868164,-0.7344062924385071,-0.6716508865356445,-0.36560365557670593,-0.34334632754325867,-0.33124980330467224,-0.2560226321220398,-0.5047492384910583,-0.7616909146308899,-0.7695836424827576,-0.6063560843467712,-0.2741395831108093,-0.2664888799190521,-0.25180068612098694,-0.42689239978790283,-0.46435943245887756,-0.7472909092903137,-0.7568380236625671,-0.5096918344497681,-0.2594829499721527,-0.18776646256446838,-0.19016963243484497,-0.42086195945739746,-0.44386017322540283,-0.7135952115058899,-0.6529590487480164,-0.4928966760635376,-0.15971776843070984,-0.014208267442882061,0.1226840540766716,-0.318490207195282,-0.5180261135101318,-0.7337306141853333,-0.49900639057159424,-0.31051599979400635,-0.1293572038412094,-0.018025562167167664,-0.08950012177228928,-0.2745680510997772,-0.5145458579063416,-0.6646977066993713,-0.54543536901474,-0.20759613811969757,0.04630938544869423,0.0051194760017097,0.19448937475681305,-0.21356256306171417,-0.672044575214386,-0.8211701512336731,-0.8383491039276123,-0.6394778490066528,-0.35922202467918396,-0.4034327268600464,-0.130900040268898,-0.49646106362342834,-0.6151907444000244,-0.5657534003257751,-0.22323116660118103,-0.32736897468566895,-0.19490483403205872,-0.30375587940216064,-0.7147610783576965,-0.5274331569671631,-0.5934465527534485,-0.1275789439678192,-0.3360242545604706,-0.324502170085907,-0.6455804705619812,-0.6307922005653381,-0.5903295278549194,-0.36626946926116943,-0.4735087454319,-0.32819652557373047,-0.6358229517936707,-0.2968810498714447,-0.49127060174942017,-0.4752081632614136,-0.7111085653305054,-0.35619619488716125,-0.3764559030532837,-0.19129732251167297,-0.29750728607177734,-0.4335407316684723,-0.7315249443054199,-0.8101974129676819,-0.7515010237693787,-0.2606453597545624,-0.10678248852491379,-0.42588868737220764,-0.2580236792564392,-0.5710793137550354,-0.6998178958892822,-0.6480226516723633,-0.4095405042171478,-0.5723209977149963,-0.1508241444826126,-0.3498130738735199,-0.19318871200084686,-0.6514462828636169,-0.5621018409729004,-0.36251750588417053,-0.23318831622600555,-0.3938789665699005,-0.39995816349983215,-0.49583613872528076,-0.6619441509246826,-0.40831801295280457,-0.37307077646255493,-0.5875827670097351,-0.6956110000610352,-0.3484606146812439,-0.321943461894989,-0.31549733877182007,-0.47816020250320435,-0.405982106924057,-0.676026463508606,-0.7279251217842102,-0.8316550850868225,-0.6601506471633911,-0.29844680428504944,-0.31344056129455566,0.04862189292907715,-0.5253677368164062,-0.5175614953041077,-0.7205143570899963,-0.6833227872848511,-0.4305284023284912,-0.21056728065013885,-0.36506709456443787,-0.190432608127594,-0.6570644974708557,-0.4225445091724396,-0.4304346740245819,-0.6365875601768494,-0.5533927083015442,-0.30011075735092163,-0.16356723010540009,-0.3261072635650635,-0.18249040842056274,-0.624719500541687,-0.5601058006286621,-0.5314845442771912,-0.4141077995300293,-0.33308690786361694,-0.25278061628341675,-0.4461326599121094,-0.47238782048225403,-0.5598015189170837,-0.4585321247577667,-0.07918386161327362,-0.3802037239074707,-0.12488920241594315,-0.5042394399642944,-0.45448097586631775,-0.49118441343307495,-0.21869316697120667,-0.420647531747818,-0.08486413955688477,-0.41577449440956116,-0.2419820874929428,-0.5963943600654602,-0.620249330997467,-0.7277863621711731,-0.6147839426994324,-0.43399542570114136,-0.35034650564193726,0.01490947138518095,-0.6388185024261475,-0.6052204966545105,-0.6531475186347961,-0.3592153489589691,-0.31285613775253296,-0.5309954285621643,-0.3608435392379761,-0.6359511613845825,-0.709904670715332,-0.7692864537239075,-0.5817573666572571,-0.4870798885822296,-0.5385122299194336,-0.5452913045883179,-0.7062322497367859,-0.6717039346694946,-0.5463308691978455,-0.3073549270629883,-0.5278474688529968,-0.1995622217655182,-0.7088282108306885,-0.5060423612594604,-0.574536144733429,-0.38112953305244446,-0.5214358568191528,-0.5005367398262024,-0.6362939476966858,-0.6563398838043213,-0.733056902885437,-0.5545607805252075,-0.5203502774238586,-0.33589181303977966,-0.6063246726989746,-0.5543559789657593,-0.6533381342887878,-0.7506599426269531,-0.8518068790435791,-0.7547495365142822,-0.42913350462913513,-0.4220256507396698,-0.18576213717460632,-0.5662499666213989,-0.7207712531089783,-0.7752968668937683,-0.42513495683670044,-0.3345720171928406,-0.38620880246162415,-0.3098945915699005,-0.6294068098068237,-0.8082395792007446,-0.7501500844955444,-0.48654088377952576,-0.449971467256546,-0.6009355783462524,-0.40437081456184387,-0.49433401226997375,-0.7492852807044983,-0.7578285336494446,-0.6846118569374084,-0.49923208355903625,-0.49864858388900757,-0.2205011546611786,-0.21006855368614197,-0.4539276361465454,-0.5059525370597839,-0.4545791447162628,-0.37601882219314575,-0.5034915208816528,-0.32322943210601807,-0.7315477132797241,-0.7221629023551941,-0.5399196743965149,-0.2811550199985504,-0.5344998836517334,-0.19660112261772156,-0.5291869044303894,-0.48801252245903015,-0.5494044423103333,-0.5067213773727417,-0.44290462136268616,-0.26064443588256836,-0.5448212623596191,-0.3498201072216034,-0.6487008929252625,-0.6435787677764893,-0.8097445368766785,-0.6600271463394165,-0.37944987416267395,-0.42001622915267944,-0.18616318702697754,-0.6303314566612244,-0.7428311109542847,-0.6574879884719849,-0.3157593607902527,-0.3691366910934448,-0.519707441329956,-0.5894830226898193,-0.5841161608695984,-0.717999279499054,-0.7117048501968384,-0.4444354474544525,-0.2675206959247589,-0.49156051874160767,-0.19882741570472717,-0.5140008330345154,-0.5402613282203674,-0.45657092332839966,-0.34998801350593567,-0.34633931517601013,-0.031484026461839676,-0.27512848377227783,-0.29851701855659485,-0.6673153042793274,-0.6763280034065247,-0.6940500140190125,-0.6506016254425049,-0.19556748867034912,-0.3359316885471344,-0.11163219064474106,-0.23763149976730347,-0.4108192026615143,-0.6490752696990967,-0.7140653133392334,-0.7062932848930359,-0.4724152386188507,-0.28850439190864563,-0.26379451155662537,-0.14145973324775696,-0.6763539910316467,-0.6118381023406982,-0.5933634638786316,-0.4551469683647156,-0.45411038398742676,-0.5059462785720825,-0.3628435432910919,-0.7173417210578918,-0.6732735633850098,-0.5737158060073853,-0.15853063762187958,-0.24629828333854675,-0.41553670167922974,-0.3495810329914093,-0.5792711973190308,-0.4718305170536041,-0.373691201210022,-0.37257862091064453,-0.47453516721725464,-0.23466143012046814,-0.5256589651107788,-0.5342211127281189,-0.5838539600372314,-0.306207537651062,-0.3043005168437958,-0.353953093290329,-0.42705675959587097,-0.5400314927101135,-0.5849301815032959,-0.47884172201156616,-0.41078490018844604,-0.3299293518066406,-0.3014816343784332,-0.6433587670326233,-0.6316649317741394,-0.3702947795391083,-0.289602130651474,-0.2658960521221161,-0.04950496181845665,-0.49050968885421753,-0.44519686698913574,-0.5794391632080078,-0.32909736037254333,-0.4878391921520233,-0.18164598941802979,-0.18054524064064026,-0.47620755434036255,-0.5216416120529175,-0.41803082823753357,-0.48260965943336487,-0.4641650319099426,-0.03021145798265934,-0.5892903208732605,-0.5231315493583679,-0.6235639452934265,-0.2592586576938629,-0.26107391715049744,-0.27481070160865784,-0.1790652722120285,-0.6479570269584656,-0.6107057929039001,-0.6468315124511719,-0.4359332323074341,-0.5052465796470642,-0.36430564522743225,-0.6632797718048096,-0.7079013586044312,-0.6395185589790344,-0.44912177324295044,-0.2935194969177246,-0.3791470527648926,-0.21949875354766846,-0.5822730660438538,-0.5841387510299683,-0.5771404504776001,-0.40891513228416443,-0.41431954503059387,-0.35676777362823486,-0.492611825466156,-0.5769302248954773,-0.5668920278549194,-0.40219739079475403,-0.2334960699081421,-0.3279606103897095,-0.16639173030853271,-0.599640429019928,-0.5215719938278198,-0.6150704026222229,-0.3103981614112854,-0.3780288100242615,-0.2795689105987549,-0.4513942003250122,-0.5837192535400391,-0.584412157535553,-0.4484606683254242,-0.3799692392349243,-0.3083586096763611,-0.23293869197368622,-0.6355383992195129,-0.5564519762992859,-0.6662800908088684,-0.3834535479545593,-0.5860488414764404,-0.4258997440338135,-0.34469565749168396,-0.338096559047699,-0.31404927372932434,-0.42865949869155884,-0.747899055480957,-0.5679381489753723,-0.6129043102264404,-0.30950668454170227,-0.49301838874816895,-0.17494821548461914,-0.3960731029510498,-0.5362409353256226,-0.5236091017723083,-0.45810842514038086,-0.2609856128692627,-0.40551117062568665,-0.35204845666885376,-0.6910525560379028,-0.7552254796028137,-0.693716287612915,-0.5181001424789429,-0.4550419747829437,-0.4674377143383026,-0.42618122696876526,-0.5672401785850525,-0.4723033308982849,-0.6151458024978638,-0.7033684253692627,-0.42346128821372986,-0.30783161520957947,-0.3207440674304962,-0.21009264886379242,-0.5928932428359985,-0.6378270387649536,-0.6756961345672607,-0.4718801975250244,-0.5624828934669495,-0.2596029043197632,-0.3935253322124481,-0.47267425060272217,-0.5549307465553284,-0.6364831924438477,-0.6565703749656677,-0.6065650582313538,-0.3726949095726013,-0.21119289100170135,-0.2431076020002365,-0.4854755997657776,-0.6045978665351868,-0.5488430261611938,-0.45822352170944214,-0.3400856554508209,-0.46749648451805115,-0.3154584765434265,-0.6103323101997375,-0.6024607419967651,-0.5855088233947754,-0.43318837881088257,-0.144898921251297,-0.35938501358032227,-0.2617214024066925,-0.6127280592918396,-0.6003206372261047,-0.4382418692111969,-0.34320738911628723,-0.4325193762779236,-0.31198349595069885,-0.31681057810783386,-0.5848864316940308,-0.4606409966945648,-0.4064362943172455,-0.2176736742258072,-0.25057756900787354,-0.01856807805597782,-0.41636067628860474,-0.3536413609981537,-0.5527989864349365,-0.406290203332901,-0.36928442120552063,-0.35800957679748535,-0.2926890254020691,-0.684577226638794,-0.631841778755188,-0.5092514157295227,-0.16364969313144684,-0.2769710421562195,-0.15805332362651825,-0.4117996394634247,-0.5414277911186218,-0.533043384552002,-0.4306507110595703,-0.2643015384674072,-0.24750429391860962,-0.19259001314640045,-0.5234338641166687,-0.5628787279129028,-0.5638302564620972,-0.3166400194168091,-0.2071453034877777,-0.14282643795013428,-0.10409316420555115,-0.5086058974266052,-0.5195754170417786,-0.5056104063987732,-0.25319769978523254,-0.36800897121429443,-0.01863826811313629,-0.4034889042377472,-0.5070134401321411,-0.545325756072998,-0.4917283356189728,-0.2528076469898224,-0.28898948431015015,-0.09317236393690109,-0.3662434220314026,-0.48963677883148193,-0.5922872424125671,-0.4603723883628845,-0.12195930629968643,-0.26203498244285583,0.08015964925289154,-0.45564979314804077,-0.27076759934425354,-0.7492513060569763,-0.6768016219139099,-0.5787340402603149,-0.394199013710022,-0.025537509471178055,-0.15186446905136108,0.11123885214328766,-0.3382585644721985,-0.5846383571624756,-0.6651423573493958,-0.5851014256477356,-0.2863435745239258,-0.05952155962586403,-0.09623657912015915,-0.27338093519210815,-0.39692381024360657,-0.4064449071884155,-0.4884308874607086,-0.5649056434631348,-0.536609947681427,-0.36972153186798096,-0.05846405401825905,-0.2803678512573242,-0.372941255569458,-0.36781570315361023,-0.4324793517589569,-0.4087432622909546,-0.5364552736282349,-0.5133834481239319,-0.14047817885875702,-0.30196109414100647,-0.1313946694135666,-0.3012824058532715,-0.39917513728141785,-0.4659876525402069,-0.5424834489822388,-0.6682597398757935,-0.349221408367157,-0.21547624468803406,-0.2764491140842438,-0.2398577630519867,-0.3101474642753601,-0.29170963168144226,-0.4388198256492615,-0.6999356746673584,-0.6759313344955444,-0.3544132709503174,-0.1636233776807785,-0.2697102725505829,-0.18753717839717865,-0.46580517292022705,-0.395052433013916,-0.5146687030792236,-0.589065670967102,-0.3807104825973511,-0.13685068488121033,-0.25509947538375854,-0.2666606903076172,-0.2401394248008728,-0.4053138196468353,-0.392639696598053,-0.6389909386634827,-0.6122528910636902,-0.30787479877471924,0.028659000992774963,-0.021989062428474426,0.12277187407016754,-0.41800493001937866,-0.6347178220748901,-0.6584348082542419,-0.4496033787727356,-0.14061617851257324,-0.03144017979502678,-0.12324356287717819,-0.28572019934654236,-0.3452037572860718,-0.4865620732307434,-0.5323247909545898,-0.5405746102333069,-0.4091428220272064,-0.11931353807449341,-0.16087298095226288,-0.2234322875738144,-0.46206867694854736,-0.5098944306373596,-0.5070419907569885,-0.4576878547668457,-0.547871470451355,-0.30107975006103516,-0.13409043848514557,-0.2395005226135254,-0.17128774523735046,-0.3506762981414795,-0.5122635960578918,-0.47449061274528503,-0.6666779518127441,-0.4907127916812897,-0.1915031522512436,-0.2670808732509613,-0.22938500344753265,-0.28059330582618713,-0.46487680077552795,-0.3856714069843292,-0.5871319770812988,-0.6217584013938904,-0.40613725781440735,-0.20073865354061127,-0.3104792535305023,-0.20269930362701416,-0.5348308086395264,-0.47314873337745667,-0.5076039433479309,-0.44832947850227356,-0.3007503151893616,-0.31965169310569763,-0.2919333875179291,-0.5816469192504883,-0.5495721101760864,-0.5374950170516968,-0.19991061091423035,-0.2794247567653656,-0.4375917911529541,-0.3438311815261841,-0.5881413221359253,-0.5116807818412781,-0.5435202717781067,-0.24130694568157196,-0.20643793046474457,-0.29964932799339294,0.13681338727474213,-0.494152694940567,-0.08760899305343628],\"type\":\"scatter\"}],                        {\"template\":{\"data\":{\"bar\":[{\"error_x\":{\"color\":\"#2a3f5f\"},\"error_y\":{\"color\":\"#2a3f5f\"},\"marker\":{\"line\":{\"color\":\"#E5ECF6\",\"width\":0.5},\"pattern\":{\"fillmode\":\"overlay\",\"size\":10,\"solidity\":0.2}},\"type\":\"bar\"}],\"barpolar\":[{\"marker\":{\"line\":{\"color\":\"#E5ECF6\",\"width\":0.5},\"pattern\":{\"fillmode\":\"overlay\",\"size\":10,\"solidity\":0.2}},\"type\":\"barpolar\"}],\"carpet\":[{\"aaxis\":{\"endlinecolor\":\"#2a3f5f\",\"gridcolor\":\"white\",\"linecolor\":\"white\",\"minorgridcolor\":\"white\",\"startlinecolor\":\"#2a3f5f\"},\"baxis\":{\"endlinecolor\":\"#2a3f5f\",\"gridcolor\":\"white\",\"linecolor\":\"white\",\"minorgridcolor\":\"white\",\"startlinecolor\":\"#2a3f5f\"},\"type\":\"carpet\"}],\"choropleth\":[{\"colorbar\":{\"outlinewidth\":0,\"ticks\":\"\"},\"type\":\"choropleth\"}],\"contour\":[{\"colorbar\":{\"outlinewidth\":0,\"ticks\":\"\"},\"colorscale\":[[0.0,\"#0d0887\"],[0.1111111111111111,\"#46039f\"],[0.2222222222222222,\"#7201a8\"],[0.3333333333333333,\"#9c179e\"],[0.4444444444444444,\"#bd3786\"],[0.5555555555555556,\"#d8576b\"],[0.6666666666666666,\"#ed7953\"],[0.7777777777777778,\"#fb9f3a\"],[0.8888888888888888,\"#fdca26\"],[1.0,\"#f0f921\"]],\"type\":\"contour\"}],\"contourcarpet\":[{\"colorbar\":{\"outlinewidth\":0,\"ticks\":\"\"},\"type\":\"contourcarpet\"}],\"heatmap\":[{\"colorbar\":{\"outlinewidth\":0,\"ticks\":\"\"},\"colorscale\":[[0.0,\"#0d0887\"],[0.1111111111111111,\"#46039f\"],[0.2222222222222222,\"#7201a8\"],[0.3333333333333333,\"#9c179e\"],[0.4444444444444444,\"#bd3786\"],[0.5555555555555556,\"#d8576b\"],[0.6666666666666666,\"#ed7953\"],[0.7777777777777778,\"#fb9f3a\"],[0.8888888888888888,\"#fdca26\"],[1.0,\"#f0f921\"]],\"type\":\"heatmap\"}],\"heatmapgl\":[{\"colorbar\":{\"outlinewidth\":0,\"ticks\":\"\"},\"colorscale\":[[0.0,\"#0d0887\"],[0.1111111111111111,\"#46039f\"],[0.2222222222222222,\"#7201a8\"],[0.3333333333333333,\"#9c179e\"],[0.4444444444444444,\"#bd3786\"],[0.5555555555555556,\"#d8576b\"],[0.6666666666666666,\"#ed7953\"],[0.7777777777777778,\"#fb9f3a\"],[0.8888888888888888,\"#fdca26\"],[1.0,\"#f0f921\"]],\"type\":\"heatmapgl\"}],\"histogram\":[{\"marker\":{\"pattern\":{\"fillmode\":\"overlay\",\"size\":10,\"solidity\":0.2}},\"type\":\"histogram\"}],\"histogram2d\":[{\"colorbar\":{\"outlinewidth\":0,\"ticks\":\"\"},\"colorscale\":[[0.0,\"#0d0887\"],[0.1111111111111111,\"#46039f\"],[0.2222222222222222,\"#7201a8\"],[0.3333333333333333,\"#9c179e\"],[0.4444444444444444,\"#bd3786\"],[0.5555555555555556,\"#d8576b\"],[0.6666666666666666,\"#ed7953\"],[0.7777777777777778,\"#fb9f3a\"],[0.8888888888888888,\"#fdca26\"],[1.0,\"#f0f921\"]],\"type\":\"histogram2d\"}],\"histogram2dcontour\":[{\"colorbar\":{\"outlinewidth\":0,\"ticks\":\"\"},\"colorscale\":[[0.0,\"#0d0887\"],[0.1111111111111111,\"#46039f\"],[0.2222222222222222,\"#7201a8\"],[0.3333333333333333,\"#9c179e\"],[0.4444444444444444,\"#bd3786\"],[0.5555555555555556,\"#d8576b\"],[0.6666666666666666,\"#ed7953\"],[0.7777777777777778,\"#fb9f3a\"],[0.8888888888888888,\"#fdca26\"],[1.0,\"#f0f921\"]],\"type\":\"histogram2dcontour\"}],\"mesh3d\":[{\"colorbar\":{\"outlinewidth\":0,\"ticks\":\"\"},\"type\":\"mesh3d\"}],\"parcoords\":[{\"line\":{\"colorbar\":{\"outlinewidth\":0,\"ticks\":\"\"}},\"type\":\"parcoords\"}],\"pie\":[{\"automargin\":true,\"type\":\"pie\"}],\"scatter\":[{\"marker\":{\"colorbar\":{\"outlinewidth\":0,\"ticks\":\"\"}},\"type\":\"scatter\"}],\"scatter3d\":[{\"line\":{\"colorbar\":{\"outlinewidth\":0,\"ticks\":\"\"}},\"marker\":{\"colorbar\":{\"outlinewidth\":0,\"ticks\":\"\"}},\"type\":\"scatter3d\"}],\"scattercarpet\":[{\"marker\":{\"colorbar\":{\"outlinewidth\":0,\"ticks\":\"\"}},\"type\":\"scattercarpet\"}],\"scattergeo\":[{\"marker\":{\"colorbar\":{\"outlinewidth\":0,\"ticks\":\"\"}},\"type\":\"scattergeo\"}],\"scattergl\":[{\"marker\":{\"colorbar\":{\"outlinewidth\":0,\"ticks\":\"\"}},\"type\":\"scattergl\"}],\"scattermapbox\":[{\"marker\":{\"colorbar\":{\"outlinewidth\":0,\"ticks\":\"\"}},\"type\":\"scattermapbox\"}],\"scatterpolar\":[{\"marker\":{\"colorbar\":{\"outlinewidth\":0,\"ticks\":\"\"}},\"type\":\"scatterpolar\"}],\"scatterpolargl\":[{\"marker\":{\"colorbar\":{\"outlinewidth\":0,\"ticks\":\"\"}},\"type\":\"scatterpolargl\"}],\"scatterternary\":[{\"marker\":{\"colorbar\":{\"outlinewidth\":0,\"ticks\":\"\"}},\"type\":\"scatterternary\"}],\"surface\":[{\"colorbar\":{\"outlinewidth\":0,\"ticks\":\"\"},\"colorscale\":[[0.0,\"#0d0887\"],[0.1111111111111111,\"#46039f\"],[0.2222222222222222,\"#7201a8\"],[0.3333333333333333,\"#9c179e\"],[0.4444444444444444,\"#bd3786\"],[0.5555555555555556,\"#d8576b\"],[0.6666666666666666,\"#ed7953\"],[0.7777777777777778,\"#fb9f3a\"],[0.8888888888888888,\"#fdca26\"],[1.0,\"#f0f921\"]],\"type\":\"surface\"}],\"table\":[{\"cells\":{\"fill\":{\"color\":\"#EBF0F8\"},\"line\":{\"color\":\"white\"}},\"header\":{\"fill\":{\"color\":\"#C8D4E3\"},\"line\":{\"color\":\"white\"}},\"type\":\"table\"}]},\"layout\":{\"annotationdefaults\":{\"arrowcolor\":\"#2a3f5f\",\"arrowhead\":0,\"arrowwidth\":1},\"autotypenumbers\":\"strict\",\"coloraxis\":{\"colorbar\":{\"outlinewidth\":0,\"ticks\":\"\"}},\"colorscale\":{\"diverging\":[[0,\"#8e0152\"],[0.1,\"#c51b7d\"],[0.2,\"#de77ae\"],[0.3,\"#f1b6da\"],[0.4,\"#fde0ef\"],[0.5,\"#f7f7f7\"],[0.6,\"#e6f5d0\"],[0.7,\"#b8e186\"],[0.8,\"#7fbc41\"],[0.9,\"#4d9221\"],[1,\"#276419\"]],\"sequential\":[[0.0,\"#0d0887\"],[0.1111111111111111,\"#46039f\"],[0.2222222222222222,\"#7201a8\"],[0.3333333333333333,\"#9c179e\"],[0.4444444444444444,\"#bd3786\"],[0.5555555555555556,\"#d8576b\"],[0.6666666666666666,\"#ed7953\"],[0.7777777777777778,\"#fb9f3a\"],[0.8888888888888888,\"#fdca26\"],[1.0,\"#f0f921\"]],\"sequentialminus\":[[0.0,\"#0d0887\"],[0.1111111111111111,\"#46039f\"],[0.2222222222222222,\"#7201a8\"],[0.3333333333333333,\"#9c179e\"],[0.4444444444444444,\"#bd3786\"],[0.5555555555555556,\"#d8576b\"],[0.6666666666666666,\"#ed7953\"],[0.7777777777777778,\"#fb9f3a\"],[0.8888888888888888,\"#fdca26\"],[1.0,\"#f0f921\"]]},\"colorway\":[\"#636efa\",\"#EF553B\",\"#00cc96\",\"#ab63fa\",\"#FFA15A\",\"#19d3f3\",\"#FF6692\",\"#B6E880\",\"#FF97FF\",\"#FECB52\"],\"font\":{\"color\":\"#2a3f5f\"},\"geo\":{\"bgcolor\":\"white\",\"lakecolor\":\"white\",\"landcolor\":\"#E5ECF6\",\"showlakes\":true,\"showland\":true,\"subunitcolor\":\"white\"},\"hoverlabel\":{\"align\":\"left\"},\"hovermode\":\"closest\",\"mapbox\":{\"style\":\"light\"},\"paper_bgcolor\":\"white\",\"plot_bgcolor\":\"#E5ECF6\",\"polar\":{\"angularaxis\":{\"gridcolor\":\"white\",\"linecolor\":\"white\",\"ticks\":\"\"},\"bgcolor\":\"#E5ECF6\",\"radialaxis\":{\"gridcolor\":\"white\",\"linecolor\":\"white\",\"ticks\":\"\"}},\"scene\":{\"xaxis\":{\"backgroundcolor\":\"#E5ECF6\",\"gridcolor\":\"white\",\"gridwidth\":2,\"linecolor\":\"white\",\"showbackground\":true,\"ticks\":\"\",\"zerolinecolor\":\"white\"},\"yaxis\":{\"backgroundcolor\":\"#E5ECF6\",\"gridcolor\":\"white\",\"gridwidth\":2,\"linecolor\":\"white\",\"showbackground\":true,\"ticks\":\"\",\"zerolinecolor\":\"white\"},\"zaxis\":{\"backgroundcolor\":\"#E5ECF6\",\"gridcolor\":\"white\",\"gridwidth\":2,\"linecolor\":\"white\",\"showbackground\":true,\"ticks\":\"\",\"zerolinecolor\":\"white\"}},\"shapedefaults\":{\"line\":{\"color\":\"#2a3f5f\"}},\"ternary\":{\"aaxis\":{\"gridcolor\":\"white\",\"linecolor\":\"white\",\"ticks\":\"\"},\"baxis\":{\"gridcolor\":\"white\",\"linecolor\":\"white\",\"ticks\":\"\"},\"bgcolor\":\"#E5ECF6\",\"caxis\":{\"gridcolor\":\"white\",\"linecolor\":\"white\",\"ticks\":\"\"}},\"title\":{\"x\":0.05},\"xaxis\":{\"automargin\":true,\"gridcolor\":\"white\",\"linecolor\":\"white\",\"ticks\":\"\",\"title\":{\"standoff\":15},\"zerolinecolor\":\"white\",\"zerolinewidth\":2},\"yaxis\":{\"automargin\":true,\"gridcolor\":\"white\",\"linecolor\":\"white\",\"ticks\":\"\",\"title\":{\"standoff\":15},\"zerolinecolor\":\"white\",\"zerolinewidth\":2}}},\"title\":{\"text\":\"qo_sc[Sm3/d]\"},\"height\":900,\"width\":1600},                        {\"responsive\": true}                    ).then(function(){\n",
              "                            \n",
              "var gd = document.getElementById('95d34f41-73f1-46eb-ba9d-05a66a6c711a');\n",
              "var x = new MutationObserver(function (mutations, observer) {{\n",
              "        var display = window.getComputedStyle(gd).display;\n",
              "        if (!display || display === 'none') {{\n",
              "            console.log([gd, 'removed!']);\n",
              "            Plotly.purge(gd);\n",
              "            observer.disconnect();\n",
              "        }}\n",
              "}});\n",
              "\n",
              "// Listen for the removal of the full notebook cells\n",
              "var notebookContainer = gd.closest('#notebook-container');\n",
              "if (notebookContainer) {{\n",
              "    x.observe(notebookContainer, {childList: true});\n",
              "}}\n",
              "\n",
              "// Listen for the clearing of the current output cell\n",
              "var outputEl = gd.closest('.output');\n",
              "if (outputEl) {{\n",
              "    x.observe(outputEl, {childList: true});\n",
              "}}\n",
              "\n",
              "                        })                };                            </script>        </div>\n",
              "</body>\n",
              "</html>"
            ]
          },
          "metadata": {}
        }
      ]
    }
  ]
}