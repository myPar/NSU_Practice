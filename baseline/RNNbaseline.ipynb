{
  "nbformat": 4,
  "nbformat_minor": 0,
  "metadata": {
    "colab": {
      "name": "Untitled10.ipynb",
      "provenance": [],
      "authorship_tag": "ABX9TyM1gFcc3S2R2fCqUovp56F8",
      "include_colab_link": true
    },
    "kernelspec": {
      "name": "python3",
      "display_name": "Python 3"
    },
    "language_info": {
      "name": "python"
    }
  },
  "cells": [
    {
      "cell_type": "markdown",
      "metadata": {
        "id": "view-in-github",
        "colab_type": "text"
      },
      "source": [
        "<a href=\"https://colab.research.google.com/github/myPar/NSU_Practice/blob/dev/baseline/RNNbaseline.ipynb\" target=\"_parent\"><img src=\"https://colab.research.google.com/assets/colab-badge.svg\" alt=\"Open In Colab\"/></a>"
      ]
    },
    {
      "cell_type": "markdown",
      "source": [
        "### Prepare"
      ],
      "metadata": {
        "id": "ARvrhtmL1zy-"
      }
    },
    {
      "cell_type": "code",
      "execution_count": 62,
      "metadata": {
        "colab": {
          "base_uri": "https://localhost:8080/"
        },
        "id": "EdtkuXHH8TRl",
        "outputId": "773926cb-a42a-4225-b4c7-0abaa8f6e5b1"
      },
      "outputs": [
        {
          "output_type": "stream",
          "name": "stdout",
          "text": [
            "Drive already mounted at /content/drive; to attempt to forcibly remount, call drive.mount(\"/content/drive\", force_remount=True).\n"
          ]
        }
      ],
      "source": [
        "import pandas as pd\n",
        "import numpy as np\n",
        "from google.colab import drive\n",
        "from pathlib import Path\n",
        "\n",
        "import tensorflow as tf\n",
        "from tensorflow.keras.layers import SimpleRNN, Input\n",
        "from tensorflow.keras.optimizers import Adam\n",
        "from sklearn.model_selection import train_test_split\n",
        "\n",
        "drive.mount('/content/drive')"
      ]
    },
    {
      "cell_type": "code",
      "source": [
        "file_path = Path('/content/drive/MyDrive/Colab Notebooks/data.txt')\n",
        "df = pd.read_csv(filepath_or_buffer=file_path, sep=' ', header=0)\n",
        "\n",
        "df.head"
      ],
      "metadata": {
        "colab": {
          "base_uri": "https://localhost:8080/"
        },
        "id": "eAbmzKNy9LNF",
        "outputId": "ef12ac89-f649-434a-8122-60364e7abd69"
      },
      "execution_count": 63,
      "outputs": [
        {
          "output_type": "execute_result",
          "data": {
            "text/plain": [
              "<bound method NDFrame.head of              Date      Time  qo_lc[m3/d]  qw_lc[m3/d]  qg_lc[m3/d]  \\\n",
              "0     07-May-2014  10:13:26      109.280    -0.312890       3810.3   \n",
              "1     07-May-2014  10:14:26      113.460    -0.437350       3774.0   \n",
              "2     07-May-2014  10:15:26      131.630    -0.533550       3892.5   \n",
              "3     07-May-2014  10:16:26      140.670     0.160910       4043.1   \n",
              "4     07-May-2014  10:17:26      150.020    -1.145600       4134.6   \n",
              "...           ...       ...          ...          ...          ...   \n",
              "1264  08-May-2014  07:34:35       98.744     0.310070       3174.5   \n",
              "1265  08-May-2014  07:35:35       72.045     0.162760       3134.1   \n",
              "1266  08-May-2014  07:36:35       87.370    -0.125770       3340.4   \n",
              "1267  08-May-2014  07:37:35       32.121     0.021522       2834.1   \n",
              "1268  08-May-2014  07:38:35       35.914     0.228020       2612.4   \n",
              "\n",
              "      qo_sc[Sm3/d]  qw_sc[Sm3/d]  qg_sc[Sm3/d]  qo_scnp[Sm3/d]  \\\n",
              "0          108.430     -0.314870       92700.0         108.430   \n",
              "1          112.580     -0.440110       91895.0         112.580   \n",
              "2          130.550     -0.536910       95860.0         130.550   \n",
              "3          139.440      0.161910      100690.0         139.440   \n",
              "4          148.640     -1.152700      104290.0         148.640   \n",
              "...            ...           ...           ...             ...   \n",
              "1264        97.703      0.312100       87402.0          97.703   \n",
              "1265        71.288      0.163830       85594.0          71.288   \n",
              "1266        86.386     -0.126600       93660.0          86.386   \n",
              "1267        31.789      0.021666       76564.0          31.789   \n",
              "1268        35.567      0.229520       69609.0          35.567   \n",
              "\n",
              "      qw_scnp[Sm3/d]  ...  TAMB[DegC]  Dyn_DP[mbar]  OperatingPointLE[1/m]  \\\n",
              "0          -0.314870  ...     18.1050       1449.10                 1.5512   \n",
              "1          -0.440110  ...     18.1430       1462.90                 1.5186   \n",
              "2          -0.536910  ...     18.1660       1569.80                 1.6145   \n",
              "3           0.161910  ...     18.2030       1693.80                 1.7645   \n",
              "4          -1.152700  ...     18.2460       1811.00                 1.7374   \n",
              "...              ...  ...         ...           ...                    ...   \n",
              "1264        0.312100  ...      5.1613       1147.80                 1.6079   \n",
              "1265        0.163830  ...      5.1521       1084.70                 1.5256   \n",
              "1266       -0.126600  ...      5.1457       1278.80                 1.4436   \n",
              "1267        0.021666  ...      5.1328        995.28                 1.2353   \n",
              "1268        0.229520  ...         NaN           NaN                    NaN   \n",
              "\n",
              "      OperatingPointHE[1/m]  OilPointLE[1/m]  OilPointHE[1/m]  \\\n",
              "0                   1.00060           23.568           14.781   \n",
              "1                   0.98577           23.570           14.782   \n",
              "2                   1.04660           23.568           14.781   \n",
              "3                   1.11880           23.562           14.777   \n",
              "4                   1.14540           23.553           14.771   \n",
              "...                     ...              ...              ...   \n",
              "1264                1.01450           23.557           14.774   \n",
              "1265                0.96923           23.551           14.770   \n",
              "1266                0.92956           23.547           14.768   \n",
              "1267                0.79475           23.545           14.766   \n",
              "1268                    NaN              NaN              NaN   \n",
              "\n",
              "      WaterPointLE[1/m]  WaterPointHE[1/m]  GasPointLE[1/m]  GasPointHE[1/m]  \n",
              "0                171.01             25.097          0.49280          0.32761  \n",
              "1                171.01             25.097          0.49042          0.32603  \n",
              "2                171.01             25.097          0.49134          0.32665  \n",
              "3                171.00             25.096          0.49673          0.33023  \n",
              "4                170.99             25.094          0.50210          0.33380  \n",
              "...                 ...                ...              ...              ...  \n",
              "1264             171.06             25.104          0.55020          0.36578  \n",
              "1265             171.05             25.103          0.55287          0.36755  \n",
              "1266             171.05             25.103          0.55678          0.37015  \n",
              "1267             171.05             25.102          0.55991          0.37223  \n",
              "1268                NaN                NaN              NaN              NaN  \n",
              "\n",
              "[1269 rows x 60 columns]>"
            ]
          },
          "metadata": {},
          "execution_count": 63
        }
      ]
    },
    {
      "cell_type": "code",
      "source": [
        "print(df.columns)"
      ],
      "metadata": {
        "colab": {
          "base_uri": "https://localhost:8080/"
        },
        "id": "tQqscV-gB9t9",
        "outputId": "428d750a-44a3-494c-96d0-bcc3c0d590e9"
      },
      "execution_count": 64,
      "outputs": [
        {
          "output_type": "stream",
          "name": "stdout",
          "text": [
            "Index(['Date', 'Time', 'qo_lc[m3/d]', 'qw_lc[m3/d]', 'qg_lc[m3/d]',\n",
            "       'qo_sc[Sm3/d]', 'qw_sc[Sm3/d]', 'qg_sc[Sm3/d]', 'qo_scnp[Sm3/d]',\n",
            "       'qw_scnp[Sm3/d]', 'qg_scnp[Sm3/d]', 'Fo_lc[%]', 'Fw_lc[%]', 'Fg_lc[%]',\n",
            "       'WLR[%]', 'GVF[%]', 'GLR[m3/m3]', 'BSW[%]', 'GOR[Sm3/Sm3]',\n",
            "       'GOR1[Sm3/Sm3]', 'mo_lc[kg/d]', 'mw_lc[kg/d]', 'mg_lc[kg/d]',\n",
            "       'm_lc[kg/d]', 'mo_sc[kg/d]', 'mw_sc[kg/d]', 'mg_sc[kg/d]',\n",
            "       'Mu_o_lc[cP]', 'Mu_l_lc[cP]', 'Do_lc[g/cm3]', 'Dw_lc[g/cm3]',\n",
            "       'Dg_lc[g/cm3]', 'Dm_lc[g/cm3]', 'Dl_lc[g/cm3]', 'bo[Sm3/m3]',\n",
            "       'bw[Sm3/m3]', 'bg[Sm3/m3]', 'Z', 'Rst[Sm3/Sm3]', 'Rwst[Sm3/Sm3]',\n",
            "       'rgmp[Sm3/Sm3]', 'N32[cps]', 'N81[cps]', 'N356[cps]', 'NTotal[cps]',\n",
            "       'DeadTime[s]', 'SampleTime[s]', 'DPV[mbar]', 'PL[bara]', 'TL[DegC]',\n",
            "       'TAMB[DegC]', 'Dyn_DP[mbar]', 'OperatingPointLE[1/m]',\n",
            "       'OperatingPointHE[1/m]', 'OilPointLE[1/m]', 'OilPointHE[1/m]',\n",
            "       'WaterPointLE[1/m]', 'WaterPointHE[1/m]', 'GasPointLE[1/m]',\n",
            "       'GasPointHE[1/m]'],\n",
            "      dtype='object')\n"
          ]
        }
      ]
    },
    {
      "cell_type": "code",
      "source": [
        "selected_rows = ['DPV[mbar]', 'PL[bara]', 'qg_sc[Sm3/d]', 'qo_sc[Sm3/d]', 'TL[DegC]']\n",
        "outputs = ['qg_sc[Sm3/d]', 'qo_sc[Sm3/d]']\n",
        "inputs = np.setdiff1d(selected_rows, outputs)\n",
        "\n",
        "df = df[selected_rows]\n",
        "\n",
        "print(df.head)\n",
        "print(\"inputs: \" + str(inputs))\n",
        "print(\"outputs: \" + str(outputs))"
      ],
      "metadata": {
        "colab": {
          "base_uri": "https://localhost:8080/"
        },
        "id": "5Kz4KyJeCwKG",
        "outputId": "46c54385-570d-41f4-9aba-6832b68f3eac"
      },
      "execution_count": 65,
      "outputs": [
        {
          "output_type": "stream",
          "name": "stdout",
          "text": [
            "<bound method NDFrame.head of       DPV[mbar]  PL[bara]  qg_sc[Sm3/d]  qo_sc[Sm3/d]  TL[DegC]\n",
            "0       1448.70    21.481       92700.0       108.430   -2.5452\n",
            "1       1462.10    21.473       91895.0       112.580   -2.5323\n",
            "2       1592.30    21.672       95860.0       130.550   -2.3931\n",
            "3       1703.30    21.926      100690.0       139.440   -2.0451\n",
            "4       1821.70    22.196      104290.0       148.640   -1.8009\n",
            "...         ...       ...           ...           ...       ...\n",
            "1264    1147.10    23.997       87402.0        97.703   -3.3542\n",
            "1265    1090.50    23.919       85594.0        71.288   -3.2890\n",
            "1266    1279.10    24.477       93660.0        86.386   -3.2191\n",
            "1267     976.62    23.808       76564.0        31.789   -3.2819\n",
            "1268        NaN       NaN       69609.0        35.567       NaN\n",
            "\n",
            "[1269 rows x 5 columns]>\n",
            "inputs: ['DPV[mbar]' 'PL[bara]' 'TL[DegC]']\n",
            "outputs: ['qg_sc[Sm3/d]', 'qo_sc[Sm3/d]']\n"
          ]
        }
      ]
    },
    {
      "cell_type": "code",
      "source": [
        "# check categorical attributes\n",
        "cardinality_hold = 0.15\n",
        "expected_col_size = 1269\n",
        "\n",
        "categorical_attributes = []\n",
        "\n",
        "def check_attributes_info():\n",
        "  for column in df.columns:\n",
        "    col_data = df[column].to_numpy()\n",
        "    size = len(col_data)\n",
        "    \n",
        "    assert size == expected_col_size\n",
        "    cleared_data = col_data[~np.isnan(col_data)]\n",
        "    \n",
        "    card = len(np.unique(cleared_data))  # cardinality without Nan items\n",
        "    skip_count = size - len(cleared_data)\n",
        "\n",
        "    print(column + \": card=\" + str(card) + \"; skip: percent=\" + str(skip_count * 100 / size) + \", count=\" + str(skip_count))\n",
        "    \n",
        "    if card / size < cardinality_hold:\n",
        "      categorical_attributes.append(card)\n",
        "\n",
        "check_attributes_info()\n",
        "\n",
        "if len(categorical_attributes) == 0:\n",
        "  print(\"no categorical attributes\")\n",
        "else:\n",
        "  print(categorical_attributes)"
      ],
      "metadata": {
        "colab": {
          "base_uri": "https://localhost:8080/"
        },
        "id": "lDU5w3CP1fux",
        "outputId": "8753be11-7ed3-4809-e0fa-98589ffc3f7d"
      },
      "execution_count": 66,
      "outputs": [
        {
          "output_type": "stream",
          "name": "stdout",
          "text": [
            "DPV[mbar]: card=1163; skip: percent=0.07880220646178093, count=1\n",
            "PL[bara]: card=1042; skip: percent=0.07880220646178093, count=1\n",
            "qg_sc[Sm3/d]: card=1250; skip: percent=0.0, count=0\n",
            "qo_sc[Sm3/d]: card=1246; skip: percent=0.0, count=0\n",
            "TL[DegC]: card=1214; skip: percent=0.07880220646178093, count=1\n",
            "no categorical attributes\n"
          ]
        }
      ]
    },
    {
      "cell_type": "code",
      "source": [
        "# supplement data\n",
        "for column in df.columns:\n",
        "  data =  np.array(df[column].to_numpy(), dtype=np.float64)\n",
        "\n",
        "  for i in range(len(data)):\n",
        "    if str(data[i]) == 'nan':\n",
        "      data[i] = np.mean(data[~np.isnan(data)])\n",
        "  df.drop([column], axis=1, inplace=True)\n",
        "  df.insert(0, column, data)\n"
      ],
      "metadata": {
        "id": "iplk6j6l6WcC",
        "colab": {
          "base_uri": "https://localhost:8080/"
        },
        "outputId": "d3b98cca-af14-4add-a293-957da538b36c"
      },
      "execution_count": 67,
      "outputs": [
        {
          "output_type": "stream",
          "name": "stderr",
          "text": [
            "/usr/local/lib/python3.7/dist-packages/pandas/core/frame.py:4913: SettingWithCopyWarning: \n",
            "A value is trying to be set on a copy of a slice from a DataFrame\n",
            "\n",
            "See the caveats in the documentation: https://pandas.pydata.org/pandas-docs/stable/user_guide/indexing.html#returning-a-view-versus-a-copy\n",
            "  errors=errors,\n"
          ]
        }
      ]
    },
    {
      "cell_type": "code",
      "source": [
        "check_attributes_info()"
      ],
      "metadata": {
        "colab": {
          "base_uri": "https://localhost:8080/"
        },
        "id": "criJtZiD_HY5",
        "outputId": "40eab4e3-8978-4536-cd7f-8dfa85c844ea"
      },
      "execution_count": 68,
      "outputs": [
        {
          "output_type": "stream",
          "name": "stdout",
          "text": [
            "TL[DegC]: card=1215; skip: percent=0.0, count=0\n",
            "qo_sc[Sm3/d]: card=1246; skip: percent=0.0, count=0\n",
            "qg_sc[Sm3/d]: card=1250; skip: percent=0.0, count=0\n",
            "PL[bara]: card=1043; skip: percent=0.0, count=0\n",
            "DPV[mbar]: card=1164; skip: percent=0.0, count=0\n"
          ]
        }
      ]
    },
    {
      "cell_type": "markdown",
      "source": [
        "## Create model"
      ],
      "metadata": {
        "id": "ZzSi2jOlBmeR"
      }
    },
    {
      "cell_type": "code",
      "source": [
        "# model parameters\n",
        "batch_size = 60\n",
        "timesteps = 60\n",
        "epoch_count = 10\n",
        "input_size = len(inputs)\n",
        "output_size = len(outputs)\n",
        "lr = 0.001\n",
        "\n",
        "mse = tf.keras.losses.MeanSquaredError()\n",
        "\n",
        "model = tf.keras.Sequential()\n",
        "model.add(Input((timesteps, input_size)))\n",
        "model.add(SimpleRNN(units=120, activation='tanh', return_sequences=True))\n",
        "model.add(SimpleRNN(units=120, activation='tanh', return_sequences=True))\n",
        "model.add(SimpleRNN(units=2, activation='tanh', return_sequences=True))\n",
        "model.summary()"
      ],
      "metadata": {
        "id": "YV_QnOokBoaT",
        "colab": {
          "base_uri": "https://localhost:8080/"
        },
        "outputId": "1ee797f8-e577-4a19-a88c-fec7db96184d"
      },
      "execution_count": 69,
      "outputs": [
        {
          "output_type": "stream",
          "name": "stdout",
          "text": [
            "Model: \"sequential_4\"\n",
            "_________________________________________________________________\n",
            " Layer (type)                Output Shape              Param #   \n",
            "=================================================================\n",
            " simple_rnn_12 (SimpleRNN)   (None, 60, 120)           14880     \n",
            "                                                                 \n",
            " simple_rnn_13 (SimpleRNN)   (None, 60, 120)           28920     \n",
            "                                                                 \n",
            " simple_rnn_14 (SimpleRNN)   (None, 60, 2)             246       \n",
            "                                                                 \n",
            "=================================================================\n",
            "Total params: 44,046\n",
            "Trainable params: 44,046\n",
            "Non-trainable params: 0\n",
            "_________________________________________________________________\n"
          ]
        }
      ]
    },
    {
      "cell_type": "code",
      "source": [
        "model.compile(loss=mse, metrics=[mse], optimizer=Adam(learning_rate=lr))"
      ],
      "metadata": {
        "id": "h2at_PF2I9SP"
      },
      "execution_count": 70,
      "outputs": []
    },
    {
      "cell_type": "markdown",
      "source": [
        "## Prepare data"
      ],
      "metadata": {
        "id": "1VpvJo7LY4CR"
      }
    },
    {
      "cell_type": "code",
      "source": [
        "# normilize data ('min/max' normalization):\n",
        "interval_th = [-1, 1]     # normalization interval for 'th' activation function\n",
        "interval_sigmoid = [0, 1] # normalization interval for 'sigmoid' activation function\n",
        "\n",
        "result_interval = interval_th\n",
        "normalized_df = df = ((df - df.min()) / (df.max() - df.min())) * (result_interval[1] - result_interval[0]) + result_interval[0]\n",
        "\n",
        "train_df, test_df = train_test_split(normalized_df, test_size=0.3)\n",
        "print(train_df.head)\n",
        "print(test_df.head)\n",
        "\n",
        "train_input_data = train_df[inputs].to_numpy()\n",
        "train_output_data = train_df[outputs].to_numpy()\n",
        "\n",
        "test_input_data = test_df[inputs].to_numpy()\n",
        "test_output_data = test_df[outputs].to_numpy()\n",
        "\n",
        "print(\"data shapes:\")\n",
        "print(train_input_data.shape)\n",
        "print(test_input_data.shape)\n",
        "\n",
        "print(train_output_data.shape)\n",
        "print(test_output_data.shape)"
      ],
      "metadata": {
        "colab": {
          "base_uri": "https://localhost:8080/"
        },
        "id": "s19mQS_oY6ZE",
        "outputId": "f1fd73fc-bf1e-4efe-fd76-b16e0d96dcd1"
      },
      "execution_count": 71,
      "outputs": [
        {
          "output_type": "stream",
          "name": "stdout",
          "text": [
            "<bound method NDFrame.head of       TL[DegC]  qo_sc[Sm3/d]  qg_sc[Sm3/d]  PL[bara]  DPV[mbar]\n",
            "62   -0.053767     -0.638801     -0.534039 -0.537590  -0.666367\n",
            "752   0.236860     -0.056094      0.224093  0.191545  -0.079113\n",
            "338   0.421386     -0.654443     -0.573553 -0.650033  -0.635346\n",
            "959  -0.198703     -0.202721      0.107312  0.316191  -0.268193\n",
            "557   0.761481      0.105644      0.327822 -0.171933   0.180431\n",
            "...        ...           ...           ...       ...        ...\n",
            "72   -0.102858     -0.637691     -0.551574 -0.464371  -0.698764\n",
            "1071 -0.593470     -0.284689     -0.205317  0.385051  -0.517000\n",
            "915  -0.059121     -0.394703      0.042256  0.364567  -0.343187\n",
            "1084 -0.642108     -0.382506     -0.215045  0.385487  -0.573539\n",
            "87   -0.173441      0.226456      0.340153  0.169754   0.185464\n",
            "\n",
            "[888 rows x 5 columns]>\n",
            "<bound method NDFrame.head of      TL[DegC]  qo_sc[Sm3/d]  qg_sc[Sm3/d]  PL[bara]  DPV[mbar]\n",
            "53  -0.040646     -0.432715     -0.280141 -0.224232  -0.498209\n",
            "842  0.246512     -0.448161      0.060232  0.798213  -0.450226\n",
            "445  0.713973     -0.732075     -0.576916 -0.783395  -0.604795\n",
            "858 -0.118694     -0.593817     -0.322657  0.055132  -0.568170\n",
            "599  0.725435     -0.595852     -0.195989 -0.437350  -0.387144\n",
            "..        ...           ...           ...       ...        ...\n",
            "249  0.613151     -0.520151     -0.083612 -0.661364  -0.210311\n",
            "454  0.434809     -0.360378     -0.298036 -0.667030  -0.403418\n",
            "701  0.069603     -0.123090     -0.149188 -0.097843  -0.330604\n",
            "305  0.504487     -0.741925     -0.481274 -0.705382  -0.556929\n",
            "859 -0.201267     -0.492543     -0.239786  0.062977  -0.538642\n",
            "\n",
            "[381 rows x 5 columns]>\n",
            "data shapes:\n",
            "(888, 3)\n",
            "(381, 3)\n",
            "(888, 2)\n",
            "(381, 2)\n"
          ]
        }
      ]
    },
    {
      "cell_type": "code",
      "source": [
        "# formatting the data\n",
        "def get_sequence(data):\n",
        "  return np.array([data[i*timesteps : i*timesteps + timesteps] for i in range(data.shape[0] // timesteps)])\n",
        "\n",
        "input_train_sequences = get_sequence(train_input_data)\n",
        "output_train_sequences = get_sequence(train_output_data)\n",
        "\n",
        "\"\"\"\n",
        "input_train_sequences = list(input_train_sequences)\n",
        "output_train_sequences = list(output_train_sequences)\n",
        "\"\"\"\n",
        "\n",
        "input_train_remaining = []\n",
        "output_train_remaining = []\n",
        "\n",
        "sequences_count = len(input_train_sequences)\n",
        "\n",
        "assert sequences_count == len(output_train_sequences)\n",
        "\n",
        "# add the remaining data:\n",
        "if sequences_count * timesteps < train_input_data.shape[0]:\n",
        "  input_train_remaining = np.array(train_input_data[sequences_count * timesteps:])\n",
        "\n",
        "if sequences_count * timesteps < train_output_data.shape[0]:\n",
        "  output_train_remaining = np.array(train_output_data[sequences_count * timesteps:])\n",
        "\n",
        "print(len(input_train_sequences))\n",
        "print(len(output_train_sequences))\n",
        "\n",
        "for i in range(len(input_train_sequences)):\n",
        "  print(str(i) + \": \" + str(input_train_sequences[i].shape))\n",
        "\n",
        "print(\"-----------\")\n",
        "\n",
        "for i in range(len(output_train_sequences)):\n",
        "  print(str(i) + \": \" + str(output_train_sequences[i].shape))\n",
        "\n",
        "print(\"remaining data: \")\n",
        "print(input_train_remaining.shape)\n",
        "print(output_train_remaining.shape)"
      ],
      "metadata": {
        "colab": {
          "base_uri": "https://localhost:8080/"
        },
        "id": "HbpDORPPY9mk",
        "outputId": "762cd9e7-abed-4c09-f5ed-b3e7d82805ec"
      },
      "execution_count": 72,
      "outputs": [
        {
          "output_type": "stream",
          "name": "stdout",
          "text": [
            "14\n",
            "14\n",
            "0: (60, 3)\n",
            "1: (60, 3)\n",
            "2: (60, 3)\n",
            "3: (60, 3)\n",
            "4: (60, 3)\n",
            "5: (60, 3)\n",
            "6: (60, 3)\n",
            "7: (60, 3)\n",
            "8: (60, 3)\n",
            "9: (60, 3)\n",
            "10: (60, 3)\n",
            "11: (60, 3)\n",
            "12: (60, 3)\n",
            "13: (60, 3)\n",
            "-----------\n",
            "0: (60, 2)\n",
            "1: (60, 2)\n",
            "2: (60, 2)\n",
            "3: (60, 2)\n",
            "4: (60, 2)\n",
            "5: (60, 2)\n",
            "6: (60, 2)\n",
            "7: (60, 2)\n",
            "8: (60, 2)\n",
            "9: (60, 2)\n",
            "10: (60, 2)\n",
            "11: (60, 2)\n",
            "12: (60, 2)\n",
            "13: (60, 2)\n",
            "remaining data: \n",
            "(48, 3)\n",
            "(48, 2)\n"
          ]
        }
      ]
    },
    {
      "cell_type": "code",
      "source": [
        "batch_count = len(input_train_sequences)\n",
        "\n",
        "input_train_tensor = input_train_sequences.reshape((batch_count, timesteps, input_size))\n",
        "output_train_tensor = output_train_sequences.reshape((batch_count, timesteps, output_size))\n",
        "\"\"\"\n",
        "for i in range(epoch_count):\n",
        "  for batch_idx in range(len(input_train_sequences)):\n",
        "    input_train_sequence = input_train_sequences[batch_idx].reshape(1,timesteps, input_size)\n",
        "    output_train_sequnce = output_train_sequences[batch_idx].reshape(1, timesteps, output_size)\n",
        "    loss = model.train_on_batch(input_train_sequence, output_train_sequnce)\n",
        "\n",
        "    print(\"epoch: \" + str(i) + \"; batch: \" + str(batch_idx) + \"; loss - \" + str(loss))\n",
        "\"\"\"\n",
        "print(input_train_tensor.shape)\n",
        "print(output_train_tensor.shape)"
      ],
      "metadata": {
        "id": "4MIZ642XBOjo",
        "outputId": "60e7ddba-c6c0-467b-c3f3-44db6edc3f78",
        "colab": {
          "base_uri": "https://localhost:8080/"
        }
      },
      "execution_count": 73,
      "outputs": [
        {
          "output_type": "stream",
          "name": "stdout",
          "text": [
            "(14, 60, 3)\n",
            "(14, 60, 2)\n"
          ]
        }
      ]
    },
    {
      "cell_type": "code",
      "source": [
        "model.fit(input_train_tensor, output_train_tensor, batch_size=1, epochs=epoch_count)"
      ],
      "metadata": {
        "colab": {
          "base_uri": "https://localhost:8080/"
        },
        "id": "vn6gNqOynOz0",
        "outputId": "027556f4-f6f9-4071-f0ef-eb42dac182f9"
      },
      "execution_count": 74,
      "outputs": [
        {
          "output_type": "stream",
          "name": "stdout",
          "text": [
            "Epoch 1/10\n",
            "14/14 [==============================] - 2s 18ms/step - loss: 0.3023 - mean_squared_error: 0.3023\n",
            "Epoch 2/10\n",
            "14/14 [==============================] - 0s 26ms/step - loss: 0.1907 - mean_squared_error: 0.1907\n",
            "Epoch 3/10\n",
            "14/14 [==============================] - 0s 32ms/step - loss: 0.2070 - mean_squared_error: 0.2070\n",
            "Epoch 4/10\n",
            "14/14 [==============================] - 0s 32ms/step - loss: 0.1158 - mean_squared_error: 0.1158\n",
            "Epoch 5/10\n",
            "14/14 [==============================] - 0s 33ms/step - loss: 0.0694 - mean_squared_error: 0.0694\n",
            "Epoch 6/10\n",
            "14/14 [==============================] - 1s 39ms/step - loss: 0.0412 - mean_squared_error: 0.0412\n",
            "Epoch 7/10\n",
            "14/14 [==============================] - 0s 34ms/step - loss: 0.0524 - mean_squared_error: 0.0524\n",
            "Epoch 8/10\n",
            "14/14 [==============================] - 0s 34ms/step - loss: 0.0328 - mean_squared_error: 0.0328\n",
            "Epoch 9/10\n",
            "14/14 [==============================] - 0s 34ms/step - loss: 0.0270 - mean_squared_error: 0.0270\n",
            "Epoch 10/10\n",
            "14/14 [==============================] - 1s 37ms/step - loss: 0.0350 - mean_squared_error: 0.0350\n"
          ]
        },
        {
          "output_type": "execute_result",
          "data": {
            "text/plain": [
              "<keras.callbacks.History at 0x7f476a2bca50>"
            ]
          },
          "metadata": {},
          "execution_count": 74
        }
      ]
    },
    {
      "cell_type": "code",
      "source": [
        ""
      ],
      "metadata": {
        "id": "J_gjcanOi58-"
      },
      "execution_count": 74,
      "outputs": []
    }
  ]
}