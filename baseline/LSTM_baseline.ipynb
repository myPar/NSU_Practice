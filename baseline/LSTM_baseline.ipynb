{
  "nbformat": 4,
  "nbformat_minor": 0,
  "metadata": {
    "colab": {
      "provenance": [],
      "authorship_tag": "ABX9TyP8ryM1BRgvxvI4wEbJFlgm",
      "include_colab_link": true
    },
    "kernelspec": {
      "name": "python3",
      "display_name": "Python 3"
    },
    "language_info": {
      "name": "python"
    }
  },
  "cells": [
    {
      "cell_type": "markdown",
      "metadata": {
        "id": "view-in-github",
        "colab_type": "text"
      },
      "source": [
        "<a href=\"https://colab.research.google.com/github/myPar/NSU_Practice/blob/dev/baseline/LSTM_baseline.ipynb\" target=\"_parent\"><img src=\"https://colab.research.google.com/assets/colab-badge.svg\" alt=\"Open In Colab\"/></a>"
      ]
    },
    {
      "cell_type": "markdown",
      "source": [
        "\n",
        "### Prepare"
      ],
      "metadata": {
        "id": "5jvzrkqLmx-G"
      }
    },
    {
      "cell_type": "code",
      "source": [
        "# imports:\n",
        "import pandas as pd\n",
        "import numpy as np\n",
        "import statistics as st\n",
        "from google.colab import drive\n",
        "from pathlib import Path\n",
        "\n",
        "import tensorflow as tf\n",
        "from tensorflow.keras.layers import SimpleRNN, Input, Dense, TimeDistributed\n",
        "from tensorflow.keras import activations\n",
        "from tensorflow.keras.optimizers import Adam\n",
        "from sklearn.model_selection import train_test_split\n",
        "\n",
        "import plotly.express as px\n",
        "import plotly.graph_objects as go\n",
        "\n",
        "import sys\n",
        "import os"
      ],
      "metadata": {
        "id": "tyl7cT-InRPJ"
      },
      "execution_count": 1,
      "outputs": []
    },
    {
      "cell_type": "code",
      "source": [
        "drive.mount('/content/drive') # connect to google-drive\n",
        "\n",
        "dir_name = '/content/drive/MyDrive/Colab Notebooks/'\n",
        "lib_dir = dir_name + 'ml_lib.py'\n",
        "dataset_file_name = dir_name + 'data.txt'\n",
        "\n",
        "if lib_dir not in sys.path:\n",
        "  sys.path.append(lib_dir)\n",
        "\n",
        "import ml_lib"
      ],
      "metadata": {
        "colab": {
          "base_uri": "https://localhost:8080/"
        },
        "id": "86vfFEIyni56",
        "outputId": "b5e412eb-f336-4775-dfdc-0850a8d51e2f"
      },
      "execution_count": 14,
      "outputs": [
        {
          "output_type": "stream",
          "name": "stdout",
          "text": [
            "Drive already mounted at /content/drive; to attempt to forcibly remount, call drive.mount(\"/content/drive\", force_remount=True).\n"
          ]
        }
      ]
    },
    {
      "cell_type": "code",
      "source": [
        "sys.path"
      ],
      "metadata": {
        "colab": {
          "base_uri": "https://localhost:8080/"
        },
        "id": "X0kmV0pzlb0e",
        "outputId": "aa2eb2cb-416e-4563-ddf1-9e909ee4841e"
      },
      "execution_count": 15,
      "outputs": [
        {
          "output_type": "execute_result",
          "data": {
            "text/plain": [
              "['/content',\n",
              " '/env/python',\n",
              " '/usr/lib/python37.zip',\n",
              " '/usr/lib/python3.7',\n",
              " '/usr/lib/python3.7/lib-dynload',\n",
              " '',\n",
              " '/usr/local/lib/python3.7/dist-packages',\n",
              " '/usr/lib/python3/dist-packages',\n",
              " '/usr/local/lib/python3.7/dist-packages/IPython/extensions',\n",
              " '/root/.ipython',\n",
              " '/content/drive/MyDrive/Colab Notebooks/ml_lib.py',\n",
              " '/content/drive/MyDrive/Colab Notebooks/',\n",
              " '/content/drive/MyDrive/Colab Notebooks/data.txt']"
            ]
          },
          "metadata": {},
          "execution_count": 15
        }
      ]
    },
    {
      "cell_type": "code",
      "source": [
        "data_set_path = Path(dataset_file_name)\n",
        "df = pd.read_csv(filepath_or_buffer=data_set_path, sep=' ', header=0)\n",
        "\n",
        "df.head"
      ],
      "metadata": {
        "colab": {
          "base_uri": "https://localhost:8080/"
        },
        "id": "dxR6BbCdnWA7",
        "outputId": "51f96caf-ae14-4294-cd04-89ce48e055e4"
      },
      "execution_count": 16,
      "outputs": [
        {
          "output_type": "execute_result",
          "data": {
            "text/plain": [
              "<bound method NDFrame.head of              Date      Time  qo_lc[m3/d]  qw_lc[m3/d]  qg_lc[m3/d]  \\\n",
              "0     07-May-2014  10:13:26      109.280    -0.312890       3810.3   \n",
              "1     07-May-2014  10:14:26      113.460    -0.437350       3774.0   \n",
              "2     07-May-2014  10:15:26      131.630    -0.533550       3892.5   \n",
              "3     07-May-2014  10:16:26      140.670     0.160910       4043.1   \n",
              "4     07-May-2014  10:17:26      150.020    -1.145600       4134.6   \n",
              "...           ...       ...          ...          ...          ...   \n",
              "1264  08-May-2014  07:34:35       98.744     0.310070       3174.5   \n",
              "1265  08-May-2014  07:35:35       72.045     0.162760       3134.1   \n",
              "1266  08-May-2014  07:36:35       87.370    -0.125770       3340.4   \n",
              "1267  08-May-2014  07:37:35       32.121     0.021522       2834.1   \n",
              "1268  08-May-2014  07:38:35       35.914     0.228020       2612.4   \n",
              "\n",
              "      qo_sc[Sm3/d]  qw_sc[Sm3/d]  qg_sc[Sm3/d]  qo_scnp[Sm3/d]  \\\n",
              "0          108.430     -0.314870       92700.0         108.430   \n",
              "1          112.580     -0.440110       91895.0         112.580   \n",
              "2          130.550     -0.536910       95860.0         130.550   \n",
              "3          139.440      0.161910      100690.0         139.440   \n",
              "4          148.640     -1.152700      104290.0         148.640   \n",
              "...            ...           ...           ...             ...   \n",
              "1264        97.703      0.312100       87402.0          97.703   \n",
              "1265        71.288      0.163830       85594.0          71.288   \n",
              "1266        86.386     -0.126600       93660.0          86.386   \n",
              "1267        31.789      0.021666       76564.0          31.789   \n",
              "1268        35.567      0.229520       69609.0          35.567   \n",
              "\n",
              "      qw_scnp[Sm3/d]  ...  TAMB[DegC]  Dyn_DP[mbar]  OperatingPointLE[1/m]  \\\n",
              "0          -0.314870  ...     18.1050       1449.10                 1.5512   \n",
              "1          -0.440110  ...     18.1430       1462.90                 1.5186   \n",
              "2          -0.536910  ...     18.1660       1569.80                 1.6145   \n",
              "3           0.161910  ...     18.2030       1693.80                 1.7645   \n",
              "4          -1.152700  ...     18.2460       1811.00                 1.7374   \n",
              "...              ...  ...         ...           ...                    ...   \n",
              "1264        0.312100  ...      5.1613       1147.80                 1.6079   \n",
              "1265        0.163830  ...      5.1521       1084.70                 1.5256   \n",
              "1266       -0.126600  ...      5.1457       1278.80                 1.4436   \n",
              "1267        0.021666  ...      5.1328        995.28                 1.2353   \n",
              "1268        0.229520  ...         NaN           NaN                    NaN   \n",
              "\n",
              "      OperatingPointHE[1/m]  OilPointLE[1/m]  OilPointHE[1/m]  \\\n",
              "0                   1.00060           23.568           14.781   \n",
              "1                   0.98577           23.570           14.782   \n",
              "2                   1.04660           23.568           14.781   \n",
              "3                   1.11880           23.562           14.777   \n",
              "4                   1.14540           23.553           14.771   \n",
              "...                     ...              ...              ...   \n",
              "1264                1.01450           23.557           14.774   \n",
              "1265                0.96923           23.551           14.770   \n",
              "1266                0.92956           23.547           14.768   \n",
              "1267                0.79475           23.545           14.766   \n",
              "1268                    NaN              NaN              NaN   \n",
              "\n",
              "      WaterPointLE[1/m]  WaterPointHE[1/m]  GasPointLE[1/m]  GasPointHE[1/m]  \n",
              "0                171.01             25.097          0.49280          0.32761  \n",
              "1                171.01             25.097          0.49042          0.32603  \n",
              "2                171.01             25.097          0.49134          0.32665  \n",
              "3                171.00             25.096          0.49673          0.33023  \n",
              "4                170.99             25.094          0.50210          0.33380  \n",
              "...                 ...                ...              ...              ...  \n",
              "1264             171.06             25.104          0.55020          0.36578  \n",
              "1265             171.05             25.103          0.55287          0.36755  \n",
              "1266             171.05             25.103          0.55678          0.37015  \n",
              "1267             171.05             25.102          0.55991          0.37223  \n",
              "1268                NaN                NaN              NaN              NaN  \n",
              "\n",
              "[1269 rows x 60 columns]>"
            ]
          },
          "metadata": {},
          "execution_count": 16
        }
      ]
    },
    {
      "cell_type": "code",
      "source": [
        "df.columns"
      ],
      "metadata": {
        "colab": {
          "base_uri": "https://localhost:8080/"
        },
        "id": "trHyoMCxnp5Z",
        "outputId": "7aefc9bb-8e75-42c3-9596-39acb4f438df"
      },
      "execution_count": 7,
      "outputs": [
        {
          "output_type": "execute_result",
          "data": {
            "text/plain": [
              "Index(['Date', 'Time', 'qo_lc[m3/d]', 'qw_lc[m3/d]', 'qg_lc[m3/d]',\n",
              "       'qo_sc[Sm3/d]', 'qw_sc[Sm3/d]', 'qg_sc[Sm3/d]', 'qo_scnp[Sm3/d]',\n",
              "       'qw_scnp[Sm3/d]', 'qg_scnp[Sm3/d]', 'Fo_lc[%]', 'Fw_lc[%]', 'Fg_lc[%]',\n",
              "       'WLR[%]', 'GVF[%]', 'GLR[m3/m3]', 'BSW[%]', 'GOR[Sm3/Sm3]',\n",
              "       'GOR1[Sm3/Sm3]', 'mo_lc[kg/d]', 'mw_lc[kg/d]', 'mg_lc[kg/d]',\n",
              "       'm_lc[kg/d]', 'mo_sc[kg/d]', 'mw_sc[kg/d]', 'mg_sc[kg/d]',\n",
              "       'Mu_o_lc[cP]', 'Mu_l_lc[cP]', 'Do_lc[g/cm3]', 'Dw_lc[g/cm3]',\n",
              "       'Dg_lc[g/cm3]', 'Dm_lc[g/cm3]', 'Dl_lc[g/cm3]', 'bo[Sm3/m3]',\n",
              "       'bw[Sm3/m3]', 'bg[Sm3/m3]', 'Z', 'Rst[Sm3/Sm3]', 'Rwst[Sm3/Sm3]',\n",
              "       'rgmp[Sm3/Sm3]', 'N32[cps]', 'N81[cps]', 'N356[cps]', 'NTotal[cps]',\n",
              "       'DeadTime[s]', 'SampleTime[s]', 'DPV[mbar]', 'PL[bara]', 'TL[DegC]',\n",
              "       'TAMB[DegC]', 'Dyn_DP[mbar]', 'OperatingPointLE[1/m]',\n",
              "       'OperatingPointHE[1/m]', 'OilPointLE[1/m]', 'OilPointHE[1/m]',\n",
              "       'WaterPointLE[1/m]', 'WaterPointHE[1/m]', 'GasPointLE[1/m]',\n",
              "       'GasPointHE[1/m]'],\n",
              "      dtype='object')"
            ]
          },
          "metadata": {},
          "execution_count": 7
        }
      ]
    },
    {
      "cell_type": "code",
      "source": [
        "selected_rows = ['DPV[mbar]', 'PL[bara]', 'qg_sc[Sm3/d]', 'qo_sc[Sm3/d]', 'TL[DegC]']\n",
        "outputs = ['qg_sc[Sm3/d]', 'qo_sc[Sm3/d]']\n",
        "inputs = np.setdiff1d(selected_rows, outputs) # get difference set from two arrays\n",
        "\n",
        "df = df[selected_rows]\n",
        "\n",
        "print(df.head)\n",
        "print(\"inputs: \" + str(inputs))\n",
        "print(\"outputs: \" + str(outputs))"
      ],
      "metadata": {
        "colab": {
          "base_uri": "https://localhost:8080/"
        },
        "id": "5fgOQjS_nwC1",
        "outputId": "ceb7dcc6-cc91-42a3-a290-18710ca758a9"
      },
      "execution_count": 18,
      "outputs": [
        {
          "output_type": "stream",
          "name": "stdout",
          "text": [
            "<bound method NDFrame.head of       DPV[mbar]  PL[bara]  qg_sc[Sm3/d]  qo_sc[Sm3/d]  TL[DegC]\n",
            "0       1448.70    21.481       92700.0       108.430   -2.5452\n",
            "1       1462.10    21.473       91895.0       112.580   -2.5323\n",
            "2       1592.30    21.672       95860.0       130.550   -2.3931\n",
            "3       1703.30    21.926      100690.0       139.440   -2.0451\n",
            "4       1821.70    22.196      104290.0       148.640   -1.8009\n",
            "...         ...       ...           ...           ...       ...\n",
            "1264    1147.10    23.997       87402.0        97.703   -3.3542\n",
            "1265    1090.50    23.919       85594.0        71.288   -3.2890\n",
            "1266    1279.10    24.477       93660.0        86.386   -3.2191\n",
            "1267     976.62    23.808       76564.0        31.789   -3.2819\n",
            "1268        NaN       NaN       69609.0        35.567       NaN\n",
            "\n",
            "[1269 rows x 5 columns]>\n",
            "inputs: ['DPV[mbar]' 'PL[bara]' 'TL[DegC]']\n",
            "outputs: ['qg_sc[Sm3/d]', 'qo_sc[Sm3/d]']\n"
          ]
        }
      ]
    },
    {
      "cell_type": "code",
      "source": [
        "normilazid_df = ml_lib.normilize_df(df, [-1, 1])\n",
        "print(normilazid_df.head)"
      ],
      "metadata": {
        "colab": {
          "base_uri": "https://localhost:8080/"
        },
        "id": "VlHX2U2YpA-H",
        "outputId": "edfc2031-de40-4dfe-cce7-632fca021a2f"
      },
      "execution_count": 19,
      "outputs": [
        {
          "output_type": "stream",
          "name": "stdout",
          "text": [
            "<bound method NDFrame.head of       DPV[mbar]  PL[bara]  qg_sc[Sm3/d]  qo_sc[Sm3/d]  TL[DegC]\n",
            "0      0.156607 -0.602964      0.261365     -0.024995  0.170802\n",
            "1      0.179089 -0.606450      0.229137      0.022983  0.180529\n",
            "2      0.397529 -0.519721      0.387874      0.230734  0.285499\n",
            "3      0.583756 -0.409022      0.581240      0.333511  0.547922\n",
            "4      0.782399 -0.291349      0.725364      0.439871  0.732071\n",
            "...         ...       ...           ...           ...       ...\n",
            "1264  -0.349395  0.493572      0.049262     -0.149009 -0.439258\n",
            "1265  -0.444354  0.459577     -0.023120     -0.454392 -0.390091\n",
            "1266  -0.127935  0.702767      0.299798     -0.279845 -0.337380\n",
            "1267  -0.635413  0.411201     -0.384631     -0.911038 -0.384737\n",
            "1268        NaN       NaN     -0.663070     -0.867361       NaN\n",
            "\n",
            "[1269 rows x 5 columns]>\n"
          ]
        }
      ]
    }
  ]
}