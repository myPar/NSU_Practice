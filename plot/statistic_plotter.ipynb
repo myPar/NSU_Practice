{
 "cells": [
  {
   "cell_type": "code",
   "execution_count": 1,
   "metadata": {
    "collapsed": true
   },
   "outputs": [
    {
     "ename": "TypeError",
     "evalue": "unsupported operand type(s) for /: 'str' and 'int'",
     "output_type": "error",
     "traceback": [
      "\u001B[1;31m---------------------------------------------------------------------------\u001B[0m",
      "\u001B[1;31mTypeError\u001B[0m                                 Traceback (most recent call last)",
      "\u001B[1;32m~\\AppData\\Local\\Temp/ipykernel_11836/2618875691.py\u001B[0m in \u001B[0;36m<module>\u001B[1;34m\u001B[0m\n\u001B[0;32m     39\u001B[0m \u001B[1;33m\u001B[0m\u001B[0m\n\u001B[0;32m     40\u001B[0m \u001B[1;32mif\u001B[0m \u001B[0m__name__\u001B[0m \u001B[1;33m==\u001B[0m \u001B[1;34m\"__main__\"\u001B[0m\u001B[1;33m:\u001B[0m\u001B[1;33m\u001B[0m\u001B[1;33m\u001B[0m\u001B[0m\n\u001B[1;32m---> 41\u001B[1;33m     \u001B[0mmain\u001B[0m\u001B[1;33m(\u001B[0m\u001B[1;33m)\u001B[0m\u001B[1;33m\u001B[0m\u001B[1;33m\u001B[0m\u001B[0m\n\u001B[0m",
      "\u001B[1;32m~\\AppData\\Local\\Temp/ipykernel_11836/2618875691.py\u001B[0m in \u001B[0;36mmain\u001B[1;34m()\u001B[0m\n\u001B[0;32m     34\u001B[0m     \u001B[0mall_data_dict\u001B[0m \u001B[1;33m=\u001B[0m \u001B[0mget_attributes_data\u001B[0m\u001B[1;33m(\u001B[0m\u001B[0minput_file_name\u001B[0m\u001B[1;33m,\u001B[0m \u001B[0mall_attr_names\u001B[0m\u001B[1;33m)\u001B[0m\u001B[1;33m\u001B[0m\u001B[1;33m\u001B[0m\u001B[0m\n\u001B[0;32m     35\u001B[0m     \u001B[1;31m# get cov matrices\u001B[0m\u001B[1;33m\u001B[0m\u001B[1;33m\u001B[0m\u001B[1;33m\u001B[0m\u001B[0m\n\u001B[1;32m---> 36\u001B[1;33m     \u001B[0mcov_matrices_dict\u001B[0m \u001B[1;33m=\u001B[0m \u001B[0mget_attributes_typical_cart\u001B[0m\u001B[1;33m(\u001B[0m\u001B[0mall_data_dict\u001B[0m\u001B[1;33m,\u001B[0m \u001B[0mother_attr_keys\u001B[0m\u001B[1;33m)\u001B[0m\u001B[1;33m\u001B[0m\u001B[1;33m\u001B[0m\u001B[0m\n\u001B[0m\u001B[0;32m     37\u001B[0m     \u001B[0mview_cov_matrix\u001B[0m\u001B[1;33m(\u001B[0m\u001B[0mcov_matrices_dict\u001B[0m\u001B[1;33m[\u001B[0m\u001B[0mcov_matrices_names\u001B[0m\u001B[1;33m[\u001B[0m\u001B[1;36m0\u001B[0m\u001B[1;33m]\u001B[0m\u001B[1;33m]\u001B[0m\u001B[1;33m)\u001B[0m\u001B[1;33m\u001B[0m\u001B[1;33m\u001B[0m\u001B[0m\n\u001B[0;32m     38\u001B[0m \u001B[1;33m\u001B[0m\u001B[0m\n",
      "\u001B[1;32mC:\\GitHubRepositories\\NSU_Practice\\calc_covariation.py\u001B[0m in \u001B[0;36mget_attributes_typical_cart\u001B[1;34m(input_data_dict, other_attributes_keys)\u001B[0m\n\u001B[0;32m     30\u001B[0m \u001B[1;33m\u001B[0m\u001B[0m\n\u001B[0;32m     31\u001B[0m     \u001B[1;31m# calc covariation matrix (all with all)\u001B[0m\u001B[1;33m\u001B[0m\u001B[1;33m\u001B[0m\u001B[1;33m\u001B[0m\u001B[0m\n\u001B[1;32m---> 32\u001B[1;33m     \u001B[0mcov_matrix_all\u001B[0m \u001B[1;33m=\u001B[0m \u001B[0mnp\u001B[0m\u001B[1;33m.\u001B[0m\u001B[0mcorrcoef\u001B[0m\u001B[1;33m(\u001B[0m\u001B[0mdata\u001B[0m\u001B[1;33m)\u001B[0m\u001B[1;33m\u001B[0m\u001B[1;33m\u001B[0m\u001B[0m\n\u001B[0m\u001B[0;32m     33\u001B[0m \u001B[1;33m\u001B[0m\u001B[0m\n\u001B[0;32m     34\u001B[0m     \u001B[0mcount_in\u001B[0m \u001B[1;33m=\u001B[0m \u001B[0mlen\u001B[0m\u001B[1;33m(\u001B[0m\u001B[0minput_attributes_keys\u001B[0m\u001B[1;33m)\u001B[0m       \u001B[1;31m# input attr count\u001B[0m\u001B[1;33m\u001B[0m\u001B[1;33m\u001B[0m\u001B[0m\n",
      "\u001B[1;32m<__array_function__ internals>\u001B[0m in \u001B[0;36mcorrcoef\u001B[1;34m(*args, **kwargs)\u001B[0m\n",
      "\u001B[1;32mc:\\python\\lib\\site-packages\\numpy\\lib\\function_base.py\u001B[0m in \u001B[0;36mcorrcoef\u001B[1;34m(x, y, rowvar, bias, ddof)\u001B[0m\n\u001B[0;32m   2524\u001B[0m         warnings.warn('bias and ddof have no effect and are deprecated',\n\u001B[0;32m   2525\u001B[0m                       DeprecationWarning, stacklevel=3)\n\u001B[1;32m-> 2526\u001B[1;33m     \u001B[0mc\u001B[0m \u001B[1;33m=\u001B[0m \u001B[0mcov\u001B[0m\u001B[1;33m(\u001B[0m\u001B[0mx\u001B[0m\u001B[1;33m,\u001B[0m \u001B[0my\u001B[0m\u001B[1;33m,\u001B[0m \u001B[0mrowvar\u001B[0m\u001B[1;33m)\u001B[0m\u001B[1;33m\u001B[0m\u001B[1;33m\u001B[0m\u001B[0m\n\u001B[0m\u001B[0;32m   2527\u001B[0m     \u001B[1;32mtry\u001B[0m\u001B[1;33m:\u001B[0m\u001B[1;33m\u001B[0m\u001B[1;33m\u001B[0m\u001B[0m\n\u001B[0;32m   2528\u001B[0m         \u001B[0md\u001B[0m \u001B[1;33m=\u001B[0m \u001B[0mdiag\u001B[0m\u001B[1;33m(\u001B[0m\u001B[0mc\u001B[0m\u001B[1;33m)\u001B[0m\u001B[1;33m\u001B[0m\u001B[1;33m\u001B[0m\u001B[0m\n",
      "\u001B[1;32m<__array_function__ internals>\u001B[0m in \u001B[0;36mcov\u001B[1;34m(*args, **kwargs)\u001B[0m\n",
      "\u001B[1;32mc:\\python\\lib\\site-packages\\numpy\\lib\\function_base.py\u001B[0m in \u001B[0;36mcov\u001B[1;34m(m, y, rowvar, bias, ddof, fweights, aweights)\u001B[0m\n\u001B[0;32m   2429\u001B[0m             \u001B[0mw\u001B[0m \u001B[1;33m*=\u001B[0m \u001B[0maweights\u001B[0m\u001B[1;33m\u001B[0m\u001B[1;33m\u001B[0m\u001B[0m\n\u001B[0;32m   2430\u001B[0m \u001B[1;33m\u001B[0m\u001B[0m\n\u001B[1;32m-> 2431\u001B[1;33m     \u001B[0mavg\u001B[0m\u001B[1;33m,\u001B[0m \u001B[0mw_sum\u001B[0m \u001B[1;33m=\u001B[0m \u001B[0maverage\u001B[0m\u001B[1;33m(\u001B[0m\u001B[0mX\u001B[0m\u001B[1;33m,\u001B[0m \u001B[0maxis\u001B[0m\u001B[1;33m=\u001B[0m\u001B[1;36m1\u001B[0m\u001B[1;33m,\u001B[0m \u001B[0mweights\u001B[0m\u001B[1;33m=\u001B[0m\u001B[0mw\u001B[0m\u001B[1;33m,\u001B[0m \u001B[0mreturned\u001B[0m\u001B[1;33m=\u001B[0m\u001B[1;32mTrue\u001B[0m\u001B[1;33m)\u001B[0m\u001B[1;33m\u001B[0m\u001B[1;33m\u001B[0m\u001B[0m\n\u001B[0m\u001B[0;32m   2432\u001B[0m     \u001B[0mw_sum\u001B[0m \u001B[1;33m=\u001B[0m \u001B[0mw_sum\u001B[0m\u001B[1;33m[\u001B[0m\u001B[1;36m0\u001B[0m\u001B[1;33m]\u001B[0m\u001B[1;33m\u001B[0m\u001B[1;33m\u001B[0m\u001B[0m\n\u001B[0;32m   2433\u001B[0m \u001B[1;33m\u001B[0m\u001B[0m\n",
      "\u001B[1;32m<__array_function__ internals>\u001B[0m in \u001B[0;36maverage\u001B[1;34m(*args, **kwargs)\u001B[0m\n",
      "\u001B[1;32mc:\\python\\lib\\site-packages\\numpy\\lib\\function_base.py\u001B[0m in \u001B[0;36maverage\u001B[1;34m(a, axis, weights, returned)\u001B[0m\n\u001B[0;32m    391\u001B[0m \u001B[1;33m\u001B[0m\u001B[0m\n\u001B[0;32m    392\u001B[0m     \u001B[1;32mif\u001B[0m \u001B[0mweights\u001B[0m \u001B[1;32mis\u001B[0m \u001B[1;32mNone\u001B[0m\u001B[1;33m:\u001B[0m\u001B[1;33m\u001B[0m\u001B[1;33m\u001B[0m\u001B[0m\n\u001B[1;32m--> 393\u001B[1;33m         \u001B[0mavg\u001B[0m \u001B[1;33m=\u001B[0m \u001B[0ma\u001B[0m\u001B[1;33m.\u001B[0m\u001B[0mmean\u001B[0m\u001B[1;33m(\u001B[0m\u001B[0maxis\u001B[0m\u001B[1;33m)\u001B[0m\u001B[1;33m\u001B[0m\u001B[1;33m\u001B[0m\u001B[0m\n\u001B[0m\u001B[0;32m    394\u001B[0m         \u001B[0mscl\u001B[0m \u001B[1;33m=\u001B[0m \u001B[0mavg\u001B[0m\u001B[1;33m.\u001B[0m\u001B[0mdtype\u001B[0m\u001B[1;33m.\u001B[0m\u001B[0mtype\u001B[0m\u001B[1;33m(\u001B[0m\u001B[0ma\u001B[0m\u001B[1;33m.\u001B[0m\u001B[0msize\u001B[0m\u001B[1;33m/\u001B[0m\u001B[0mavg\u001B[0m\u001B[1;33m.\u001B[0m\u001B[0msize\u001B[0m\u001B[1;33m)\u001B[0m\u001B[1;33m\u001B[0m\u001B[1;33m\u001B[0m\u001B[0m\n\u001B[0;32m    395\u001B[0m     \u001B[1;32melse\u001B[0m\u001B[1;33m:\u001B[0m\u001B[1;33m\u001B[0m\u001B[1;33m\u001B[0m\u001B[0m\n",
      "\u001B[1;32mc:\\python\\lib\\site-packages\\numpy\\core\\_methods.py\u001B[0m in \u001B[0;36m_mean\u001B[1;34m(a, axis, dtype, out, keepdims)\u001B[0m\n\u001B[0;32m    151\u001B[0m     \u001B[0mret\u001B[0m \u001B[1;33m=\u001B[0m \u001B[0mumr_sum\u001B[0m\u001B[1;33m(\u001B[0m\u001B[0marr\u001B[0m\u001B[1;33m,\u001B[0m \u001B[0maxis\u001B[0m\u001B[1;33m,\u001B[0m \u001B[0mdtype\u001B[0m\u001B[1;33m,\u001B[0m \u001B[0mout\u001B[0m\u001B[1;33m,\u001B[0m \u001B[0mkeepdims\u001B[0m\u001B[1;33m)\u001B[0m\u001B[1;33m\u001B[0m\u001B[1;33m\u001B[0m\u001B[0m\n\u001B[0;32m    152\u001B[0m     \u001B[1;32mif\u001B[0m \u001B[0misinstance\u001B[0m\u001B[1;33m(\u001B[0m\u001B[0mret\u001B[0m\u001B[1;33m,\u001B[0m \u001B[0mmu\u001B[0m\u001B[1;33m.\u001B[0m\u001B[0mndarray\u001B[0m\u001B[1;33m)\u001B[0m\u001B[1;33m:\u001B[0m\u001B[1;33m\u001B[0m\u001B[1;33m\u001B[0m\u001B[0m\n\u001B[1;32m--> 153\u001B[1;33m         ret = um.true_divide(\n\u001B[0m\u001B[0;32m    154\u001B[0m                 ret, rcount, out=ret, casting='unsafe', subok=False)\n\u001B[0;32m    155\u001B[0m         \u001B[1;32mif\u001B[0m \u001B[0mis_float16_result\u001B[0m \u001B[1;32mand\u001B[0m \u001B[0mout\u001B[0m \u001B[1;32mis\u001B[0m \u001B[1;32mNone\u001B[0m\u001B[1;33m:\u001B[0m\u001B[1;33m\u001B[0m\u001B[1;33m\u001B[0m\u001B[0m\n",
      "\u001B[1;31mTypeError\u001B[0m: unsupported operand type(s) for /: 'str' and 'int'"
     ]
    }
   ],
   "source": [
    "import plotly.express as px\n",
    "import plotly.io as pio\n",
    "import numpy as np\n",
    "from statistic.Statistic import DataStatistic\n",
    "from statistic.calc_covariation import *\n",
    "from data.get_attr_data import get_attributes_data\n",
    "from data.get_attr_data import get_other_attr_keys\n",
    "\n",
    "pio.renderers.default = \"plotly_mimetype\"\n",
    "\n",
    "\n",
    "# plot data statistic function; data - data of attribute 'attribute_name'\n",
    "def plot_data(statistic: DataStatistic, attribute_name: str, data):\n",
    "    value_count = len(data)\n",
    "    x = np.linspace(1, value_count, value_count)\n",
    "    fig = px.scatter(x=x, y=data, labels={'x': 'items', 'y': 'value'})\n",
    "    fig.show()\n",
    "\n",
    "\n",
    "def view_cov_matrix(cov_matrix):\n",
    "    matrix_fig = px.imshow(cov_matrix)\n",
    "    matrix_fig.show()\n",
    "\n",
    "\n",
    "def main():\n",
    "    input_file_name = \"../data/data.txt\"\n",
    "\n",
    "    # other attributes keys\n",
    "    other_attr_keys = get_other_attr_keys(input_file_name)\n",
    "    # all attributes names list\n",
    "    all_attr_names = np.concatenate((input_attributes_keys, output_attributes_keys, other_attr_keys),axis=0)\n",
    "\n",
    "    # all data dict: key - attr names; value - attr data\n",
    "    all_data_dict = get_attributes_data(input_file_name, all_attr_names)\n",
    "    # get cov matrices\n",
    "    cov_matrices_dict = get_attributes_typical_cart(all_data_dict, other_attr_keys)\n",
    "    view_cov_matrix(cov_matrices_dict[cov_matrices_names[0]])\n",
    "\n",
    "\n",
    "if __name__ == \"__main__\":\n",
    "    main()"
   ]
  }
 ],
 "metadata": {
  "kernelspec": {
   "display_name": "Python 3",
   "language": "python",
   "name": "python3"
  },
  "language_info": {
   "codemirror_mode": {
    "name": "ipython",
    "version": 2
   },
   "file_extension": ".py",
   "mimetype": "text/x-python",
   "name": "python",
   "nbconvert_exporter": "python",
   "pygments_lexer": "ipython2",
   "version": "2.7.6"
  }
 },
 "nbformat": 4,
 "nbformat_minor": 0
}